{
 "cells": [
  {
   "cell_type": "markdown",
   "id": "df173617",
   "metadata": {},
   "source": [
    "# **Ф36**: Модуль генерации ценностно-ориентированных требований к трансформации территорий"
   ]
  },
  {
   "cell_type": "markdown",
   "id": "6b03f043",
   "metadata": {},
   "source": [
    "## 1. Читаем подготовленные данные"
   ]
  },
  {
   "cell_type": "code",
   "execution_count": 5,
   "id": "c2d718a4",
   "metadata": {},
   "outputs": [],
   "source": [
    "import pandas as pd\n",
    "import geopandas as gpd\n",
    "from blocksnet.config import log_config\n",
    "\n",
    "log_config.set_disable_tqdm(True)\n",
    "log_config.set_logger_level('ERROR')\n",
    "\n",
    "service_types = pd.read_pickle('./data/service_types.pickle')\n",
    "blocks = pd.read_pickle('./data/blocks.pickle')\n",
    "acc_mx = pd.read_pickle('./data/acc_mx.pickle')"
   ]
  },
  {
   "cell_type": "markdown",
   "id": "c034b9fc",
   "metadata": {},
   "source": [
    "Берем лишь те типы сервисов, где известны ценности, которые они поддерживают"
   ]
  },
  {
   "cell_type": "code",
   "execution_count": 6,
   "id": "b1a4f8f9",
   "metadata": {},
   "outputs": [],
   "source": [
    "service_types = service_types[~service_types['social_values'].isna()].copy()"
   ]
  },
  {
   "cell_type": "markdown",
   "id": "68a6114e",
   "metadata": {},
   "source": [
    "## 2. Вспомогательный код и оценка\n",
    "\n",
    "1. Считаем обеспеченности по каждому типу сервиса (если столбца нет, то у нас и типа сервиса нет по идее вокруг и на территории).\n",
    "2. Обрезаем до уровня контекста.\n",
    "3. Считаем суммарную оценку по контексту кварталов и ассоциируем её с ценностью.\n",
    "\n",
    "P.S: под контекстом в данном случае понимаем не контекст в рамках Простора, а контекст в рамках доступности квартала."
   ]
  },
  {
   "cell_type": "code",
   "execution_count": 16,
   "id": "247dac58",
   "metadata": {},
   "outputs": [],
   "source": [
    "from blocksnet.relations.accessibility import get_accessibility_context\n",
    "\n",
    "def _get_project_context(blocks : pd.DataFrame, acc_mx : pd.DataFrame, accessibility : float) -> list[int]:\n",
    "  project_blocks = blocks[~blocks.is_context].copy()\n",
    "  context_blocks = get_accessibility_context(acc_mx, project_blocks, accessibility, out=False)\n",
    "  return list(context_blocks.index)"
   ]
  },
  {
   "cell_type": "code",
   "execution_count": 30,
   "id": "9dcf31c1",
   "metadata": {},
   "outputs": [],
   "source": [
    "from blocksnet.analysis.provision import competitive_provision, provision_strong_total\n",
    "from blocksnet.config import service_types_config\n",
    "\n",
    "def _assess_provision(blocks : pd.DataFrame, acc_mx : pd.DataFrame, service_type : str):\n",
    "  _, demand, accessibility = service_types_config[service_type].values()\n",
    "  capacity_column = f'capacity_{service_type}'\n",
    "  if capacity_column not in blocks.columns:\n",
    "    return 0.0\n",
    "  context_ids = _get_project_context(blocks, acc_mx, accessibility)\n",
    "  blocks_df = blocks.rename(columns={capacity_column:'capacity'})[['population', 'capacity']].copy()\n",
    "  prov_df, _ = competitive_provision(blocks_df, acc_mx, accessibility, demand)\n",
    "  prov_df = prov_df.loc[context_ids].copy()\n",
    "  if prov_df['demand'].sum() == 0:\n",
    "    return None\n",
    "  return float(provision_strong_total(prov_df))"
   ]
  },
  {
   "cell_type": "code",
   "execution_count": 31,
   "id": "4d533841",
   "metadata": {},
   "outputs": [
    {
     "name": "stderr",
     "output_type": "stream",
     "text": [
      "100%|██████████| 37/37 [00:02<00:00, 16.51it/s]\n"
     ]
    }
   ],
   "source": [
    "from tqdm import tqdm\n",
    "\n",
    "social_values_provisions = {}\n",
    "\n",
    "for st_id in tqdm(service_types.index):\n",
    "  st_name = service_types.loc[st_id,'name']\n",
    "  social_values = service_types.loc[st_id,'social_values']\n",
    "  prov_total = _assess_provision(blocks, acc_mx, st_name)\n",
    "  for social_value in social_values:\n",
    "    if social_value in social_values_provisions:\n",
    "      social_values_provisions[social_value].append(prov_total)\n",
    "    else:\n",
    "      social_values_provisions[social_value] = [prov_total]"
   ]
  },
  {
   "cell_type": "markdown",
   "id": "95c78495",
   "metadata": {},
   "source": [
    "## 2. Результат\n",
    "\n",
    "soc_value_id -> уровень поддержки ценности"
   ]
  },
  {
   "cell_type": "code",
   "execution_count": 39,
   "id": "21833f35",
   "metadata": {},
   "outputs": [
    {
     "data": {
      "application/vnd.microsoft.datawrangler.viewer.v0+json": {
       "columns": [
        {
         "name": "index",
         "rawType": "int64",
         "type": "integer"
        },
        {
         "name": "social_value_level",
         "rawType": "float64",
         "type": "float"
        }
       ],
       "ref": "edc79ba4-59cb-40cf-a113-d0ad84f5f987",
       "rows": [
        [
         "8",
         "0.7464028776978417"
        ],
        [
         "2",
         "0.6641221374045801"
        ],
        [
         "4",
         "0.3320610687022901"
        ],
        [
         "10",
         "0.0"
        ],
        [
         "17",
         "0.3333333333333333"
        ],
        [
         "15",
         "0.6426886792452831"
        ],
        [
         "16",
         "0.6768873947529911"
        ],
        [
         "11",
         "0.6618705035971223"
        ],
        [
         "3",
         "0.9856115107913669"
        ],
        [
         "7",
         "0.26303368375885"
        ],
        [
         "14",
         "0.13333333333333333"
        ],
        [
         "5",
         "0.09663865546218488"
        ],
        [
         "6",
         "0.0"
        ],
        [
         "13",
         "0.35344827586206895"
        ],
        [
         "9",
         "0.6954314720812182"
        ]
       ],
       "shape": {
        "columns": 1,
        "rows": 15
       }
      },
      "text/html": [
       "<div>\n",
       "<style scoped>\n",
       "    .dataframe tbody tr th:only-of-type {\n",
       "        vertical-align: middle;\n",
       "    }\n",
       "\n",
       "    .dataframe tbody tr th {\n",
       "        vertical-align: top;\n",
       "    }\n",
       "\n",
       "    .dataframe thead th {\n",
       "        text-align: right;\n",
       "    }\n",
       "</style>\n",
       "<table border=\"1\" class=\"dataframe\">\n",
       "  <thead>\n",
       "    <tr style=\"text-align: right;\">\n",
       "      <th></th>\n",
       "      <th>social_value_level</th>\n",
       "    </tr>\n",
       "  </thead>\n",
       "  <tbody>\n",
       "    <tr>\n",
       "      <th>8</th>\n",
       "      <td>0.746403</td>\n",
       "    </tr>\n",
       "    <tr>\n",
       "      <th>2</th>\n",
       "      <td>0.664122</td>\n",
       "    </tr>\n",
       "    <tr>\n",
       "      <th>4</th>\n",
       "      <td>0.332061</td>\n",
       "    </tr>\n",
       "    <tr>\n",
       "      <th>10</th>\n",
       "      <td>0.000000</td>\n",
       "    </tr>\n",
       "    <tr>\n",
       "      <th>17</th>\n",
       "      <td>0.333333</td>\n",
       "    </tr>\n",
       "    <tr>\n",
       "      <th>15</th>\n",
       "      <td>0.642689</td>\n",
       "    </tr>\n",
       "    <tr>\n",
       "      <th>16</th>\n",
       "      <td>0.676887</td>\n",
       "    </tr>\n",
       "    <tr>\n",
       "      <th>11</th>\n",
       "      <td>0.661871</td>\n",
       "    </tr>\n",
       "    <tr>\n",
       "      <th>3</th>\n",
       "      <td>0.985612</td>\n",
       "    </tr>\n",
       "    <tr>\n",
       "      <th>7</th>\n",
       "      <td>0.263034</td>\n",
       "    </tr>\n",
       "    <tr>\n",
       "      <th>14</th>\n",
       "      <td>0.133333</td>\n",
       "    </tr>\n",
       "    <tr>\n",
       "      <th>5</th>\n",
       "      <td>0.096639</td>\n",
       "    </tr>\n",
       "    <tr>\n",
       "      <th>6</th>\n",
       "      <td>0.000000</td>\n",
       "    </tr>\n",
       "    <tr>\n",
       "      <th>13</th>\n",
       "      <td>0.353448</td>\n",
       "    </tr>\n",
       "    <tr>\n",
       "      <th>9</th>\n",
       "      <td>0.695431</td>\n",
       "    </tr>\n",
       "  </tbody>\n",
       "</table>\n",
       "</div>"
      ],
      "text/plain": [
       "    social_value_level\n",
       "8             0.746403\n",
       "2             0.664122\n",
       "4             0.332061\n",
       "10            0.000000\n",
       "17            0.333333\n",
       "15            0.642689\n",
       "16            0.676887\n",
       "11            0.661871\n",
       "3             0.985612\n",
       "7             0.263034\n",
       "14            0.133333\n",
       "5             0.096639\n",
       "6             0.000000\n",
       "13            0.353448\n",
       "9             0.695431"
      ]
     },
     "execution_count": 39,
     "metadata": {},
     "output_type": "execute_result"
    }
   ],
   "source": [
    "import numpy as np\n",
    "\n",
    "def _get_value_level(provisions : list[float | None]) -> float:\n",
    "  provisions = [p for p in provisions if p is not None]\n",
    "  return np.mean(provisions)\n",
    "\n",
    "index = social_values_provisions.keys()\n",
    "columns = ['social_value_level']\n",
    "result_df = pd.DataFrame(data=[_get_value_level(social_values_provisions[sv_id]) for sv_id in index], index=index, columns=columns)\n",
    "result_df"
   ]
  }
 ],
 "metadata": {
  "kernelspec": {
   "display_name": ".venv",
   "language": "python",
   "name": "python3"
  },
  "language_info": {
   "codemirror_mode": {
    "name": "ipython",
    "version": 3
   },
   "file_extension": ".py",
   "mimetype": "text/x-python",
   "name": "python",
   "nbconvert_exporter": "python",
   "pygments_lexer": "ipython3",
   "version": "3.10.12"
  }
 },
 "nbformat": 4,
 "nbformat_minor": 5
}
