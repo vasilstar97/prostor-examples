{
 "cells": [
  {
   "cell_type": "markdown",
   "id": "d49a1575",
   "metadata": {},
   "source": [
    "# Типы сервисов\n",
    "\n",
    "- Пример предназначен для демонстрации работы по получению списка типов сервисов. \n",
    "- Особенность заключается в маппинге или адаптации типов сервисов из БД к типам сервисов `blocksnet`.\n",
    "\n",
    "Нужны только те типы сервисов, которые:\n",
    "- Имеют `infrastructure_type`.\n",
    "- Или привязаны к `soc_value_id`.\n",
    "- При этом существуют в `blocksnet`."
   ]
  },
  {
   "cell_type": "markdown",
   "id": "30b56e30",
   "metadata": {},
   "source": [
    "## 1. Вспомогательный код"
   ]
  },
  {
   "cell_type": "code",
   "execution_count": 1,
   "id": "7be504bb",
   "metadata": {},
   "outputs": [],
   "source": [
    "import prostor.fetchers.misc as misc\n",
    "from prostor.adapters import adapt_service_types\n",
    "\n",
    "def get_service_types():\n",
    "  service_types = misc.get_service_types()\n",
    "  return adapt_service_types(service_types)"
   ]
  },
  {
   "cell_type": "markdown",
   "id": "e2c2b4e9",
   "metadata": {},
   "source": [
    "## 2. Демонстрация"
   ]
  },
  {
   "cell_type": "code",
   "execution_count": 4,
   "id": "4a2d9732",
   "metadata": {},
   "outputs": [
    {
     "data": {
      "application/vnd.microsoft.datawrangler.viewer.v0+json": {
       "columns": [
        {
         "name": "service_type_id",
         "rawType": "int64",
         "type": "integer"
        },
        {
         "name": "name",
         "rawType": "object",
         "type": "string"
        },
        {
         "name": "infrastructure_type",
         "rawType": "object",
         "type": "string"
        },
        {
         "name": "infrastructure_weight",
         "rawType": "float64",
         "type": "float"
        },
        {
         "name": "social_values",
         "rawType": "object",
         "type": "unknown"
        }
       ],
       "ref": "85204f8e-02d0-49e3-8d86-a08ca87db222",
       "rows": [
        [
         "1",
         "park",
         "basic",
         "0.2",
         "[8]"
        ],
        [
         "5",
         "beach",
         "comfort",
         "0.5",
         null
        ],
        [
         "21",
         "kindergarten",
         "basic",
         "0.2",
         "[2]"
        ],
        [
         "22",
         "school",
         "basic",
         "0.2",
         "[2, 4]"
        ],
        [
         "27",
         "university",
         "comfort",
         "0.2",
         "[4, 10, 17]"
        ]
       ],
       "shape": {
        "columns": 4,
        "rows": 5
       }
      },
      "text/html": [
       "<div>\n",
       "<style scoped>\n",
       "    .dataframe tbody tr th:only-of-type {\n",
       "        vertical-align: middle;\n",
       "    }\n",
       "\n",
       "    .dataframe tbody tr th {\n",
       "        vertical-align: top;\n",
       "    }\n",
       "\n",
       "    .dataframe thead th {\n",
       "        text-align: right;\n",
       "    }\n",
       "</style>\n",
       "<table border=\"1\" class=\"dataframe\">\n",
       "  <thead>\n",
       "    <tr style=\"text-align: right;\">\n",
       "      <th></th>\n",
       "      <th>name</th>\n",
       "      <th>infrastructure_type</th>\n",
       "      <th>infrastructure_weight</th>\n",
       "      <th>social_values</th>\n",
       "    </tr>\n",
       "    <tr>\n",
       "      <th>service_type_id</th>\n",
       "      <th></th>\n",
       "      <th></th>\n",
       "      <th></th>\n",
       "      <th></th>\n",
       "    </tr>\n",
       "  </thead>\n",
       "  <tbody>\n",
       "    <tr>\n",
       "      <th>1</th>\n",
       "      <td>park</td>\n",
       "      <td>basic</td>\n",
       "      <td>0.2</td>\n",
       "      <td>[8]</td>\n",
       "    </tr>\n",
       "    <tr>\n",
       "      <th>5</th>\n",
       "      <td>beach</td>\n",
       "      <td>comfort</td>\n",
       "      <td>0.5</td>\n",
       "      <td>None</td>\n",
       "    </tr>\n",
       "    <tr>\n",
       "      <th>21</th>\n",
       "      <td>kindergarten</td>\n",
       "      <td>basic</td>\n",
       "      <td>0.2</td>\n",
       "      <td>[2]</td>\n",
       "    </tr>\n",
       "    <tr>\n",
       "      <th>22</th>\n",
       "      <td>school</td>\n",
       "      <td>basic</td>\n",
       "      <td>0.2</td>\n",
       "      <td>[2, 4]</td>\n",
       "    </tr>\n",
       "    <tr>\n",
       "      <th>27</th>\n",
       "      <td>university</td>\n",
       "      <td>comfort</td>\n",
       "      <td>0.2</td>\n",
       "      <td>[4, 10, 17]</td>\n",
       "    </tr>\n",
       "  </tbody>\n",
       "</table>\n",
       "</div>"
      ],
      "text/plain": [
       "                         name infrastructure_type  infrastructure_weight  \\\n",
       "service_type_id                                                            \n",
       "1                        park               basic                    0.2   \n",
       "5                       beach             comfort                    0.5   \n",
       "21               kindergarten               basic                    0.2   \n",
       "22                     school               basic                    0.2   \n",
       "27                 university             comfort                    0.2   \n",
       "\n",
       "                social_values  \n",
       "service_type_id                \n",
       "1                         [8]  \n",
       "5                        None  \n",
       "21                        [2]  \n",
       "22                     [2, 4]  \n",
       "27                [4, 10, 17]  "
      ]
     },
     "execution_count": 4,
     "metadata": {},
     "output_type": "execute_result"
    }
   ],
   "source": [
    "service_types = get_service_types()\n",
    "service_types.head()"
   ]
  },
  {
   "cell_type": "code",
   "execution_count": 5,
   "id": "6d8229f8",
   "metadata": {},
   "outputs": [],
   "source": [
    "service_types.to_pickle('./data/service_types.pickle')"
   ]
  }
 ],
 "metadata": {
  "kernelspec": {
   "display_name": ".venv",
   "language": "python",
   "name": "python3"
  },
  "language_info": {
   "codemirror_mode": {
    "name": "ipython",
    "version": 3
   },
   "file_extension": ".py",
   "mimetype": "text/x-python",
   "name": "python",
   "nbconvert_exporter": "python",
   "pygments_lexer": "ipython3",
   "version": "3.10.12"
  }
 },
 "nbformat": 4,
 "nbformat_minor": 5
}
