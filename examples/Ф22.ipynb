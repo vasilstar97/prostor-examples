{
 "cells": [
  {
   "cell_type": "markdown",
   "metadata": {},
   "source": [
    "# **Ф22**: Модуль моделирования социально-экономических эффектов реализации генерального плана\n",
    "\n",
    "Сюда должен идти выход из Ф35, а именно `population` и `count_{service_type}`. В ином случае считаем из того, что есть (`base_scenario` или застройка юзера)"
   ]
  },
  {
   "cell_type": "markdown",
   "metadata": {},
   "source": [
    "Берем кварталы `контекста` и `сценария`"
   ]
  },
  {
   "cell_type": "code",
   "execution_count": 19,
   "metadata": {},
   "outputs": [],
   "source": [
    "import pandas as pd\n",
    "import geopandas as gpd\n",
    "\n",
    "SCENARIO_ID = 1392\n",
    "\n",
    "blocks_gdf = pd.read_pickle('./data/blocks_f35.pickle')\n",
    "acc_mx = pd.read_pickle('./data/acc_mx.pickle')\n",
    "dist_mx = pd.read_pickle('./data/dist_mx.pickle')\n",
    "service_types_df = pd.read_pickle('./data/service_types.pickle')"
   ]
  },
  {
   "cell_type": "markdown",
   "metadata": {},
   "source": [
    "P.S: если сценарий БАЗОВЫЙ, то нужно так же преобразовать столбцы, как в примере Ф35"
   ]
  },
  {
   "cell_type": "code",
   "execution_count": 20,
   "metadata": {},
   "outputs": [],
   "source": [
    "# def generate_blocksnet_columns(blocks_gdf : gpd.GeoDataFrame, service_types_df : pd.DataFrame) -> gpd.GeoDataFrame:\n",
    "    \n",
    "#     from typing import cast\n",
    "\n",
    "#     st_df = service_types_df[~service_types_df.blocksnet.isna()].copy()\n",
    "#     st_df['service_type_id'] = st_df.index\n",
    "#     agg_df = st_df.groupby('blocksnet').agg({'service_type_id': lambda s : list(s)})\n",
    "#     new_columns = {}\n",
    "#     for st_name, row in agg_df.iterrows():\n",
    "#         st_ids = row['service_type_id']\n",
    "#         for prefix in ['count', 'capacity']:\n",
    "#             sum_df = blocks_gdf[[f'{prefix}_{st_id}' for st_id in st_ids]].sum(axis=1)\n",
    "#             new_columns[f'{prefix}_{st_name}'] = sum_df\n",
    "#     new_columns_df = pd.DataFrame.from_dict(new_columns)\n",
    "    \n",
    "#     df = pd.concat([blocks_gdf, new_columns_df], axis=1)\n",
    "#     return cast(gpd.GeoDataFrame, df)\n",
    "\n",
    "# blocks_gdf = generate_blocksnet_columns(blocks_gdf, service_types_df)"
   ]
  },
  {
   "cell_type": "markdown",
   "metadata": {},
   "source": [
    "## Маппинг типов сервисов для `social_indicators`\n",
    "\n",
    "Там надо некоторым столбцам знать, к каким индикаторам они относятся, поэтому важно замапить"
   ]
  },
  {
   "cell_type": "code",
   "execution_count": 21,
   "metadata": {},
   "outputs": [],
   "source": [
    "from blocksnet.analysis.indicators.socio_economic import SocialIndicator\n",
    "\n",
    "SOCIAL_INDICATORS_MAPPING = {\n",
    "    SocialIndicator.EXTRACURRICULAR: [23, 24],\n",
    "    SocialIndicator.AMBULANCE: [39, 40],\n",
    "    SocialIndicator.SPECIAL_MEDICAL: [41],\n",
    "    SocialIndicator.PREVENTIVE_MEDICAL: [42],\n",
    "    SocialIndicator.GYM: [68],\n",
    "    SocialIndicator.ORPHANAGE: [46],\n",
    "    SocialIndicator.SOCIAL_SERVICE_CENTER: [43],\n",
    "    SocialIndicator.CULTURAL_CENTER: [49],\n",
    "    SocialIndicator.CONCERT_HALL: [53],\n",
    "    SocialIndicator.ICE_ARENA: [60],\n",
    "    SocialIndicator.ECO_TRAIL: [72],\n",
    "    SocialIndicator.FIRE_STATION: [79],\n",
    "    SocialIndicator.TOURIST_BASE: [112],\n",
    "}\n",
    "\n",
    "def adapt_service_types_df(service_types_df : pd.DataFrame, mapping : dict[SocialIndicator, list[int]]) -> pd.DataFrame:\n",
    "    service_types_df = service_types_df.copy()\n",
    "    service_types_ids_mapping = {st_id:indicator for indicator, st_ids in mapping.items() for st_id in st_ids}\n",
    "    service_types_df['indicator'] = service_types_df.index.map(service_types_ids_mapping)\n",
    "    return service_types_df.rename(columns={\n",
    "        'radius_availability_meters': 'meters',\n",
    "        'time_availability_minutes': 'minutes',\n",
    "        'services_per_1000_normative': 'count',\n",
    "        'services_capacity_per_1000_normative': 'capacity'\n",
    "    })\n",
    "\n",
    "service_types_df = adapt_service_types_df(service_types_df, SOCIAL_INDICATORS_MAPPING)"
   ]
  },
  {
   "cell_type": "code",
   "execution_count": 22,
   "metadata": {},
   "outputs": [
    {
     "data": {
      "application/vnd.microsoft.datawrangler.viewer.v0+json": {
       "columns": [
        {
         "name": "service_type_id",
         "rawType": "int64",
         "type": "integer"
        },
        {
         "name": "capacity_modeled",
         "rawType": "float64",
         "type": "float"
        },
        {
         "name": "infrastructure_type",
         "rawType": "object",
         "type": "unknown"
        },
        {
         "name": "weight",
         "rawType": "float64",
         "type": "float"
        },
        {
         "name": "meters",
         "rawType": "object",
         "type": "unknown"
        },
        {
         "name": "minutes",
         "rawType": "float64",
         "type": "float"
        },
        {
         "name": "count",
         "rawType": "float64",
         "type": "float"
        },
        {
         "name": "capacity",
         "rawType": "float64",
         "type": "float"
        },
        {
         "name": "soc_values_ids",
         "rawType": "object",
         "type": "unknown"
        },
        {
         "name": "blocksnet",
         "rawType": "object",
         "type": "string"
        },
        {
         "name": "indicator",
         "rawType": "object",
         "type": "unknown"
        }
       ],
       "ref": "fc90a99f-d69b-43c3-a1ae-0aa21659bf00",
       "rows": [
        [
         "82",
         "10000.0",
         null,
         null,
         null,
         null,
         null,
         null,
         "[5]",
         "aeroway_terminal",
         null
        ]
       ],
       "shape": {
        "columns": 10,
        "rows": 1
       }
      },
      "text/html": [
       "<div>\n",
       "<style scoped>\n",
       "    .dataframe tbody tr th:only-of-type {\n",
       "        vertical-align: middle;\n",
       "    }\n",
       "\n",
       "    .dataframe tbody tr th {\n",
       "        vertical-align: top;\n",
       "    }\n",
       "\n",
       "    .dataframe thead th {\n",
       "        text-align: right;\n",
       "    }\n",
       "</style>\n",
       "<table border=\"1\" class=\"dataframe\">\n",
       "  <thead>\n",
       "    <tr style=\"text-align: right;\">\n",
       "      <th></th>\n",
       "      <th>capacity_modeled</th>\n",
       "      <th>infrastructure_type</th>\n",
       "      <th>weight</th>\n",
       "      <th>meters</th>\n",
       "      <th>minutes</th>\n",
       "      <th>count</th>\n",
       "      <th>capacity</th>\n",
       "      <th>soc_values_ids</th>\n",
       "      <th>blocksnet</th>\n",
       "      <th>indicator</th>\n",
       "    </tr>\n",
       "    <tr>\n",
       "      <th>service_type_id</th>\n",
       "      <th></th>\n",
       "      <th></th>\n",
       "      <th></th>\n",
       "      <th></th>\n",
       "      <th></th>\n",
       "      <th></th>\n",
       "      <th></th>\n",
       "      <th></th>\n",
       "      <th></th>\n",
       "      <th></th>\n",
       "    </tr>\n",
       "  </thead>\n",
       "  <tbody>\n",
       "    <tr>\n",
       "      <th>82</th>\n",
       "      <td>10000.0</td>\n",
       "      <td>None</td>\n",
       "      <td>NaN</td>\n",
       "      <td>NaN</td>\n",
       "      <td>NaN</td>\n",
       "      <td>NaN</td>\n",
       "      <td>NaN</td>\n",
       "      <td>[5]</td>\n",
       "      <td>aeroway_terminal</td>\n",
       "      <td>NaN</td>\n",
       "    </tr>\n",
       "  </tbody>\n",
       "</table>\n",
       "</div>"
      ],
      "text/plain": [
       "                 capacity_modeled infrastructure_type  weight meters  minutes  \\\n",
       "service_type_id                                                                 \n",
       "82                        10000.0                None     NaN    NaN      NaN   \n",
       "\n",
       "                 count  capacity soc_values_ids         blocksnet indicator  \n",
       "service_type_id                                                              \n",
       "82                 NaN       NaN            [5]  aeroway_terminal       NaN  "
      ]
     },
     "execution_count": 22,
     "metadata": {},
     "output_type": "execute_result"
    }
   ],
   "source": [
    "service_types_df[service_types_df.blocksnet=='aeroway_terminal']"
   ]
  },
  {
   "cell_type": "markdown",
   "metadata": {},
   "source": [
    "## Оценка показателей\n",
    "\n",
    "Тут везде получаются `dict[Indicator : float]`, главное их потом разобрать"
   ]
  },
  {
   "cell_type": "code",
   "execution_count": 26,
   "metadata": {},
   "outputs": [],
   "source": [
    "from blocksnet.analysis.indicators.socio_economic import calculate_general_indicators\n",
    "from blocksnet.analysis.indicators.socio_economic import calculate_demographic_indicators\n",
    "from blocksnet.analysis.indicators.socio_economic import calculate_transport_indicators\n",
    "from blocksnet.analysis.indicators.socio_economic import calculate_engineering_indicators\n",
    "from blocksnet.analysis.indicators.socio_economic import calculate_social_indicators\n",
    "\n",
    "def calculate_indicators(blocks_gdf : gpd.GeoDataFrame, acc_mx : pd.DataFrame, dist_mx : pd.DataFrame, roads_gdf : gpd.GeoDataFrame, service_types_df : pd.DataFrame):\n",
    "    roads_gdf = roads_gdf.to_crs(blocks_gdf.crs)\n",
    "    roads_gdf = roads_gdf.overlay(blocks_gdf)\n",
    "    \n",
    "    general_indicators = calculate_general_indicators(blocks_gdf)\n",
    "    demographic_indicators = calculate_demographic_indicators(blocks_gdf)\n",
    "    transport_indicators = calculate_transport_indicators(blocks_gdf, acc_mx, roads_gdf)\n",
    "    engineering_indicators = calculate_engineering_indicators(blocks_gdf)\n",
    "    sc_indicators, sp_indicators = calculate_social_indicators(blocks_gdf, acc_mx, dist_mx, service_types_df)\n",
    "\n",
    "    return pd.concat([\n",
    "        general_indicators, \n",
    "        demographic_indicators, \n",
    "        transport_indicators, \n",
    "        engineering_indicators, \n",
    "        sc_indicators, \n",
    "        sp_indicators\n",
    "    ])"
   ]
  },
  {
   "cell_type": "markdown",
   "metadata": {},
   "source": [
    "Важно получить слой с дорогами"
   ]
  },
  {
   "cell_type": "code",
   "execution_count": 27,
   "metadata": {},
   "outputs": [
    {
     "data": {
      "text/plain": [
       "<Axes: >"
      ]
     },
     "execution_count": 27,
     "metadata": {},
     "output_type": "execute_result"
    },
    {
     "data": {
      "image/png": "[encoded data removed]",
      "text/plain": [
       "<Figure size 640x480 with 1 Axes>"
      ]
     },
     "metadata": {},
     "output_type": "display_data"
    }
   ],
   "source": [
    "from prostor.fetchers import context\n",
    "\n",
    "ROADS_POF_ID = 26\n",
    "\n",
    "roads_gdf = context.get_physical_objects(SCENARIO_ID, physical_object_function_id=ROADS_POF_ID)\n",
    "\n",
    "roads_gdf.plot()"
   ]
  },
  {
   "cell_type": "markdown",
   "metadata": {},
   "source": [
    "Просто отдаем и всё, само разберется по `parent_id`"
   ]
  },
  {
   "cell_type": "code",
   "execution_count": 29,
   "metadata": {},
   "outputs": [
    {
     "name": "stderr",
     "output_type": "stream",
     "text": [
      "/home/vasilstar/prostor-examples/.venv/lib/python3.10/site-packages/geopandas/geodataframe.py:2675: UserWarning: `keep_geom_type=True` in overlay resulted in 595 dropped geometries of different geometry types than df1 has. Set `keep_geom_type=False` to retain all geometries\n",
      "  return geopandas.overlay(\n",
      "100%|██████████| 39/39 [00:01<00:00, 22.51it/s]\n"
     ]
    }
   ],
   "source": [
    "indicators_df = calculate_indicators(blocks_gdf, acc_mx, dist_mx, roads_gdf, service_types_df)"
   ]
  },
  {
   "cell_type": "code",
   "execution_count": null,
   "metadata": {},
   "outputs": [],
   "source": [
    "indicators_df"
   ]
  },
  {
   "cell_type": "markdown",
   "metadata": {},
   "source": [
    "## Результат\n",
    "\n",
    "Тут главное просто всё замапить.."
   ]
  },
  {
   "cell_type": "code",
   "execution_count": 34,
   "metadata": {},
   "outputs": [],
   "source": [
    "from blocksnet.analysis.indicators.socio_economic import GeneralIndicator, DemographicIndicator, TransportIndicator, EngineeringIndicator, SocialCountIndicator, SocialProvisionIndicator\n",
    "\n",
    "INDICATORS_MAPPING = {\n",
    "    GeneralIndicator.AREA : 1,\n",
    "    GeneralIndicator.URBANIZATION : 123,\n",
    "    SocialCountIndicator.BANK : 246,\n",
    "    ...: ...\n",
    "}\n",
    "\n",
    "def get_values(indicators_df : pd.DataFrame) -> list[dict[str, float]]:\n",
    "    result = []\n",
    "    for indicator in indicators_df.index:\n",
    "        indicator_id = INDICATORS_MAPPING.get(indicator)\n",
    "        for territory_id in indicators_df.columns:\n",
    "            if territory_id == 'total':\n",
    "                continue # пропускаем колонку которая за ВСЮЮЮ территорию отвечает\n",
    "            value = indicators_df.loc[indicator, territory_id]\n",
    "            result.append({\n",
    "                'territory_id': int(territory_id),\n",
    "                'indicator_id': indicator_id,\n",
    "                'value': value\n",
    "            })\n",
    "    return result\n",
    "\n",
    "values = get_values(indicators_df)"
   ]
  },
  {
   "cell_type": "code",
   "execution_count": 35,
   "metadata": {},
   "outputs": [
    {
     "data": {
      "text/plain": [
       "[{'territory_id': 117,\n",
       "  'indicator_id': 1,\n",
       "  'value': np.float64(708.4401703239722)},\n",
       " {'territory_id': 121,\n",
       "  'indicator_id': 1,\n",
       "  'value': np.float64(1088.2775229123965)},\n",
       " {'territory_id': 117,\n",
       "  'indicator_id': 123,\n",
       "  'value': np.float64(0.005647870683738194)},\n",
       " {'territory_id': 121, 'indicator_id': 123, 'value': np.float64(0.0)},\n",
       " {'territory_id': 117, 'indicator_id': None, 'value': np.float64(14862.0)},\n",
       " {'territory_id': 121, 'indicator_id': None, 'value': np.float64(279.0)},\n",
       " {'territory_id': 117,\n",
       "  'indicator_id': None,\n",
       "  'value': np.float64(20.978482901673342)},\n",
       " {'territory_id': 121,\n",
       "  'indicator_id': None,\n",
       "  'value': np.float64(0.25636843004287496)},\n",
       " {'territory_id': 117,\n",
       "  'indicator_id': None,\n",
       "  'value': np.float64(0.2698578875514956)},\n",
       " {'territory_id': 121,\n",
       "  'indicator_id': None,\n",
       "  'value': np.float64(0.1805874166616252)},\n",
       " {'territory_id': 117,\n",
       "  'indicator_id': None,\n",
       "  'value': np.float64(0.25800901838362816)},\n",
       " {'territory_id': 121, 'indicator_id': None, 'value': np.float64(nan)},\n",
       " {'territory_id': 117,\n",
       "  'indicator_id': None,\n",
       "  'value': np.float64(191.1781678202489)},\n",
       " {'territory_id': 121,\n",
       "  'indicator_id': None,\n",
       "  'value': np.float64(196.5292264736623)},\n",
       " {'territory_id': 117, 'indicator_id': None, 'value': np.float64(6.0)},\n",
       " {'territory_id': 121, 'indicator_id': None, 'value': np.float64(0.0)},\n",
       " {'territory_id': 117,\n",
       "  'indicator_id': None,\n",
       "  'value': np.float64(24.29032258064516)},\n",
       " {'territory_id': 121, 'indicator_id': None, 'value': np.float64(nan)},\n",
       " {'territory_id': 117, 'indicator_id': None, 'value': np.float64(8.0)},\n",
       " {'territory_id': 121, 'indicator_id': None, 'value': np.float64(4.0)},\n",
       " {'territory_id': 117,\n",
       "  'indicator_id': None,\n",
       "  'value': np.float64(38.619354838709675)},\n",
       " {'territory_id': 121, 'indicator_id': None, 'value': np.float64(nan)},\n",
       " {'territory_id': 117, 'indicator_id': None, 'value': np.float64(0.0)},\n",
       " {'territory_id': 121, 'indicator_id': None, 'value': np.float64(0.0)},\n",
       " {'territory_id': 117, 'indicator_id': None, 'value': np.float64(nan)},\n",
       " {'territory_id': 121, 'indicator_id': None, 'value': np.float64(nan)},\n",
       " {'territory_id': 117, 'indicator_id': None, 'value': np.float64(0.0)},\n",
       " {'territory_id': 121, 'indicator_id': None, 'value': np.float64(0.0)},\n",
       " {'territory_id': 117, 'indicator_id': None, 'value': np.float64(0.0)},\n",
       " {'territory_id': 121, 'indicator_id': None, 'value': np.float64(0.0)},\n",
       " {'territory_id': 117, 'indicator_id': None, 'value': np.float64(0.0)},\n",
       " {'territory_id': 121, 'indicator_id': None, 'value': np.float64(0.0)},\n",
       " {'territory_id': 117, 'indicator_id': None, 'value': np.float64(nan)},\n",
       " {'territory_id': 121, 'indicator_id': None, 'value': np.float64(nan)},\n",
       " {'territory_id': 117, 'indicator_id': None, 'value': np.float64(nan)},\n",
       " {'territory_id': 121, 'indicator_id': None, 'value': np.float64(nan)},\n",
       " {'territory_id': 117, 'indicator_id': None, 'value': np.float64(0.0)},\n",
       " {'territory_id': 121, 'indicator_id': None, 'value': np.float64(0.0)},\n",
       " {'territory_id': 117, 'indicator_id': None, 'value': np.float64(7.0)},\n",
       " {'territory_id': 121, 'indicator_id': None, 'value': np.float64(1.0)},\n",
       " {'territory_id': 117, 'indicator_id': None, 'value': np.float64(4.0)},\n",
       " {'territory_id': 121, 'indicator_id': None, 'value': np.float64(1.0)},\n",
       " {'territory_id': 117, 'indicator_id': None, 'value': np.float64(1.0)},\n",
       " {'territory_id': 121, 'indicator_id': None, 'value': np.float64(0.0)},\n",
       " {'territory_id': 117, 'indicator_id': None, 'value': np.float64(0.0)},\n",
       " {'territory_id': 121, 'indicator_id': None, 'value': np.float64(0.0)},\n",
       " {'territory_id': 117, 'indicator_id': None, 'value': np.float64(3.0)},\n",
       " {'territory_id': 121, 'indicator_id': None, 'value': np.float64(0.0)},\n",
       " {'territory_id': 117, 'indicator_id': None, 'value': np.float64(4.0)},\n",
       " {'territory_id': 121, 'indicator_id': None, 'value': np.float64(0.0)},\n",
       " {'territory_id': 117, 'indicator_id': None, 'value': np.float64(2.0)},\n",
       " {'territory_id': 121, 'indicator_id': None, 'value': np.float64(0.0)},\n",
       " {'territory_id': 117, 'indicator_id': None, 'value': np.float64(1.0)},\n",
       " {'territory_id': 121, 'indicator_id': None, 'value': np.float64(0.0)},\n",
       " {'territory_id': 117, 'indicator_id': None, 'value': np.float64(0.0)},\n",
       " {'territory_id': 121, 'indicator_id': None, 'value': np.float64(0.0)},\n",
       " {'territory_id': 117, 'indicator_id': None, 'value': np.float64(1.0)},\n",
       " {'territory_id': 121, 'indicator_id': None, 'value': np.float64(0.0)},\n",
       " {'territory_id': 117, 'indicator_id': None, 'value': np.float64(0.0)},\n",
       " {'territory_id': 121, 'indicator_id': None, 'value': np.float64(0.0)},\n",
       " {'territory_id': 117, 'indicator_id': None, 'value': np.float64(9.0)},\n",
       " {'territory_id': 121, 'indicator_id': None, 'value': np.float64(0.0)},\n",
       " {'territory_id': 117, 'indicator_id': None, 'value': np.float64(3.0)},\n",
       " {'territory_id': 121, 'indicator_id': None, 'value': np.float64(0.0)},\n",
       " {'territory_id': 117, 'indicator_id': None, 'value': np.float64(1.0)},\n",
       " {'territory_id': 121, 'indicator_id': None, 'value': np.float64(0.0)},\n",
       " {'territory_id': 117, 'indicator_id': None, 'value': np.float64(5.0)},\n",
       " {'territory_id': 121, 'indicator_id': None, 'value': np.float64(1.0)},\n",
       " {'territory_id': 117, 'indicator_id': None, 'value': np.float64(1.0)},\n",
       " {'territory_id': 121, 'indicator_id': None, 'value': np.float64(0.0)},\n",
       " {'territory_id': 117, 'indicator_id': None, 'value': np.float64(0.0)},\n",
       " {'territory_id': 121, 'indicator_id': None, 'value': np.float64(0.0)},\n",
       " {'territory_id': 117, 'indicator_id': None, 'value': np.float64(1.0)},\n",
       " {'territory_id': 121, 'indicator_id': None, 'value': np.float64(0.0)},\n",
       " {'territory_id': 117, 'indicator_id': None, 'value': np.float64(0.0)},\n",
       " {'territory_id': 121, 'indicator_id': None, 'value': np.float64(0.0)},\n",
       " {'territory_id': 117, 'indicator_id': None, 'value': np.float64(6.0)},\n",
       " {'territory_id': 121, 'indicator_id': None, 'value': np.float64(1.0)},\n",
       " {'territory_id': 117, 'indicator_id': 246, 'value': np.float64(5.0)},\n",
       " {'territory_id': 121, 'indicator_id': 246, 'value': np.float64(0.0)},\n",
       " {'territory_id': 117, 'indicator_id': None, 'value': np.float64(1.0)},\n",
       " {'territory_id': 121, 'indicator_id': None, 'value': np.float64(1.0)},\n",
       " {'territory_id': 117, 'indicator_id': None, 'value': np.float64(5.0)},\n",
       " {'territory_id': 121, 'indicator_id': None, 'value': np.float64(1.0)},\n",
       " {'territory_id': 117, 'indicator_id': None, 'value': np.float64(2.0)},\n",
       " {'territory_id': 121, 'indicator_id': None, 'value': np.float64(0.0)},\n",
       " {'territory_id': 117, 'indicator_id': None, 'value': np.float64(1.0)},\n",
       " {'territory_id': 121, 'indicator_id': None, 'value': np.float64(0.0)},\n",
       " {'territory_id': 117, 'indicator_id': None, 'value': np.float64(0.0)},\n",
       " {'territory_id': 121, 'indicator_id': None, 'value': np.float64(0.0)},\n",
       " {'territory_id': 117, 'indicator_id': None, 'value': np.float64(0.0)},\n",
       " {'territory_id': 121, 'indicator_id': None, 'value': np.float64(0.0)},\n",
       " {'territory_id': 117, 'indicator_id': None, 'value': np.float64(0.0)},\n",
       " {'territory_id': 121, 'indicator_id': None, 'value': np.float64(0.0)},\n",
       " {'territory_id': 117, 'indicator_id': None, 'value': np.float64(0.0)},\n",
       " {'territory_id': 121, 'indicator_id': None, 'value': np.float64(0.0)},\n",
       " {'territory_id': 117, 'indicator_id': None, 'value': np.float64(5.0)},\n",
       " {'territory_id': 121, 'indicator_id': None, 'value': np.float64(0.0)},\n",
       " {'territory_id': 117, 'indicator_id': None, 'value': np.float64(7.0)},\n",
       " {'territory_id': 121, 'indicator_id': None, 'value': np.float64(0.0)},\n",
       " {'territory_id': 117, 'indicator_id': None, 'value': np.float64(0.0)},\n",
       " {'territory_id': 121, 'indicator_id': None, 'value': np.float64(0.0)},\n",
       " {'territory_id': 117, 'indicator_id': None, 'value': np.float64(0.0)},\n",
       " {'territory_id': 121, 'indicator_id': None, 'value': np.float64(0.0)},\n",
       " {'territory_id': 117, 'indicator_id': None, 'value': np.float64(1.0)},\n",
       " {'territory_id': 121, 'indicator_id': None, 'value': np.float64(0.0)},\n",
       " {'territory_id': 117, 'indicator_id': None, 'value': np.float64(2.0)},\n",
       " {'territory_id': 121, 'indicator_id': None, 'value': np.float64(0.0)},\n",
       " {'territory_id': 117, 'indicator_id': None, 'value': np.float64(4.0)},\n",
       " {'territory_id': 121, 'indicator_id': None, 'value': np.float64(4.0)},\n",
       " {'territory_id': 117, 'indicator_id': None, 'value': np.float64(1.0)},\n",
       " {'territory_id': 121, 'indicator_id': None, 'value': np.float64(1.0)},\n",
       " {'territory_id': 117, 'indicator_id': None, 'value': np.float64(0.0)},\n",
       " {'territory_id': 121, 'indicator_id': None, 'value': np.float64(0.0)},\n",
       " {'territory_id': 117, 'indicator_id': None, 'value': np.float64(20.0)},\n",
       " {'territory_id': 121, 'indicator_id': None, 'value': np.float64(4.0)},\n",
       " {'territory_id': 117,\n",
       "  'indicator_id': None,\n",
       "  'value': np.float64(0.7972103004291845)},\n",
       " {'territory_id': 121, 'indicator_id': None, 'value': np.float64(0.0)},\n",
       " {'territory_id': 117,\n",
       "  'indicator_id': None,\n",
       "  'value': np.float64(0.7538716814159292)},\n",
       " {'territory_id': 121,\n",
       "  'indicator_id': None,\n",
       "  'value': np.float64(0.05405405405405406)},\n",
       " {'territory_id': 117,\n",
       "  'indicator_id': None,\n",
       "  'value': np.float64(0.9466666666666667)},\n",
       " {'territory_id': 121, 'indicator_id': None, 'value': np.float64(0.0)},\n",
       " {'territory_id': 117, 'indicator_id': None, 'value': np.float64(0.0)},\n",
       " {'territory_id': 121, 'indicator_id': None, 'value': np.float64(0.0)},\n",
       " {'territory_id': 117, 'indicator_id': None, 'value': np.float64(nan)},\n",
       " {'territory_id': 121, 'indicator_id': None, 'value': np.float64(nan)},\n",
       " {'territory_id': 117, 'indicator_id': None, 'value': np.float64(0.7)},\n",
       " {'territory_id': 121, 'indicator_id': None, 'value': np.float64(0.0)},\n",
       " {'territory_id': 117,\n",
       "  'indicator_id': None,\n",
       "  'value': np.float64(0.013392857142857142)},\n",
       " {'territory_id': 121, 'indicator_id': None, 'value': np.float64(0.0)},\n",
       " {'territory_id': 117, 'indicator_id': None, 'value': np.float64(nan)},\n",
       " {'territory_id': 121, 'indicator_id': None, 'value': np.float64(nan)},\n",
       " {'territory_id': 117, 'indicator_id': None, 'value': np.float64(0.0)},\n",
       " {'territory_id': 121, 'indicator_id': None, 'value': np.float64(0.0)},\n",
       " {'territory_id': 117, 'indicator_id': None, 'value': np.float64(nan)},\n",
       " {'territory_id': 121, 'indicator_id': None, 'value': np.float64(nan)},\n",
       " {'territory_id': 117, 'indicator_id': None, 'value': np.float64(nan)},\n",
       " {'territory_id': 121, 'indicator_id': None, 'value': np.float64(nan)},\n",
       " {'territory_id': 117, 'indicator_id': None, 'value': np.float64(0.944)},\n",
       " {'territory_id': 121, 'indicator_id': None, 'value': np.float64(0.0)},\n",
       " {'territory_id': 117, 'indicator_id': None, 'value': np.float64(nan)},\n",
       " {'territory_id': 121, 'indicator_id': None, 'value': np.float64(nan)},\n",
       " {'territory_id': 117,\n",
       "  'indicator_id': None,\n",
       "  'value': np.float64(0.013333333333333334)},\n",
       " {'territory_id': 121, 'indicator_id': None, 'value': np.float64(0.0)},\n",
       " {'territory_id': 117,\n",
       "  'indicator_id': None,\n",
       "  'value': np.float64(0.9602272727272727)},\n",
       " {'territory_id': 121, 'indicator_id': None, 'value': np.float64(0.25)},\n",
       " {'territory_id': 117,\n",
       "  'indicator_id': None,\n",
       "  'value': np.float64(0.9426229508196722)},\n",
       " {'territory_id': 121, 'indicator_id': None, 'value': np.float64(0.0)},\n",
       " {'territory_id': 117, 'indicator_id': None, 'value': np.float64(nan)},\n",
       " {'territory_id': 121, 'indicator_id': None, 'value': np.float64(nan)},\n",
       " {'territory_id': 117,\n",
       "  'indicator_id': None,\n",
       "  'value': np.float64(0.06060606060606061)},\n",
       " {'territory_id': 121, 'indicator_id': None, 'value': np.float64(0.0)},\n",
       " {'territory_id': 117, 'indicator_id': None, 'value': np.float64(nan)},\n",
       " {'territory_id': 121, 'indicator_id': None, 'value': np.float64(nan)},\n",
       " {'territory_id': 117,\n",
       "  'indicator_id': None,\n",
       "  'value': np.float64(0.9804347826086957)},\n",
       " {'territory_id': 121,\n",
       "  'indicator_id': None,\n",
       "  'value': np.float64(0.047619047619047616)},\n",
       " {'territory_id': 117,\n",
       "  'indicator_id': None,\n",
       "  'value': np.float64(0.9478527607361963)},\n",
       " {'territory_id': 121, 'indicator_id': None, 'value': np.float64(0.0)},\n",
       " {'territory_id': 117,\n",
       "  'indicator_id': None,\n",
       "  'value': np.float64(0.9471947194719472)},\n",
       " {'territory_id': 121,\n",
       "  'indicator_id': None,\n",
       "  'value': np.float64(0.037037037037037035)},\n",
       " {'territory_id': 117,\n",
       "  'indicator_id': None,\n",
       "  'value': np.float64(0.9545454545454546)},\n",
       " {'territory_id': 121,\n",
       "  'indicator_id': None,\n",
       "  'value': np.float64(0.3333333333333333)},\n",
       " {'territory_id': 117,\n",
       "  'indicator_id': None,\n",
       "  'value': np.float64(0.012658227848101266)},\n",
       " {'territory_id': 121, 'indicator_id': None, 'value': np.float64(0.0)},\n",
       " {'territory_id': 117,\n",
       "  'indicator_id': None,\n",
       "  'value': np.float64(0.9426229508196722)},\n",
       " {'territory_id': 121, 'indicator_id': None, 'value': np.float64(0.0)},\n",
       " {'territory_id': 117, 'indicator_id': None, 'value': np.float64(nan)},\n",
       " {'territory_id': 121, 'indicator_id': None, 'value': np.float64(nan)},\n",
       " {'territory_id': 117, 'indicator_id': None, 'value': np.float64(0.0)},\n",
       " {'territory_id': 121, 'indicator_id': None, 'value': np.float64(0.0)},\n",
       " {'territory_id': 117, 'indicator_id': None, 'value': np.float64(nan)},\n",
       " {'territory_id': 121, 'indicator_id': None, 'value': np.float64(nan)},\n",
       " {'territory_id': 117, 'indicator_id': None, 'value': np.float64(nan)},\n",
       " {'territory_id': 121, 'indicator_id': None, 'value': np.float64(nan)},\n",
       " {'territory_id': 117,\n",
       "  'indicator_id': None,\n",
       "  'value': np.float64(0.9466666666666667)},\n",
       " {'territory_id': 121, 'indicator_id': None, 'value': np.float64(0.0)},\n",
       " {'territory_id': 117,\n",
       "  'indicator_id': None,\n",
       "  'value': np.float64(0.9609756097560975)},\n",
       " {'territory_id': 121, 'indicator_id': None, 'value': np.float64(0.0)},\n",
       " {'territory_id': 117, 'indicator_id': None, 'value': np.float64(0.0)},\n",
       " {'territory_id': 121, 'indicator_id': None, 'value': np.float64(0.0)},\n",
       " {'territory_id': 117, 'indicator_id': None, 'value': np.float64(nan)},\n",
       " {'territory_id': 121, 'indicator_id': None, 'value': np.float64(nan)},\n",
       " {'territory_id': 117, 'indicator_id': None, 'value': np.float64(nan)},\n",
       " {'territory_id': 121, 'indicator_id': None, 'value': np.float64(nan)},\n",
       " {'territory_id': 117,\n",
       "  'indicator_id': None,\n",
       "  'value': np.float64(0.8365384615384616)},\n",
       " {'territory_id': 121, 'indicator_id': None, 'value': np.float64(0.0)},\n",
       " {'territory_id': 117, 'indicator_id': None, 'value': np.float64(0.95)},\n",
       " {'territory_id': 121, 'indicator_id': None, 'value': np.float64(0.875)},\n",
       " {'territory_id': 117, 'indicator_id': None, 'value': np.float64(0.0125)},\n",
       " {'territory_id': 121, 'indicator_id': None, 'value': np.float64(0.0)},\n",
       " {'territory_id': 117, 'indicator_id': None, 'value': np.float64(0.0)},\n",
       " {'territory_id': 121, 'indicator_id': None, 'value': np.float64(0.0)},\n",
       " {'territory_id': 117,\n",
       "  'indicator_id': None,\n",
       "  'value': np.float64(0.6669903926482874)},\n",
       " {'territory_id': 121,\n",
       "  'indicator_id': None,\n",
       "  'value': np.float64(0.40489130434782605)}]"
      ]
     },
     "execution_count": 35,
     "metadata": {},
     "output_type": "execute_result"
    }
   ],
   "source": [
    "values"
   ]
  }
 ],
 "metadata": {
  "kernelspec": {
   "display_name": ".venv",
   "language": "python",
   "name": "python3"
  },
  "language_info": {
   "codemirror_mode": {
    "name": "ipython",
    "version": 3
   },
   "file_extension": ".py",
   "mimetype": "text/x-python",
   "name": "python",
   "nbconvert_exporter": "python",
   "pygments_lexer": "ipython3",
   "version": "3.10.12"
  }
 },
 "nbformat": 4,
 "nbformat_minor": 2
}
