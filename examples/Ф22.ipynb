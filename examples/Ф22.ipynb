{
 "cells": [
  {
   "cell_type": "markdown",
   "metadata": {},
   "source": [
    "# **Ф22**: Модуль моделирования социально-экономических эффектов реализации генерального плана"
   ]
  },
  {
   "cell_type": "markdown",
   "metadata": {},
   "source": [
    "Берем кварталы `контекста` и `сценария`"
   ]
  },
  {
   "cell_type": "code",
   "execution_count": 1,
   "metadata": {},
   "outputs": [],
   "source": [
    "import pandas as pd\n",
    "import geopandas as gpd\n",
    "\n",
    "blocks = pd.read_pickle('./data/blocks.pickle')"
   ]
  },
  {
   "cell_type": "markdown",
   "metadata": {},
   "source": [
    "Делаем предобработку: лендюзы не должны быть больше 1"
   ]
  },
  {
   "cell_type": "code",
   "execution_count": 2,
   "metadata": {},
   "outputs": [],
   "source": [
    "from blocksnet.enums import LandUse\n",
    "\n",
    "for lu in LandUse:\n",
    "    blocks[lu.value] = blocks[lu.value].apply(lambda v : min(v,1))"
   ]
  },
  {
   "cell_type": "markdown",
   "metadata": {},
   "source": [
    "Инициализируем `граф соседства`"
   ]
  },
  {
   "cell_type": "code",
   "execution_count": 3,
   "metadata": {},
   "outputs": [
    {
     "name": "stderr",
     "output_type": "stream",
     "text": [
      "\u001b[32m2025-05-31 21:35:30.151\u001b[0m | \u001b[1mINFO    \u001b[0m | \u001b[36mblocksnet.relations.adjacency.core\u001b[0m:\u001b[36m_generate_adjacency_nodes\u001b[0m:\u001b[36m10\u001b[0m - \u001b[1mGenerating nodes\u001b[0m\n",
      "\u001b[32m2025-05-31 21:35:30.155\u001b[0m | \u001b[1mINFO    \u001b[0m | \u001b[36mblocksnet.relations.adjacency.core\u001b[0m:\u001b[36m_generate_adjacency_edges\u001b[0m:\u001b[36m15\u001b[0m - \u001b[1mGenerating edges\u001b[0m\n",
      "\u001b[32m2025-05-31 21:35:31.022\u001b[0m | \u001b[32m\u001b[1mSUCCESS \u001b[0m | \u001b[36mblocksnet.relations.adjacency.core\u001b[0m:\u001b[36mgenerate_adjacency_graph\u001b[0m:\u001b[36m38\u001b[0m - \u001b[32m\u001b[1mAdjacency graph successfully generated: 2700 nodes, 8966 edges\u001b[0m\n"
     ]
    }
   ],
   "source": [
    "from blocksnet.relations import generate_adjacency_graph\n",
    "\n",
    "adjacency_graph = generate_adjacency_graph(blocks, 10)"
   ]
  },
  {
   "cell_type": "markdown",
   "metadata": {},
   "source": [
    "## Параметры застройки"
   ]
  },
  {
   "cell_type": "markdown",
   "metadata": {},
   "source": [
    "### FSI, MXI, GSI"
   ]
  },
  {
   "cell_type": "markdown",
   "metadata": {},
   "source": [
    "Предсказываем параметры"
   ]
  },
  {
   "cell_type": "code",
   "execution_count": 4,
   "metadata": {},
   "outputs": [
    {
     "name": "stderr",
     "output_type": "stream",
     "text": [
      "\u001b[32m2025-05-31 21:35:33.893\u001b[0m | \u001b[1mINFO    \u001b[0m | \u001b[36mblocksnet.preprocessing.feature_engineering.core\u001b[0m:\u001b[36m_calculate_usual_features\u001b[0m:\u001b[36m35\u001b[0m - \u001b[1mCalculating usual features\u001b[0m\n"
     ]
    },
    {
     "data": {
      "application/vnd.microsoft.datawrangler.viewer.v0+json": {
       "columns": [
        {
         "name": "index",
         "rawType": "int64",
         "type": "integer"
        },
        {
         "name": "fsi",
         "rawType": "float32",
         "type": "float"
        },
        {
         "name": "gsi",
         "rawType": "float32",
         "type": "float"
        },
        {
         "name": "mxi",
         "rawType": "float32",
         "type": "float"
        }
       ],
       "ref": "98970c7f-5b18-499b-81c3-fdfcf920e35d",
       "rows": [
        [
         "0",
         "0.062008068",
         "0.030930482",
         "0.6259591"
        ],
        [
         "1",
         "0.20234038",
         "0.090030335",
         "0.6839712"
        ],
        [
         "2",
         "0.15173735",
         "0.09116537",
         "0.07509629"
        ],
        [
         "3",
         "0.4491421",
         "0.13905305",
         "0.4045393"
        ],
        [
         "4",
         "0.07922442",
         "0.019164495",
         "0.1417954"
        ]
       ],
       "shape": {
        "columns": 3,
        "rows": 5
       }
      },
      "text/html": [
       "<div>\n",
       "<style scoped>\n",
       "    .dataframe tbody tr th:only-of-type {\n",
       "        vertical-align: middle;\n",
       "    }\n",
       "\n",
       "    .dataframe tbody tr th {\n",
       "        vertical-align: top;\n",
       "    }\n",
       "\n",
       "    .dataframe thead th {\n",
       "        text-align: right;\n",
       "    }\n",
       "</style>\n",
       "<table border=\"1\" class=\"dataframe\">\n",
       "  <thead>\n",
       "    <tr style=\"text-align: right;\">\n",
       "      <th></th>\n",
       "      <th>fsi</th>\n",
       "      <th>gsi</th>\n",
       "      <th>mxi</th>\n",
       "    </tr>\n",
       "  </thead>\n",
       "  <tbody>\n",
       "    <tr>\n",
       "      <th>0</th>\n",
       "      <td>0.062008</td>\n",
       "      <td>0.030930</td>\n",
       "      <td>0.625959</td>\n",
       "    </tr>\n",
       "    <tr>\n",
       "      <th>1</th>\n",
       "      <td>0.202340</td>\n",
       "      <td>0.090030</td>\n",
       "      <td>0.683971</td>\n",
       "    </tr>\n",
       "    <tr>\n",
       "      <th>2</th>\n",
       "      <td>0.151737</td>\n",
       "      <td>0.091165</td>\n",
       "      <td>0.075096</td>\n",
       "    </tr>\n",
       "    <tr>\n",
       "      <th>3</th>\n",
       "      <td>0.449142</td>\n",
       "      <td>0.139053</td>\n",
       "      <td>0.404539</td>\n",
       "    </tr>\n",
       "    <tr>\n",
       "      <th>4</th>\n",
       "      <td>0.079224</td>\n",
       "      <td>0.019164</td>\n",
       "      <td>0.141795</td>\n",
       "    </tr>\n",
       "  </tbody>\n",
       "</table>\n",
       "</div>"
      ],
      "text/plain": [
       "        fsi       gsi       mxi\n",
       "0  0.062008  0.030930  0.625959\n",
       "1  0.202340  0.090030  0.683971\n",
       "2  0.151737  0.091165  0.075096\n",
       "3  0.449142  0.139053  0.404539\n",
       "4  0.079224  0.019164  0.141795"
      ]
     },
     "execution_count": 4,
     "metadata": {},
     "output_type": "execute_result"
    }
   ],
   "source": [
    "from blocksnet.machine_learning.regression import DensityRegressor\n",
    "\n",
    "dr = DensityRegressor()\n",
    "density_df = dr.evaluate(blocks, adjacency_graph)\n",
    "density_df.head()"
   ]
  },
  {
   "cell_type": "markdown",
   "metadata": {},
   "source": [
    "Обрабатываем результаты:\n",
    "- `FSI >= 0`\n",
    "- `GSI <= 1, >= 0`\n",
    "- `MXI <= 1, >= 0`\n",
    "- `MXI == 0` для `residential == 0`"
   ]
  },
  {
   "cell_type": "code",
   "execution_count": 5,
   "metadata": {},
   "outputs": [
    {
     "data": {
      "application/vnd.microsoft.datawrangler.viewer.v0+json": {
       "columns": [
        {
         "name": "index",
         "rawType": "int64",
         "type": "integer"
        },
        {
         "name": "fsi",
         "rawType": "float32",
         "type": "float"
        },
        {
         "name": "gsi",
         "rawType": "float32",
         "type": "float"
        },
        {
         "name": "mxi",
         "rawType": "float32",
         "type": "float"
        }
       ],
       "ref": "d7a4747d-7a38-448c-b891-dc50ae49bdd6",
       "rows": [
        [
         "0",
         "0.062008068",
         "0.030930482",
         "0.0"
        ],
        [
         "1",
         "0.20234038",
         "0.090030335",
         "0.0"
        ],
        [
         "2",
         "0.15173735",
         "0.09116537",
         "0.0"
        ],
        [
         "3",
         "0.4491421",
         "0.13905305",
         "0.4045393"
        ],
        [
         "4",
         "0.07922442",
         "0.019164495",
         "0.0"
        ]
       ],
       "shape": {
        "columns": 3,
        "rows": 5
       }
      },
      "text/html": [
       "<div>\n",
       "<style scoped>\n",
       "    .dataframe tbody tr th:only-of-type {\n",
       "        vertical-align: middle;\n",
       "    }\n",
       "\n",
       "    .dataframe tbody tr th {\n",
       "        vertical-align: top;\n",
       "    }\n",
       "\n",
       "    .dataframe thead th {\n",
       "        text-align: right;\n",
       "    }\n",
       "</style>\n",
       "<table border=\"1\" class=\"dataframe\">\n",
       "  <thead>\n",
       "    <tr style=\"text-align: right;\">\n",
       "      <th></th>\n",
       "      <th>fsi</th>\n",
       "      <th>gsi</th>\n",
       "      <th>mxi</th>\n",
       "    </tr>\n",
       "  </thead>\n",
       "  <tbody>\n",
       "    <tr>\n",
       "      <th>0</th>\n",
       "      <td>0.062008</td>\n",
       "      <td>0.030930</td>\n",
       "      <td>0.000000</td>\n",
       "    </tr>\n",
       "    <tr>\n",
       "      <th>1</th>\n",
       "      <td>0.202340</td>\n",
       "      <td>0.090030</td>\n",
       "      <td>0.000000</td>\n",
       "    </tr>\n",
       "    <tr>\n",
       "      <th>2</th>\n",
       "      <td>0.151737</td>\n",
       "      <td>0.091165</td>\n",
       "      <td>0.000000</td>\n",
       "    </tr>\n",
       "    <tr>\n",
       "      <th>3</th>\n",
       "      <td>0.449142</td>\n",
       "      <td>0.139053</td>\n",
       "      <td>0.404539</td>\n",
       "    </tr>\n",
       "    <tr>\n",
       "      <th>4</th>\n",
       "      <td>0.079224</td>\n",
       "      <td>0.019164</td>\n",
       "      <td>0.000000</td>\n",
       "    </tr>\n",
       "  </tbody>\n",
       "</table>\n",
       "</div>"
      ],
      "text/plain": [
       "        fsi       gsi       mxi\n",
       "0  0.062008  0.030930  0.000000\n",
       "1  0.202340  0.090030  0.000000\n",
       "2  0.151737  0.091165  0.000000\n",
       "3  0.449142  0.139053  0.404539\n",
       "4  0.079224  0.019164  0.000000"
      ]
     },
     "execution_count": 5,
     "metadata": {},
     "output_type": "execute_result"
    }
   ],
   "source": [
    "density_df.loc[density_df['fsi'] < 0, 'fsi'] = 0\n",
    "\n",
    "density_df.loc[density_df['gsi'] < 0, 'gsi'] = 0\n",
    "density_df.loc[density_df['gsi'] > 1, 'gsi'] = 1\n",
    "\n",
    "density_df.loc[density_df['mxi'] < 0, 'mxi'] = 0\n",
    "density_df.loc[density_df['mxi'] > 1, 'mxi'] = 1\n",
    "\n",
    "density_df.loc[blocks['residential'] == 0, 'mxi'] = 0\n",
    "\n",
    "density_df.head()"
   ]
  },
  {
   "cell_type": "markdown",
   "metadata": {},
   "source": [
    "### footprint_area, build_floor_area, living_area"
   ]
  },
  {
   "cell_type": "code",
   "execution_count": 6,
   "metadata": {},
   "outputs": [
    {
     "data": {
      "application/vnd.microsoft.datawrangler.viewer.v0+json": {
       "columns": [
        {
         "name": "index",
         "rawType": "int64",
         "type": "integer"
        },
        {
         "name": "site_area",
         "rawType": "float64",
         "type": "float"
        },
        {
         "name": "fsi",
         "rawType": "float64",
         "type": "float"
        },
        {
         "name": "gsi",
         "rawType": "float64",
         "type": "float"
        },
        {
         "name": "mxi",
         "rawType": "float64",
         "type": "float"
        },
        {
         "name": "build_floor_area",
         "rawType": "float64",
         "type": "float"
        },
        {
         "name": "footprint_area",
         "rawType": "float64",
         "type": "float"
        },
        {
         "name": "living_area",
         "rawType": "float64",
         "type": "float"
        },
        {
         "name": "non_living_area",
         "rawType": "float64",
         "type": "float"
        }
       ],
       "ref": "8395b070-0508-428c-b421-bbe563ab5316",
       "rows": [
        [
         "0",
         "202399.7321929023",
         "0.06200806796550751",
         "0.03093048185110092",
         "0.0",
         "12550.416350018004",
         "6260.321243260251",
         "0.0",
         "12550.416350018004"
        ],
        [
         "1",
         "201529.49348142737",
         "0.20234037935733795",
         "0.09003033488988876",
         "0.0",
         "40777.554162724184",
         "18143.767788322562",
         "0.0",
         "40777.554162724184"
        ],
        [
         "2",
         "164663.8598295596",
         "0.15173734724521637",
         "0.09116537123918533",
         "0.0",
         "24985.65727769552",
         "15011.641911038978",
         "0.0",
         "24985.65727769552"
        ],
        [
         "3",
         "161571.83251077228",
         "0.44914209842681885",
         "0.13905304670333862",
         "0.4045392870903015",
         "72568.71190055477",
         "22467.055572064422",
         "29356.894977311906",
         "43211.81692324286"
        ],
        [
         "4",
         "16.48915247066372",
         "0.07922442257404327",
         "0.019164495170116425",
         "0.0",
         "1.306343583223692",
         "0.31600628288334814",
         "0.0",
         "1.306343583223692"
        ]
       ],
       "shape": {
        "columns": 8,
        "rows": 5
       }
      },
      "text/html": [
       "<div>\n",
       "<style scoped>\n",
       "    .dataframe tbody tr th:only-of-type {\n",
       "        vertical-align: middle;\n",
       "    }\n",
       "\n",
       "    .dataframe tbody tr th {\n",
       "        vertical-align: top;\n",
       "    }\n",
       "\n",
       "    .dataframe thead th {\n",
       "        text-align: right;\n",
       "    }\n",
       "</style>\n",
       "<table border=\"1\" class=\"dataframe\">\n",
       "  <thead>\n",
       "    <tr style=\"text-align: right;\">\n",
       "      <th></th>\n",
       "      <th>site_area</th>\n",
       "      <th>fsi</th>\n",
       "      <th>gsi</th>\n",
       "      <th>mxi</th>\n",
       "      <th>build_floor_area</th>\n",
       "      <th>footprint_area</th>\n",
       "      <th>living_area</th>\n",
       "      <th>non_living_area</th>\n",
       "    </tr>\n",
       "  </thead>\n",
       "  <tbody>\n",
       "    <tr>\n",
       "      <th>0</th>\n",
       "      <td>202399.732193</td>\n",
       "      <td>0.062008</td>\n",
       "      <td>0.030930</td>\n",
       "      <td>0.000000</td>\n",
       "      <td>12550.416350</td>\n",
       "      <td>6260.321243</td>\n",
       "      <td>0.000000</td>\n",
       "      <td>12550.416350</td>\n",
       "    </tr>\n",
       "    <tr>\n",
       "      <th>1</th>\n",
       "      <td>201529.493481</td>\n",
       "      <td>0.202340</td>\n",
       "      <td>0.090030</td>\n",
       "      <td>0.000000</td>\n",
       "      <td>40777.554163</td>\n",
       "      <td>18143.767788</td>\n",
       "      <td>0.000000</td>\n",
       "      <td>40777.554163</td>\n",
       "    </tr>\n",
       "    <tr>\n",
       "      <th>2</th>\n",
       "      <td>164663.859830</td>\n",
       "      <td>0.151737</td>\n",
       "      <td>0.091165</td>\n",
       "      <td>0.000000</td>\n",
       "      <td>24985.657278</td>\n",
       "      <td>15011.641911</td>\n",
       "      <td>0.000000</td>\n",
       "      <td>24985.657278</td>\n",
       "    </tr>\n",
       "    <tr>\n",
       "      <th>3</th>\n",
       "      <td>161571.832511</td>\n",
       "      <td>0.449142</td>\n",
       "      <td>0.139053</td>\n",
       "      <td>0.404539</td>\n",
       "      <td>72568.711901</td>\n",
       "      <td>22467.055572</td>\n",
       "      <td>29356.894977</td>\n",
       "      <td>43211.816923</td>\n",
       "    </tr>\n",
       "    <tr>\n",
       "      <th>4</th>\n",
       "      <td>16.489152</td>\n",
       "      <td>0.079224</td>\n",
       "      <td>0.019164</td>\n",
       "      <td>0.000000</td>\n",
       "      <td>1.306344</td>\n",
       "      <td>0.316006</td>\n",
       "      <td>0.000000</td>\n",
       "      <td>1.306344</td>\n",
       "    </tr>\n",
       "  </tbody>\n",
       "</table>\n",
       "</div>"
      ],
      "text/plain": [
       "       site_area       fsi       gsi       mxi  build_floor_area  \\\n",
       "0  202399.732193  0.062008  0.030930  0.000000      12550.416350   \n",
       "1  201529.493481  0.202340  0.090030  0.000000      40777.554163   \n",
       "2  164663.859830  0.151737  0.091165  0.000000      24985.657278   \n",
       "3  161571.832511  0.449142  0.139053  0.404539      72568.711901   \n",
       "4      16.489152  0.079224  0.019164  0.000000          1.306344   \n",
       "\n",
       "   footprint_area   living_area  non_living_area  \n",
       "0     6260.321243      0.000000     12550.416350  \n",
       "1    18143.767788      0.000000     40777.554163  \n",
       "2    15011.641911      0.000000     24985.657278  \n",
       "3    22467.055572  29356.894977     43211.816923  \n",
       "4        0.316006      0.000000         1.306344  "
      ]
     },
     "execution_count": 6,
     "metadata": {},
     "output_type": "execute_result"
    }
   ],
   "source": [
    "from blocksnet.analysis.indicators import calculate_development_indicators \n",
    "\n",
    "density_df['site_area'] = blocks['site_area']\n",
    "development_df = calculate_development_indicators(density_df)\n",
    "development_df.head()"
   ]
  },
  {
   "cell_type": "markdown",
   "metadata": {},
   "source": [
    "### population"
   ]
  },
  {
   "cell_type": "code",
   "execution_count": 7,
   "metadata": {},
   "outputs": [
    {
     "data": {
      "application/vnd.microsoft.datawrangler.viewer.v0+json": {
       "columns": [
        {
         "name": "index",
         "rawType": "int64",
         "type": "integer"
        },
        {
         "name": "site_area",
         "rawType": "float64",
         "type": "float"
        },
        {
         "name": "fsi",
         "rawType": "float64",
         "type": "float"
        },
        {
         "name": "gsi",
         "rawType": "float64",
         "type": "float"
        },
        {
         "name": "mxi",
         "rawType": "float64",
         "type": "float"
        },
        {
         "name": "build_floor_area",
         "rawType": "float64",
         "type": "float"
        },
        {
         "name": "footprint_area",
         "rawType": "float64",
         "type": "float"
        },
        {
         "name": "living_area",
         "rawType": "float64",
         "type": "float"
        },
        {
         "name": "non_living_area",
         "rawType": "float64",
         "type": "float"
        },
        {
         "name": "population",
         "rawType": "float64",
         "type": "float"
        }
       ],
       "ref": "6da71cf2-5721-4c25-b2f6-08750d7b2933",
       "rows": [
        [
         "0",
         "202399.7321929023",
         "0.06200806796550751",
         "0.03093048185110092",
         "0.0",
         "12550.416350018004",
         "6260.321243260251",
         "0.0",
         "12550.416350018004",
         "0.0"
        ],
        [
         "1",
         "201529.49348142737",
         "0.20234037935733795",
         "0.09003033488988876",
         "0.0",
         "40777.554162724184",
         "18143.767788322562",
         "0.0",
         "40777.554162724184",
         "0.0"
        ],
        [
         "2",
         "164663.8598295596",
         "0.15173734724521637",
         "0.09116537123918533",
         "0.0",
         "24985.65727769552",
         "15011.641911038978",
         "0.0",
         "24985.65727769552",
         "0.0"
        ],
        [
         "3",
         "161571.83251077228",
         "0.44914209842681885",
         "0.13905304670333862",
         "0.4045392870903015",
         "72568.71190055477",
         "22467.055572064422",
         "29356.894977311906",
         "43211.81692324286",
         "1467.0"
        ],
        [
         "4",
         "16.48915247066372",
         "0.07922442257404327",
         "0.019164495170116425",
         "0.0",
         "1.306343583223692",
         "0.31600628288334814",
         "0.0",
         "1.306343583223692",
         "0.0"
        ]
       ],
       "shape": {
        "columns": 9,
        "rows": 5
       }
      },
      "text/html": [
       "<div>\n",
       "<style scoped>\n",
       "    .dataframe tbody tr th:only-of-type {\n",
       "        vertical-align: middle;\n",
       "    }\n",
       "\n",
       "    .dataframe tbody tr th {\n",
       "        vertical-align: top;\n",
       "    }\n",
       "\n",
       "    .dataframe thead th {\n",
       "        text-align: right;\n",
       "    }\n",
       "</style>\n",
       "<table border=\"1\" class=\"dataframe\">\n",
       "  <thead>\n",
       "    <tr style=\"text-align: right;\">\n",
       "      <th></th>\n",
       "      <th>site_area</th>\n",
       "      <th>fsi</th>\n",
       "      <th>gsi</th>\n",
       "      <th>mxi</th>\n",
       "      <th>build_floor_area</th>\n",
       "      <th>footprint_area</th>\n",
       "      <th>living_area</th>\n",
       "      <th>non_living_area</th>\n",
       "      <th>population</th>\n",
       "    </tr>\n",
       "  </thead>\n",
       "  <tbody>\n",
       "    <tr>\n",
       "      <th>0</th>\n",
       "      <td>202399.732193</td>\n",
       "      <td>0.062008</td>\n",
       "      <td>0.030930</td>\n",
       "      <td>0.000000</td>\n",
       "      <td>12550.416350</td>\n",
       "      <td>6260.321243</td>\n",
       "      <td>0.000000</td>\n",
       "      <td>12550.416350</td>\n",
       "      <td>0.0</td>\n",
       "    </tr>\n",
       "    <tr>\n",
       "      <th>1</th>\n",
       "      <td>201529.493481</td>\n",
       "      <td>0.202340</td>\n",
       "      <td>0.090030</td>\n",
       "      <td>0.000000</td>\n",
       "      <td>40777.554163</td>\n",
       "      <td>18143.767788</td>\n",
       "      <td>0.000000</td>\n",
       "      <td>40777.554163</td>\n",
       "      <td>0.0</td>\n",
       "    </tr>\n",
       "    <tr>\n",
       "      <th>2</th>\n",
       "      <td>164663.859830</td>\n",
       "      <td>0.151737</td>\n",
       "      <td>0.091165</td>\n",
       "      <td>0.000000</td>\n",
       "      <td>24985.657278</td>\n",
       "      <td>15011.641911</td>\n",
       "      <td>0.000000</td>\n",
       "      <td>24985.657278</td>\n",
       "      <td>0.0</td>\n",
       "    </tr>\n",
       "    <tr>\n",
       "      <th>3</th>\n",
       "      <td>161571.832511</td>\n",
       "      <td>0.449142</td>\n",
       "      <td>0.139053</td>\n",
       "      <td>0.404539</td>\n",
       "      <td>72568.711901</td>\n",
       "      <td>22467.055572</td>\n",
       "      <td>29356.894977</td>\n",
       "      <td>43211.816923</td>\n",
       "      <td>1467.0</td>\n",
       "    </tr>\n",
       "    <tr>\n",
       "      <th>4</th>\n",
       "      <td>16.489152</td>\n",
       "      <td>0.079224</td>\n",
       "      <td>0.019164</td>\n",
       "      <td>0.000000</td>\n",
       "      <td>1.306344</td>\n",
       "      <td>0.316006</td>\n",
       "      <td>0.000000</td>\n",
       "      <td>1.306344</td>\n",
       "      <td>0.0</td>\n",
       "    </tr>\n",
       "  </tbody>\n",
       "</table>\n",
       "</div>"
      ],
      "text/plain": [
       "       site_area       fsi       gsi       mxi  build_floor_area  \\\n",
       "0  202399.732193  0.062008  0.030930  0.000000      12550.416350   \n",
       "1  201529.493481  0.202340  0.090030  0.000000      40777.554163   \n",
       "2  164663.859830  0.151737  0.091165  0.000000      24985.657278   \n",
       "3  161571.832511  0.449142  0.139053  0.404539      72568.711901   \n",
       "4      16.489152  0.079224  0.019164  0.000000          1.306344   \n",
       "\n",
       "   footprint_area   living_area  non_living_area  population  \n",
       "0     6260.321243      0.000000     12550.416350         0.0  \n",
       "1    18143.767788      0.000000     40777.554163         0.0  \n",
       "2    15011.641911      0.000000     24985.657278         0.0  \n",
       "3    22467.055572  29356.894977     43211.816923      1467.0  \n",
       "4        0.316006      0.000000         1.306344         0.0  "
      ]
     },
     "execution_count": 7,
     "metadata": {},
     "output_type": "execute_result"
    }
   ],
   "source": [
    "development_df['population'] = development_df['living_area'] // 20\n",
    "development_df.head()"
   ]
  },
  {
   "cell_type": "markdown",
   "metadata": {},
   "source": [
    "### Заполняем результаты предсказания в оригинальный `GeoDataFrame`"
   ]
  },
  {
   "cell_type": "code",
   "execution_count": 8,
   "metadata": {},
   "outputs": [],
   "source": [
    "mask = blocks['is_project']\n",
    "columns = ['build_floor_area', 'footprint_area', 'living_area', 'non_living_area', 'population']\n",
    "blocks.loc[mask, columns] = development_df.loc[mask, columns]"
   ]
  },
  {
   "cell_type": "markdown",
   "metadata": {},
   "source": [
    "## Предсказание СЭР"
   ]
  },
  {
   "cell_type": "markdown",
   "metadata": {},
   "source": [
    "Немного преобразуем данные"
   ]
  },
  {
   "cell_type": "code",
   "execution_count": 15,
   "metadata": {},
   "outputs": [],
   "source": [
    "from blocksnet.enums import LandUse\n",
    "\n",
    "# переводим доли ЛУ в площади ЛУ\n",
    "for lu in LandUse:\n",
    "    blocks[lu.value] = blocks[lu.value] * blocks['site_area'] \n",
    "\n",
    "# суммируем всё строки\n",
    "data = [blocks.drop(columns=['land_use', 'geometry']).sum().to_dict()]\n",
    "input = pd.DataFrame(data)\n",
    "\n",
    "# добавляем координаты центра\n",
    "input['latitude'] = blocks.geometry.union_all().centroid.x\n",
    "input['longitude'] = blocks.geometry.union_all().centroid.y\n",
    "\n",
    "#переименуем count_buildings\n",
    "input['buildings_count'] = input['count_buildings']"
   ]
  },
  {
   "cell_type": "markdown",
   "metadata": {},
   "source": [
    "Предсказываем"
   ]
  },
  {
   "cell_type": "code",
   "execution_count": 16,
   "metadata": {},
   "outputs": [],
   "source": [
    "from blocksnet.machine_learning.regression import SocialRegressor\n",
    "\n",
    "sr = SocialRegressor()\n",
    "y_pred, pi_lower, pi_upper = sr.evaluate(input)"
   ]
  },
  {
   "cell_type": "markdown",
   "metadata": {},
   "source": [
    "## Результат"
   ]
  },
  {
   "cell_type": "code",
   "execution_count": 28,
   "metadata": {},
   "outputs": [],
   "source": [
    "iloc = 0\n",
    "result_data = {\n",
    "    'pred': y_pred.apply(round).astype(int).iloc[iloc].to_dict(),\n",
    "    'lower': pi_lower.iloc[iloc].to_dict(),\n",
    "    'upper': pi_upper.iloc[iloc].to_dict(),\n",
    "}\n",
    "result_df = pd.DataFrame.from_dict(result_data)\n",
    "result_df['is_interval'] = (result_df['pred'] <= result_df['upper']) & (result_df['pred'] >= result_df['lower'])"
   ]
  },
  {
   "cell_type": "code",
   "execution_count": 29,
   "metadata": {},
   "outputs": [
    {
     "data": {
      "application/vnd.microsoft.datawrangler.viewer.v0+json": {
       "columns": [
        {
         "name": "index",
         "rawType": "object",
         "type": "string"
        },
        {
         "name": "pred",
         "rawType": "int64",
         "type": "integer"
        },
        {
         "name": "lower",
         "rawType": "float64",
         "type": "float"
        },
        {
         "name": "upper",
         "rawType": "float64",
         "type": "float"
        },
        {
         "name": "is_interval",
         "rawType": "bool",
         "type": "boolean"
        }
       ],
       "ref": "ffe2ec5d-342e-4d93-b4e1-41564213a5b4",
       "rows": [
        [
         "nursing_home_count",
         "2",
         "0.0",
         "1.659995805058887",
         "False"
        ],
        [
         "hotel_count",
         "79",
         "0.0",
         "79.32543503321045",
         "True"
        ],
        [
         "theatre_count",
         "6",
         "0.0",
         "6.34097357058661",
         "True"
        ],
        [
         "cinema_count",
         "3",
         "0.0",
         "1.2901696660237698",
         "False"
        ],
        [
         "secondary_vocational_education_institutions_count",
         "9",
         "0.0",
         "8.452229977034333",
         "False"
        ],
        [
         "university_count",
         "22",
         "0.0",
         "20.488154924467416",
         "False"
        ],
        [
         "stadium_count",
         "4",
         "0.0",
         "10.999383359085071",
         "True"
        ],
        [
         "emergency_medical_service_stations_count",
         "3",
         "0.0",
         "1.2882725014749814",
         "False"
        ],
        [
         "kindergarten_count",
         "23",
         "0.0",
         "57.18199287753573",
         "True"
        ],
        [
         "hostel_count",
         "34",
         "0.0",
         "24.627076253572007",
         "False"
        ],
        [
         "park_count",
         "107",
         "0.0",
         "70.75235574372701",
         "False"
        ],
        [
         "multifunctional_center_count",
         "148",
         "0.0",
         "88.1190341241717",
         "False"
        ],
        [
         "pharmacy_count",
         "38",
         "0.0",
         "28.39627647182416",
         "False"
        ],
        [
         "sports_halls_count",
         "1",
         "0.0",
         "2.6312995544168025",
         "True"
        ],
        [
         "hospital_count",
         "15",
         "0.0",
         "20.364032397910396",
         "True"
        ],
        [
         "school_count",
         "25",
         "0.0",
         "44.03944931603012",
         "True"
        ],
        [
         "mall_count",
         "9",
         "0.0",
         "70.82094055612114",
         "True"
        ],
        [
         "polyclinic_count",
         "11",
         "0.0",
         "8.128000990947337",
         "False"
        ],
        [
         "post_count",
         "4",
         "0.0",
         "6.025632466890458",
         "True"
        ],
        [
         "swimming_pool_count",
         "52",
         "0.0",
         "42.07595974731754",
         "False"
        ],
        [
         "library_count",
         "3",
         "0.0",
         "4.936997340216571",
         "True"
        ],
        [
         "guest_house_count",
         "27",
         "0.0",
         "31.56714404467087",
         "True"
        ],
        [
         "fire_safety_facilities_count",
         "10",
         "0.0",
         "12.488056868730448",
         "True"
        ],
        [
         "restaurant_count",
         "20",
         "0.0",
         "24.228975884241272",
         "True"
        ],
        [
         "police_count",
         "8",
         "0.0",
         "10.541354216826948",
         "True"
        ],
        [
         "museum_count",
         "11",
         "0.0",
         "11.65601233113813",
         "True"
        ],
        [
         "bank_count",
         "3",
         "0.0",
         "7.354863502179429",
         "True"
        ],
        [
         "pitch_count",
         "43",
         "0.0",
         "113.52658655862018",
         "True"
        ]
       ],
       "shape": {
        "columns": 4,
        "rows": 28
       }
      },
      "text/html": [
       "<div>\n",
       "<style scoped>\n",
       "    .dataframe tbody tr th:only-of-type {\n",
       "        vertical-align: middle;\n",
       "    }\n",
       "\n",
       "    .dataframe tbody tr th {\n",
       "        vertical-align: top;\n",
       "    }\n",
       "\n",
       "    .dataframe thead th {\n",
       "        text-align: right;\n",
       "    }\n",
       "</style>\n",
       "<table border=\"1\" class=\"dataframe\">\n",
       "  <thead>\n",
       "    <tr style=\"text-align: right;\">\n",
       "      <th></th>\n",
       "      <th>pred</th>\n",
       "      <th>lower</th>\n",
       "      <th>upper</th>\n",
       "      <th>is_interval</th>\n",
       "    </tr>\n",
       "  </thead>\n",
       "  <tbody>\n",
       "    <tr>\n",
       "      <th>nursing_home_count</th>\n",
       "      <td>2</td>\n",
       "      <td>0.0</td>\n",
       "      <td>1.659996</td>\n",
       "      <td>False</td>\n",
       "    </tr>\n",
       "    <tr>\n",
       "      <th>hotel_count</th>\n",
       "      <td>79</td>\n",
       "      <td>0.0</td>\n",
       "      <td>79.325435</td>\n",
       "      <td>True</td>\n",
       "    </tr>\n",
       "    <tr>\n",
       "      <th>theatre_count</th>\n",
       "      <td>6</td>\n",
       "      <td>0.0</td>\n",
       "      <td>6.340974</td>\n",
       "      <td>True</td>\n",
       "    </tr>\n",
       "    <tr>\n",
       "      <th>cinema_count</th>\n",
       "      <td>3</td>\n",
       "      <td>0.0</td>\n",
       "      <td>1.290170</td>\n",
       "      <td>False</td>\n",
       "    </tr>\n",
       "    <tr>\n",
       "      <th>secondary_vocational_education_institutions_count</th>\n",
       "      <td>9</td>\n",
       "      <td>0.0</td>\n",
       "      <td>8.452230</td>\n",
       "      <td>False</td>\n",
       "    </tr>\n",
       "    <tr>\n",
       "      <th>university_count</th>\n",
       "      <td>22</td>\n",
       "      <td>0.0</td>\n",
       "      <td>20.488155</td>\n",
       "      <td>False</td>\n",
       "    </tr>\n",
       "    <tr>\n",
       "      <th>stadium_count</th>\n",
       "      <td>4</td>\n",
       "      <td>0.0</td>\n",
       "      <td>10.999383</td>\n",
       "      <td>True</td>\n",
       "    </tr>\n",
       "    <tr>\n",
       "      <th>emergency_medical_service_stations_count</th>\n",
       "      <td>3</td>\n",
       "      <td>0.0</td>\n",
       "      <td>1.288273</td>\n",
       "      <td>False</td>\n",
       "    </tr>\n",
       "    <tr>\n",
       "      <th>kindergarten_count</th>\n",
       "      <td>23</td>\n",
       "      <td>0.0</td>\n",
       "      <td>57.181993</td>\n",
       "      <td>True</td>\n",
       "    </tr>\n",
       "    <tr>\n",
       "      <th>hostel_count</th>\n",
       "      <td>34</td>\n",
       "      <td>0.0</td>\n",
       "      <td>24.627076</td>\n",
       "      <td>False</td>\n",
       "    </tr>\n",
       "    <tr>\n",
       "      <th>park_count</th>\n",
       "      <td>107</td>\n",
       "      <td>0.0</td>\n",
       "      <td>70.752356</td>\n",
       "      <td>False</td>\n",
       "    </tr>\n",
       "    <tr>\n",
       "      <th>multifunctional_center_count</th>\n",
       "      <td>148</td>\n",
       "      <td>0.0</td>\n",
       "      <td>88.119034</td>\n",
       "      <td>False</td>\n",
       "    </tr>\n",
       "    <tr>\n",
       "      <th>pharmacy_count</th>\n",
       "      <td>38</td>\n",
       "      <td>0.0</td>\n",
       "      <td>28.396276</td>\n",
       "      <td>False</td>\n",
       "    </tr>\n",
       "    <tr>\n",
       "      <th>sports_halls_count</th>\n",
       "      <td>1</td>\n",
       "      <td>0.0</td>\n",
       "      <td>2.631300</td>\n",
       "      <td>True</td>\n",
       "    </tr>\n",
       "    <tr>\n",
       "      <th>hospital_count</th>\n",
       "      <td>15</td>\n",
       "      <td>0.0</td>\n",
       "      <td>20.364032</td>\n",
       "      <td>True</td>\n",
       "    </tr>\n",
       "    <tr>\n",
       "      <th>school_count</th>\n",
       "      <td>25</td>\n",
       "      <td>0.0</td>\n",
       "      <td>44.039449</td>\n",
       "      <td>True</td>\n",
       "    </tr>\n",
       "    <tr>\n",
       "      <th>mall_count</th>\n",
       "      <td>9</td>\n",
       "      <td>0.0</td>\n",
       "      <td>70.820941</td>\n",
       "      <td>True</td>\n",
       "    </tr>\n",
       "    <tr>\n",
       "      <th>polyclinic_count</th>\n",
       "      <td>11</td>\n",
       "      <td>0.0</td>\n",
       "      <td>8.128001</td>\n",
       "      <td>False</td>\n",
       "    </tr>\n",
       "    <tr>\n",
       "      <th>post_count</th>\n",
       "      <td>4</td>\n",
       "      <td>0.0</td>\n",
       "      <td>6.025632</td>\n",
       "      <td>True</td>\n",
       "    </tr>\n",
       "    <tr>\n",
       "      <th>swimming_pool_count</th>\n",
       "      <td>52</td>\n",
       "      <td>0.0</td>\n",
       "      <td>42.075960</td>\n",
       "      <td>False</td>\n",
       "    </tr>\n",
       "    <tr>\n",
       "      <th>library_count</th>\n",
       "      <td>3</td>\n",
       "      <td>0.0</td>\n",
       "      <td>4.936997</td>\n",
       "      <td>True</td>\n",
       "    </tr>\n",
       "    <tr>\n",
       "      <th>guest_house_count</th>\n",
       "      <td>27</td>\n",
       "      <td>0.0</td>\n",
       "      <td>31.567144</td>\n",
       "      <td>True</td>\n",
       "    </tr>\n",
       "    <tr>\n",
       "      <th>fire_safety_facilities_count</th>\n",
       "      <td>10</td>\n",
       "      <td>0.0</td>\n",
       "      <td>12.488057</td>\n",
       "      <td>True</td>\n",
       "    </tr>\n",
       "    <tr>\n",
       "      <th>restaurant_count</th>\n",
       "      <td>20</td>\n",
       "      <td>0.0</td>\n",
       "      <td>24.228976</td>\n",
       "      <td>True</td>\n",
       "    </tr>\n",
       "    <tr>\n",
       "      <th>police_count</th>\n",
       "      <td>8</td>\n",
       "      <td>0.0</td>\n",
       "      <td>10.541354</td>\n",
       "      <td>True</td>\n",
       "    </tr>\n",
       "    <tr>\n",
       "      <th>museum_count</th>\n",
       "      <td>11</td>\n",
       "      <td>0.0</td>\n",
       "      <td>11.656012</td>\n",
       "      <td>True</td>\n",
       "    </tr>\n",
       "    <tr>\n",
       "      <th>bank_count</th>\n",
       "      <td>3</td>\n",
       "      <td>0.0</td>\n",
       "      <td>7.354864</td>\n",
       "      <td>True</td>\n",
       "    </tr>\n",
       "    <tr>\n",
       "      <th>pitch_count</th>\n",
       "      <td>43</td>\n",
       "      <td>0.0</td>\n",
       "      <td>113.526587</td>\n",
       "      <td>True</td>\n",
       "    </tr>\n",
       "  </tbody>\n",
       "</table>\n",
       "</div>"
      ],
      "text/plain": [
       "                                                   pred  lower       upper  \\\n",
       "nursing_home_count                                    2    0.0    1.659996   \n",
       "hotel_count                                          79    0.0   79.325435   \n",
       "theatre_count                                         6    0.0    6.340974   \n",
       "cinema_count                                          3    0.0    1.290170   \n",
       "secondary_vocational_education_institutions_count     9    0.0    8.452230   \n",
       "university_count                                     22    0.0   20.488155   \n",
       "stadium_count                                         4    0.0   10.999383   \n",
       "emergency_medical_service_stations_count              3    0.0    1.288273   \n",
       "kindergarten_count                                   23    0.0   57.181993   \n",
       "hostel_count                                         34    0.0   24.627076   \n",
       "park_count                                          107    0.0   70.752356   \n",
       "multifunctional_center_count                        148    0.0   88.119034   \n",
       "pharmacy_count                                       38    0.0   28.396276   \n",
       "sports_halls_count                                    1    0.0    2.631300   \n",
       "hospital_count                                       15    0.0   20.364032   \n",
       "school_count                                         25    0.0   44.039449   \n",
       "mall_count                                            9    0.0   70.820941   \n",
       "polyclinic_count                                     11    0.0    8.128001   \n",
       "post_count                                            4    0.0    6.025632   \n",
       "swimming_pool_count                                  52    0.0   42.075960   \n",
       "library_count                                         3    0.0    4.936997   \n",
       "guest_house_count                                    27    0.0   31.567144   \n",
       "fire_safety_facilities_count                         10    0.0   12.488057   \n",
       "restaurant_count                                     20    0.0   24.228976   \n",
       "police_count                                          8    0.0   10.541354   \n",
       "museum_count                                         11    0.0   11.656012   \n",
       "bank_count                                            3    0.0    7.354864   \n",
       "pitch_count                                          43    0.0  113.526587   \n",
       "\n",
       "                                                   is_interval  \n",
       "nursing_home_count                                       False  \n",
       "hotel_count                                               True  \n",
       "theatre_count                                             True  \n",
       "cinema_count                                             False  \n",
       "secondary_vocational_education_institutions_count        False  \n",
       "university_count                                         False  \n",
       "stadium_count                                             True  \n",
       "emergency_medical_service_stations_count                 False  \n",
       "kindergarten_count                                        True  \n",
       "hostel_count                                             False  \n",
       "park_count                                               False  \n",
       "multifunctional_center_count                             False  \n",
       "pharmacy_count                                           False  \n",
       "sports_halls_count                                        True  \n",
       "hospital_count                                            True  \n",
       "school_count                                              True  \n",
       "mall_count                                                True  \n",
       "polyclinic_count                                         False  \n",
       "post_count                                                True  \n",
       "swimming_pool_count                                      False  \n",
       "library_count                                             True  \n",
       "guest_house_count                                         True  \n",
       "fire_safety_facilities_count                              True  \n",
       "restaurant_count                                          True  \n",
       "police_count                                              True  \n",
       "museum_count                                              True  \n",
       "bank_count                                                True  \n",
       "pitch_count                                               True  "
      ]
     },
     "execution_count": 29,
     "metadata": {},
     "output_type": "execute_result"
    }
   ],
   "source": [
    "result_df"
   ]
  }
 ],
 "metadata": {
  "kernelspec": {
   "display_name": ".venv",
   "language": "python",
   "name": "python3"
  },
  "language_info": {
   "codemirror_mode": {
    "name": "ipython",
    "version": 3
   },
   "file_extension": ".py",
   "mimetype": "text/x-python",
   "name": "python",
   "nbconvert_exporter": "python",
   "pygments_lexer": "ipython3",
   "version": "3.10.12"
  }
 },
 "nbformat": 4,
 "nbformat_minor": 2
}
