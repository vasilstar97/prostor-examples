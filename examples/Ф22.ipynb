{
 "cells": [
  {
   "cell_type": "markdown",
   "metadata": {},
   "source": [
    "# **Ф22**: Модуль моделирования социально-экономических эффектов реализации генерального плана"
   ]
  },
  {
   "cell_type": "markdown",
   "metadata": {},
   "source": [
    "Берем кварталы `контекста` и `сценария`"
   ]
  },
  {
   "cell_type": "code",
   "execution_count": 1,
   "metadata": {},
   "outputs": [],
   "source": [
    "import pandas as pd\n",
    "import geopandas as gpd\n",
    "\n",
    "blocks = pd.read_pickle('./data/blocks.pickle')"
   ]
  },
  {
   "cell_type": "markdown",
   "metadata": {},
   "source": [
    "Делаем предобработку: лендюзы не должны быть больше 1"
   ]
  },
  {
   "cell_type": "code",
   "execution_count": 2,
   "metadata": {},
   "outputs": [],
   "source": [
    "from blocksnet.enums import LandUse\n",
    "\n",
    "for lu in LandUse:\n",
    "    blocks[lu.value] = blocks[lu.value].apply(lambda v : min(v,1))"
   ]
  },
  {
   "cell_type": "markdown",
   "metadata": {},
   "source": [
    "Инициализируем `граф соседства`"
   ]
  },
  {
   "cell_type": "code",
   "execution_count": 3,
   "metadata": {},
   "outputs": [
    {
     "name": "stderr",
     "output_type": "stream",
     "text": [
      "\u001b[32m2025-09-26 02:08:31.117\u001b[0m | \u001b[1mINFO    \u001b[0m | \u001b[36mblocksnet.relations.adjacency.core\u001b[0m:\u001b[36m_generate_adjacency_nodes\u001b[0m:\u001b[36m9\u001b[0m - \u001b[1mGenerating nodes\u001b[0m\n",
      "\u001b[32m2025-09-26 02:08:31.119\u001b[0m | \u001b[1mINFO    \u001b[0m | \u001b[36mblocksnet.relations.adjacency.core\u001b[0m:\u001b[36m_generate_adjacency_edges\u001b[0m:\u001b[36m14\u001b[0m - \u001b[1mGenerating edges\u001b[0m\n",
      "\u001b[32m2025-09-26 02:08:32.037\u001b[0m | \u001b[32m\u001b[1mSUCCESS \u001b[0m | \u001b[36mblocksnet.relations.adjacency.core\u001b[0m:\u001b[36mgenerate_adjacency_graph\u001b[0m:\u001b[36m37\u001b[0m - \u001b[32m\u001b[1mAdjacency graph successfully generated: 2700 nodes, 8966 edges\u001b[0m\n"
     ]
    }
   ],
   "source": [
    "from blocksnet.relations import generate_adjacency_graph\n",
    "\n",
    "adjacency_graph = generate_adjacency_graph(blocks, 10)"
   ]
  },
  {
   "cell_type": "markdown",
   "metadata": {},
   "source": [
    "## Параметры застройки"
   ]
  },
  {
   "cell_type": "markdown",
   "metadata": {},
   "source": [
    "### FSI, MXI, GSI"
   ]
  },
  {
   "cell_type": "markdown",
   "metadata": {},
   "source": [
    "Предсказываем параметры"
   ]
  },
  {
   "cell_type": "code",
   "execution_count": 4,
   "metadata": {},
   "outputs": [
    {
     "name": "stderr",
     "output_type": "stream",
     "text": [
      "\u001b[32m2025-09-26 02:08:41.046\u001b[0m | \u001b[1mINFO    \u001b[0m | \u001b[36mblocksnet.preprocessing.feature_engineering.core\u001b[0m:\u001b[36m_calculate_usual_features\u001b[0m:\u001b[36m35\u001b[0m - \u001b[1mCalculating usual features\u001b[0m\n"
     ]
    },
    {
     "data": {
      "application/vnd.microsoft.datawrangler.viewer.v0+json": {
       "columns": [
        {
         "name": "index",
         "rawType": "int64",
         "type": "integer"
        },
        {
         "name": "fsi",
         "rawType": "float32",
         "type": "float"
        },
        {
         "name": "gsi",
         "rawType": "float32",
         "type": "float"
        },
        {
         "name": "mxi",
         "rawType": "float32",
         "type": "float"
        }
       ],
       "ref": "12b5491f-28b1-465b-be1a-4a7b1d49f6da",
       "rows": [
        [
         "0",
         "0.062008068",
         "0.030930482",
         "0.6259591"
        ],
        [
         "1",
         "0.20234038",
         "0.090030335",
         "0.6839712"
        ],
        [
         "2",
         "0.15173735",
         "0.09116537",
         "0.07509629"
        ],
        [
         "3",
         "0.4491421",
         "0.13905305",
         "0.4045393"
        ],
        [
         "4",
         "0.07922442",
         "0.019164495",
         "0.1417954"
        ]
       ],
       "shape": {
        "columns": 3,
        "rows": 5
       }
      },
      "text/html": [
       "<div>\n",
       "<style scoped>\n",
       "    .dataframe tbody tr th:only-of-type {\n",
       "        vertical-align: middle;\n",
       "    }\n",
       "\n",
       "    .dataframe tbody tr th {\n",
       "        vertical-align: top;\n",
       "    }\n",
       "\n",
       "    .dataframe thead th {\n",
       "        text-align: right;\n",
       "    }\n",
       "</style>\n",
       "<table border=\"1\" class=\"dataframe\">\n",
       "  <thead>\n",
       "    <tr style=\"text-align: right;\">\n",
       "      <th></th>\n",
       "      <th>fsi</th>\n",
       "      <th>gsi</th>\n",
       "      <th>mxi</th>\n",
       "    </tr>\n",
       "  </thead>\n",
       "  <tbody>\n",
       "    <tr>\n",
       "      <th>0</th>\n",
       "      <td>0.062008</td>\n",
       "      <td>0.030930</td>\n",
       "      <td>0.625959</td>\n",
       "    </tr>\n",
       "    <tr>\n",
       "      <th>1</th>\n",
       "      <td>0.202340</td>\n",
       "      <td>0.090030</td>\n",
       "      <td>0.683971</td>\n",
       "    </tr>\n",
       "    <tr>\n",
       "      <th>2</th>\n",
       "      <td>0.151737</td>\n",
       "      <td>0.091165</td>\n",
       "      <td>0.075096</td>\n",
       "    </tr>\n",
       "    <tr>\n",
       "      <th>3</th>\n",
       "      <td>0.449142</td>\n",
       "      <td>0.139053</td>\n",
       "      <td>0.404539</td>\n",
       "    </tr>\n",
       "    <tr>\n",
       "      <th>4</th>\n",
       "      <td>0.079224</td>\n",
       "      <td>0.019164</td>\n",
       "      <td>0.141795</td>\n",
       "    </tr>\n",
       "  </tbody>\n",
       "</table>\n",
       "</div>"
      ],
      "text/plain": [
       "        fsi       gsi       mxi\n",
       "0  0.062008  0.030930  0.625959\n",
       "1  0.202340  0.090030  0.683971\n",
       "2  0.151737  0.091165  0.075096\n",
       "3  0.449142  0.139053  0.404539\n",
       "4  0.079224  0.019164  0.141795"
      ]
     },
     "execution_count": 4,
     "metadata": {},
     "output_type": "execute_result"
    }
   ],
   "source": [
    "from blocksnet.machine_learning.regression import DensityRegressor\n",
    "\n",
    "dr = DensityRegressor()\n",
    "density_df = dr.evaluate(blocks, adjacency_graph)\n",
    "density_df.head()"
   ]
  },
  {
   "cell_type": "markdown",
   "metadata": {},
   "source": [
    "Обрабатываем результаты:\n",
    "- `FSI >= 0`\n",
    "- `GSI <= 1, >= 0`\n",
    "- `MXI <= 1, >= 0`\n",
    "- `MXI == 0` для `residential == 0`"
   ]
  },
  {
   "cell_type": "code",
   "execution_count": 5,
   "metadata": {},
   "outputs": [
    {
     "data": {
      "application/vnd.microsoft.datawrangler.viewer.v0+json": {
       "columns": [
        {
         "name": "index",
         "rawType": "int64",
         "type": "integer"
        },
        {
         "name": "fsi",
         "rawType": "float32",
         "type": "float"
        },
        {
         "name": "gsi",
         "rawType": "float32",
         "type": "float"
        },
        {
         "name": "mxi",
         "rawType": "float32",
         "type": "float"
        }
       ],
       "ref": "8ea08fbb-4a5e-4b9b-aef8-1f65d97e08f0",
       "rows": [
        [
         "0",
         "0.062008068",
         "0.030930482",
         "0.0"
        ],
        [
         "1",
         "0.20234038",
         "0.090030335",
         "0.0"
        ],
        [
         "2",
         "0.15173735",
         "0.09116537",
         "0.0"
        ],
        [
         "3",
         "0.4491421",
         "0.13905305",
         "0.4045393"
        ],
        [
         "4",
         "0.07922442",
         "0.019164495",
         "0.0"
        ]
       ],
       "shape": {
        "columns": 3,
        "rows": 5
       }
      },
      "text/html": [
       "<div>\n",
       "<style scoped>\n",
       "    .dataframe tbody tr th:only-of-type {\n",
       "        vertical-align: middle;\n",
       "    }\n",
       "\n",
       "    .dataframe tbody tr th {\n",
       "        vertical-align: top;\n",
       "    }\n",
       "\n",
       "    .dataframe thead th {\n",
       "        text-align: right;\n",
       "    }\n",
       "</style>\n",
       "<table border=\"1\" class=\"dataframe\">\n",
       "  <thead>\n",
       "    <tr style=\"text-align: right;\">\n",
       "      <th></th>\n",
       "      <th>fsi</th>\n",
       "      <th>gsi</th>\n",
       "      <th>mxi</th>\n",
       "    </tr>\n",
       "  </thead>\n",
       "  <tbody>\n",
       "    <tr>\n",
       "      <th>0</th>\n",
       "      <td>0.062008</td>\n",
       "      <td>0.030930</td>\n",
       "      <td>0.000000</td>\n",
       "    </tr>\n",
       "    <tr>\n",
       "      <th>1</th>\n",
       "      <td>0.202340</td>\n",
       "      <td>0.090030</td>\n",
       "      <td>0.000000</td>\n",
       "    </tr>\n",
       "    <tr>\n",
       "      <th>2</th>\n",
       "      <td>0.151737</td>\n",
       "      <td>0.091165</td>\n",
       "      <td>0.000000</td>\n",
       "    </tr>\n",
       "    <tr>\n",
       "      <th>3</th>\n",
       "      <td>0.449142</td>\n",
       "      <td>0.139053</td>\n",
       "      <td>0.404539</td>\n",
       "    </tr>\n",
       "    <tr>\n",
       "      <th>4</th>\n",
       "      <td>0.079224</td>\n",
       "      <td>0.019164</td>\n",
       "      <td>0.000000</td>\n",
       "    </tr>\n",
       "  </tbody>\n",
       "</table>\n",
       "</div>"
      ],
      "text/plain": [
       "        fsi       gsi       mxi\n",
       "0  0.062008  0.030930  0.000000\n",
       "1  0.202340  0.090030  0.000000\n",
       "2  0.151737  0.091165  0.000000\n",
       "3  0.449142  0.139053  0.404539\n",
       "4  0.079224  0.019164  0.000000"
      ]
     },
     "execution_count": 5,
     "metadata": {},
     "output_type": "execute_result"
    }
   ],
   "source": [
    "density_df.loc[density_df['fsi'] < 0, 'fsi'] = 0\n",
    "\n",
    "density_df.loc[density_df['gsi'] < 0, 'gsi'] = 0\n",
    "density_df.loc[density_df['gsi'] > 1, 'gsi'] = 1\n",
    "\n",
    "density_df.loc[density_df['mxi'] < 0, 'mxi'] = 0\n",
    "density_df.loc[density_df['mxi'] > 1, 'mxi'] = 1\n",
    "\n",
    "density_df.loc[blocks['residential'] == 0, 'mxi'] = 0\n",
    "\n",
    "density_df.head()"
   ]
  },
  {
   "cell_type": "markdown",
   "metadata": {},
   "source": [
    "### footprint_area, build_floor_area, living_area"
   ]
  },
  {
   "cell_type": "code",
   "execution_count": 6,
   "metadata": {},
   "outputs": [
    {
     "data": {
      "application/vnd.microsoft.datawrangler.viewer.v0+json": {
       "columns": [
        {
         "name": "index",
         "rawType": "int64",
         "type": "integer"
        },
        {
         "name": "site_area",
         "rawType": "float64",
         "type": "float"
        },
        {
         "name": "fsi",
         "rawType": "float64",
         "type": "float"
        },
        {
         "name": "gsi",
         "rawType": "float64",
         "type": "float"
        },
        {
         "name": "mxi",
         "rawType": "float64",
         "type": "float"
        },
        {
         "name": "build_floor_area",
         "rawType": "float64",
         "type": "float"
        },
        {
         "name": "footprint_area",
         "rawType": "float64",
         "type": "float"
        },
        {
         "name": "living_area",
         "rawType": "float64",
         "type": "float"
        },
        {
         "name": "non_living_area",
         "rawType": "float64",
         "type": "float"
        }
       ],
       "ref": "15a4b65f-4b26-4d5f-8b6b-69f68d7e855c",
       "rows": [
        [
         "0",
         "202399.7321929023",
         "0.06200806796550751",
         "0.03093048185110092",
         "0.0",
         "12550.416350018004",
         "6260.321243260251",
         "0.0",
         "12550.416350018004"
        ],
        [
         "1",
         "201529.49348142737",
         "0.20234037935733795",
         "0.09003033488988876",
         "0.0",
         "40777.554162724184",
         "18143.767788322562",
         "0.0",
         "40777.554162724184"
        ],
        [
         "2",
         "164663.8598295596",
         "0.15173734724521637",
         "0.09116537123918533",
         "0.0",
         "24985.65727769552",
         "15011.641911038978",
         "0.0",
         "24985.65727769552"
        ],
        [
         "3",
         "161571.83251077228",
         "0.44914209842681885",
         "0.13905304670333862",
         "0.4045392870903015",
         "72568.71190055477",
         "22467.055572064422",
         "29356.894977311906",
         "43211.81692324286"
        ],
        [
         "4",
         "16.48915247066372",
         "0.07922442257404327",
         "0.019164495170116425",
         "0.0",
         "1.306343583223692",
         "0.31600628288334814",
         "0.0",
         "1.306343583223692"
        ]
       ],
       "shape": {
        "columns": 8,
        "rows": 5
       }
      },
      "text/html": [
       "<div>\n",
       "<style scoped>\n",
       "    .dataframe tbody tr th:only-of-type {\n",
       "        vertical-align: middle;\n",
       "    }\n",
       "\n",
       "    .dataframe tbody tr th {\n",
       "        vertical-align: top;\n",
       "    }\n",
       "\n",
       "    .dataframe thead th {\n",
       "        text-align: right;\n",
       "    }\n",
       "</style>\n",
       "<table border=\"1\" class=\"dataframe\">\n",
       "  <thead>\n",
       "    <tr style=\"text-align: right;\">\n",
       "      <th></th>\n",
       "      <th>site_area</th>\n",
       "      <th>fsi</th>\n",
       "      <th>gsi</th>\n",
       "      <th>mxi</th>\n",
       "      <th>build_floor_area</th>\n",
       "      <th>footprint_area</th>\n",
       "      <th>living_area</th>\n",
       "      <th>non_living_area</th>\n",
       "    </tr>\n",
       "  </thead>\n",
       "  <tbody>\n",
       "    <tr>\n",
       "      <th>0</th>\n",
       "      <td>202399.732193</td>\n",
       "      <td>0.062008</td>\n",
       "      <td>0.030930</td>\n",
       "      <td>0.000000</td>\n",
       "      <td>12550.416350</td>\n",
       "      <td>6260.321243</td>\n",
       "      <td>0.000000</td>\n",
       "      <td>12550.416350</td>\n",
       "    </tr>\n",
       "    <tr>\n",
       "      <th>1</th>\n",
       "      <td>201529.493481</td>\n",
       "      <td>0.202340</td>\n",
       "      <td>0.090030</td>\n",
       "      <td>0.000000</td>\n",
       "      <td>40777.554163</td>\n",
       "      <td>18143.767788</td>\n",
       "      <td>0.000000</td>\n",
       "      <td>40777.554163</td>\n",
       "    </tr>\n",
       "    <tr>\n",
       "      <th>2</th>\n",
       "      <td>164663.859830</td>\n",
       "      <td>0.151737</td>\n",
       "      <td>0.091165</td>\n",
       "      <td>0.000000</td>\n",
       "      <td>24985.657278</td>\n",
       "      <td>15011.641911</td>\n",
       "      <td>0.000000</td>\n",
       "      <td>24985.657278</td>\n",
       "    </tr>\n",
       "    <tr>\n",
       "      <th>3</th>\n",
       "      <td>161571.832511</td>\n",
       "      <td>0.449142</td>\n",
       "      <td>0.139053</td>\n",
       "      <td>0.404539</td>\n",
       "      <td>72568.711901</td>\n",
       "      <td>22467.055572</td>\n",
       "      <td>29356.894977</td>\n",
       "      <td>43211.816923</td>\n",
       "    </tr>\n",
       "    <tr>\n",
       "      <th>4</th>\n",
       "      <td>16.489152</td>\n",
       "      <td>0.079224</td>\n",
       "      <td>0.019164</td>\n",
       "      <td>0.000000</td>\n",
       "      <td>1.306344</td>\n",
       "      <td>0.316006</td>\n",
       "      <td>0.000000</td>\n",
       "      <td>1.306344</td>\n",
       "    </tr>\n",
       "  </tbody>\n",
       "</table>\n",
       "</div>"
      ],
      "text/plain": [
       "       site_area       fsi       gsi       mxi  build_floor_area  \\\n",
       "0  202399.732193  0.062008  0.030930  0.000000      12550.416350   \n",
       "1  201529.493481  0.202340  0.090030  0.000000      40777.554163   \n",
       "2  164663.859830  0.151737  0.091165  0.000000      24985.657278   \n",
       "3  161571.832511  0.449142  0.139053  0.404539      72568.711901   \n",
       "4      16.489152  0.079224  0.019164  0.000000          1.306344   \n",
       "\n",
       "   footprint_area   living_area  non_living_area  \n",
       "0     6260.321243      0.000000     12550.416350  \n",
       "1    18143.767788      0.000000     40777.554163  \n",
       "2    15011.641911      0.000000     24985.657278  \n",
       "3    22467.055572  29356.894977     43211.816923  \n",
       "4        0.316006      0.000000         1.306344  "
      ]
     },
     "execution_count": 6,
     "metadata": {},
     "output_type": "execute_result"
    }
   ],
   "source": [
    "from blocksnet.analysis.indicators import calculate_development_indicators \n",
    "\n",
    "density_df['site_area'] = blocks['site_area']\n",
    "development_df = calculate_development_indicators(density_df)\n",
    "development_df.head()"
   ]
  },
  {
   "cell_type": "markdown",
   "metadata": {},
   "source": [
    "### population"
   ]
  },
  {
   "cell_type": "code",
   "execution_count": 7,
   "metadata": {},
   "outputs": [
    {
     "data": {
      "application/vnd.microsoft.datawrangler.viewer.v0+json": {
       "columns": [
        {
         "name": "index",
         "rawType": "int64",
         "type": "integer"
        },
        {
         "name": "site_area",
         "rawType": "float64",
         "type": "float"
        },
        {
         "name": "fsi",
         "rawType": "float64",
         "type": "float"
        },
        {
         "name": "gsi",
         "rawType": "float64",
         "type": "float"
        },
        {
         "name": "mxi",
         "rawType": "float64",
         "type": "float"
        },
        {
         "name": "build_floor_area",
         "rawType": "float64",
         "type": "float"
        },
        {
         "name": "footprint_area",
         "rawType": "float64",
         "type": "float"
        },
        {
         "name": "living_area",
         "rawType": "float64",
         "type": "float"
        },
        {
         "name": "non_living_area",
         "rawType": "float64",
         "type": "float"
        },
        {
         "name": "population",
         "rawType": "float64",
         "type": "float"
        }
       ],
       "ref": "b1f60666-cbe7-48ef-b487-cdf952f81739",
       "rows": [
        [
         "0",
         "202399.7321929023",
         "0.06200806796550751",
         "0.03093048185110092",
         "0.0",
         "12550.416350018004",
         "6260.321243260251",
         "0.0",
         "12550.416350018004",
         "0.0"
        ],
        [
         "1",
         "201529.49348142737",
         "0.20234037935733795",
         "0.09003033488988876",
         "0.0",
         "40777.554162724184",
         "18143.767788322562",
         "0.0",
         "40777.554162724184",
         "0.0"
        ],
        [
         "2",
         "164663.8598295596",
         "0.15173734724521637",
         "0.09116537123918533",
         "0.0",
         "24985.65727769552",
         "15011.641911038978",
         "0.0",
         "24985.65727769552",
         "0.0"
        ],
        [
         "3",
         "161571.83251077228",
         "0.44914209842681885",
         "0.13905304670333862",
         "0.4045392870903015",
         "72568.71190055477",
         "22467.055572064422",
         "29356.894977311906",
         "43211.81692324286",
         "1467.0"
        ],
        [
         "4",
         "16.48915247066372",
         "0.07922442257404327",
         "0.019164495170116425",
         "0.0",
         "1.306343583223692",
         "0.31600628288334814",
         "0.0",
         "1.306343583223692",
         "0.0"
        ]
       ],
       "shape": {
        "columns": 9,
        "rows": 5
       }
      },
      "text/html": [
       "<div>\n",
       "<style scoped>\n",
       "    .dataframe tbody tr th:only-of-type {\n",
       "        vertical-align: middle;\n",
       "    }\n",
       "\n",
       "    .dataframe tbody tr th {\n",
       "        vertical-align: top;\n",
       "    }\n",
       "\n",
       "    .dataframe thead th {\n",
       "        text-align: right;\n",
       "    }\n",
       "</style>\n",
       "<table border=\"1\" class=\"dataframe\">\n",
       "  <thead>\n",
       "    <tr style=\"text-align: right;\">\n",
       "      <th></th>\n",
       "      <th>site_area</th>\n",
       "      <th>fsi</th>\n",
       "      <th>gsi</th>\n",
       "      <th>mxi</th>\n",
       "      <th>build_floor_area</th>\n",
       "      <th>footprint_area</th>\n",
       "      <th>living_area</th>\n",
       "      <th>non_living_area</th>\n",
       "      <th>population</th>\n",
       "    </tr>\n",
       "  </thead>\n",
       "  <tbody>\n",
       "    <tr>\n",
       "      <th>0</th>\n",
       "      <td>202399.732193</td>\n",
       "      <td>0.062008</td>\n",
       "      <td>0.030930</td>\n",
       "      <td>0.000000</td>\n",
       "      <td>12550.416350</td>\n",
       "      <td>6260.321243</td>\n",
       "      <td>0.000000</td>\n",
       "      <td>12550.416350</td>\n",
       "      <td>0.0</td>\n",
       "    </tr>\n",
       "    <tr>\n",
       "      <th>1</th>\n",
       "      <td>201529.493481</td>\n",
       "      <td>0.202340</td>\n",
       "      <td>0.090030</td>\n",
       "      <td>0.000000</td>\n",
       "      <td>40777.554163</td>\n",
       "      <td>18143.767788</td>\n",
       "      <td>0.000000</td>\n",
       "      <td>40777.554163</td>\n",
       "      <td>0.0</td>\n",
       "    </tr>\n",
       "    <tr>\n",
       "      <th>2</th>\n",
       "      <td>164663.859830</td>\n",
       "      <td>0.151737</td>\n",
       "      <td>0.091165</td>\n",
       "      <td>0.000000</td>\n",
       "      <td>24985.657278</td>\n",
       "      <td>15011.641911</td>\n",
       "      <td>0.000000</td>\n",
       "      <td>24985.657278</td>\n",
       "      <td>0.0</td>\n",
       "    </tr>\n",
       "    <tr>\n",
       "      <th>3</th>\n",
       "      <td>161571.832511</td>\n",
       "      <td>0.449142</td>\n",
       "      <td>0.139053</td>\n",
       "      <td>0.404539</td>\n",
       "      <td>72568.711901</td>\n",
       "      <td>22467.055572</td>\n",
       "      <td>29356.894977</td>\n",
       "      <td>43211.816923</td>\n",
       "      <td>1467.0</td>\n",
       "    </tr>\n",
       "    <tr>\n",
       "      <th>4</th>\n",
       "      <td>16.489152</td>\n",
       "      <td>0.079224</td>\n",
       "      <td>0.019164</td>\n",
       "      <td>0.000000</td>\n",
       "      <td>1.306344</td>\n",
       "      <td>0.316006</td>\n",
       "      <td>0.000000</td>\n",
       "      <td>1.306344</td>\n",
       "      <td>0.0</td>\n",
       "    </tr>\n",
       "  </tbody>\n",
       "</table>\n",
       "</div>"
      ],
      "text/plain": [
       "       site_area       fsi       gsi       mxi  build_floor_area  \\\n",
       "0  202399.732193  0.062008  0.030930  0.000000      12550.416350   \n",
       "1  201529.493481  0.202340  0.090030  0.000000      40777.554163   \n",
       "2  164663.859830  0.151737  0.091165  0.000000      24985.657278   \n",
       "3  161571.832511  0.449142  0.139053  0.404539      72568.711901   \n",
       "4      16.489152  0.079224  0.019164  0.000000          1.306344   \n",
       "\n",
       "   footprint_area   living_area  non_living_area  population  \n",
       "0     6260.321243      0.000000     12550.416350         0.0  \n",
       "1    18143.767788      0.000000     40777.554163         0.0  \n",
       "2    15011.641911      0.000000     24985.657278         0.0  \n",
       "3    22467.055572  29356.894977     43211.816923      1467.0  \n",
       "4        0.316006      0.000000         1.306344         0.0  "
      ]
     },
     "execution_count": 7,
     "metadata": {},
     "output_type": "execute_result"
    }
   ],
   "source": [
    "development_df['population'] = development_df['living_area'] // 20\n",
    "development_df.head()"
   ]
  },
  {
   "cell_type": "markdown",
   "metadata": {},
   "source": [
    "### Заполняем результаты предсказания в оригинальный `GeoDataFrame`"
   ]
  },
  {
   "cell_type": "code",
   "execution_count": 8,
   "metadata": {},
   "outputs": [],
   "source": [
    "mask = blocks['is_project']\n",
    "columns = ['build_floor_area', 'footprint_area', 'living_area', 'non_living_area', 'population']\n",
    "blocks.loc[mask, columns] = development_df.loc[mask, columns]"
   ]
  },
  {
   "cell_type": "markdown",
   "metadata": {},
   "source": [
    "## Предсказание СЭР"
   ]
  },
  {
   "cell_type": "markdown",
   "metadata": {},
   "source": [
    "Немного преобразуем данные"
   ]
  },
  {
   "cell_type": "code",
   "execution_count": 9,
   "metadata": {},
   "outputs": [],
   "source": [
    "from blocksnet.enums import LandUse\n",
    "\n",
    "# переводим доли ЛУ в площади ЛУ\n",
    "for lu in LandUse:\n",
    "    blocks[lu.value] = blocks[lu.value] * blocks['site_area'] \n",
    "\n",
    "# суммируем всё строки\n",
    "data = [blocks.drop(columns=['land_use', 'geometry']).sum().to_dict()]\n",
    "input = pd.DataFrame(data)\n",
    "\n",
    "# добавляем координаты центра\n",
    "input['latitude'] = blocks.geometry.union_all().centroid.x\n",
    "input['longitude'] = blocks.geometry.union_all().centroid.y\n",
    "\n",
    "#переименуем count_buildings\n",
    "input['buildings_count'] = input['count_buildings']"
   ]
  },
  {
   "cell_type": "markdown",
   "metadata": {},
   "source": [
    "Предсказываем"
   ]
  },
  {
   "cell_type": "code",
   "execution_count": 10,
   "metadata": {},
   "outputs": [],
   "source": [
    "from blocksnet.machine_learning.regression import SocialRegressor\n",
    "\n",
    "sr = SocialRegressor()\n",
    "y_pred, pi_lower, pi_upper = sr.evaluate(input)"
   ]
  },
  {
   "cell_type": "markdown",
   "metadata": {},
   "source": [
    "## Результат"
   ]
  },
  {
   "cell_type": "code",
   "execution_count": 11,
   "metadata": {},
   "outputs": [],
   "source": [
    "iloc = 0\n",
    "result_data = {\n",
    "    'pred': y_pred.apply(round).astype(int).iloc[iloc].to_dict(),\n",
    "    'lower': pi_lower.iloc[iloc].to_dict(),\n",
    "    'upper': pi_upper.iloc[iloc].to_dict(),\n",
    "}\n",
    "result_df = pd.DataFrame.from_dict(result_data)\n",
    "result_df['is_interval'] = (result_df['pred'] <= result_df['upper']) & (result_df['pred'] >= result_df['lower'])"
   ]
  },
  {
   "cell_type": "code",
   "execution_count": 12,
   "metadata": {},
   "outputs": [
    {
     "data": {
      "application/vnd.microsoft.datawrangler.viewer.v0+json": {
       "columns": [
        {
         "name": "index",
         "rawType": "object",
         "type": "string"
        },
        {
         "name": "pred",
         "rawType": "int64",
         "type": "integer"
        },
        {
         "name": "lower",
         "rawType": "float64",
         "type": "float"
        },
        {
         "name": "upper",
         "rawType": "float64",
         "type": "float"
        },
        {
         "name": "is_interval",
         "rawType": "bool",
         "type": "boolean"
        }
       ],
       "ref": "12df77d9-0de6-43bc-978a-60f091696fb3",
       "rows": [
        [
         "nursing_home_count",
         "1",
         "0.0",
         "0.40002656139888765",
         "False"
        ],
        [
         "hotel_count",
         "45",
         "0.0",
         "66.67096836929696",
         "True"
        ],
        [
         "theatre_count",
         "5",
         "0.0",
         "5.484691200453753",
         "True"
        ],
        [
         "cinema_count",
         "1",
         "0.0",
         "1.5901696660237696",
         "True"
        ],
        [
         "secondary_vocational_education_institutions_count",
         "8",
         "0.0",
         "6.643087026354491",
         "False"
        ],
        [
         "university_count",
         "2",
         "0.0",
         "8.539937591818129",
         "True"
        ],
        [
         "stadium_count",
         "2",
         "0.0",
         "6.275496627053221",
         "True"
        ],
        [
         "emergency_medical_service_stations_count",
         "2",
         "0.0",
         "1.2535545324754913",
         "False"
        ],
        [
         "kindergarten_count",
         "23",
         "0.0",
         "23.841917018215643",
         "True"
        ],
        [
         "hostel_count",
         "35",
         "0.0",
         "18.957263162059206",
         "False"
        ],
        [
         "park_count",
         "21",
         "0.0",
         "27.75071894860019",
         "True"
        ],
        [
         "multifunctional_center_count",
         "-1",
         "0.0",
         "7.148813959329968",
         "False"
        ],
        [
         "pharmacy_count",
         "37",
         "0.0",
         "17.62311116909416",
         "False"
        ],
        [
         "sports_halls_count",
         "0",
         "0.0",
         "0.8832576344168033",
         "True"
        ],
        [
         "hospital_count",
         "8",
         "0.0",
         "8.69098745955094",
         "True"
        ],
        [
         "school_count",
         "21",
         "0.0",
         "33.448760261139675",
         "True"
        ],
        [
         "mall_count",
         "7",
         "0.0",
         "24.219293748401633",
         "True"
        ],
        [
         "polyclinic_count",
         "6",
         "0.0",
         "8.122099534949108",
         "True"
        ],
        [
         "post_count",
         "3",
         "0.0",
         "5.921308776695036",
         "True"
        ],
        [
         "swimming_pool_count",
         "34",
         "0.0",
         "50.764187147317536",
         "True"
        ],
        [
         "library_count",
         "1",
         "0.0",
         "3.2533755772623234",
         "True"
        ],
        [
         "guest_house_count",
         "2",
         "0.0",
         "14.356791911606713",
         "True"
        ],
        [
         "fire_safety_facilities_count",
         "9",
         "0.0",
         "12.414700655879662",
         "True"
        ],
        [
         "restaurant_count",
         "16",
         "0.0",
         "17.963010484241273",
         "True"
        ],
        [
         "police_count",
         "7",
         "0.0",
         "6.360039943777569",
         "False"
        ],
        [
         "museum_count",
         "2",
         "0.0",
         "5.4422846991124425",
         "True"
        ],
        [
         "bank_count",
         "1",
         "0.0",
         "5.044444107249053",
         "True"
        ],
        [
         "pitch_count",
         "60",
         "0.0",
         "89.90799050029679",
         "True"
        ]
       ],
       "shape": {
        "columns": 4,
        "rows": 28
       }
      },
      "text/html": [
       "<div>\n",
       "<style scoped>\n",
       "    .dataframe tbody tr th:only-of-type {\n",
       "        vertical-align: middle;\n",
       "    }\n",
       "\n",
       "    .dataframe tbody tr th {\n",
       "        vertical-align: top;\n",
       "    }\n",
       "\n",
       "    .dataframe thead th {\n",
       "        text-align: right;\n",
       "    }\n",
       "</style>\n",
       "<table border=\"1\" class=\"dataframe\">\n",
       "  <thead>\n",
       "    <tr style=\"text-align: right;\">\n",
       "      <th></th>\n",
       "      <th>pred</th>\n",
       "      <th>lower</th>\n",
       "      <th>upper</th>\n",
       "      <th>is_interval</th>\n",
       "    </tr>\n",
       "  </thead>\n",
       "  <tbody>\n",
       "    <tr>\n",
       "      <th>nursing_home_count</th>\n",
       "      <td>1</td>\n",
       "      <td>0.0</td>\n",
       "      <td>0.400027</td>\n",
       "      <td>False</td>\n",
       "    </tr>\n",
       "    <tr>\n",
       "      <th>hotel_count</th>\n",
       "      <td>45</td>\n",
       "      <td>0.0</td>\n",
       "      <td>66.670968</td>\n",
       "      <td>True</td>\n",
       "    </tr>\n",
       "    <tr>\n",
       "      <th>theatre_count</th>\n",
       "      <td>5</td>\n",
       "      <td>0.0</td>\n",
       "      <td>5.484691</td>\n",
       "      <td>True</td>\n",
       "    </tr>\n",
       "    <tr>\n",
       "      <th>cinema_count</th>\n",
       "      <td>1</td>\n",
       "      <td>0.0</td>\n",
       "      <td>1.590170</td>\n",
       "      <td>True</td>\n",
       "    </tr>\n",
       "    <tr>\n",
       "      <th>secondary_vocational_education_institutions_count</th>\n",
       "      <td>8</td>\n",
       "      <td>0.0</td>\n",
       "      <td>6.643087</td>\n",
       "      <td>False</td>\n",
       "    </tr>\n",
       "    <tr>\n",
       "      <th>university_count</th>\n",
       "      <td>2</td>\n",
       "      <td>0.0</td>\n",
       "      <td>8.539938</td>\n",
       "      <td>True</td>\n",
       "    </tr>\n",
       "    <tr>\n",
       "      <th>stadium_count</th>\n",
       "      <td>2</td>\n",
       "      <td>0.0</td>\n",
       "      <td>6.275497</td>\n",
       "      <td>True</td>\n",
       "    </tr>\n",
       "    <tr>\n",
       "      <th>emergency_medical_service_stations_count</th>\n",
       "      <td>2</td>\n",
       "      <td>0.0</td>\n",
       "      <td>1.253555</td>\n",
       "      <td>False</td>\n",
       "    </tr>\n",
       "    <tr>\n",
       "      <th>kindergarten_count</th>\n",
       "      <td>23</td>\n",
       "      <td>0.0</td>\n",
       "      <td>23.841917</td>\n",
       "      <td>True</td>\n",
       "    </tr>\n",
       "    <tr>\n",
       "      <th>hostel_count</th>\n",
       "      <td>35</td>\n",
       "      <td>0.0</td>\n",
       "      <td>18.957263</td>\n",
       "      <td>False</td>\n",
       "    </tr>\n",
       "    <tr>\n",
       "      <th>park_count</th>\n",
       "      <td>21</td>\n",
       "      <td>0.0</td>\n",
       "      <td>27.750719</td>\n",
       "      <td>True</td>\n",
       "    </tr>\n",
       "    <tr>\n",
       "      <th>multifunctional_center_count</th>\n",
       "      <td>-1</td>\n",
       "      <td>0.0</td>\n",
       "      <td>7.148814</td>\n",
       "      <td>False</td>\n",
       "    </tr>\n",
       "    <tr>\n",
       "      <th>pharmacy_count</th>\n",
       "      <td>37</td>\n",
       "      <td>0.0</td>\n",
       "      <td>17.623111</td>\n",
       "      <td>False</td>\n",
       "    </tr>\n",
       "    <tr>\n",
       "      <th>sports_halls_count</th>\n",
       "      <td>0</td>\n",
       "      <td>0.0</td>\n",
       "      <td>0.883258</td>\n",
       "      <td>True</td>\n",
       "    </tr>\n",
       "    <tr>\n",
       "      <th>hospital_count</th>\n",
       "      <td>8</td>\n",
       "      <td>0.0</td>\n",
       "      <td>8.690987</td>\n",
       "      <td>True</td>\n",
       "    </tr>\n",
       "    <tr>\n",
       "      <th>school_count</th>\n",
       "      <td>21</td>\n",
       "      <td>0.0</td>\n",
       "      <td>33.448760</td>\n",
       "      <td>True</td>\n",
       "    </tr>\n",
       "    <tr>\n",
       "      <th>mall_count</th>\n",
       "      <td>7</td>\n",
       "      <td>0.0</td>\n",
       "      <td>24.219294</td>\n",
       "      <td>True</td>\n",
       "    </tr>\n",
       "    <tr>\n",
       "      <th>polyclinic_count</th>\n",
       "      <td>6</td>\n",
       "      <td>0.0</td>\n",
       "      <td>8.122100</td>\n",
       "      <td>True</td>\n",
       "    </tr>\n",
       "    <tr>\n",
       "      <th>post_count</th>\n",
       "      <td>3</td>\n",
       "      <td>0.0</td>\n",
       "      <td>5.921309</td>\n",
       "      <td>True</td>\n",
       "    </tr>\n",
       "    <tr>\n",
       "      <th>swimming_pool_count</th>\n",
       "      <td>34</td>\n",
       "      <td>0.0</td>\n",
       "      <td>50.764187</td>\n",
       "      <td>True</td>\n",
       "    </tr>\n",
       "    <tr>\n",
       "      <th>library_count</th>\n",
       "      <td>1</td>\n",
       "      <td>0.0</td>\n",
       "      <td>3.253376</td>\n",
       "      <td>True</td>\n",
       "    </tr>\n",
       "    <tr>\n",
       "      <th>guest_house_count</th>\n",
       "      <td>2</td>\n",
       "      <td>0.0</td>\n",
       "      <td>14.356792</td>\n",
       "      <td>True</td>\n",
       "    </tr>\n",
       "    <tr>\n",
       "      <th>fire_safety_facilities_count</th>\n",
       "      <td>9</td>\n",
       "      <td>0.0</td>\n",
       "      <td>12.414701</td>\n",
       "      <td>True</td>\n",
       "    </tr>\n",
       "    <tr>\n",
       "      <th>restaurant_count</th>\n",
       "      <td>16</td>\n",
       "      <td>0.0</td>\n",
       "      <td>17.963010</td>\n",
       "      <td>True</td>\n",
       "    </tr>\n",
       "    <tr>\n",
       "      <th>police_count</th>\n",
       "      <td>7</td>\n",
       "      <td>0.0</td>\n",
       "      <td>6.360040</td>\n",
       "      <td>False</td>\n",
       "    </tr>\n",
       "    <tr>\n",
       "      <th>museum_count</th>\n",
       "      <td>2</td>\n",
       "      <td>0.0</td>\n",
       "      <td>5.442285</td>\n",
       "      <td>True</td>\n",
       "    </tr>\n",
       "    <tr>\n",
       "      <th>bank_count</th>\n",
       "      <td>1</td>\n",
       "      <td>0.0</td>\n",
       "      <td>5.044444</td>\n",
       "      <td>True</td>\n",
       "    </tr>\n",
       "    <tr>\n",
       "      <th>pitch_count</th>\n",
       "      <td>60</td>\n",
       "      <td>0.0</td>\n",
       "      <td>89.907991</td>\n",
       "      <td>True</td>\n",
       "    </tr>\n",
       "  </tbody>\n",
       "</table>\n",
       "</div>"
      ],
      "text/plain": [
       "                                                   pred  lower      upper  \\\n",
       "nursing_home_count                                    1    0.0   0.400027   \n",
       "hotel_count                                          45    0.0  66.670968   \n",
       "theatre_count                                         5    0.0   5.484691   \n",
       "cinema_count                                          1    0.0   1.590170   \n",
       "secondary_vocational_education_institutions_count     8    0.0   6.643087   \n",
       "university_count                                      2    0.0   8.539938   \n",
       "stadium_count                                         2    0.0   6.275497   \n",
       "emergency_medical_service_stations_count              2    0.0   1.253555   \n",
       "kindergarten_count                                   23    0.0  23.841917   \n",
       "hostel_count                                         35    0.0  18.957263   \n",
       "park_count                                           21    0.0  27.750719   \n",
       "multifunctional_center_count                         -1    0.0   7.148814   \n",
       "pharmacy_count                                       37    0.0  17.623111   \n",
       "sports_halls_count                                    0    0.0   0.883258   \n",
       "hospital_count                                        8    0.0   8.690987   \n",
       "school_count                                         21    0.0  33.448760   \n",
       "mall_count                                            7    0.0  24.219294   \n",
       "polyclinic_count                                      6    0.0   8.122100   \n",
       "post_count                                            3    0.0   5.921309   \n",
       "swimming_pool_count                                  34    0.0  50.764187   \n",
       "library_count                                         1    0.0   3.253376   \n",
       "guest_house_count                                     2    0.0  14.356792   \n",
       "fire_safety_facilities_count                          9    0.0  12.414701   \n",
       "restaurant_count                                     16    0.0  17.963010   \n",
       "police_count                                          7    0.0   6.360040   \n",
       "museum_count                                          2    0.0   5.442285   \n",
       "bank_count                                            1    0.0   5.044444   \n",
       "pitch_count                                          60    0.0  89.907991   \n",
       "\n",
       "                                                   is_interval  \n",
       "nursing_home_count                                       False  \n",
       "hotel_count                                               True  \n",
       "theatre_count                                             True  \n",
       "cinema_count                                              True  \n",
       "secondary_vocational_education_institutions_count        False  \n",
       "university_count                                          True  \n",
       "stadium_count                                             True  \n",
       "emergency_medical_service_stations_count                 False  \n",
       "kindergarten_count                                        True  \n",
       "hostel_count                                             False  \n",
       "park_count                                                True  \n",
       "multifunctional_center_count                             False  \n",
       "pharmacy_count                                           False  \n",
       "sports_halls_count                                        True  \n",
       "hospital_count                                            True  \n",
       "school_count                                              True  \n",
       "mall_count                                                True  \n",
       "polyclinic_count                                          True  \n",
       "post_count                                                True  \n",
       "swimming_pool_count                                       True  \n",
       "library_count                                             True  \n",
       "guest_house_count                                         True  \n",
       "fire_safety_facilities_count                              True  \n",
       "restaurant_count                                          True  \n",
       "police_count                                             False  \n",
       "museum_count                                              True  \n",
       "bank_count                                                True  \n",
       "pitch_count                                               True  "
      ]
     },
     "execution_count": 12,
     "metadata": {},
     "output_type": "execute_result"
    }
   ],
   "source": [
    "result_df"
   ]
  }
 ],
 "metadata": {
  "kernelspec": {
   "display_name": ".venv",
   "language": "python",
   "name": "python3"
  },
  "language_info": {
   "codemirror_mode": {
    "name": "ipython",
    "version": 3
   },
   "file_extension": ".py",
   "mimetype": "text/x-python",
   "name": "python",
   "nbconvert_exporter": "python",
   "pygments_lexer": "ipython3",
   "version": "3.10.12"
  }
 },
 "nbformat": 4,
 "nbformat_minor": 2
}
