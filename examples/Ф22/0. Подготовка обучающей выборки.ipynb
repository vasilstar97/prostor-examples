{
 "cells": [
  {
   "cell_type": "markdown",
   "id": "7e1fc68f",
   "metadata": {},
   "source": [
    "# Подготовка обучающей выборки\n",
    "\n",
    "- Этап необходим для обучения модели предсказания СЭР `blocksnet.machine_learning.regression.social`. \n",
    "- Может быть пропущен, если модель уже обучена."
   ]
  },
  {
   "cell_type": "markdown",
   "id": "c425fcbb",
   "metadata": {},
   "source": [
    "## 1. Получение данных о муниципальных образованиях\n",
    "\n",
    "Для получения данных используется обертка `prostor.fetchers`, реализующая интерфейс над эндпоинтами `UrbanAPI`."
   ]
  },
  {
   "cell_type": "code",
   "execution_count": 1,
   "id": "49160b78",
   "metadata": {},
   "outputs": [],
   "source": [
    "from prostor import fetchers\n",
    "from blocksnet.config import log_config\n",
    "import pandas as pd\n",
    "import geopandas as gpd\n",
    "from tqdm import tqdm\n",
    "\n",
    "log_config.set_logger_level('ERROR')"
   ]
  },
  {
   "cell_type": "markdown",
   "id": "ba080927",
   "metadata": {},
   "source": [
    "### 1.1. Получение данных о регионах платформы"
   ]
  },
  {
   "cell_type": "markdown",
   "id": "7ba71c09",
   "metadata": {},
   "source": [
    "### 1.2. Вспомогательный код"
   ]
  },
  {
   "cell_type": "markdown",
   "id": "b5f6305b",
   "metadata": {},
   "source": [
    "Получение регионов. Будет использоваться внутри некоторых функций."
   ]
  },
  {
   "cell_type": "code",
   "execution_count": 2,
   "id": "0d6c684a",
   "metadata": {},
   "outputs": [
    {
     "data": {
      "application/vnd.microsoft.datawrangler.viewer.v0+json": {
       "columns": [
        {
         "name": "territory_id",
         "rawType": "int64",
         "type": "integer"
        },
        {
         "name": "territory_type",
         "rawType": "object",
         "type": "unknown"
        },
        {
         "name": "parent",
         "rawType": "object",
         "type": "unknown"
        },
        {
         "name": "name",
         "rawType": "object",
         "type": "string"
        },
        {
         "name": "level",
         "rawType": "int64",
         "type": "integer"
        },
        {
         "name": "properties",
         "rawType": "object",
         "type": "unknown"
        },
        {
         "name": "admin_center",
         "rawType": "object",
         "type": "unknown"
        },
        {
         "name": "target_city_type",
         "rawType": "object",
         "type": "unknown"
        },
        {
         "name": "okato_code",
         "rawType": "object",
         "type": "string"
        },
        {
         "name": "oktmo_code",
         "rawType": "object",
         "type": "unknown"
        },
        {
         "name": "is_city",
         "rawType": "bool",
         "type": "boolean"
        },
        {
         "name": "created_at",
         "rawType": "object",
         "type": "string"
        },
        {
         "name": "updated_at",
         "rawType": "object",
         "type": "string"
        }
       ],
       "ref": "4b16e1a4-b41c-4454-b917-9de708799cb4",
       "rows": [
        [
         "1",
         "{'id': 1, 'name': 'Субъект Федерации'}",
         "{'id': 12639, 'name': 'Россия'}",
         "Ленинградская область",
         "2",
         "{'Малые города': 15, 'Крупные города': 0, 'Вузы, количество': 15, 'Численность населения': 2023767, 'Административный центр': 'Гатчина', 'Вузы, количество объектов': 15, 'ООПТ, количество объектов': 54, 'Площадь территории, кв. км': 83908, 'Населённые пункты, количество': 2941, 'Международные аэропорты, количество': 0, 'Предприятия промышленности, количество': 3736, 'Моногорода, наукограды, исторические поселения': 7, 'Средняя максимальная температура воздуха наиболее теплого месяца, градусов Цельсия': 22.1, 'Средняя скорость ветра за период со средней суточной температурой воздуха, метров в секунду': 2.4}",
         "{'id': 2082, 'name': 'город Гатчина'}",
         null,
         "41000000000",
         null,
         "False",
         "2024-06-16T21:35:40.801621Z",
         "2024-06-16T21:35:40.801621Z"
        ],
        [
         "3138",
         "{'id': 17, 'name': 'Город федерального значения'}",
         "{'id': 12639, 'name': 'Россия'}",
         "Санкт-Петербург",
         "2",
         "{'Малые города': 10, 'Крупные города': 0, 'Численность населения': 5600044, 'Вузы, количество объектов': 79, 'ООПТ, количество объектов': 3, 'Площадь территории, кв. км': 2284, 'Населённые пункты, количество': 111, 'Международные аэропорты, количество': 1, 'Моногорода, наукограды, исторические поселения': 8}",
         "{'id': 192713, 'name': 'город Санкт-Петербург'}",
         "{'id': 15, 'name': 'Ядро агломерации', 'description': 'Является ядром городской агломерации (численность населения города свыше 250 тыс. чел.)'}",
         "40000000000",
         null,
         "False",
         "2024-06-16T21:35:40.801621Z",
         "2025-05-07T12:13:57.865728Z"
        ],
        [
         "3268",
         "{'id': 17, 'name': 'Город федерального значения'}",
         "{'id': 12639, 'name': 'Россия'}",
         "Москва",
         "2",
         "{'Малые города': 16, 'Крупные города': 1, 'Численность населения': 13104177, 'Вузы, количество объектов': 203, 'ООПТ, количество объектов': 1, 'Площадь территории, кв. км': 2561, 'Населённые пункты, количество': 6, 'Международные аэропорты, количество': 1, 'Моногорода, наукограды, исторические поселения': 2}",
         "{'id': 192712, 'name': 'город Москва'}",
         "{'id': 15, 'name': 'Ядро агломерации', 'description': 'Является ядром городской агломерации (численность населения города свыше 250 тыс. чел.)'}",
         "45000000000",
         null,
         "False",
         "2024-06-16T21:35:40.801621Z",
         "2025-05-07T12:12:56.457146Z"
        ],
        [
         "3427",
         "{'id': 1, 'name': 'Субъект Федерации'}",
         "{'id': 12639, 'name': 'Россия'}",
         "Волгоградская область",
         "2",
         "{'Малые города': 32, 'Крупные города': 1, 'Вузы, количество ': 33, 'Численность населения': 3339524, 'Административный центр': 'Волгоград', 'Вузы, количество объектов': 33, 'ООПТ, количество объектов': 8, 'Площадь территории, кв. км': 113198, 'Населённые пункты, количество': 1494, 'Международные аэропорты, количество': 1, 'Моногорода, наукограды, исторические поселения': 9}",
         "{'id': 46184, 'name': 'город Волгоград'}",
         null,
         "18000000000",
         null,
         "False",
         "2024-06-16T21:35:40.801621Z",
         "2025-05-06T10:59:35.368223Z"
        ],
        [
         "3902",
         "{'id': 1, 'name': 'Субъект Федерации'}",
         "{'id': 12639, 'name': 'Россия'}",
         "Тульская область",
         "2",
         "{'Малые города': 20, 'Крупные города': 1, 'Вузы, количество ': 19, 'Численность населения': 1481471, 'Административный центр': 'Тула', 'Вузы, количество объектов': 19, 'ООПТ, количество объектов': 3, 'Площадь территории, кв. км': 26005, 'Населённые пункты, количество': 30, 'Международные аэропорты, количество': 0, 'Моногорода, наукограды, исторические поселения': 15}",
         "{'id': 121476, 'name': 'город Тула'}",
         null,
         "70000000000",
         null,
         "False",
         "2024-06-16T21:35:40.801621Z",
         "2025-05-06T11:01:34.290377Z"
        ]
       ],
       "shape": {
        "columns": 12,
        "rows": 5
       }
      },
      "text/html": [
       "<div>\n",
       "<style scoped>\n",
       "    .dataframe tbody tr th:only-of-type {\n",
       "        vertical-align: middle;\n",
       "    }\n",
       "\n",
       "    .dataframe tbody tr th {\n",
       "        vertical-align: top;\n",
       "    }\n",
       "\n",
       "    .dataframe thead th {\n",
       "        text-align: right;\n",
       "    }\n",
       "</style>\n",
       "<table border=\"1\" class=\"dataframe\">\n",
       "  <thead>\n",
       "    <tr style=\"text-align: right;\">\n",
       "      <th></th>\n",
       "      <th>territory_type</th>\n",
       "      <th>parent</th>\n",
       "      <th>name</th>\n",
       "      <th>level</th>\n",
       "      <th>properties</th>\n",
       "      <th>admin_center</th>\n",
       "      <th>target_city_type</th>\n",
       "      <th>okato_code</th>\n",
       "      <th>oktmo_code</th>\n",
       "      <th>is_city</th>\n",
       "      <th>created_at</th>\n",
       "      <th>updated_at</th>\n",
       "    </tr>\n",
       "    <tr>\n",
       "      <th>territory_id</th>\n",
       "      <th></th>\n",
       "      <th></th>\n",
       "      <th></th>\n",
       "      <th></th>\n",
       "      <th></th>\n",
       "      <th></th>\n",
       "      <th></th>\n",
       "      <th></th>\n",
       "      <th></th>\n",
       "      <th></th>\n",
       "      <th></th>\n",
       "      <th></th>\n",
       "    </tr>\n",
       "  </thead>\n",
       "  <tbody>\n",
       "    <tr>\n",
       "      <th>1</th>\n",
       "      <td>{'id': 1, 'name': 'Субъект Федерации'}</td>\n",
       "      <td>{'id': 12639, 'name': 'Россия'}</td>\n",
       "      <td>Ленинградская область</td>\n",
       "      <td>2</td>\n",
       "      <td>{'Малые города': 15, 'Крупные города': 0, 'Вуз...</td>\n",
       "      <td>{'id': 2082, 'name': 'город Гатчина'}</td>\n",
       "      <td>None</td>\n",
       "      <td>41000000000</td>\n",
       "      <td>None</td>\n",
       "      <td>False</td>\n",
       "      <td>2024-06-16T21:35:40.801621Z</td>\n",
       "      <td>2024-06-16T21:35:40.801621Z</td>\n",
       "    </tr>\n",
       "    <tr>\n",
       "      <th>3138</th>\n",
       "      <td>{'id': 17, 'name': 'Город федерального значения'}</td>\n",
       "      <td>{'id': 12639, 'name': 'Россия'}</td>\n",
       "      <td>Санкт-Петербург</td>\n",
       "      <td>2</td>\n",
       "      <td>{'Малые города': 10, 'Крупные города': 0, 'Чис...</td>\n",
       "      <td>{'id': 192713, 'name': 'город Санкт-Петербург'}</td>\n",
       "      <td>{'id': 15, 'name': 'Ядро агломерации', 'descri...</td>\n",
       "      <td>40000000000</td>\n",
       "      <td>None</td>\n",
       "      <td>False</td>\n",
       "      <td>2024-06-16T21:35:40.801621Z</td>\n",
       "      <td>2025-05-07T12:13:57.865728Z</td>\n",
       "    </tr>\n",
       "    <tr>\n",
       "      <th>3268</th>\n",
       "      <td>{'id': 17, 'name': 'Город федерального значения'}</td>\n",
       "      <td>{'id': 12639, 'name': 'Россия'}</td>\n",
       "      <td>Москва</td>\n",
       "      <td>2</td>\n",
       "      <td>{'Малые города': 16, 'Крупные города': 1, 'Чис...</td>\n",
       "      <td>{'id': 192712, 'name': 'город Москва'}</td>\n",
       "      <td>{'id': 15, 'name': 'Ядро агломерации', 'descri...</td>\n",
       "      <td>45000000000</td>\n",
       "      <td>None</td>\n",
       "      <td>False</td>\n",
       "      <td>2024-06-16T21:35:40.801621Z</td>\n",
       "      <td>2025-05-07T12:12:56.457146Z</td>\n",
       "    </tr>\n",
       "    <tr>\n",
       "      <th>3427</th>\n",
       "      <td>{'id': 1, 'name': 'Субъект Федерации'}</td>\n",
       "      <td>{'id': 12639, 'name': 'Россия'}</td>\n",
       "      <td>Волгоградская область</td>\n",
       "      <td>2</td>\n",
       "      <td>{'Малые города': 32, 'Крупные города': 1, 'Вуз...</td>\n",
       "      <td>{'id': 46184, 'name': 'город Волгоград'}</td>\n",
       "      <td>None</td>\n",
       "      <td>18000000000</td>\n",
       "      <td>None</td>\n",
       "      <td>False</td>\n",
       "      <td>2024-06-16T21:35:40.801621Z</td>\n",
       "      <td>2025-05-06T10:59:35.368223Z</td>\n",
       "    </tr>\n",
       "    <tr>\n",
       "      <th>3902</th>\n",
       "      <td>{'id': 1, 'name': 'Субъект Федерации'}</td>\n",
       "      <td>{'id': 12639, 'name': 'Россия'}</td>\n",
       "      <td>Тульская область</td>\n",
       "      <td>2</td>\n",
       "      <td>{'Малые города': 20, 'Крупные города': 1, 'Вуз...</td>\n",
       "      <td>{'id': 121476, 'name': 'город Тула'}</td>\n",
       "      <td>None</td>\n",
       "      <td>70000000000</td>\n",
       "      <td>None</td>\n",
       "      <td>False</td>\n",
       "      <td>2024-06-16T21:35:40.801621Z</td>\n",
       "      <td>2025-05-06T11:01:34.290377Z</td>\n",
       "    </tr>\n",
       "  </tbody>\n",
       "</table>\n",
       "</div>"
      ],
      "text/plain": [
       "                                                 territory_type  \\\n",
       "territory_id                                                      \n",
       "1                        {'id': 1, 'name': 'Субъект Федерации'}   \n",
       "3138          {'id': 17, 'name': 'Город федерального значения'}   \n",
       "3268          {'id': 17, 'name': 'Город федерального значения'}   \n",
       "3427                     {'id': 1, 'name': 'Субъект Федерации'}   \n",
       "3902                     {'id': 1, 'name': 'Субъект Федерации'}   \n",
       "\n",
       "                                       parent                   name  level  \\\n",
       "territory_id                                                                  \n",
       "1             {'id': 12639, 'name': 'Россия'}  Ленинградская область      2   \n",
       "3138          {'id': 12639, 'name': 'Россия'}        Санкт-Петербург      2   \n",
       "3268          {'id': 12639, 'name': 'Россия'}                 Москва      2   \n",
       "3427          {'id': 12639, 'name': 'Россия'}  Волгоградская область      2   \n",
       "3902          {'id': 12639, 'name': 'Россия'}       Тульская область      2   \n",
       "\n",
       "                                                     properties  \\\n",
       "territory_id                                                      \n",
       "1             {'Малые города': 15, 'Крупные города': 0, 'Вуз...   \n",
       "3138          {'Малые города': 10, 'Крупные города': 0, 'Чис...   \n",
       "3268          {'Малые города': 16, 'Крупные города': 1, 'Чис...   \n",
       "3427          {'Малые города': 32, 'Крупные города': 1, 'Вуз...   \n",
       "3902          {'Малые города': 20, 'Крупные города': 1, 'Вуз...   \n",
       "\n",
       "                                                 admin_center  \\\n",
       "territory_id                                                    \n",
       "1                       {'id': 2082, 'name': 'город Гатчина'}   \n",
       "3138          {'id': 192713, 'name': 'город Санкт-Петербург'}   \n",
       "3268                   {'id': 192712, 'name': 'город Москва'}   \n",
       "3427                 {'id': 46184, 'name': 'город Волгоград'}   \n",
       "3902                     {'id': 121476, 'name': 'город Тула'}   \n",
       "\n",
       "                                               target_city_type   okato_code  \\\n",
       "territory_id                                                                   \n",
       "1                                                          None  41000000000   \n",
       "3138          {'id': 15, 'name': 'Ядро агломерации', 'descri...  40000000000   \n",
       "3268          {'id': 15, 'name': 'Ядро агломерации', 'descri...  45000000000   \n",
       "3427                                                       None  18000000000   \n",
       "3902                                                       None  70000000000   \n",
       "\n",
       "             oktmo_code  is_city                   created_at  \\\n",
       "territory_id                                                    \n",
       "1                  None    False  2024-06-16T21:35:40.801621Z   \n",
       "3138               None    False  2024-06-16T21:35:40.801621Z   \n",
       "3268               None    False  2024-06-16T21:35:40.801621Z   \n",
       "3427               None    False  2024-06-16T21:35:40.801621Z   \n",
       "3902               None    False  2024-06-16T21:35:40.801621Z   \n",
       "\n",
       "                               updated_at  \n",
       "territory_id                               \n",
       "1             2024-06-16T21:35:40.801621Z  \n",
       "3138          2025-05-07T12:13:57.865728Z  \n",
       "3268          2025-05-07T12:12:56.457146Z  \n",
       "3427          2025-05-06T10:59:35.368223Z  \n",
       "3902          2025-05-06T11:01:34.290377Z  "
      ]
     },
     "execution_count": 2,
     "metadata": {},
     "output_type": "execute_result"
    }
   ],
   "source": [
    "regions_df = fetchers.get_regions()\n",
    "regions_df.head()"
   ]
  },
  {
   "cell_type": "markdown",
   "id": "4fafc505",
   "metadata": {},
   "source": [
    "Получение МО выбранного субъекта."
   ]
  },
  {
   "cell_type": "code",
   "execution_count": 3,
   "id": "66693ff8",
   "metadata": {},
   "outputs": [],
   "source": [
    "def get_region_mos(region_id : int) -> pd.DataFrame | None:\n",
    "    territory_type_id = regions_df.loc[region_id, 'territory_type']['id']\n",
    "    territories = fetchers.get_territories(region_id)\n",
    "    if territory_type_id == 17: # federal city type\n",
    "        return territories[territories['territory_type'].apply(lambda tt : tt['id']) == 2] # territory type is MO\n",
    "    if territory_type_id == 1: # subject type\n",
    "        cities = territories[territories.is_city]\n",
    "        mos_ids = cities.parent.apply(lambda p : p['id']).unique()\n",
    "        return territories.loc[mos_ids]\n",
    "    return None"
   ]
  },
  {
   "cell_type": "markdown",
   "id": "b9730699",
   "metadata": {},
   "source": [
    "Получение слоя функциональных зон выбранной территории:\n",
    "\n",
    "- Получение источника функциональных зон. PZZ в данном случае приоритетнее, чем OSM, при этом выбирается наиболее свежий год.\n",
    "- Получение слоя функциональных зон.\n",
    "- Адаптация слоя в соответствие с требованиями `blocksnet`."
   ]
  },
  {
   "cell_type": "code",
   "execution_count": 4,
   "id": "c098f342",
   "metadata": {},
   "outputs": [],
   "source": [
    "from prostor.adapters import adapt_functional_zones\n",
    "\n",
    "SOURCES_PRIORITY = ['PZZ', 'OSM']\n",
    "\n",
    "def _get_functional_zones_source(territory_id : int) -> tuple[int | None, str | None]:\n",
    "    sources_df = fetchers.get_functional_zones_sources(territory_id)\n",
    "    sources = sources_df['source'].unique()\n",
    "    for source in SOURCES_PRIORITY:\n",
    "        if source in sources:\n",
    "            sources_df = sources_df[sources_df['source'] == source]\n",
    "            year = sources_df.year.max()\n",
    "            return int(year), source\n",
    "    return None, None\n",
    "\n",
    "def get_functional_zones(territory_id : int) -> gpd.GeoDataFrame:\n",
    "    year, source = _get_functional_zones_source(territory_id)\n",
    "    functional_zones = fetchers.get_functional_zones(territory_id, year, source)\n",
    "    return adapt_functional_zones(functional_zones)"
   ]
  },
  {
   "cell_type": "markdown",
   "id": "6e309a26",
   "metadata": {},
   "source": [
    "Получения слоя зданий выбранной территории:\n",
    "\n",
    "- Получение слоя зданий.\n",
    "- Адаптация слоя в соответствие с требованиями `blocksnet`.\n",
    "- Импутация недостающих значений."
   ]
  },
  {
   "cell_type": "code",
   "execution_count": 92,
   "id": "4e583f54",
   "metadata": {},
   "outputs": [],
   "source": [
    "from prostor.adapters import adapt_buildings\n",
    "from blocksnet.preprocessing.imputing import impute_buildings\n",
    "\n",
    "def get_buildings(territory_id : int):\n",
    "    buildings = fetchers.get_physical_objects(territory_id, physical_object_function_id=1)\n",
    "    buildings = adapt_buildings(buildings)\n",
    "    buildings['number_of_floors'] = pd.to_numeric(buildings['number_of_floors'], errors='coerce')\n",
    "    \n",
    "    duplicated = buildings.index.duplicated()\n",
    "    buildings = buildings.loc[~duplicated].copy()\n",
    "\n",
    "    old_crs = buildings.crs\n",
    "    new_crs = buildings.estimate_utm_crs()\n",
    "    return impute_buildings(buildings.to_crs(new_crs)).to_crs(old_crs)"
   ]
  },
  {
   "cell_type": "markdown",
   "id": "1da38313",
   "metadata": {},
   "source": [
    "### 1.3. Получение признаков и таргетов "
   ]
  },
  {
   "cell_type": "markdown",
   "id": "0fd5473c",
   "metadata": {},
   "source": [
    "Получение муниципальных образований."
   ]
  },
  {
   "cell_type": "code",
   "execution_count": 6,
   "id": "d11d5989",
   "metadata": {},
   "outputs": [
    {
     "name": "stderr",
     "output_type": "stream",
     "text": [
      "100%|██████████| 89/89 [00:20<00:00,  4.35it/s]\n"
     ]
    }
   ],
   "source": [
    "from multiprocessing import Pool\n",
    "\n",
    "mos_dfs = []\n",
    "\n",
    "def _wrapper(region_id : int):\n",
    "    return get_region_mos(region_id)\n",
    "\n",
    "with Pool(processes=16) as pool:\n",
    "    mos_dfs = list(tqdm(pool.imap_unordered(_wrapper, regions_df.index), total=len(regions_df.index)))\n",
    "\n",
    "mos_df = pd.concat(mos_dfs).sort_index()"
   ]
  },
  {
   "cell_type": "markdown",
   "id": "d9beab1a",
   "metadata": {},
   "source": [
    "Получение данных о площади и населении (признаки)"
   ]
  },
  {
   "cell_type": "code",
   "execution_count": 93,
   "id": "8697d83c",
   "metadata": {},
   "outputs": [],
   "source": [
    "import asyncio"
   ]
  },
  {
   "cell_type": "code",
   "execution_count": 94,
   "id": "e160b9ab",
   "metadata": {},
   "outputs": [],
   "source": [
    "POPULATION_INDICATOR_ID = 1\n",
    "AREA_INDICATOR_ID = 4\n",
    "METERS_IN_KILOMETER = 1_000\n",
    "\n",
    "def _get_general_indicators_values(territory_id : int) -> dict:\n",
    "    values_df = fetchers.get_indicators_values(territory_id, [POPULATION_INDICATOR_ID, AREA_INDICATOR_ID])\n",
    "    values_df['indicator_id'] = values_df['indicator'].apply(lambda i : i['indicator_id'])\n",
    "    values_df = values_df.set_index('indicator_id')\n",
    "    return {\n",
    "        'population': int(values_df.loc[POPULATION_INDICATOR_ID, 'value']),\n",
    "        'area': float(values_df.loc[AREA_INDICATOR_ID, 'value']) * METERS_IN_KILOMETER\n",
    "    }\n",
    "\n",
    "async def get_general_indicators_values(territory_id : int) -> dict:\n",
    "    return await asyncio.to_thread(_get_general_indicators_values, territory_id)"
   ]
  },
  {
   "cell_type": "markdown",
   "id": "fa7591db",
   "metadata": {},
   "source": [
    "Получение социальных индикаторов (таргеты)"
   ]
  },
  {
   "cell_type": "code",
   "execution_count": 95,
   "id": "75452606",
   "metadata": {},
   "outputs": [],
   "source": [
    "social_indicators_df = fetchers.get_indicators(308)\n",
    "\n",
    "def _get_social_indicators_values(territory_id : int) -> dict:\n",
    "    social_indicators_ids = list(social_indicators_df.index)\n",
    "    values_df = fetchers.get_indicators_values(territory_id, social_indicators_ids)\n",
    "    values_df['indicator_name'] = values_df['indicator'].apply(lambda i : i['name_full'])\n",
    "    return values_df.set_index('indicator_name')['value'].to_dict()\n",
    "\n",
    "async def get_social_indicators_values(territory_id : int) -> dict:\n",
    "    return await asyncio.to_thread(_get_social_indicators_values, territory_id)"
   ]
  },
  {
   "cell_type": "markdown",
   "id": "a3a850de",
   "metadata": {},
   "source": [
    "Получение данных о зданиях (признаки)"
   ]
  },
  {
   "cell_type": "code",
   "execution_count": 96,
   "id": "db46ea78",
   "metadata": {},
   "outputs": [],
   "source": [
    "def _get_buildings_indicators_values(territory_id : int) -> dict:\n",
    "    buildings = get_buildings(territory_id)\n",
    "    result = buildings.drop(columns=['geometry', 'number_of_floors', 'population']).sum().to_dict()\n",
    "    return {\n",
    "        **result,\n",
    "        'buildings_count': len(buildings)\n",
    "    }\n",
    "\n",
    "async def get_buildings_indicators_values(territory_id : int) -> dict:\n",
    "    return await asyncio.to_thread(_get_buildings_indicators_values, territory_id)"
   ]
  },
  {
   "cell_type": "markdown",
   "id": "2d7d5206",
   "metadata": {},
   "source": [
    "Получение данных о функциональных зонах (признаки)"
   ]
  },
  {
   "cell_type": "code",
   "execution_count": 97,
   "id": "c4c573d8",
   "metadata": {},
   "outputs": [],
   "source": [
    "from blocksnet.enums import LandUse\n",
    "\n",
    "async def get_land_use_indicators_values(territory_id : int) -> dict:\n",
    "    functional_zones, territory_geometry = await asyncio.gather(\n",
    "        asyncio.to_thread(get_functional_zones, territory_id),\n",
    "        asyncio.to_thread(fetchers.get_territory_geometry, territory_id),\n",
    "    )\n",
    "    crs = functional_zones.estimate_utm_crs()\n",
    "    functional_zones = functional_zones.to_crs(crs)\n",
    "\n",
    "    territory_gdf= gpd.GeoDataFrame(geometry=[territory_geometry], crs=4326).to_crs(crs)\n",
    "    functional_zones.geometry = functional_zones.make_valid()\n",
    "    functional_zones = functional_zones.clip(territory_gdf)\n",
    "\n",
    "    \n",
    "    functional_zones = functional_zones[~functional_zones['functional_zone'].isna()].copy()\n",
    "    functional_zones['functional_zone'] = functional_zones['functional_zone'].apply(lambda lu : lu.value)\n",
    "    functional_zones['site_area'] = functional_zones.area\n",
    "    \n",
    "    result = functional_zones.groupby('functional_zone').agg({'site_area':'sum'})['site_area'].to_dict()\n",
    "    for lu in LandUse:\n",
    "        if lu.value not in result:\n",
    "            result[lu.value] = 0.0\n",
    "    return result"
   ]
  },
  {
   "cell_type": "markdown",
   "id": "897aad91",
   "metadata": {},
   "source": [
    "## 1.4. Получение данных для обучения по всем муниципальным образованиям"
   ]
  },
  {
   "cell_type": "code",
   "execution_count": 102,
   "id": "ad3b0ab4",
   "metadata": {},
   "outputs": [],
   "source": [
    "semaphore = asyncio.Semaphore(32)\n",
    "\n",
    "async def get_data(territory_id : int) -> dict:\n",
    "    async with semaphore:\n",
    "        try:\n",
    "            general_indicators, buildings_indicators, land_use_indicators, social_indicators = await asyncio.gather(\n",
    "                # features\n",
    "                get_general_indicators_values(territory_id),\n",
    "                get_buildings_indicators_values(territory_id),\n",
    "                get_land_use_indicators_values(territory_id),\n",
    "                # targets\n",
    "                get_social_indicators_values(territory_id)\n",
    "            )\n",
    "            return territory_id, {\n",
    "                **general_indicators,\n",
    "                **buildings_indicators,\n",
    "                **land_use_indicators,\n",
    "                **social_indicators\n",
    "            }\n",
    "        except:\n",
    "            return territory_id, None"
   ]
  },
  {
   "cell_type": "code",
   "execution_count": 103,
   "id": "7c0790da",
   "metadata": {},
   "outputs": [],
   "source": [
    "from tqdm.asyncio import tqdm as tqdm_asyncio\n",
    "\n",
    "async def main(mo_ids : list[int] = []):\n",
    "    if len(mo_ids) == 0:\n",
    "        mo_ids = mos_df.index.tolist()\n",
    "    tasks = [get_data(mo_id) for mo_id in mo_ids]\n",
    "    results = await tqdm_asyncio.gather(*tasks, desc=\"Loading data\")\n",
    "    return {r[0]: r[1] for r in results}"
   ]
  },
  {
   "cell_type": "markdown",
   "id": "d809c5da",
   "metadata": {},
   "source": [
    "#### 1.4.1 First try"
   ]
  },
  {
   "cell_type": "code",
   "execution_count": null,
   "id": "8db3939c",
   "metadata": {},
   "outputs": [],
   "source": [
    "mos_data = await main()"
   ]
  },
  {
   "cell_type": "code",
   "execution_count": 54,
   "id": "b5cc5350",
   "metadata": {},
   "outputs": [],
   "source": [
    "df = pd.DataFrame.from_dict({key:data for key,data in mos_data.items() if data is not None}, orient='index')\n",
    "df.to_pickle('data.pickle')"
   ]
  },
  {
   "cell_type": "markdown",
   "id": "a0f69bec",
   "metadata": {},
   "source": [
    "#### 1.4.2 Second try"
   ]
  },
  {
   "cell_type": "code",
   "execution_count": null,
   "id": "5b54745a",
   "metadata": {},
   "outputs": [
    {
     "name": "stderr",
     "output_type": "stream",
     "text": [
      "Loading data:   1%|          | 147/12089 [01:41<1:42:15,  1.95it/s]"
     ]
    }
   ],
   "source": [
    "mos_ids = [key for key,data in mos_data.items() if data is None]\n",
    "mos_data_1 = await main(mos_ids)"
   ]
  },
  {
   "cell_type": "code",
   "execution_count": null,
   "id": "9088c70d",
   "metadata": {},
   "outputs": [],
   "source": [
    "df_1 = pd.DataFrame.from_dict({key:data for key,data in mos_data_1.items() if data is not None}, orient='index')\n",
    "df_1.to_pickle('data_1.pickle')"
   ]
  }
 ],
 "metadata": {
  "kernelspec": {
   "display_name": ".venv",
   "language": "python",
   "name": "python3"
  },
  "language_info": {
   "codemirror_mode": {
    "name": "ipython",
    "version": 3
   },
   "file_extension": ".py",
   "mimetype": "text/x-python",
   "name": "python",
   "nbconvert_exporter": "python",
   "pygments_lexer": "ipython3",
   "version": "3.10.12"
  }
 },
 "nbformat": 4,
 "nbformat_minor": 5
}
