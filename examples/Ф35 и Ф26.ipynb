{
 "cells": [
  {
   "cell_type": "markdown",
   "id": "da933d70",
   "metadata": {},
   "source": [
    "# **Ф35**: Модуль прогнозирования эффектов трансформации территории в масштабах населенного пункта и региона"
   ]
  },
  {
   "cell_type": "markdown",
   "id": "917271ae",
   "metadata": {},
   "source": [
    "## 1. Подготовка исходных данных\n",
    "\n",
    "- `service_types` -- таблица типов сервисов.\n",
    "- `blocks` -- слой городских кварталов с разной информацией.\n",
    "- `acc_mx` -- матрица доступности городских кварталов."
   ]
  },
  {
   "cell_type": "code",
   "execution_count": 1,
   "id": "d9871314",
   "metadata": {},
   "outputs": [],
   "source": [
    "import pandas as pd\n",
    "import geopandas as gpd\n",
    "from blocksnet.config import log_config\n",
    "\n",
    "log_config.set_disable_tqdm(True)\n",
    "log_config.set_logger_level('ERROR')\n",
    "\n",
    "service_types_df = pd.read_pickle('./data/service_types.pickle')\n",
    "blocks_gdf = pd.read_pickle('./data/blocks.pickle')\n",
    "acc_mx = pd.read_pickle('./data/acc_mx.pickle')"
   ]
  },
  {
   "cell_type": "code",
   "execution_count": 2,
   "id": "93b8bb15",
   "metadata": {},
   "outputs": [],
   "source": [
    "blocks_gdf['population'] = blocks_gdf['population'].fillna(0)"
   ]
  },
  {
   "cell_type": "markdown",
   "id": "09a65280",
   "metadata": {},
   "source": [
    "### 1.1. Подготовка списка сервисов\n",
    "\n",
    "Нужны только те списки сервисов, у которых есть `infrastructure_type` и у которых известно имя `blocksnet`"
   ]
  },
  {
   "cell_type": "code",
   "execution_count": 3,
   "id": "3b0ab616",
   "metadata": {},
   "outputs": [
    {
     "data": {
      "application/vnd.microsoft.datawrangler.viewer.v0+json": {
       "columns": [
        {
         "name": "service_type_id",
         "rawType": "int64",
         "type": "integer"
        },
        {
         "name": "capacity_modeled",
         "rawType": "float64",
         "type": "float"
        },
        {
         "name": "infrastructure_type",
         "rawType": "object",
         "type": "string"
        },
        {
         "name": "weight",
         "rawType": "float64",
         "type": "float"
        },
        {
         "name": "radius_availability_meters",
         "rawType": "object",
         "type": "unknown"
        },
        {
         "name": "time_availability_minutes",
         "rawType": "float64",
         "type": "float"
        },
        {
         "name": "services_per_1000_normative",
         "rawType": "float64",
         "type": "float"
        },
        {
         "name": "services_capacity_per_1000_normative",
         "rawType": "float64",
         "type": "float"
        },
        {
         "name": "soc_values_ids",
         "rawType": "object",
         "type": "unknown"
        },
        {
         "name": "blocksnet",
         "rawType": "object",
         "type": "string"
        }
       ],
       "ref": "6b37d9b4-c3c4-4fe7-a78e-034f04647e6d",
       "rows": [
        [
         "1",
         "2000.0",
         "basic",
         "0.2",
         null,
         "30.0",
         null,
         "150.0",
         "[8]",
         "park"
        ],
        [
         "5",
         null,
         "comfort",
         "0.5",
         null,
         "60.0",
         null,
         "64.0",
         null,
         "beach"
        ],
        [
         "21",
         "500.0",
         "basic",
         "0.2",
         null,
         "7.0",
         null,
         "61.0",
         "[2]",
         "kindergarten"
        ],
        [
         "22",
         "800.0",
         "basic",
         "0.2",
         null,
         "15.0",
         null,
         "120.0",
         "[2, 4]",
         "school"
        ],
        [
         "27",
         "5000.0",
         "comfort",
         "0.2",
         null,
         "60.0",
         null,
         "13.0",
         "[4, 10, 17]",
         "university"
        ]
       ],
       "shape": {
        "columns": 9,
        "rows": 5
       }
      },
      "text/html": [
       "<div>\n",
       "<style scoped>\n",
       "    .dataframe tbody tr th:only-of-type {\n",
       "        vertical-align: middle;\n",
       "    }\n",
       "\n",
       "    .dataframe tbody tr th {\n",
       "        vertical-align: top;\n",
       "    }\n",
       "\n",
       "    .dataframe thead th {\n",
       "        text-align: right;\n",
       "    }\n",
       "</style>\n",
       "<table border=\"1\" class=\"dataframe\">\n",
       "  <thead>\n",
       "    <tr style=\"text-align: right;\">\n",
       "      <th></th>\n",
       "      <th>capacity_modeled</th>\n",
       "      <th>infrastructure_type</th>\n",
       "      <th>weight</th>\n",
       "      <th>radius_availability_meters</th>\n",
       "      <th>time_availability_minutes</th>\n",
       "      <th>services_per_1000_normative</th>\n",
       "      <th>services_capacity_per_1000_normative</th>\n",
       "      <th>soc_values_ids</th>\n",
       "      <th>blocksnet</th>\n",
       "    </tr>\n",
       "    <tr>\n",
       "      <th>service_type_id</th>\n",
       "      <th></th>\n",
       "      <th></th>\n",
       "      <th></th>\n",
       "      <th></th>\n",
       "      <th></th>\n",
       "      <th></th>\n",
       "      <th></th>\n",
       "      <th></th>\n",
       "      <th></th>\n",
       "    </tr>\n",
       "  </thead>\n",
       "  <tbody>\n",
       "    <tr>\n",
       "      <th>1</th>\n",
       "      <td>2000.0</td>\n",
       "      <td>basic</td>\n",
       "      <td>0.2</td>\n",
       "      <td>None</td>\n",
       "      <td>30.0</td>\n",
       "      <td>NaN</td>\n",
       "      <td>150.0</td>\n",
       "      <td>[8]</td>\n",
       "      <td>park</td>\n",
       "    </tr>\n",
       "    <tr>\n",
       "      <th>5</th>\n",
       "      <td>NaN</td>\n",
       "      <td>comfort</td>\n",
       "      <td>0.5</td>\n",
       "      <td>None</td>\n",
       "      <td>60.0</td>\n",
       "      <td>NaN</td>\n",
       "      <td>64.0</td>\n",
       "      <td>None</td>\n",
       "      <td>beach</td>\n",
       "    </tr>\n",
       "    <tr>\n",
       "      <th>21</th>\n",
       "      <td>500.0</td>\n",
       "      <td>basic</td>\n",
       "      <td>0.2</td>\n",
       "      <td>None</td>\n",
       "      <td>7.0</td>\n",
       "      <td>NaN</td>\n",
       "      <td>61.0</td>\n",
       "      <td>[2]</td>\n",
       "      <td>kindergarten</td>\n",
       "    </tr>\n",
       "    <tr>\n",
       "      <th>22</th>\n",
       "      <td>800.0</td>\n",
       "      <td>basic</td>\n",
       "      <td>0.2</td>\n",
       "      <td>None</td>\n",
       "      <td>15.0</td>\n",
       "      <td>NaN</td>\n",
       "      <td>120.0</td>\n",
       "      <td>[2, 4]</td>\n",
       "      <td>school</td>\n",
       "    </tr>\n",
       "    <tr>\n",
       "      <th>27</th>\n",
       "      <td>5000.0</td>\n",
       "      <td>comfort</td>\n",
       "      <td>0.2</td>\n",
       "      <td>None</td>\n",
       "      <td>60.0</td>\n",
       "      <td>NaN</td>\n",
       "      <td>13.0</td>\n",
       "      <td>[4, 10, 17]</td>\n",
       "      <td>university</td>\n",
       "    </tr>\n",
       "  </tbody>\n",
       "</table>\n",
       "</div>"
      ],
      "text/plain": [
       "                 capacity_modeled infrastructure_type  weight  \\\n",
       "service_type_id                                                 \n",
       "1                          2000.0               basic     0.2   \n",
       "5                             NaN             comfort     0.5   \n",
       "21                          500.0               basic     0.2   \n",
       "22                          800.0               basic     0.2   \n",
       "27                         5000.0             comfort     0.2   \n",
       "\n",
       "                radius_availability_meters  time_availability_minutes  \\\n",
       "service_type_id                                                         \n",
       "1                                     None                       30.0   \n",
       "5                                     None                       60.0   \n",
       "21                                    None                        7.0   \n",
       "22                                    None                       15.0   \n",
       "27                                    None                       60.0   \n",
       "\n",
       "                 services_per_1000_normative  \\\n",
       "service_type_id                                \n",
       "1                                        NaN   \n",
       "5                                        NaN   \n",
       "21                                       NaN   \n",
       "22                                       NaN   \n",
       "27                                       NaN   \n",
       "\n",
       "                 services_capacity_per_1000_normative soc_values_ids  \\\n",
       "service_type_id                                                        \n",
       "1                                               150.0            [8]   \n",
       "5                                                64.0           None   \n",
       "21                                               61.0            [2]   \n",
       "22                                              120.0         [2, 4]   \n",
       "27                                               13.0    [4, 10, 17]   \n",
       "\n",
       "                    blocksnet  \n",
       "service_type_id                \n",
       "1                        park  \n",
       "5                       beach  \n",
       "21               kindergarten  \n",
       "22                     school  \n",
       "27                 university  "
      ]
     },
     "execution_count": 3,
     "metadata": {},
     "output_type": "execute_result"
    }
   ],
   "source": [
    "service_types_df = service_types_df[~service_types_df['infrastructure_type'].isna()].copy()\n",
    "service_types_df = service_types_df[~service_types_df['blocksnet'].isna()].copy()\n",
    "service_types_df.head()"
   ]
  },
  {
   "cell_type": "markdown",
   "id": "d6f2eb94",
   "metadata": {},
   "source": [
    "## 2A. Эффекты ДО\n",
    "\n",
    "Если `scenario_id` является `base_scenario`, то мы не обязаны ничего оптимизировать и просто должны посчитать обеспеченность as is."
   ]
  },
  {
   "cell_type": "code",
   "execution_count": 4,
   "id": "4ab967cd",
   "metadata": {},
   "outputs": [],
   "source": [
    "from blocksnet.relations.accessibility import get_accessibility_context\n",
    "\n",
    "def _get_accessibility_context(blocks : pd.DataFrame, acc_mx : pd.DataFrame, accessibility : float) -> list[int]:\n",
    "  project_blocks = blocks[blocks['is_project']].copy()\n",
    "  context_blocks = get_accessibility_context(acc_mx, project_blocks, accessibility, out=False, keep=True)\n",
    "  return list(context_blocks.index)"
   ]
  },
  {
   "cell_type": "code",
   "execution_count": 5,
   "id": "26245b84",
   "metadata": {},
   "outputs": [],
   "source": [
    "from blocksnet.analysis.provision import competitive_provision\n",
    "from blocksnet.config import service_types_config\n",
    "\n",
    "def _assess_provision(blocks : pd.DataFrame, acc_mx : pd.DataFrame, service_type : str) -> gpd.GeoDataFrame:\n",
    "  _, demand, accessibility = service_types_config[service_type].values()\n",
    "  context_ids = _get_accessibility_context(blocks, acc_mx, accessibility)\n",
    "  capacity_column = f'capacity_{service_type}'\n",
    "  if capacity_column not in blocks.columns:\n",
    "    blocks_df = blocks[['geometry','population']].fillna(0)\n",
    "    blocks_df['capacity'] = 0\n",
    "  else:\n",
    "    blocks_df = blocks.rename(columns={capacity_column:'capacity'})[['geometry', 'population', 'capacity']].fillna(0)\n",
    "  prov_df, _ = competitive_provision(blocks_df, acc_mx, accessibility, demand)\n",
    "  prov_df = prov_df.loc[context_ids].copy()\n",
    "  return blocks[['geometry']].join(prov_df, how='right')"
   ]
  },
  {
   "cell_type": "markdown",
   "id": "70aab4b6",
   "metadata": {},
   "source": [
    "### Получаем слои с оценкой обеспеченности"
   ]
  },
  {
   "cell_type": "code",
   "execution_count": 6,
   "id": "ff29d74e",
   "metadata": {},
   "outputs": [],
   "source": [
    "from blocksnet.config import service_types_config\n",
    "\n",
    "prov_gdfs = {}\n",
    "for st_id in service_types_df.index:\n",
    "    st_name = service_types_df.loc[st_id,'blocksnet']\n",
    "    column = f'capacity_{st_name}'\n",
    "    _,demand,accessibility = service_types_config[st_name].values()\n",
    "    prov_gdf = _assess_provision(blocks_gdf.rename(columns={f'capacity_{st_id}': f'capacity_{st_name}'}), acc_mx, st_name)\n",
    "    prov_gdfs[st_name] = prov_gdf"
   ]
  },
  {
   "cell_type": "markdown",
   "id": "fe1ce07d",
   "metadata": {},
   "source": [
    "Например:"
   ]
  },
  {
   "cell_type": "code",
   "execution_count": 8,
   "id": "63c3ccf0",
   "metadata": {},
   "outputs": [
    {
     "data": {
      "image/png": "[encoded data removed]",
      "text/plain": [
       "<Figure size 640x480 with 2 Axes>"
      ]
     },
     "metadata": {},
     "output_type": "display_data"
    }
   ],
   "source": [
    "ax = prov_gdfs['park'].plot(color='#ddd')\n",
    "prov_gdfs['park'].plot('provision_strong', ax=ax, vmin=0, vmax=1, cmap='RdYlGn', legend=True).set_axis_off()"
   ]
  },
  {
   "cell_type": "markdown",
   "id": "980df468",
   "metadata": {},
   "source": [
    "### Получаем общие оценки обеспеченности"
   ]
  },
  {
   "cell_type": "code",
   "execution_count": 9,
   "id": "458f1b18",
   "metadata": {},
   "outputs": [],
   "source": [
    "from blocksnet.analysis.provision import provision_strong_total\n",
    "\n",
    "prov_totals_before = {}\n",
    "for st_name, prov_gdf in prov_gdfs.items():\n",
    "    if prov_gdf.demand.sum() == 0:\n",
    "        if prov_gdf.capacity.sum() > 0:\n",
    "            total = 1.0\n",
    "        else:\n",
    "            total = 0.0\n",
    "    else:\n",
    "        total = float(provision_strong_total(prov_gdf))\n",
    "    prov_totals_before[st_name] = total"
   ]
  },
  {
   "cell_type": "markdown",
   "id": "0f925bf2",
   "metadata": {},
   "source": [
    "В итоге:"
   ]
  },
  {
   "cell_type": "code",
   "execution_count": 10,
   "id": "ab1bc884",
   "metadata": {},
   "outputs": [
    {
     "data": {
      "text/plain": [
       "{'park': 0.9904610492845787,\n",
       " 'beach': 0.0,\n",
       " 'kindergarten': 0.0,\n",
       " 'school': 0.0,\n",
       " 'university': 0.0,\n",
       " 'polyclinic': 0.0,\n",
       " 'pharmacy': 0.0,\n",
       " 'hospital': 0.0,\n",
       " 'library': 0.9666666666666667,\n",
       " 'museum': 0.0,\n",
       " 'theatre': 1.0,\n",
       " 'cinema': 0.0,\n",
       " 'mall': 1.0,\n",
       " 'stadium': 1.0,\n",
       " 'cafe': 0.0,\n",
       " 'restaurant': 0.9411764705882353,\n",
       " 'bar': 0.0,\n",
       " 'pitch': 1.0,\n",
       " 'playground': 0.0,\n",
       " 'police': 0.0,\n",
       " 'train_station': 0.15151515151515152,\n",
       " 'supermarket': 0.0,\n",
       " 'market': 1.0,\n",
       " 'bank': 0.98989898989899,\n",
       " 'veterinary': 0.0,\n",
       " 'hotel': 1.0,\n",
       " 'religion': 0.0,\n",
       " 'sanatorium': 0.0}"
      ]
     },
     "execution_count": 10,
     "metadata": {},
     "output_type": "execute_result"
    }
   ],
   "source": [
    "prov_totals_before"
   ]
  },
  {
   "cell_type": "markdown",
   "id": "8a27051e",
   "metadata": {},
   "source": [
    "### Результат\n",
    "\n",
    "В результате имеем следующие данные для ситуации ДО:\n",
    "- `prov_gdfs : dict[str, gpd.GeoDataFrame]` -- слои с оценкой обеспеченности по выбранным типам сервисов\n",
    "- `prov_totals : dict[str, float | None]` -- оценки обеспеченности"
   ]
  },
  {
   "cell_type": "markdown",
   "id": "596776b8",
   "metadata": {},
   "source": [
    "## 2B. Эффекты ПОСЛЕ\n",
    "\n",
    "Если `scenario_id` не является `base_scenario`, то для заданного пользователем функционального зонирования мы должны предсказать возможную обеспеченность (по сути, лучший случай)."
   ]
  },
  {
   "cell_type": "markdown",
   "id": "7d85e9f8",
   "metadata": {},
   "source": [
    "### Подготовка данных"
   ]
  },
  {
   "cell_type": "markdown",
   "id": "eeab0004",
   "metadata": {},
   "source": [
    "Для каждого `infrastructure_type` также добавим весовой коэффициент, чтобы отдать предпочтение базовым сервисам, а остальные добавлять по возможности."
   ]
  },
  {
   "cell_type": "code",
   "execution_count": 11,
   "id": "d0b45506",
   "metadata": {},
   "outputs": [
    {
     "data": {
      "application/vnd.microsoft.datawrangler.viewer.v0+json": {
       "columns": [
        {
         "name": "service_type_id",
         "rawType": "int64",
         "type": "integer"
        },
        {
         "name": "capacity_modeled",
         "rawType": "float64",
         "type": "float"
        },
        {
         "name": "infrastructure_type",
         "rawType": "object",
         "type": "string"
        },
        {
         "name": "weight",
         "rawType": "float64",
         "type": "float"
        },
        {
         "name": "radius_availability_meters",
         "rawType": "object",
         "type": "unknown"
        },
        {
         "name": "time_availability_minutes",
         "rawType": "float64",
         "type": "float"
        },
        {
         "name": "services_per_1000_normative",
         "rawType": "float64",
         "type": "float"
        },
        {
         "name": "services_capacity_per_1000_normative",
         "rawType": "float64",
         "type": "float"
        },
        {
         "name": "soc_values_ids",
         "rawType": "object",
         "type": "unknown"
        },
        {
         "name": "blocksnet",
         "rawType": "object",
         "type": "string"
        },
        {
         "name": "infrastructure_weight",
         "rawType": "float64",
         "type": "float"
        }
       ],
       "ref": "887e13ab-9ee6-4785-a589-3cb13f292b3c",
       "rows": [
        [
         "1",
         "2000.0",
         "basic",
         "0.2",
         null,
         "30.0",
         null,
         "150.0",
         "[8]",
         "park",
         "0.11428"
        ],
        [
         "5",
         null,
         "comfort",
         "0.5",
         null,
         "60.0",
         null,
         "64.0",
         null,
         "beach",
         "0.07145"
        ],
        [
         "21",
         "500.0",
         "basic",
         "0.2",
         null,
         "7.0",
         null,
         "61.0",
         "[2]",
         "kindergarten",
         "0.11428"
        ],
        [
         "22",
         "800.0",
         "basic",
         "0.2",
         null,
         "15.0",
         null,
         "120.0",
         "[2, 4]",
         "school",
         "0.11428"
        ],
        [
         "27",
         "5000.0",
         "comfort",
         "0.2",
         null,
         "60.0",
         null,
         "13.0",
         "[4, 10, 17]",
         "university",
         "0.02858"
        ]
       ],
       "shape": {
        "columns": 10,
        "rows": 5
       }
      },
      "text/html": [
       "<div>\n",
       "<style scoped>\n",
       "    .dataframe tbody tr th:only-of-type {\n",
       "        vertical-align: middle;\n",
       "    }\n",
       "\n",
       "    .dataframe tbody tr th {\n",
       "        vertical-align: top;\n",
       "    }\n",
       "\n",
       "    .dataframe thead th {\n",
       "        text-align: right;\n",
       "    }\n",
       "</style>\n",
       "<table border=\"1\" class=\"dataframe\">\n",
       "  <thead>\n",
       "    <tr style=\"text-align: right;\">\n",
       "      <th></th>\n",
       "      <th>capacity_modeled</th>\n",
       "      <th>infrastructure_type</th>\n",
       "      <th>weight</th>\n",
       "      <th>radius_availability_meters</th>\n",
       "      <th>time_availability_minutes</th>\n",
       "      <th>services_per_1000_normative</th>\n",
       "      <th>services_capacity_per_1000_normative</th>\n",
       "      <th>soc_values_ids</th>\n",
       "      <th>blocksnet</th>\n",
       "      <th>infrastructure_weight</th>\n",
       "    </tr>\n",
       "    <tr>\n",
       "      <th>service_type_id</th>\n",
       "      <th></th>\n",
       "      <th></th>\n",
       "      <th></th>\n",
       "      <th></th>\n",
       "      <th></th>\n",
       "      <th></th>\n",
       "      <th></th>\n",
       "      <th></th>\n",
       "      <th></th>\n",
       "      <th></th>\n",
       "    </tr>\n",
       "  </thead>\n",
       "  <tbody>\n",
       "    <tr>\n",
       "      <th>1</th>\n",
       "      <td>2000.0</td>\n",
       "      <td>basic</td>\n",
       "      <td>0.2</td>\n",
       "      <td>None</td>\n",
       "      <td>30.0</td>\n",
       "      <td>NaN</td>\n",
       "      <td>150.0</td>\n",
       "      <td>[8]</td>\n",
       "      <td>park</td>\n",
       "      <td>0.11428</td>\n",
       "    </tr>\n",
       "    <tr>\n",
       "      <th>5</th>\n",
       "      <td>NaN</td>\n",
       "      <td>comfort</td>\n",
       "      <td>0.5</td>\n",
       "      <td>None</td>\n",
       "      <td>60.0</td>\n",
       "      <td>NaN</td>\n",
       "      <td>64.0</td>\n",
       "      <td>None</td>\n",
       "      <td>beach</td>\n",
       "      <td>0.07145</td>\n",
       "    </tr>\n",
       "    <tr>\n",
       "      <th>21</th>\n",
       "      <td>500.0</td>\n",
       "      <td>basic</td>\n",
       "      <td>0.2</td>\n",
       "      <td>None</td>\n",
       "      <td>7.0</td>\n",
       "      <td>NaN</td>\n",
       "      <td>61.0</td>\n",
       "      <td>[2]</td>\n",
       "      <td>kindergarten</td>\n",
       "      <td>0.11428</td>\n",
       "    </tr>\n",
       "    <tr>\n",
       "      <th>22</th>\n",
       "      <td>800.0</td>\n",
       "      <td>basic</td>\n",
       "      <td>0.2</td>\n",
       "      <td>None</td>\n",
       "      <td>15.0</td>\n",
       "      <td>NaN</td>\n",
       "      <td>120.0</td>\n",
       "      <td>[2, 4]</td>\n",
       "      <td>school</td>\n",
       "      <td>0.11428</td>\n",
       "    </tr>\n",
       "    <tr>\n",
       "      <th>27</th>\n",
       "      <td>5000.0</td>\n",
       "      <td>comfort</td>\n",
       "      <td>0.2</td>\n",
       "      <td>None</td>\n",
       "      <td>60.0</td>\n",
       "      <td>NaN</td>\n",
       "      <td>13.0</td>\n",
       "      <td>[4, 10, 17]</td>\n",
       "      <td>university</td>\n",
       "      <td>0.02858</td>\n",
       "    </tr>\n",
       "  </tbody>\n",
       "</table>\n",
       "</div>"
      ],
      "text/plain": [
       "                 capacity_modeled infrastructure_type  weight  \\\n",
       "service_type_id                                                 \n",
       "1                          2000.0               basic     0.2   \n",
       "5                             NaN             comfort     0.5   \n",
       "21                          500.0               basic     0.2   \n",
       "22                          800.0               basic     0.2   \n",
       "27                         5000.0             comfort     0.2   \n",
       "\n",
       "                radius_availability_meters  time_availability_minutes  \\\n",
       "service_type_id                                                         \n",
       "1                                     None                       30.0   \n",
       "5                                     None                       60.0   \n",
       "21                                    None                        7.0   \n",
       "22                                    None                       15.0   \n",
       "27                                    None                       60.0   \n",
       "\n",
       "                 services_per_1000_normative  \\\n",
       "service_type_id                                \n",
       "1                                        NaN   \n",
       "5                                        NaN   \n",
       "21                                       NaN   \n",
       "22                                       NaN   \n",
       "27                                       NaN   \n",
       "\n",
       "                 services_capacity_per_1000_normative soc_values_ids  \\\n",
       "service_type_id                                                        \n",
       "1                                               150.0            [8]   \n",
       "5                                                64.0           None   \n",
       "21                                               61.0            [2]   \n",
       "22                                              120.0         [2, 4]   \n",
       "27                                               13.0    [4, 10, 17]   \n",
       "\n",
       "                    blocksnet  infrastructure_weight  \n",
       "service_type_id                                       \n",
       "1                        park                0.11428  \n",
       "5                       beach                0.07145  \n",
       "21               kindergarten                0.11428  \n",
       "22                     school                0.11428  \n",
       "27                 university                0.02858  "
      ]
     },
     "execution_count": 11,
     "metadata": {},
     "output_type": "execute_result"
    }
   ],
   "source": [
    "INFRASTRUCTURES_WEIGHTS = {\n",
    "    'basic': 0.5714,\n",
    "    'additional': 0.2857,\n",
    "    'comfort': 0.1429\n",
    "}\n",
    "\n",
    "service_types_df['infrastructure_weight'] = service_types_df['infrastructure_type'].map(INFRASTRUCTURES_WEIGHTS) * service_types_df['weight']\n",
    "service_types_df.head()"
   ]
  },
  {
   "cell_type": "markdown",
   "id": "41977203",
   "metadata": {},
   "source": [
    "Готовим словарь, какой квартал в какой ФЗ переводим.\n",
    "\n",
    "`blocks_lus : dict[int, LandUse]`"
   ]
  },
  {
   "cell_type": "code",
   "execution_count": null,
   "id": "065af3f4",
   "metadata": {},
   "outputs": [],
   "source": [
    "from blocksnet.enums import LandUse\n",
    "\n",
    "blocks_lus = blocks_gdf.loc[blocks_gdf['is_project'],'land_use']\n",
    "blocks_lus = blocks_lus[~blocks_lus.isna()]\n",
    "blocks_lus = blocks_lus.to_dict()\n",
    "blocks_lus[0] = LandUse.RESIDENTIAL #FIXME УДАЛИТЬ!!! ЭТО ДЛЯ ПРИМЕРА"
   ]
  },
  {
   "cell_type": "markdown",
   "id": "58a99c93",
   "metadata": {},
   "source": [
    "Инициализируем экземпляр класса оптимизатора."
   ]
  },
  {
   "cell_type": "code",
   "execution_count": 45,
   "id": "9d783585",
   "metadata": {},
   "outputs": [],
   "source": [
    "from blocksnet.optimization.services import (\n",
    "    TPEOptimizer,\n",
    "    WeightedObjective,\n",
    "    WeightedConstraints,\n",
    "    Facade,\n",
    "    GradientChooser,\n",
    "    AreaSolution\n",
    ")\n",
    "\n",
    "var_adapter = AreaSolution(blocks_lus)\n",
    "\n",
    "facade = Facade(\n",
    "    blocks_lu=blocks_lus,\n",
    "    blocks_df=blocks_gdf,\n",
    "    accessibility_matrix=acc_mx,\n",
    "    var_adapter=var_adapter,\n",
    ")\n"
   ]
  },
  {
   "cell_type": "markdown",
   "id": "10cf65f9",
   "metadata": {},
   "source": [
    "Добавляем информацию о существующих типах сервисов.\n",
    "\n",
    "**ВАЖНО**: если сервиса нет в слое кварталов, просто добавляем `DataFrame` с нулевыми `capacity` для него. Ведь мы же должны что-то расставлять.\n",
    "\n",
    "ЛИБО\n",
    "\n",
    "Можно попробовать на этапе сборки слоя просто добавлять пустой столбец, чтобы не терять."
   ]
  },
  {
   "cell_type": "code",
   "execution_count": 46,
   "id": "3952fee4",
   "metadata": {},
   "outputs": [],
   "source": [
    "for st_id, row in service_types_df.iterrows():\n",
    "    st_name = row['blocksnet']\n",
    "    st_weight = row['infrastructure_weight']\n",
    "    st_column = f'capacity_{st_id}'\n",
    "    df = blocks_gdf.rename(columns={st_column: 'capacity'})[['capacity']].fillna(0)\n",
    "    facade.add_service_type(st_name, st_weight, df)"
   ]
  },
  {
   "cell_type": "markdown",
   "id": "3842f465",
   "metadata": {},
   "source": [
    "### Оптимизация"
   ]
  },
  {
   "cell_type": "markdown",
   "id": "993cb219",
   "metadata": {},
   "source": [
    "Запускаем оптимизатор..."
   ]
  },
  {
   "cell_type": "code",
   "execution_count": 47,
   "id": "919a1421",
   "metadata": {},
   "outputs": [],
   "source": [
    "MAX_EVALS = 1000 # сколько раз будет считаться обеспеченность. Можно ставить и большее число, если ориентируемся только на время\n",
    "MAX_RUNS = 1000 # сколько итераций будет считаться в оптимизации. Так же ставим 1000 без проблем\n",
    "TIMEOUT = 1 * 60 # сколько по времени будет считаться оптимизация (в секундах). Если уже прошло данное время, досчитается итерация и отдаст ответ"
   ]
  },
  {
   "cell_type": "code",
   "execution_count": 48,
   "id": "e166fc14",
   "metadata": {},
   "outputs": [
    {
     "name": "stderr",
     "output_type": "stream",
     "text": [
      "[I 2025-10-13 03:25:20,017] A new study created in memory with name: no-name-49e557ab-8d0e-44ee-ac42-7bcd756cb030\n"
     ]
    },
    {
     "data": {
      "application/vnd.jupyter.widget-view+json": {
       "model_id": "a6c748e8148b4b2681014aba1d76ab0e",
       "version_major": 2,
       "version_minor": 0
      },
      "text/plain": [
       "  0%|          | 0/1000 [00:00<?, ?it/s]"
      ]
     },
     "metadata": {},
     "output_type": "display_data"
    },
    {
     "name": "stdout",
     "output_type": "stream",
     "text": [
      "[I 2025-10-13 03:25:20,872] Trial 0 finished with value: 0.532769784985964 and parameters: {'x_0': 3520, 'x_1': 18500, 'x_2': 20000, 'x_3': 0, 'x_4': 0, 'x_5': 12000, 'x_6': 0, 'x_7': 0, 'x_8': 2800, 'x_9': 1000, 'x_10': 10000, 'x_11': 5000, 'x_12': 100, 'x_13': 200, 'x_14': 60, 'x_15': 150, 'x_16': 50, 'x_17': 700, 'x_18': 0, 'x_19': 3000, 'x_20': 450, 'x_21': 0, 'x_22': 24000, 'x_23': 9100}. Best is trial 0 with value: 0.532769784985964.\n",
      "[I 2025-10-13 03:25:21,363] Trial 1 finished with value: 0.5329777684851147 and parameters: {'x_0': 7833, 'x_1': 25668, 'x_2': 20459, 'x_3': 806, 'x_4': 2583, 'x_5': 14621, 'x_6': 3704, 'x_7': 3, 'x_8': 2839, 'x_9': 1031, 'x_10': 10013, 'x_11': 5050, 'x_12': 391, 'x_13': 217, 'x_14': 95, 'x_15': 432, 'x_16': 56, 'x_17': 707, 'x_18': 2373, 'x_19': 3088, 'x_20': 635, 'x_21': 1945, 'x_22': 24971, 'x_23': 9220}. Best is trial 1 with value: 0.5329777684851147.\n",
      "[I 2025-10-13 03:25:21,825] Trial 2 finished with value: 0.5075088509954715 and parameters: {'x_0': 3519, 'x_1': 24, 'x_2': 28327, 'x_3': 465, 'x_4': 854099, 'x_5': 12000, 'x_6': 0, 'x_7': 0, 'x_8': 2800, 'x_9': 1000, 'x_10': 10000, 'x_11': 5000, 'x_12': 100, 'x_13': 200, 'x_14': 60, 'x_15': 150, 'x_16': 50, 'x_17': 700, 'x_18': 0, 'x_19': 0, 'x_20': 0, 'x_21': 0, 'x_22': 0, 'x_23': 0}. Best is trial 1 with value: 0.5329777684851147.\n",
      "[I 2025-10-13 03:25:22,122] Trial 3 finished with value: 0.5075088509954715 and parameters: {'x_0': 1048871, 'x_1': 2676513, 'x_2': 42404, 'x_3': 42, 'x_4': 0, 'x_5': 12000, 'x_6': 0, 'x_7': 0, 'x_8': 2800, 'x_9': 1000, 'x_10': 10000, 'x_11': 5000, 'x_12': 100, 'x_13': 200, 'x_14': 60, 'x_15': 150, 'x_16': 50, 'x_17': 700, 'x_18': 0, 'x_19': 0, 'x_20': 0, 'x_21': 0, 'x_22': 0, 'x_23': 0}. Best is trial 1 with value: 0.5329777684851147.\n",
      "[I 2025-10-13 03:25:22,541] Trial 4 finished with value: 0.5047340964768084 and parameters: {'x_0': 3397, 'x_1': 17295, 'x_2': 657, 'x_3': 466, 'x_4': 3258714, 'x_5': 12000, 'x_6': 0, 'x_7': 0, 'x_8': 2800, 'x_9': 1000, 'x_10': 10000, 'x_11': 5000, 'x_12': 100, 'x_13': 200, 'x_14': 60, 'x_15': 150, 'x_16': 50, 'x_17': 700, 'x_18': 0, 'x_19': 0, 'x_20': 0, 'x_21': 0, 'x_22': 0, 'x_23': 0}. Best is trial 1 with value: 0.5329777684851147.\n",
      "[I 2025-10-13 03:25:23,034] Trial 5 finished with value: 0.5688039435904456 and parameters: {'x_0': 511517, 'x_1': 1472310, 'x_2': 201503, 'x_3': 35903, 'x_4': 664506, 'x_5': 93461, 'x_6': 610036, 'x_7': 6354, 'x_8': 13086, 'x_9': 5973, 'x_10': 14626, 'x_11': 9352, 'x_12': 29478, 'x_13': 116810, 'x_14': 11202, 'x_15': 1832, 'x_16': 948, 'x_17': 899, 'x_18': 94, 'x_19': 0, 'x_20': 0, 'x_21': 0, 'x_22': 0, 'x_23': 0}. Best is trial 5 with value: 0.5688039435904456.\n",
      "[I 2025-10-13 03:25:23,465] Trial 6 finished with value: 0.5666539882579087 and parameters: {'x_0': 3455, 'x_1': 18099, 'x_2': 28445, 'x_3': 0, 'x_4': 0, 'x_5': 17517, 'x_6': 0, 'x_7': 0, 'x_8': 2800, 'x_9': 1000, 'x_10': 10000, 'x_11': 5000, 'x_12': 100, 'x_13': 200, 'x_14': 343, 'x_15': 150, 'x_16': 50, 'x_17': 700, 'x_18': 0, 'x_19': 0, 'x_20': 0, 'x_21': 0, 'x_22': 0, 'x_23': 0}. Best is trial 5 with value: 0.5688039435904456.\n",
      "[I 2025-10-13 03:25:23,821] Trial 7 finished with value: 0.5666539882579087 and parameters: {'x_0': 541863, 'x_1': 1451869, 'x_2': 233725, 'x_3': 44187, 'x_4': 754018, 'x_5': 115285, 'x_6': 637378, 'x_7': 1382, 'x_8': 2803, 'x_9': 1000, 'x_10': 10000, 'x_11': 5000, 'x_12': 100, 'x_13': 200, 'x_14': 180, 'x_15': 150, 'x_16': 50, 'x_17': 700, 'x_18': 0, 'x_19': 0, 'x_20': 0, 'x_21': 0, 'x_22': 0, 'x_23': 0}. Best is trial 5 with value: 0.5688039435904456.\n",
      "[I 2025-10-13 03:25:24,297] Trial 8 finished with value: 0.5666539882579087 and parameters: {'x_0': 2, 'x_1': 18179, 'x_2': 28428, 'x_3': 459, 'x_4': 2256572, 'x_5': 15500, 'x_6': 0, 'x_7': 0, 'x_8': 2800, 'x_9': 1000, 'x_10': 10000, 'x_11': 5000, 'x_12': 100, 'x_13': 200, 'x_14': 180, 'x_15': 150, 'x_16': 50, 'x_17': 700, 'x_18': 0, 'x_19': 0, 'x_20': 0, 'x_21': 0, 'x_22': 0, 'x_23': 0}. Best is trial 5 with value: 0.5688039435904456.\n",
      "[I 2025-10-13 03:25:24,672] Trial 9 finished with value: 0.5666539882579087 and parameters: {'x_0': 481702, 'x_1': 1343361, 'x_2': 208137, 'x_3': 35913, 'x_4': 653239, 'x_5': 89180, 'x_6': 967382, 'x_7': 796, 'x_8': 2800, 'x_9': 1000, 'x_10': 10000, 'x_11': 5000, 'x_12': 100, 'x_13': 200, 'x_14': 180, 'x_15': 150, 'x_16': 50, 'x_17': 700, 'x_18': 0, 'x_19': 0, 'x_20': 0, 'x_21': 0, 'x_22': 0, 'x_23': 0}. Best is trial 5 with value: 0.5688039435904456.\n",
      "[I 2025-10-13 03:25:25,138] Trial 10 finished with value: 0.5665460703184145 and parameters: {'x_0': 15, 'x_1': 89, 'x_2': 232, 'x_3': 463, 'x_4': 1819684, 'x_5': 15500, 'x_6': 0, 'x_7': 0, 'x_8': 2800, 'x_9': 1000, 'x_10': 10000, 'x_11': 5000, 'x_12': 100, 'x_13': 200, 'x_14': 180, 'x_15': 150, 'x_16': 50, 'x_17': 700, 'x_18': 0, 'x_19': 0, 'x_20': 0, 'x_21': 0, 'x_22': 0, 'x_23': 0}. Best is trial 5 with value: 0.5688039435904456.\n",
      "[I 2025-10-13 03:25:25,707] Trial 11 finished with value: 0.6044298107684168 and parameters: {'x_0': 364486, 'x_1': 915527, 'x_2': 144842, 'x_3': 18128, 'x_4': 445936, 'x_5': 52385, 'x_6': 616323, 'x_7': 7040, 'x_8': 13942, 'x_9': 6317, 'x_10': 15095, 'x_11': 9744, 'x_12': 31764, 'x_13': 125392, 'x_14': 10964, 'x_15': 26233, 'x_16': 1130, 'x_17': 8532, 'x_18': 160925, 'x_19': 10838, 'x_20': 4821, 'x_21': 259093, 'x_22': 106735, 'x_23': 34690}. Best is trial 11 with value: 0.6044298107684168.\n",
      "[I 2025-10-13 03:25:26,173] Trial 12 finished with value: 0.49499639471058715 and parameters: {'x_0': 3462, 'x_1': 18163, 'x_2': 20000, 'x_3': 0, 'x_4': 0, 'x_5': 15500, 'x_6': 0, 'x_7': 0, 'x_8': 2800, 'x_9': 1000, 'x_10': 10000, 'x_11': 5000, 'x_12': 100, 'x_13': 200, 'x_14': 180, 'x_15': 0, 'x_16': 0, 'x_17': 0, 'x_18': 0, 'x_19': 2284, 'x_20': 451, 'x_21': 0, 'x_22': 24000, 'x_23': 6740}. Best is trial 11 with value: 0.6044298107684168.\n",
      "[I 2025-10-13 03:25:26,774] Trial 13 finished with value: 0.6326971505245403 and parameters: {'x_0': 464670, 'x_1': 870957, 'x_2': 160104, 'x_3': 20728, 'x_4': 463419, 'x_5': 51172, 'x_6': 755351, 'x_7': 7307, 'x_8': 14642, 'x_9': 6643, 'x_10': 15377, 'x_11': 9956, 'x_12': 33668, 'x_13': 125132, 'x_14': 13668, 'x_15': 25449, 'x_16': 1652, 'x_17': 8347, 'x_18': 152602, 'x_19': 10793, 'x_20': 4664, 'x_21': 319082, 'x_22': 111114, 'x_23': 37006}. Best is trial 13 with value: 0.6326971505245403.\n",
      "[I 2025-10-13 03:25:27,276] Trial 14 finished with value: 0.6250833187916095 and parameters: {'x_0': 3509, 'x_1': 18500, 'x_2': 20000, 'x_3': 0, 'x_4': 0, 'x_5': 15500, 'x_6': 0, 'x_7': 0, 'x_8': 2800, 'x_9': 1000, 'x_10': 10000, 'x_11': 5000, 'x_12': 100, 'x_13': 200, 'x_14': 0, 'x_15': 200, 'x_16': 50, 'x_17': 733, 'x_18': 0, 'x_19': 3000, 'x_20': 0, 'x_21': 0, 'x_22': 0, 'x_23': 9100}. Best is trial 13 with value: 0.6326971505245403.\n",
      "[I 2025-10-13 03:25:27,907] Trial 15 finished with value: 0.6483115798717741 and parameters: {'x_0': 249742, 'x_1': 746261, 'x_2': 83392, 'x_3': 12995, 'x_4': 1232902, 'x_5': 44020, 'x_6': 342077, 'x_7': 4630, 'x_8': 6637, 'x_9': 2773, 'x_10': 11704, 'x_11': 6618, 'x_12': 11058, 'x_13': 38630, 'x_14': 28001, 'x_15': 72642, 'x_16': 2000, 'x_17': 8179, 'x_18': 144366, 'x_19': 10829, 'x_20': 12243, 'x_21': 703117, 'x_22': 14992, 'x_23': 10081}. Best is trial 15 with value: 0.6483115798717741.\n",
      "[I 2025-10-13 03:25:28,400] Trial 16 finished with value: 0.6092009625108098 and parameters: {'x_0': 784, 'x_1': 4037, 'x_2': 6034, 'x_3': 0, 'x_4': 0, 'x_5': 15500, 'x_6': 0, 'x_7': 0, 'x_8': 2800, 'x_9': 1000, 'x_10': 10000, 'x_11': 5000, 'x_12': 100, 'x_13': 200, 'x_14': 343, 'x_15': 150, 'x_16': 50, 'x_17': 700, 'x_18': 0, 'x_19': 0, 'x_20': 451, 'x_21': 0, 'x_22': 0, 'x_23': 0}. Best is trial 15 with value: 0.6483115798717741.\n",
      "[I 2025-10-13 03:25:28,985] Trial 17 finished with value: 0.6326102863456323 and parameters: {'x_0': 248909, 'x_1': 737635, 'x_2': 82266, 'x_3': 15192, 'x_4': 1263541, 'x_5': 46936, 'x_6': 336058, 'x_7': 5043, 'x_8': 7129, 'x_9': 2912, 'x_10': 12003, 'x_11': 6654, 'x_12': 11201, 'x_13': 51576, 'x_14': 27966, 'x_15': 79517, 'x_16': 2023, 'x_17': 13131, 'x_18': 232817, 'x_19': 10926, 'x_20': 13962, 'x_21': 592185, 'x_22': 286, 'x_23': 21}. Best is trial 15 with value: 0.6483115798717741.\n",
      "[I 2025-10-13 03:25:29,527] Trial 18 finished with value: 0.6092009846343939 and parameters: {'x_0': 2107, 'x_1': 9593, 'x_2': 10957, 'x_3': 135, 'x_4': 0, 'x_5': 15500, 'x_6': 0, 'x_7': 0, 'x_8': 2800, 'x_9': 1000, 'x_10': 10000, 'x_11': 5000, 'x_12': 100, 'x_13': 200, 'x_14': 180, 'x_15': 150, 'x_16': 50, 'x_17': 700, 'x_18': 0, 'x_19': 2978, 'x_20': 0, 'x_21': 0, 'x_22': 0, 'x_23': 0}. Best is trial 15 with value: 0.6483115798717741.\n",
      "[I 2025-10-13 03:25:30,133] Trial 19 finished with value: 0.6326103084692163 and parameters: {'x_0': 724998, 'x_1': 2108812, 'x_2': 136895, 'x_3': 10270, 'x_4': 153437, 'x_5': 47406, 'x_6': 139288, 'x_7': 3302, 'x_8': 8711, 'x_9': 3693, 'x_10': 12841, 'x_11': 10933, 'x_12': 39827, 'x_13': 92866, 'x_14': 28091, 'x_15': 70315, 'x_16': 2035, 'x_17': 11195, 'x_18': 131698, 'x_19': 9080, 'x_20': 11930, 'x_21': 42265, 'x_22': 1, 'x_23': 1}. Best is trial 15 with value: 0.6483115798717741.\n",
      "[I 2025-10-13 03:25:30,696] Trial 20 finished with value: 0.6092009158512423 and parameters: {'x_0': 1848, 'x_1': 9260, 'x_2': 15010, 'x_3': 0, 'x_4': 0, 'x_5': 15500, 'x_6': 0, 'x_7': 0, 'x_8': 2800, 'x_9': 1000, 'x_10': 10000, 'x_11': 5000, 'x_12': 100, 'x_13': 200, 'x_14': 180, 'x_15': 150, 'x_16': 50, 'x_17': 0, 'x_18': 0, 'x_19': 2983, 'x_20': 394, 'x_21': 0, 'x_22': 0, 'x_23': 0}. Best is trial 15 with value: 0.6483115798717741.\n",
      "[I 2025-10-13 03:25:31,245] Trial 21 finished with value: 0.6326102396860647 and parameters: {'x_0': 739415, 'x_1': 2286469, 'x_2': 137414, 'x_3': 10088, 'x_4': 123508, 'x_5': 47628, 'x_6': 105334, 'x_7': 3230, 'x_8': 8707, 'x_9': 3677, 'x_10': 12856, 'x_11': 10917, 'x_12': 39750, 'x_13': 99443, 'x_14': 28144, 'x_15': 73941, 'x_16': 2034, 'x_17': 11324, 'x_18': 55993, 'x_19': 17, 'x_20': 1, 'x_21': 0, 'x_22': 0, 'x_23': 0}. Best is trial 15 with value: 0.6483115798717741.\n",
      "[I 2025-10-13 03:25:31,776] Trial 22 finished with value: 0.6092906219351061 and parameters: {'x_0': 3504, 'x_1': 18368, 'x_2': 24652, 'x_3': 410, 'x_4': 0, 'x_5': 15500, 'x_6': 0, 'x_7': 0, 'x_8': 2800, 'x_9': 1000, 'x_10': 10000, 'x_11': 5000, 'x_12': 100, 'x_13': 200, 'x_14': 180, 'x_15': 150, 'x_16': 50, 'x_17': 586, 'x_18': 0, 'x_19': 0, 'x_20': 0, 'x_21': 0, 'x_22': 0, 'x_23': 0}. Best is trial 15 with value: 0.6483115798717741.\n",
      "[I 2025-10-13 03:25:32,432] Trial 23 finished with value: 0.6326397082295222 and parameters: {'x_0': 723475, 'x_1': 1936078, 'x_2': 109943, 'x_3': 24571, 'x_4': 286074, 'x_5': 61184, 'x_6': 233046, 'x_7': 3658, 'x_8': 6113, 'x_9': 2478, 'x_10': 11782, 'x_11': 10914, 'x_12': 39794, 'x_13': 79744, 'x_14': 24073, 'x_15': 63206, 'x_16': 1768, 'x_17': 6652, 'x_18': 138537, 'x_19': 9414, 'x_20': 12412, 'x_21': 11752, 'x_22': 1509, 'x_23': 353}. Best is trial 15 with value: 0.6483115798717741.\n",
      "[I 2025-10-13 03:25:32,965] Trial 24 finished with value: 0.49502890257388826 and parameters: {'x_0': 3501, 'x_1': 18278, 'x_2': 20000, 'x_3': 0, 'x_4': 0, 'x_5': 15500, 'x_6': 0, 'x_7': 0, 'x_8': 2800, 'x_9': 1000, 'x_10': 10000, 'x_11': 5000, 'x_12': 100, 'x_13': 200, 'x_14': 180, 'x_15': 150, 'x_16': 0, 'x_17': 733, 'x_18': 0, 'x_19': 2986, 'x_20': 451, 'x_21': 0, 'x_22': 0, 'x_23': 0}. Best is trial 15 with value: 0.6483115798717741.\n",
      "[I 2025-10-13 03:25:33,359] Trial 25 finished with value: 0.49502890257388826 and parameters: {'x_0': 189733, 'x_1': 3540568, 'x_2': 30966, 'x_3': 1820, 'x_4': 338, 'x_5': 15877, 'x_6': 7, 'x_7': 1, 'x_8': 2800, 'x_9': 1000, 'x_10': 10000, 'x_11': 5000, 'x_12': 100, 'x_13': 200, 'x_14': 180, 'x_15': 150, 'x_16': 0, 'x_17': 700, 'x_18': 0, 'x_19': 0, 'x_20': 450, 'x_21': 0, 'x_22': 0, 'x_23': 0}. Best is trial 15 with value: 0.6483115798717741.\n",
      "[I 2025-10-13 03:25:33,951] Trial 26 finished with value: 0.494920984634394 and parameters: {'x_0': 3509, 'x_1': 11836, 'x_2': 15106, 'x_3': 459, 'x_4': 1253151, 'x_5': 15500, 'x_6': 0, 'x_7': 0, 'x_8': 2800, 'x_9': 1000, 'x_10': 10000, 'x_11': 5000, 'x_12': 100, 'x_13': 200, 'x_14': 180, 'x_15': 150, 'x_16': 0, 'x_17': 700, 'x_18': 0, 'x_19': 0, 'x_20': 0, 'x_21': 0, 'x_22': 0, 'x_23': 0}. Best is trial 15 with value: 0.6483115798717741.\n",
      "[I 2025-10-13 03:25:34,545] Trial 27 finished with value: 0.494920984634394 and parameters: {'x_0': 668413, 'x_1': 528220, 'x_2': 94658, 'x_3': 26002, 'x_4': 1014267, 'x_5': 61954, 'x_6': 1340995, 'x_7': 4497, 'x_8': 5537, 'x_9': 2104, 'x_10': 11355, 'x_11': 7527, 'x_12': 31674, 'x_13': 1516, 'x_14': 320, 'x_15': 151, 'x_16': 0, 'x_17': 700, 'x_18': 0, 'x_19': 0, 'x_20': 0, 'x_21': 0, 'x_22': 0, 'x_23': 0}. Best is trial 15 with value: 0.6483115798717741.\n",
      "[I 2025-10-13 03:25:35,107] Trial 28 finished with value: 0.494920984634394 and parameters: {'x_0': 2587, 'x_1': 4432, 'x_2': 11353, 'x_3': 257, 'x_4': 1734750, 'x_5': 15500, 'x_6': 0, 'x_7': 0, 'x_8': 2800, 'x_9': 1000, 'x_10': 10000, 'x_11': 5000, 'x_12': 100, 'x_13': 200, 'x_14': 180, 'x_15': 150, 'x_16': 0, 'x_17': 700, 'x_18': 0, 'x_19': 0, 'x_20': 0, 'x_21': 0, 'x_22': 0, 'x_23': 0}. Best is trial 15 with value: 0.6483115798717741.\n",
      "[I 2025-10-13 03:25:35,842] Trial 29 finished with value: 0.6326103084692163 and parameters: {'x_0': 921483, 'x_1': 1157494, 'x_2': 165595, 'x_3': 25432, 'x_4': 391080, 'x_5': 32638, 'x_6': 397978, 'x_7': 2359, 'x_8': 10989, 'x_9': 7502, 'x_10': 13749, 'x_11': 10273, 'x_12': 16870, 'x_13': 52065, 'x_14': 24592, 'x_15': 59379, 'x_16': 1778, 'x_17': 5812, 'x_18': 392697, 'x_19': 9069, 'x_20': 9849, 'x_21': 91164, 'x_22': 42, 'x_23': 1}. Best is trial 15 with value: 0.6483115798717741.\n",
      "[I 2025-10-13 03:25:36,482] Trial 30 finished with value: 0.49501062193510614 and parameters: {'x_0': 1074, 'x_1': 15119, 'x_2': 20000, 'x_3': 0, 'x_4': 0, 'x_5': 15500, 'x_6': 0, 'x_7': 0, 'x_8': 2800, 'x_9': 1000, 'x_10': 10000, 'x_11': 5000, 'x_12': 100, 'x_13': 200, 'x_14': 180, 'x_15': 150, 'x_16': 30, 'x_17': 0, 'x_18': 0, 'x_19': 2992, 'x_20': 451, 'x_21': 0, 'x_22': 0, 'x_23': 0}. Best is trial 15 with value: 0.6483115798717741.\n",
      "[I 2025-10-13 03:25:37,206] Trial 31 finished with value: 0.6326397082295222 and parameters: {'x_0': 750215, 'x_1': 1831724, 'x_2': 107304, 'x_3': 8144, 'x_4': 259292, 'x_5': 69520, 'x_6': 235712, 'x_7': 5337, 'x_8': 6303, 'x_9': 4392, 'x_10': 12144, 'x_11': 10939, 'x_12': 39665, 'x_13': 81790, 'x_14': 22861, 'x_15': 63176, 'x_16': 1708, 'x_17': 15889, 'x_18': 142619, 'x_19': 9434, 'x_20': 12445, 'x_21': 24995, 'x_22': 11417, 'x_23': 22621}. Best is trial 15 with value: 0.6483115798717741.\n",
      "[I 2025-10-13 03:25:37,821] Trial 32 finished with value: 0.49482162676834324 and parameters: {'x_0': 3515, 'x_1': 18500, 'x_2': 20000, 'x_3': 0, 'x_4': 0, 'x_5': 15500, 'x_6': 0, 'x_7': 0, 'x_8': 2800, 'x_9': 1000, 'x_10': 10000, 'x_11': 5000, 'x_12': 100, 'x_13': 200, 'x_14': 180, 'x_15': 0, 'x_16': 8, 'x_17': 612, 'x_18': 0, 'x_19': 2992, 'x_20': 0, 'x_21': 0, 'x_22': 0, 'x_23': 1583}. Best is trial 15 with value: 0.6483115798717741.\n",
      "[I 2025-10-13 03:25:38,543] Trial 33 finished with value: 0.6326428646793683 and parameters: {'x_0': 846481, 'x_1': 1779166, 'x_2': 104544, 'x_3': 20762, 'x_4': 305925, 'x_5': 72852, 'x_6': 216099, 'x_7': 5504, 'x_8': 4842, 'x_9': 4951, 'x_10': 11340, 'x_11': 10386, 'x_12': 36349, 'x_13': 75247, 'x_14': 21638, 'x_15': 56485, 'x_16': 1614, 'x_17': 17811, 'x_18': 151895, 'x_19': 9734, 'x_20': 10882, 'x_21': 8132, 'x_22': 7671, 'x_23': 19552}. Best is trial 15 with value: 0.6483115798717741.\n",
      "[I 2025-10-13 03:25:39,127] Trial 34 finished with value: 0.49508211307073596 and parameters: {'x_0': 3520, 'x_1': 18500, 'x_2': 20000, 'x_3': 0, 'x_4': 0, 'x_5': 15500, 'x_6': 0, 'x_7': 0, 'x_8': 2800, 'x_9': 1000, 'x_10': 10000, 'x_11': 5000, 'x_12': 100, 'x_13': 0, 'x_14': 0, 'x_15': 198, 'x_16': 32, 'x_17': 101, 'x_18': 0, 'x_19': 823, 'x_20': 451, 'x_21': 0, 'x_22': 0, 'x_23': 9100}. Best is trial 15 with value: 0.6483115798717741.\n",
      "[I 2025-10-13 03:25:39,842] Trial 35 finished with value: 0.6264691729579567 and parameters: {'x_0': 867718, 'x_1': 356723, 'x_2': 64119, 'x_3': 21385, 'x_4': 471713, 'x_5': 81712, 'x_6': 473978, 'x_7': 5988, 'x_8': 4429, 'x_9': 1859, 'x_10': 10777, 'x_11': 8844, 'x_12': 36070, 'x_13': 69862, 'x_14': 19546, 'x_15': 49163, 'x_16': 1512, 'x_17': 20943, 'x_18': 199282, 'x_19': 7781, 'x_20': 8608, 'x_21': 711699, 'x_22': 57904, 'x_23': 19058}. Best is trial 15 with value: 0.6483115798717741.\n",
      "[I 2025-10-13 03:25:40,418] Trial 36 finished with value: 0.4950062292804938 and parameters: {'x_0': 3520, 'x_1': 18500, 'x_2': 20000, 'x_3': 0, 'x_4': 0, 'x_5': 15500, 'x_6': 0, 'x_7': 0, 'x_8': 2800, 'x_9': 1000, 'x_10': 10000, 'x_11': 5000, 'x_12': 100, 'x_13': 273, 'x_14': 340, 'x_15': 0, 'x_16': 18, 'x_17': 306, 'x_18': 0, 'x_19': 2719, 'x_20': 0, 'x_21': 0, 'x_22': 24000, 'x_23': 0}. Best is trial 15 with value: 0.6483115798717741.\n",
      "[I 2025-10-13 03:25:41,138] Trial 37 finished with value: 0.6165461770136391 and parameters: {'x_0': 598741, 'x_1': 1761768, 'x_2': 115517, 'x_3': 29611, 'x_4': 324486, 'x_5': 60629, 'x_6': 270697, 'x_7': 4141, 'x_8': 4286, 'x_9': 5047, 'x_10': 10733, 'x_11': 5760, 'x_12': 5264, 'x_13': 27660, 'x_14': 18137, 'x_15': 33212, 'x_16': 1394, 'x_17': 4993, 'x_18': 83145, 'x_19': 10013, 'x_20': 4883, 'x_21': 236162, 'x_22': 52088, 'x_23': 12868}. Best is trial 15 with value: 0.6483115798717741.\n",
      "[I 2025-10-13 03:25:41,747] Trial 38 finished with value: 0.49508209800422687 and parameters: {'x_0': 3520, 'x_1': 18500, 'x_2': 20000, 'x_3': 0, 'x_4': 0, 'x_5': 15500, 'x_6': 0, 'x_7': 0, 'x_8': 2800, 'x_9': 1000, 'x_10': 10000, 'x_11': 5000, 'x_12': 100, 'x_13': 0, 'x_14': 0, 'x_15': 200, 'x_16': 38, 'x_17': 631, 'x_18': 0, 'x_19': 1731, 'x_20': 451, 'x_21': 0, 'x_22': 0, 'x_23': 9100}. Best is trial 15 with value: 0.6483115798717741.\n",
      "[I 2025-10-13 03:25:42,412] Trial 39 finished with value: 0.6326659296442849 and parameters: {'x_0': 119231, 'x_1': 2884276, 'x_2': 64149, 'x_3': 29685, 'x_4': 215616, 'x_5': 35146, 'x_6': 158082, 'x_7': 7295, 'x_8': 15823, 'x_9': 5645, 'x_10': 15802, 'x_11': 10406, 'x_12': 24974, 'x_13': 105968, 'x_14': 25532, 'x_15': 50845, 'x_16': 1849, 'x_17': 7478, 'x_18': 12538, 'x_19': 0, 'x_20': 450, 'x_21': 0, 'x_22': 0, 'x_23': 9100}. Best is trial 15 with value: 0.6483115798717741.\n",
      "[I 2025-10-13 03:25:43,030] Trial 40 finished with value: 0.4950388452953243 and parameters: {'x_0': 3174, 'x_1': 18500, 'x_2': 20000, 'x_3': 0, 'x_4': 0, 'x_5': 15500, 'x_6': 0, 'x_7': 0, 'x_8': 2800, 'x_9': 1000, 'x_10': 10000, 'x_11': 5000, 'x_12': 100, 'x_13': 98, 'x_14': 341, 'x_15': 150, 'x_16': 46, 'x_17': 323, 'x_18': 0, 'x_19': 0, 'x_20': 0, 'x_21': 0, 'x_22': 0, 'x_23': 0}. Best is trial 15 with value: 0.6483115798717741.\n",
      "[I 2025-10-13 03:25:43,876] Trial 41 finished with value: 0.6326528539993861 and parameters: {'x_0': 116422, 'x_1': 2936407, 'x_2': 65323, 'x_3': 29623, 'x_4': 246777, 'x_5': 34677, 'x_6': 40743, 'x_7': 7294, 'x_8': 15773, 'x_9': 5713, 'x_10': 15813, 'x_11': 10411, 'x_12': 24737, 'x_13': 108207, 'x_14': 25548, 'x_15': 50861, 'x_16': 1853, 'x_17': 7081, 'x_18': 56620, 'x_19': 2, 'x_20': 4, 'x_21': 1, 'x_22': 0, 'x_23': 0}. Best is trial 15 with value: 0.6483115798717741.\n",
      "[I 2025-10-13 03:25:44,447] Trial 42 finished with value: 0.49503882970434715 and parameters: {'x_0': 3236, 'x_1': 18500, 'x_2': 20000, 'x_3': 0, 'x_4': 0, 'x_5': 15500, 'x_6': 0, 'x_7': 0, 'x_8': 2800, 'x_9': 1000, 'x_10': 10000, 'x_11': 5000, 'x_12': 100, 'x_13': 280, 'x_14': 180, 'x_15': 150, 'x_16': 46, 'x_17': 492, 'x_18': 0, 'x_19': 0, 'x_20': 0, 'x_21': 0, 'x_22': 0, 'x_23': 0}. Best is trial 15 with value: 0.6483115798717741.\n",
      "[I 2025-10-13 03:25:45,209] Trial 43 finished with value: 0.6326528384084089 and parameters: {'x_0': 108385, 'x_1': 2985105, 'x_2': 59371, 'x_3': 30891, 'x_4': 202843, 'x_5': 33072, 'x_6': 40933, 'x_7': 7311, 'x_8': 15900, 'x_9': 5791, 'x_10': 15824, 'x_11': 10357, 'x_12': 24647, 'x_13': 109587, 'x_14': 26121, 'x_15': 47824, 'x_16': 1897, 'x_17': 3377, 'x_18': 7818, 'x_19': 4357, 'x_20': 1791, 'x_21': 5900, 'x_22': 5407, 'x_23': 36936}. Best is trial 15 with value: 0.6483115798717741.\n",
      "[I 2025-10-13 03:25:45,866] Trial 44 finished with value: 0.49487448296178493 and parameters: {'x_0': 3273, 'x_1': 18500, 'x_2': 20000, 'x_3': 0, 'x_4': 0, 'x_5': 15500, 'x_6': 0, 'x_7': 0, 'x_8': 2800, 'x_9': 1000, 'x_10': 10000, 'x_11': 5000, 'x_12': 100, 'x_13': 200, 'x_14': 0, 'x_15': 0, 'x_16': 18, 'x_17': 733, 'x_18': 0, 'x_19': 295, 'x_20': 59, 'x_21': 0, 'x_22': 0, 'x_23': 9100}. Best is trial 15 with value: 0.6483115798717741.\n",
      "[I 2025-10-13 03:25:46,654] Trial 45 finished with value: 0.6326656440648327 and parameters: {'x_0': 101310, 'x_1': 3032700, 'x_2': 57541, 'x_3': 32526, 'x_4': 203409, 'x_5': 31729, 'x_6': 33577, 'x_7': 7307, 'x_8': 15847, 'x_9': 6200, 'x_10': 15825, 'x_11': 9423, 'x_12': 24324, 'x_13': 109891, 'x_14': 26145, 'x_15': 45008, 'x_16': 1896, 'x_17': 3160, 'x_18': 9879, 'x_19': 4248, 'x_20': 1734, 'x_21': 3130, 'x_22': 2695, 'x_23': 20386}. Best is trial 15 with value: 0.6483115798717741.\n",
      "[I 2025-10-13 03:25:47,251] Trial 46 finished with value: 0.6091118032805791 and parameters: {'x_0': 3520, 'x_1': 18500, 'x_2': 20000, 'x_3': 0, 'x_4': 0, 'x_5': 15500, 'x_6': 0, 'x_7': 0, 'x_8': 2800, 'x_9': 1000, 'x_10': 10000, 'x_11': 5000, 'x_12': 100, 'x_13': 200, 'x_14': 341, 'x_15': 24, 'x_16': 50, 'x_17': 0, 'x_18': 0, 'x_19': 521, 'x_20': 155, 'x_21': 0, 'x_22': 0, 'x_23': 0}. Best is trial 15 with value: 0.6483115798717741.\n",
      "[I 2025-10-13 03:25:48,057] Trial 47 finished with value: 0.5478808252169616 and parameters: {'x_0': 99916, 'x_1': 2894474, 'x_2': 56541, 'x_3': 37959, 'x_4': 62292, 'x_5': 32207, 'x_6': 56689, 'x_7': 6672, 'x_8': 15900, 'x_9': 6719, 'x_10': 15818, 'x_11': 9179, 'x_12': 23919, 'x_13': 125246, 'x_14': 4722, 'x_15': 15596, 'x_16': 465, 'x_17': 8458, 'x_18': 31881, 'x_19': 6410, 'x_20': 1703, 'x_21': 55709, 'x_22': 40678, 'x_23': 28191}. Best is trial 15 with value: 0.6483115798717741.\n",
      "[I 2025-10-13 03:25:48,730] Trial 48 finished with value: 0.5266035622188172 and parameters: {'x_0': 3320, 'x_1': 18500, 'x_2': 2414, 'x_3': 466, 'x_4': 3752723, 'x_5': 15500, 'x_6': 0, 'x_7': 0, 'x_8': 2800, 'x_9': 1000, 'x_10': 10000, 'x_11': 5000, 'x_12': 100, 'x_13': 200, 'x_14': 180, 'x_15': 0, 'x_16': 50, 'x_17': 0, 'x_18': 0, 'x_19': 0, 'x_20': 0, 'x_21': 0, 'x_22': 24000, 'x_23': 0}. Best is trial 15 with value: 0.6483115798717741.\n",
      "[I 2025-10-13 03:25:49,229] Trial 49 finished with value: 0.5266035622188172 and parameters: {'x_0': 342484, 'x_1': 3280868, 'x_2': 72068, 'x_3': 30662, 'x_4': 6306, 'x_5': 19662, 'x_6': 3436, 'x_7': 1074, 'x_8': 2800, 'x_9': 1000, 'x_10': 10000, 'x_11': 5000, 'x_12': 100, 'x_13': 200, 'x_14': 180, 'x_15': 0, 'x_16': 50, 'x_17': 0, 'x_18': 0, 'x_19': 0, 'x_20': 0, 'x_21': 0, 'x_22': 24000, 'x_23': 0}. Best is trial 15 with value: 0.6483115798717741.\n",
      "[I 2025-10-13 03:25:49,889] Trial 50 finished with value: 0.5264283091798174 and parameters: {'x_0': 3056, 'x_1': 4837, 'x_2': 17519, 'x_3': 466, 'x_4': 592396, 'x_5': 15500, 'x_6': 0, 'x_7': 0, 'x_8': 2800, 'x_9': 1000, 'x_10': 10000, 'x_11': 5000, 'x_12': 100, 'x_13': 200, 'x_14': 180, 'x_15': 0, 'x_16': 50, 'x_17': 0, 'x_18': 0, 'x_19': 0, 'x_20': 0, 'x_21': 0, 'x_22': 0, 'x_23': 0}. Best is trial 15 with value: 0.6483115798717741.\n",
      "[I 2025-10-13 03:25:50,690] Trial 51 finished with value: 0.6326201983860542 and parameters: {'x_0': 94031, 'x_1': 2797176, 'x_2': 46328, 'x_3': 31365, 'x_4': 210430, 'x_5': 35577, 'x_6': 46090, 'x_7': 7324, 'x_8': 15902, 'x_9': 5756, 'x_10': 15817, 'x_11': 9957, 'x_12': 24565, 'x_13': 109186, 'x_14': 26336, 'x_15': 45355, 'x_16': 1907, 'x_17': 2836, 'x_18': 23591, 'x_19': 4094, 'x_20': 1594, 'x_21': 23724, 'x_22': 207555, 'x_23': 13390}. Best is trial 15 with value: 0.6483115798717741.\n",
      "[I 2025-10-13 03:25:51,414] Trial 52 finished with value: 0.49526110223984204 and parameters: {'x_0': 3364, 'x_1': 18500, 'x_2': 20000, 'x_3': 0, 'x_4': 0, 'x_5': 15500, 'x_6': 0, 'x_7': 0, 'x_8': 2800, 'x_9': 1000, 'x_10': 10000, 'x_11': 5000, 'x_12': 100, 'x_13': 0, 'x_14': 0, 'x_15': 199, 'x_16': 0, 'x_17': 733, 'x_18': 0, 'x_19': 1199, 'x_20': 279, 'x_21': 0, 'x_22': 24000, 'x_23': 9100}. Best is trial 15 with value: 0.6483115798717741.\n",
      "[I 2025-10-13 03:25:52,261] Trial 53 finished with value: 0.6327239330687318 and parameters: {'x_0': 92074, 'x_1': 2514779, 'x_2': 81842, 'x_3': 27961, 'x_4': 366891, 'x_5': 39397, 'x_6': 137119, 'x_7': 6695, 'x_8': 15020, 'x_9': 5768, 'x_10': 15427, 'x_11': 10515, 'x_12': 25143, 'x_13': 111042, 'x_14': 26331, 'x_15': 40789, 'x_16': 1916, 'x_17': 3128, 'x_18': 20892, 'x_19': 4059, 'x_20': 1526, 'x_21': 152499, 'x_22': 28625, 'x_23': 37155}. Best is trial 15 with value: 0.6483115798717741.\n",
      "[I 2025-10-13 03:25:52,882] Trial 54 finished with value: 0.6093236225765114 and parameters: {'x_0': 3520, 'x_1': 18500, 'x_2': 20000, 'x_3': 0, 'x_4': 0, 'x_5': 15500, 'x_6': 0, 'x_7': 0, 'x_8': 2800, 'x_9': 1000, 'x_10': 10000, 'x_11': 5000, 'x_12': 100, 'x_13': 280, 'x_14': 342, 'x_15': 150, 'x_16': 50, 'x_17': 0, 'x_18': 0, 'x_19': 1750, 'x_20': 260, 'x_21': 0, 'x_22': 0, 'x_23': 0}. Best is trial 15 with value: 0.6483115798717741.\n",
      "[I 2025-10-13 03:25:53,727] Trial 55 finished with value: 0.6326576312805733 and parameters: {'x_0': 166825, 'x_1': 2523972, 'x_2': 83268, 'x_3': 27942, 'x_4': 370743, 'x_5': 39929, 'x_6': 145819, 'x_7': 6714, 'x_8': 14966, 'x_9': 6366, 'x_10': 15402, 'x_11': 10604, 'x_12': 26938, 'x_13': 117562, 'x_14': 26562, 'x_15': 38293, 'x_16': 1917, 'x_17': 8292, 'x_18': 14458, 'x_19': 3914, 'x_20': 3014, 'x_21': 98162, 'x_22': 15124, 'x_23': 30065}. Best is trial 15 with value: 0.6483115798717741.\n",
      "[I 2025-10-13 03:25:54,398] Trial 56 finished with value: 0.49487825973488964 and parameters: {'x_0': 378, 'x_1': 18500, 'x_2': 20000, 'x_3': 0, 'x_4': 0, 'x_5': 15500, 'x_6': 0, 'x_7': 0, 'x_8': 2800, 'x_9': 1000, 'x_10': 10000, 'x_11': 5000, 'x_12': 100, 'x_13': 200, 'x_14': 180, 'x_15': 0, 'x_16': 0, 'x_17': 733, 'x_18': 0, 'x_19': 1220, 'x_20': 345, 'x_21': 0, 'x_22': 0, 'x_23': 9506}. Best is trial 15 with value: 0.6483115798717741.\n",
      "[I 2025-10-13 03:25:55,243] Trial 57 finished with value: 0.6326694208379374 and parameters: {'x_0': 233215, 'x_1': 2481269, 'x_2': 83308, 'x_3': 27369, 'x_4': 364700, 'x_5': 40636, 'x_6': 150691, 'x_7': 6676, 'x_8': 14936, 'x_9': 6535, 'x_10': 15392, 'x_11': 9658, 'x_12': 27076, 'x_13': 118488, 'x_14': 13468, 'x_15': 38394, 'x_16': 1947, 'x_17': 9545, 'x_18': 12190, 'x_19': 3935, 'x_20': 3312, 'x_21': 90502, 'x_22': 15236, 'x_23': 29376}. Best is trial 15 with value: 0.6483115798717741.\n",
      "[I 2025-10-13 03:25:55,923] Trial 58 finished with value: 0.6093226064774516 and parameters: {'x_0': 1348, 'x_1': 18500, 'x_2': 20000, 'x_3': 0, 'x_4': 0, 'x_5': 15500, 'x_6': 0, 'x_7': 0, 'x_8': 2800, 'x_9': 1000, 'x_10': 10000, 'x_11': 5000, 'x_12': 100, 'x_13': 200, 'x_14': 180, 'x_15': 200, 'x_16': 50, 'x_17': 0, 'x_18': 0, 'x_19': 2148, 'x_20': 164, 'x_21': 0, 'x_22': 0, 'x_23': 0}. Best is trial 15 with value: 0.6483115798717741.\n",
      "[I 2025-10-13 03:25:56,692] Trial 59 finished with value: 0.6140888782376064 and parameters: {'x_0': 288697, 'x_1': 2510969, 'x_2': 83362, 'x_3': 33744, 'x_4': 495085, 'x_5': 25167, 'x_6': 173112, 'x_7': 6157, 'x_8': 13555, 'x_9': 7014, 'x_10': 14679, 'x_11': 9638, 'x_12': 20042, 'x_13': 98735, 'x_14': 13742, 'x_15': 3730, 'x_16': 1965, 'x_17': 429, 'x_18': 60, 'x_19': 6, 'x_20': 1, 'x_21': 1, 'x_22': 0, 'x_23': 0}. Best is trial 15 with value: 0.6483115798717741.\n",
      "[I 2025-10-13 03:25:57,535] Trial 60 finished with value: 0.6093050676913461 and parameters: {'x_0': 3390, 'x_1': 2114, 'x_2': 22039, 'x_3': 139, 'x_4': 858678, 'x_5': 15500, 'x_6': 0, 'x_7': 0, 'x_8': 2800, 'x_9': 1000, 'x_10': 10000, 'x_11': 5000, 'x_12': 100, 'x_13': 200, 'x_14': 180, 'x_15': 150, 'x_16': 50, 'x_17': 0, 'x_18': 0, 'x_19': 0, 'x_20': 0, 'x_21': 0, 'x_22': 0, 'x_23': 0}. Best is trial 15 with value: 0.6483115798717741.\n",
      "[I 2025-10-13 03:25:58,449] Trial 61 finished with value: 0.6326541539857623 and parameters: {'x_0': 170007, 'x_1': 2510880, 'x_2': 83457, 'x_3': 27586, 'x_4': 371201, 'x_5': 40900, 'x_6': 117690, 'x_7': 6745, 'x_8': 15011, 'x_9': 6237, 'x_10': 15447, 'x_11': 10641, 'x_12': 27110, 'x_13': 118689, 'x_14': 26989, 'x_15': 38042, 'x_16': 1811, 'x_17': 9533, 'x_18': 14893, 'x_19': 3897, 'x_20': 3314, 'x_21': 94307, 'x_22': 17286, 'x_23': 31704}. Best is trial 15 with value: 0.6483115798717741.\n",
      "[I 2025-10-13 03:25:59,166] Trial 62 finished with value: 0.4948789638219038 and parameters: {'x_0': 3410, 'x_1': 18500, 'x_2': 20000, 'x_3': 0, 'x_4': 0, 'x_5': 15500, 'x_6': 0, 'x_7': 0, 'x_8': 2800, 'x_9': 1000, 'x_10': 10000, 'x_11': 5000, 'x_12': 100, 'x_13': 200, 'x_14': 180, 'x_15': 0, 'x_16': 0, 'x_17': 733, 'x_18': 0, 'x_19': 2830, 'x_20': 375, 'x_21': 0, 'x_22': 0, 'x_23': 9506}. Best is trial 15 with value: 0.6483115798717741.\n",
      "[I 2025-10-13 03:26:00,083] Trial 63 finished with value: 0.6326701249249514 and parameters: {'x_0': 420976, 'x_1': 2294682, 'x_2': 93011, 'x_3': 22598, 'x_4': 413363, 'x_5': 41443, 'x_6': 167914, 'x_7': 6847, 'x_8': 14616, 'x_9': 5377, 'x_10': 15142, 'x_11': 10031, 'x_12': 21810, 'x_13': 115625, 'x_14': 10765, 'x_15': 40728, 'x_16': 1687, 'x_17': 9980, 'x_18': 10534, 'x_19': 4990, 'x_20': 3273, 'x_21': 57820, 'x_22': 1871, 'x_23': 14806}. Best is trial 15 with value: 0.6483115798717741.\n",
      "[I 2025-10-13 03:26:00,796] Trial 64 finished with value: 0.495043310564466 and parameters: {'x_0': 3481, 'x_1': 18500, 'x_2': 20000, 'x_3': 0, 'x_4': 0, 'x_5': 15500, 'x_6': 0, 'x_7': 0, 'x_8': 2800, 'x_9': 1000, 'x_10': 10000, 'x_11': 5000, 'x_12': 100, 'x_13': 200, 'x_14': 180, 'x_15': 200, 'x_16': 47, 'x_17': 0, 'x_18': 0, 'x_19': 2402, 'x_20': 326, 'x_21': 0, 'x_22': 0, 'x_23': 0}. Best is trial 15 with value: 0.6483115798717741.\n",
      "[I 2025-10-13 03:26:01,711] Trial 65 finished with value: 0.6326573192685276 and parameters: {'x_0': 439674, 'x_1': 2259429, 'x_2': 93754, 'x_3': 22672, 'x_4': 532991, 'x_5': 53033, 'x_6': 172946, 'x_7': 6969, 'x_8': 12371, 'x_9': 5362, 'x_10': 14885, 'x_11': 10024, 'x_12': 20720, 'x_13': 113349, 'x_14': 12163, 'x_15': 18705, 'x_16': 1683, 'x_17': 1429, 'x_18': 754, 'x_19': 4789, 'x_20': 907, 'x_21': 221, 'x_22': 567, 'x_23': 492}. Best is trial 15 with value: 0.6483115798717741.\n",
      "[I 2025-10-13 03:26:02,439] Trial 66 finished with value: 0.49483608135750273 and parameters: {'x_0': 2866, 'x_1': 18500, 'x_2': 20000, 'x_3': 0, 'x_4': 0, 'x_5': 15500, 'x_6': 0, 'x_7': 0, 'x_8': 2800, 'x_9': 1000, 'x_10': 10000, 'x_11': 5000, 'x_12': 100, 'x_13': 200, 'x_14': 180, 'x_15': 0, 'x_16': 48, 'x_17': 662, 'x_18': 0, 'x_19': 861, 'x_20': 405, 'x_21': 0, 'x_22': 0, 'x_23': 0}. Best is trial 15 with value: 0.6483115798717741.\n",
      "[I 2025-10-13 03:26:03,365] Trial 67 finished with value: 0.6293427669356146 and parameters: {'x_0': 60630, 'x_1': 3105165, 'x_2': 163845, 'x_3': 16933, 'x_4': 128900, 'x_5': 27315, 'x_6': 158191, 'x_7': 6411, 'x_8': 14562, 'x_9': 6686, 'x_10': 14178, 'x_11': 8519, 'x_12': 17756, 'x_13': 6636, 'x_14': 8715, 'x_15': 41716, 'x_16': 1559, 'x_17': 7852, 'x_18': 2980, 'x_19': 111, 'x_20': 612, 'x_21': 406, 'x_22': 185, 'x_23': 17}. Best is trial 15 with value: 0.6483115798717741.\n",
      "[I 2025-10-13 03:26:04,078] Trial 68 finished with value: 0.49483608135750273 and parameters: {'x_0': 2242, 'x_1': 18500, 'x_2': 20000, 'x_3': 0, 'x_4': 0, 'x_5': 15500, 'x_6': 0, 'x_7': 0, 'x_8': 2800, 'x_9': 1000, 'x_10': 10000, 'x_11': 5000, 'x_12': 100, 'x_13': 200, 'x_14': 180, 'x_15': 73, 'x_16': 48, 'x_17': 550, 'x_18': 0, 'x_19': 0, 'x_20': 417, 'x_21': 0, 'x_22': 0, 'x_23': 0}. Best is trial 15 with value: 0.6483115798717741.\n",
      "[I 2025-10-13 03:26:04,995] Trial 69 finished with value: 0.6192549989658794 and parameters: {'x_0': 229433, 'x_1': 2674155, 'x_2': 74598, 'x_3': 40362, 'x_4': 408310, 'x_5': 43093, 'x_6': 84872, 'x_7': 5813, 'x_8': 12584, 'x_9': 5410, 'x_10': 15463, 'x_11': 9514, 'x_12': 22124, 'x_13': 102996, 'x_14': 16297, 'x_15': 31720, 'x_16': 1404, 'x_17': 10092, 'x_18': 9435, 'x_19': 1467, 'x_20': 529, 'x_21': 23, 'x_22': 175, 'x_23': 5}. Best is trial 15 with value: 0.6483115798717741.\n",
      "[I 2025-10-13 03:26:05,755] Trial 70 finished with value: 0.5959209902618176 and parameters: {'x_0': 3484, 'x_1': 18500, 'x_2': 20000, 'x_3': 0, 'x_4': 0, 'x_5': 15500, 'x_6': 0, 'x_7': 0, 'x_8': 2800, 'x_9': 1000, 'x_10': 10000, 'x_11': 5000, 'x_12': 100, 'x_13': 200, 'x_14': 180, 'x_15': 200, 'x_16': 50, 'x_17': 212, 'x_18': 0, 'x_19': 0, 'x_20': 187, 'x_21': 0, 'x_22': 0, 'x_23': 0}. Best is trial 15 with value: 0.6483115798717741.\n",
      "[I 2025-10-13 03:26:06,785] Trial 71 finished with value: 0.6326573192685276 and parameters: {'x_0': 158603, 'x_1': 2495143, 'x_2': 92447, 'x_3': 48561, 'x_4': 348070, 'x_5': 39474, 'x_6': 202454, 'x_7': 6973, 'x_8': 15183, 'x_9': 6190, 'x_10': 15315, 'x_11': 10646, 'x_12': 27992, 'x_13': 120157, 'x_14': 24318, 'x_15': 38385, 'x_16': 1961, 'x_17': 12569, 'x_18': 20935, 'x_19': 5626, 'x_20': 3223, 'x_21': 76589, 'x_22': 2911, 'x_23': 22803}. Best is trial 15 with value: 0.6483115798717741.\n",
      "[I 2025-10-13 03:26:07,672] Trial 72 finished with value: 0.4948789638219038 and parameters: {'x_0': 3484, 'x_1': 18500, 'x_2': 20000, 'x_3': 0, 'x_4': 0, 'x_5': 15500, 'x_6': 0, 'x_7': 0, 'x_8': 2800, 'x_9': 1000, 'x_10': 10000, 'x_11': 5000, 'x_12': 100, 'x_13': 200, 'x_14': 180, 'x_15': 0, 'x_16': 0, 'x_17': 733, 'x_18': 0, 'x_19': 2054, 'x_20': 427, 'x_21': 0, 'x_22': 0, 'x_23': 9505}. Best is trial 15 with value: 0.6483115798717741.\n",
      "[I 2025-10-13 03:26:08,663] Trial 73 finished with value: 0.6326701249249514 and parameters: {'x_0': 424161, 'x_1': 1528576, 'x_2': 46538, 'x_3': 27292, 'x_4': 759190, 'x_5': 51656, 'x_6': 288395, 'x_7': 6545, 'x_8': 14262, 'x_9': 6504, 'x_10': 15142, 'x_11': 10017, 'x_12': 26469, 'x_13': 114764, 'x_14': 15202, 'x_15': 41948, 'x_16': 1718, 'x_17': 5008, 'x_18': 42390, 'x_19': 3507, 'x_20': 3114, 'x_21': 131893, 'x_22': 36011, 'x_23': 37263}. Best is trial 15 with value: 0.6483115798717741.\n",
      "[I 2025-10-13 03:26:09,466] Trial 74 finished with value: 0.6094982215075525 and parameters: {'x_0': 3501, 'x_1': 18500, 'x_2': 20000, 'x_3': 0, 'x_4': 0, 'x_5': 15500, 'x_6': 0, 'x_7': 0, 'x_8': 2800, 'x_9': 1000, 'x_10': 10000, 'x_11': 5000, 'x_12': 100, 'x_13': 200, 'x_14': 0, 'x_15': 200, 'x_16': 50, 'x_17': 0, 'x_18': 0, 'x_19': 2499, 'x_20': 107, 'x_21': 0, 'x_22': 24000, 'x_23': 0}. Best is trial 15 with value: 0.6483115798717741.\n",
      "[I 2025-10-13 03:26:10,499] Trial 75 finished with value: 0.6327113465075526 and parameters: {'x_0': 435162, 'x_1': 1166517, 'x_2': 45471, 'x_3': 23245, 'x_4': 722816, 'x_5': 52139, 'x_6': 301719, 'x_7': 6438, 'x_8': 14179, 'x_9': 6550, 'x_10': 15152, 'x_11': 9983, 'x_12': 30589, 'x_13': 90103, 'x_14': 15323, 'x_15': 42337, 'x_16': 1712, 'x_17': 4834, 'x_18': 100394, 'x_19': 3447, 'x_20': 4030, 'x_21': 134490, 'x_22': 39803, 'x_23': 37216}. Best is trial 15 with value: 0.6483115798717741.\n",
      "[I 2025-10-13 03:26:11,363] Trial 76 finished with value: 0.49498448086111213 and parameters: {'x_0': 3508, 'x_1': 18500, 'x_2': 20000, 'x_3': 0, 'x_4': 0, 'x_5': 15500, 'x_6': 0, 'x_7': 0, 'x_8': 2800, 'x_9': 1000, 'x_10': 10000, 'x_11': 5000, 'x_12': 100, 'x_13': 200, 'x_14': 147, 'x_15': 0, 'x_16': 0, 'x_17': 667, 'x_18': 0, 'x_19': 2661, 'x_20': 373, 'x_21': 0, 'x_22': 0, 'x_23': 9100}. Best is trial 15 with value: 0.6483115798717741.\n",
      "[I 2025-10-13 03:26:12,381] Trial 77 finished with value: 0.6327756419641598 and parameters: {'x_0': 437690, 'x_1': 1150070, 'x_2': 38123, 'x_3': 19231, 'x_4': 741677, 'x_5': 52609, 'x_6': 307334, 'x_7': 6444, 'x_8': 14188, 'x_9': 7263, 'x_10': 15145, 'x_11': 10018, 'x_12': 30871, 'x_13': 90588, 'x_14': 15436, 'x_15': 34497, 'x_16': 1706, 'x_17': 4944, 'x_18': 108857, 'x_19': 3447, 'x_20': 4778, 'x_21': 137105, 'x_22': 79976, 'x_23': 37239}. Best is trial 15 with value: 0.6483115798717741.\n",
      "[I 2025-10-13 03:26:13,140] Trial 78 finished with value: 0.6251576463974493 and parameters: {'x_0': 3520, 'x_1': 18500, 'x_2': 20000, 'x_3': 0, 'x_4': 0, 'x_5': 15500, 'x_6': 0, 'x_7': 0, 'x_8': 2800, 'x_9': 1000, 'x_10': 10000, 'x_11': 5000, 'x_12': 0, 'x_13': 0, 'x_14': 326, 'x_15': 200, 'x_16': 50, 'x_17': 733, 'x_18': 0, 'x_19': 3000, 'x_20': 432, 'x_21': 0, 'x_22': 24000, 'x_23': 0}. Best is trial 15 with value: 0.6483115798717741.\n",
      "[I 2025-10-13 03:26:14,219] Trial 79 finished with value: 0.6482798006914814 and parameters: {'x_0': 440731, 'x_1': 1154563, 'x_2': 36224, 'x_3': 19122, 'x_4': 748108, 'x_5': 53404, 'x_6': 314192, 'x_7': 6431, 'x_8': 14134, 'x_9': 7367, 'x_10': 15122, 'x_11': 9959, 'x_12': 31102, 'x_13': 89632, 'x_14': 15522, 'x_15': 34369, 'x_16': 1711, 'x_17': 4887, 'x_18': 111448, 'x_19': 3443, 'x_20': 5031, 'x_21': 139171, 'x_22': 79039, 'x_23': 37074}. Best is trial 15 with value: 0.6483115798717741.\n",
      "[I 2025-10-13 03:26:15,082] Trial 80 finished with value: 0.6092560120398794 and parameters: {'x_0': 3520, 'x_1': 18500, 'x_2': 20000, 'x_3': 0, 'x_4': 0, 'x_5': 15500, 'x_6': 0, 'x_7': 0, 'x_8': 2800, 'x_9': 1000, 'x_10': 10000, 'x_11': 5000, 'x_12': 80, 'x_13': 280, 'x_14': 180, 'x_15': 150, 'x_16': 50, 'x_17': 0, 'x_18': 0, 'x_19': 0, 'x_20': 434, 'x_21': 0, 'x_22': 0, 'x_23': 9506}. Best is trial 15 with value: 0.6483115798717741.\n",
      "[I 2025-10-13 03:26:16,184] Trial 81 finished with value: 0.6325598436799375 and parameters: {'x_0': 439511, 'x_1': 1143209, 'x_2': 36288, 'x_3': 19110, 'x_4': 751852, 'x_5': 52892, 'x_6': 314803, 'x_7': 6429, 'x_8': 14137, 'x_9': 7513, 'x_10': 15126, 'x_11': 9953, 'x_12': 31168, 'x_13': 89338, 'x_14': 15632, 'x_15': 34256, 'x_16': 1710, 'x_17': 4863, 'x_18': 112642, 'x_19': 3458, 'x_20': 5143, 'x_21': 139599, 'x_22': 83607, 'x_23': 37250}. Best is trial 15 with value: 0.6483115798717741.\n",
      "[I 2025-10-13 03:26:17,130] Trial 82 finished with value: 0.494726002895684 and parameters: {'x_0': 3520, 'x_1': 18500, 'x_2': 20000, 'x_3': 0, 'x_4': 0, 'x_5': 15500, 'x_6': 0, 'x_7': 0, 'x_8': 2800, 'x_9': 1000, 'x_10': 10000, 'x_11': 5000, 'x_12': 15, 'x_13': 200, 'x_14': 180, 'x_15': 0, 'x_16': 0, 'x_17': 733, 'x_18': 0, 'x_19': 2862, 'x_20': 438, 'x_21': 0, 'x_22': 15659, 'x_23': 0}. Best is trial 15 with value: 0.6483115798717741.\n",
      "[I 2025-10-13 03:26:18,293] Trial 83 finished with value: 0.6325472408067091 and parameters: {'x_0': 525300, 'x_1': 933528, 'x_2': 47496, 'x_3': 13852, 'x_4': 925699, 'x_5': 56942, 'x_6': 420765, 'x_7': 6192, 'x_8': 13493, 'x_9': 7245, 'x_10': 14335, 'x_11': 10148, 'x_12': 33272, 'x_13': 122402, 'x_14': 14197, 'x_15': 28808, 'x_16': 1640, 'x_17': 6117, 'x_18': 99773, 'x_19': 3413, 'x_20': 5613, 'x_21': 150978, 'x_22': 38891, 'x_23': 35582}. Best is trial 15 with value: 0.6483115798717741.\n",
      "[I 2025-10-13 03:26:19,135] Trial 84 finished with value: 0.6093209007589675 and parameters: {'x_0': 3520, 'x_1': 18500, 'x_2': 20000, 'x_3': 0, 'x_4': 0, 'x_5': 15500, 'x_6': 0, 'x_7': 0, 'x_8': 2800, 'x_9': 1000, 'x_10': 10000, 'x_11': 5000, 'x_12': 44, 'x_13': 0, 'x_14': 0, 'x_15': 200, 'x_16': 50, 'x_17': 0, 'x_18': 0, 'x_19': 2866, 'x_20': 441, 'x_21': 0, 'x_22': 24000, 'x_23': 9100}. Best is trial 15 with value: 0.6483115798717741.\n",
      "[I 2025-10-13 03:26:20,317] Trial 85 finished with value: 0.6325037315878577 and parameters: {'x_0': 391062, 'x_1': 1532252, 'x_2': 36827, 'x_3': 23262, 'x_4': 729120, 'x_5': 49399, 'x_6': 290063, 'x_7': 5731, 'x_8': 14363, 'x_9': 6625, 'x_10': 15593, 'x_11': 9781, 'x_12': 29905, 'x_13': 113904, 'x_14': 17183, 'x_15': 41462, 'x_16': 1759, 'x_17': 4276, 'x_18': 174909, 'x_19': 10520, 'x_20': 3967, 'x_21': 164903, 'x_22': 81987, 'x_23': 34315}. Best is trial 15 with value: 0.6483115798717741.\n"
     ]
    }
   ],
   "source": [
    "services_weights = service_types_df.set_index('blocksnet')['infrastructure_weight'].to_dict()\n",
    "\n",
    "objective = WeightedObjective(num_params=facade.num_params, facade=facade, weights=services_weights, max_evals=MAX_EVALS)\n",
    "\n",
    "constraints = WeightedConstraints(num_params=facade.num_params, facade=facade)\n",
    "\n",
    "tpe_optimizer = TPEOptimizer(\n",
    "    objective=objective, constraints=constraints, vars_chooser=GradientChooser(facade, facade.num_params, num_top=5)\n",
    ")\n",
    "\n",
    "best_x, best_val, perc, func_evals = tpe_optimizer.run(max_runs=MAX_RUNS, timeout=TIMEOUT, initial_runs_num=1)"
   ]
  },
  {
   "cell_type": "markdown",
   "id": "3bc80a2f",
   "metadata": {},
   "source": [
    "### Результат\n",
    "\n",
    "- Если для данного данного сервиса нет в списке доступных для данного `land_use`, он не оптимизируется и не учитывается.\n",
    "- То что не оптимизировали, надо пересчитать, особенно если прибавилось население. Добавляем это население по возможности"
   ]
  },
  {
   "cell_type": "code",
   "execution_count": 49,
   "id": "b58f5571",
   "metadata": {},
   "outputs": [],
   "source": [
    "solution_population_df = facade.get_solution_area_df(best_x)\n",
    "solution_population_df\n",
    "\n",
    "prov_gdfs = {}\n",
    "for st_id in service_types_df.index:\n",
    "    st_name = service_types_df.loc[st_id, 'blocksnet']\n",
    "    if st_name in facade._chosen_service_types:\n",
    "        prov_df = facade._provision_adapter.get_last_provision_df(st_name)\n",
    "        prov_gdf = blocks_gdf[['geometry']].join(prov_df, how='right')\n",
    "        prov_gdfs[st_name] = prov_gdf\n",
    "    else:\n",
    "        column = f'capacity_{st_name}'\n",
    "        _,demand,accessibility = service_types_config[st_name].values()\n",
    "        df = blocks_gdf.rename(columns={f'capacity_{st_id}': f'capacity_{st_name}'})\n",
    "        df.loc[blocks_gdf.is_project, f'capacity_{st_name}'] = 0\n",
    "        df.loc[blocks_gdf.is_project, 'population'] = solution_population_df.loc[blocks_gdf.is_project, 'population']\n",
    "        prov_gdf = _assess_provision(df, acc_mx, st_name)\n",
    "        prov_gdfs[st_name] = prov_gdf"
   ]
  },
  {
   "cell_type": "code",
   "execution_count": 50,
   "id": "02557302",
   "metadata": {},
   "outputs": [
    {
     "data": {
      "image/png": "[encoded data removed]",
      "text/plain": [
       "<Figure size 640x480 with 2 Axes>"
      ]
     },
     "metadata": {},
     "output_type": "display_data"
    }
   ],
   "source": [
    "ax = prov_gdfs['hospital'].plot(color='#ddd')\n",
    "prov_gdfs['hospital'].plot('provision_strong', ax=ax, vmin=0, vmax=1, cmap='RdYlGn', legend=True).set_axis_off()"
   ]
  },
  {
   "cell_type": "markdown",
   "id": "d580c1ce",
   "metadata": {},
   "source": [
    "Чиселки обеспеченности для графика"
   ]
  },
  {
   "cell_type": "code",
   "execution_count": 53,
   "id": "894e4b17",
   "metadata": {},
   "outputs": [],
   "source": [
    "prov_totals_after = {}\n",
    "for st_name, prov_gdf in prov_gdfs.items():\n",
    "    if prov_gdf.demand.sum() == 0:\n",
    "        if prov_gdf.capacity.sum() > 0:\n",
    "            total = 1.0\n",
    "        else:\n",
    "            total = 0.0\n",
    "    else:\n",
    "        total = float(provision_strong_total(prov_gdf))\n",
    "    prov_totals_after[st_name] = total"
   ]
  },
  {
   "cell_type": "markdown",
   "id": "0d7a8885",
   "metadata": {},
   "source": [
    "Если какой-то сервис тут отсутствует, можно брать с `base_scenario` (?? я подумаю еще правильно ли это)"
   ]
  },
  {
   "cell_type": "code",
   "execution_count": 54,
   "id": "2d1c01b6",
   "metadata": {},
   "outputs": [
    {
     "data": {
      "text/plain": [
       "{'park': 0.07477397978721632,\n",
       " 'beach': 0.0,\n",
       " 'kindergarten': 0.003305238803503553,\n",
       " 'school': 0.005247580865221133,\n",
       " 'university': 0.09342301943198804,\n",
       " 'polyclinic': 0.009727626459143969,\n",
       " 'pharmacy': 0.006744225257123588,\n",
       " 'hospital': 0.1078167115902965,\n",
       " 'library': 0.998780487804878,\n",
       " 'museum': 0.15873015873015872,\n",
       " 'theatre': 1.0,\n",
       " 'cinema': 0.18094089264173704,\n",
       " 'mall': 1.0,\n",
       " 'stadium': 1.0,\n",
       " 'cafe': 0.0025290844714213456,\n",
       " 'restaurant': 0.011893870082342177,\n",
       " 'bar': 0.010041420861051838,\n",
       " 'pitch': 1.0,\n",
       " 'playground': 1.0,\n",
       " 'police': 0.030349013657056147,\n",
       " 'train_station': 0.4884601294419343,\n",
       " 'supermarket': 0.0010115570391725462,\n",
       " 'market': 0.6076072426783328,\n",
       " 'bank': 0.9998752806186081,\n",
       " 'veterinary': 0.05332239540607055,\n",
       " 'hotel': 1.0,\n",
       " 'religion': 0.3240279162512463,\n",
       " 'sanatorium': 0.0}"
      ]
     },
     "execution_count": 54,
     "metadata": {},
     "output_type": "execute_result"
    }
   ],
   "source": [
    "prov_totals_after"
   ]
  },
  {
   "cell_type": "code",
   "execution_count": 55,
   "id": "8d1380ac",
   "metadata": {},
   "outputs": [
    {
     "data": {
      "text/plain": [
       "<Axes: >"
      ]
     },
     "execution_count": 55,
     "metadata": {},
     "output_type": "execute_result"
    },
    {
     "data": {
      "image/png": "[encoded data removed]",
      "text/plain": [
       "<Figure size 640x480 with 1 Axes>"
      ]
     },
     "metadata": {},
     "output_type": "display_data"
    }
   ],
   "source": [
    "provisions_df = pd.DataFrame.from_dict({'before': prov_totals_before, 'after': prov_totals_after})\n",
    "provisions_df.plot.bar()"
   ]
  },
  {
   "cell_type": "markdown",
   "id": "8810de6e",
   "metadata": {},
   "source": [
    "# **Ф26**: Модуль ценностно-ориентированного моделирования программ развития населенного пункта.\n",
    "\n",
    "Берем результат из пункта `2.b` и разворачиваем его на кварталы: куда что ставить:\n",
    "\n",
    "- `block_id` -- номер квартала, куда ставим.\n",
    "- `service_type` -- тип сервиса.\n",
    "- `site_area` -- занимаемая площадь квартала.\n",
    "- `build_floor_area` -- занимаемая площадь зданий.\n",
    "- `capacity` -- суммарная емкость типа застройки\n",
    "- `count` -- количество расставляемых объектов данного типа в данном квартале"
   ]
  },
  {
   "cell_type": "code",
   "execution_count": 56,
   "id": "f4bc3cc9",
   "metadata": {},
   "outputs": [
    {
     "data": {
      "application/vnd.microsoft.datawrangler.viewer.v0+json": {
       "columns": [
        {
         "name": "index",
         "rawType": "int64",
         "type": "integer"
        },
        {
         "name": "block_id",
         "rawType": "int64",
         "type": "integer"
        },
        {
         "name": "service_type",
         "rawType": "object",
         "type": "string"
        },
        {
         "name": "site_area",
         "rawType": "float64",
         "type": "float"
        },
        {
         "name": "build_floor_area",
         "rawType": "float64",
         "type": "float"
        },
        {
         "name": "capacity",
         "rawType": "int64",
         "type": "integer"
        },
        {
         "name": "count",
         "rawType": "int64",
         "type": "integer"
        }
       ],
       "ref": "5cdd42df-bc41-4ff4-bd5c-2d3aebb432b4",
       "rows": [
        [
         "0",
         "0",
         "kindergarten",
         "3520.0",
         "240.0",
         "80",
         "1"
        ],
        [
         "6",
         "0",
         "school",
         "18500.0",
         "2500.0",
         "250",
         "1"
        ],
        [
         "13",
         "0",
         "university",
         "20000.0",
         "5000.0",
         "500",
         "1"
        ],
        [
         "20",
         "0",
         "polyclinic",
         "0.0",
         "400.0",
         "50",
         "1"
        ],
        [
         "22",
         "0",
         "pharmacy",
         "0.0",
         "25.0",
         "40",
         "1"
        ],
        [
         "25",
         "0",
         "hospital",
         "3500.0",
         "660.0",
         "110",
         "1"
        ],
        [
         "26",
         "0",
         "hospital",
         "12000.0",
         "2400.0",
         "400",
         "1"
        ],
        [
         "31",
         "0",
         "library",
         "0.0",
         "207.0",
         "230",
         "1"
        ],
        [
         "35",
         "0",
         "museum",
         "0.0",
         "400.0",
         "200",
         "1"
        ],
        [
         "38",
         "0",
         "theatre",
         "2800.0",
         "2000.0",
         "800",
         "1"
        ],
        [
         "41",
         "0",
         "cinema",
         "1000.0",
         "700.0",
         "450",
         "1"
        ],
        [
         "45",
         "0",
         "mall",
         "10000.0",
         "4200.0",
         "7000",
         "1"
        ],
        [
         "48",
         "0",
         "stadium",
         "5000.0",
         "1000.0",
         "2000",
         "1"
        ],
        [
         "51",
         "0",
         "cafe",
         "100.0",
         "75.0",
         "25",
         "1"
        ],
        [
         "59",
         "0",
         "restaurant",
         "200.0",
         "135.0",
         "45",
         "1"
        ],
        [
         "67",
         "0",
         "bar",
         "60.0",
         "45.0",
         "30",
         "3"
        ],
        [
         "73",
         "0",
         "pitch",
         "150.0",
         "0.0",
         "10",
         "1"
        ],
        [
         "77",
         "0",
         "playground",
         "50.0",
         "0.0",
         "20",
         "1"
        ],
        [
         "80",
         "0",
         "police",
         "700.0",
         "240.0",
         "60",
         "1"
        ],
        [
         "87",
         "0",
         "supermarket",
         "0.0",
         "200.0",
         "200",
         "1"
        ],
        [
         "90",
         "0",
         "market",
         "3000.0",
         "6000.0",
         "3000",
         "1"
        ],
        [
         "94",
         "0",
         "bank",
         "450.0",
         "400.0",
         "250",
         "1"
        ],
        [
         "98",
         "0",
         "veterinary",
         "0.0",
         "400.0",
         "30",
         "1"
        ],
        [
         "100",
         "0",
         "veterinary",
         "0.0",
         "450.0",
         "35",
         "1"
        ],
        [
         "106",
         "0",
         "religion",
         "9100.0",
         "2000.0",
         "1300",
         "1"
        ]
       ],
       "shape": {
        "columns": 6,
        "rows": 25
       }
      },
      "text/html": [
       "<div>\n",
       "<style scoped>\n",
       "    .dataframe tbody tr th:only-of-type {\n",
       "        vertical-align: middle;\n",
       "    }\n",
       "\n",
       "    .dataframe tbody tr th {\n",
       "        vertical-align: top;\n",
       "    }\n",
       "\n",
       "    .dataframe thead th {\n",
       "        text-align: right;\n",
       "    }\n",
       "</style>\n",
       "<table border=\"1\" class=\"dataframe\">\n",
       "  <thead>\n",
       "    <tr style=\"text-align: right;\">\n",
       "      <th></th>\n",
       "      <th>block_id</th>\n",
       "      <th>service_type</th>\n",
       "      <th>site_area</th>\n",
       "      <th>build_floor_area</th>\n",
       "      <th>capacity</th>\n",
       "      <th>count</th>\n",
       "    </tr>\n",
       "  </thead>\n",
       "  <tbody>\n",
       "    <tr>\n",
       "      <th>0</th>\n",
       "      <td>0</td>\n",
       "      <td>kindergarten</td>\n",
       "      <td>3520.0</td>\n",
       "      <td>240.0</td>\n",
       "      <td>80</td>\n",
       "      <td>1</td>\n",
       "    </tr>\n",
       "    <tr>\n",
       "      <th>6</th>\n",
       "      <td>0</td>\n",
       "      <td>school</td>\n",
       "      <td>18500.0</td>\n",
       "      <td>2500.0</td>\n",
       "      <td>250</td>\n",
       "      <td>1</td>\n",
       "    </tr>\n",
       "    <tr>\n",
       "      <th>13</th>\n",
       "      <td>0</td>\n",
       "      <td>university</td>\n",
       "      <td>20000.0</td>\n",
       "      <td>5000.0</td>\n",
       "      <td>500</td>\n",
       "      <td>1</td>\n",
       "    </tr>\n",
       "    <tr>\n",
       "      <th>20</th>\n",
       "      <td>0</td>\n",
       "      <td>polyclinic</td>\n",
       "      <td>0.0</td>\n",
       "      <td>400.0</td>\n",
       "      <td>50</td>\n",
       "      <td>1</td>\n",
       "    </tr>\n",
       "    <tr>\n",
       "      <th>22</th>\n",
       "      <td>0</td>\n",
       "      <td>pharmacy</td>\n",
       "      <td>0.0</td>\n",
       "      <td>25.0</td>\n",
       "      <td>40</td>\n",
       "      <td>1</td>\n",
       "    </tr>\n",
       "    <tr>\n",
       "      <th>25</th>\n",
       "      <td>0</td>\n",
       "      <td>hospital</td>\n",
       "      <td>3500.0</td>\n",
       "      <td>660.0</td>\n",
       "      <td>110</td>\n",
       "      <td>1</td>\n",
       "    </tr>\n",
       "    <tr>\n",
       "      <th>26</th>\n",
       "      <td>0</td>\n",
       "      <td>hospital</td>\n",
       "      <td>12000.0</td>\n",
       "      <td>2400.0</td>\n",
       "      <td>400</td>\n",
       "      <td>1</td>\n",
       "    </tr>\n",
       "    <tr>\n",
       "      <th>31</th>\n",
       "      <td>0</td>\n",
       "      <td>library</td>\n",
       "      <td>0.0</td>\n",
       "      <td>207.0</td>\n",
       "      <td>230</td>\n",
       "      <td>1</td>\n",
       "    </tr>\n",
       "    <tr>\n",
       "      <th>35</th>\n",
       "      <td>0</td>\n",
       "      <td>museum</td>\n",
       "      <td>0.0</td>\n",
       "      <td>400.0</td>\n",
       "      <td>200</td>\n",
       "      <td>1</td>\n",
       "    </tr>\n",
       "    <tr>\n",
       "      <th>38</th>\n",
       "      <td>0</td>\n",
       "      <td>theatre</td>\n",
       "      <td>2800.0</td>\n",
       "      <td>2000.0</td>\n",
       "      <td>800</td>\n",
       "      <td>1</td>\n",
       "    </tr>\n",
       "    <tr>\n",
       "      <th>41</th>\n",
       "      <td>0</td>\n",
       "      <td>cinema</td>\n",
       "      <td>1000.0</td>\n",
       "      <td>700.0</td>\n",
       "      <td>450</td>\n",
       "      <td>1</td>\n",
       "    </tr>\n",
       "    <tr>\n",
       "      <th>45</th>\n",
       "      <td>0</td>\n",
       "      <td>mall</td>\n",
       "      <td>10000.0</td>\n",
       "      <td>4200.0</td>\n",
       "      <td>7000</td>\n",
       "      <td>1</td>\n",
       "    </tr>\n",
       "    <tr>\n",
       "      <th>48</th>\n",
       "      <td>0</td>\n",
       "      <td>stadium</td>\n",
       "      <td>5000.0</td>\n",
       "      <td>1000.0</td>\n",
       "      <td>2000</td>\n",
       "      <td>1</td>\n",
       "    </tr>\n",
       "    <tr>\n",
       "      <th>51</th>\n",
       "      <td>0</td>\n",
       "      <td>cafe</td>\n",
       "      <td>100.0</td>\n",
       "      <td>75.0</td>\n",
       "      <td>25</td>\n",
       "      <td>1</td>\n",
       "    </tr>\n",
       "    <tr>\n",
       "      <th>59</th>\n",
       "      <td>0</td>\n",
       "      <td>restaurant</td>\n",
       "      <td>200.0</td>\n",
       "      <td>135.0</td>\n",
       "      <td>45</td>\n",
       "      <td>1</td>\n",
       "    </tr>\n",
       "    <tr>\n",
       "      <th>67</th>\n",
       "      <td>0</td>\n",
       "      <td>bar</td>\n",
       "      <td>60.0</td>\n",
       "      <td>45.0</td>\n",
       "      <td>30</td>\n",
       "      <td>3</td>\n",
       "    </tr>\n",
       "    <tr>\n",
       "      <th>73</th>\n",
       "      <td>0</td>\n",
       "      <td>pitch</td>\n",
       "      <td>150.0</td>\n",
       "      <td>0.0</td>\n",
       "      <td>10</td>\n",
       "      <td>1</td>\n",
       "    </tr>\n",
       "    <tr>\n",
       "      <th>77</th>\n",
       "      <td>0</td>\n",
       "      <td>playground</td>\n",
       "      <td>50.0</td>\n",
       "      <td>0.0</td>\n",
       "      <td>20</td>\n",
       "      <td>1</td>\n",
       "    </tr>\n",
       "    <tr>\n",
       "      <th>80</th>\n",
       "      <td>0</td>\n",
       "      <td>police</td>\n",
       "      <td>700.0</td>\n",
       "      <td>240.0</td>\n",
       "      <td>60</td>\n",
       "      <td>1</td>\n",
       "    </tr>\n",
       "    <tr>\n",
       "      <th>87</th>\n",
       "      <td>0</td>\n",
       "      <td>supermarket</td>\n",
       "      <td>0.0</td>\n",
       "      <td>200.0</td>\n",
       "      <td>200</td>\n",
       "      <td>1</td>\n",
       "    </tr>\n",
       "    <tr>\n",
       "      <th>90</th>\n",
       "      <td>0</td>\n",
       "      <td>market</td>\n",
       "      <td>3000.0</td>\n",
       "      <td>6000.0</td>\n",
       "      <td>3000</td>\n",
       "      <td>1</td>\n",
       "    </tr>\n",
       "    <tr>\n",
       "      <th>94</th>\n",
       "      <td>0</td>\n",
       "      <td>bank</td>\n",
       "      <td>450.0</td>\n",
       "      <td>400.0</td>\n",
       "      <td>250</td>\n",
       "      <td>1</td>\n",
       "    </tr>\n",
       "    <tr>\n",
       "      <th>98</th>\n",
       "      <td>0</td>\n",
       "      <td>veterinary</td>\n",
       "      <td>0.0</td>\n",
       "      <td>400.0</td>\n",
       "      <td>30</td>\n",
       "      <td>1</td>\n",
       "    </tr>\n",
       "    <tr>\n",
       "      <th>100</th>\n",
       "      <td>0</td>\n",
       "      <td>veterinary</td>\n",
       "      <td>0.0</td>\n",
       "      <td>450.0</td>\n",
       "      <td>35</td>\n",
       "      <td>1</td>\n",
       "    </tr>\n",
       "    <tr>\n",
       "      <th>106</th>\n",
       "      <td>0</td>\n",
       "      <td>religion</td>\n",
       "      <td>9100.0</td>\n",
       "      <td>2000.0</td>\n",
       "      <td>1300</td>\n",
       "      <td>1</td>\n",
       "    </tr>\n",
       "  </tbody>\n",
       "</table>\n",
       "</div>"
      ],
      "text/plain": [
       "     block_id  service_type  site_area  build_floor_area  capacity  count\n",
       "0           0  kindergarten     3520.0             240.0        80      1\n",
       "6           0        school    18500.0            2500.0       250      1\n",
       "13          0    university    20000.0            5000.0       500      1\n",
       "20          0    polyclinic        0.0             400.0        50      1\n",
       "22          0      pharmacy        0.0              25.0        40      1\n",
       "25          0      hospital     3500.0             660.0       110      1\n",
       "26          0      hospital    12000.0            2400.0       400      1\n",
       "31          0       library        0.0             207.0       230      1\n",
       "35          0        museum        0.0             400.0       200      1\n",
       "38          0       theatre     2800.0            2000.0       800      1\n",
       "41          0        cinema     1000.0             700.0       450      1\n",
       "45          0          mall    10000.0            4200.0      7000      1\n",
       "48          0       stadium     5000.0            1000.0      2000      1\n",
       "51          0          cafe      100.0              75.0        25      1\n",
       "59          0    restaurant      200.0             135.0        45      1\n",
       "67          0           bar       60.0              45.0        30      3\n",
       "73          0         pitch      150.0               0.0        10      1\n",
       "77          0    playground       50.0               0.0        20      1\n",
       "80          0        police      700.0             240.0        60      1\n",
       "87          0   supermarket        0.0             200.0       200      1\n",
       "90          0        market     3000.0            6000.0      3000      1\n",
       "94          0          bank      450.0             400.0       250      1\n",
       "98          0    veterinary        0.0             400.0        30      1\n",
       "100         0    veterinary        0.0             450.0        35      1\n",
       "106         0      religion     9100.0            2000.0      1300      1"
      ]
     },
     "execution_count": 56,
     "metadata": {},
     "output_type": "execute_result"
    }
   ],
   "source": [
    "solution_df = facade.solution_to_services_df(best_x)\n",
    "solution_df"
   ]
  },
  {
   "cell_type": "markdown",
   "id": "31b33c61",
   "metadata": {},
   "source": [
    "Отсюда нужно взять `population` для каждого квартала (`index` здесь это тот же индекс из `blocks : pd.DataFrame`)"
   ]
  },
  {
   "cell_type": "code",
   "execution_count": 57,
   "id": "43c52558",
   "metadata": {},
   "outputs": [
    {
     "data": {
      "application/vnd.microsoft.datawrangler.viewer.v0+json": {
       "columns": [
        {
         "name": "index",
         "rawType": "int64",
         "type": "integer"
        },
        {
         "name": "population",
         "rawType": "float64",
         "type": "float"
        },
        {
         "name": "build_floor_area",
         "rawType": "float64",
         "type": "float"
        },
        {
         "name": "living_area",
         "rawType": "float64",
         "type": "float"
        },
        {
         "name": "footprint_area",
         "rawType": "float64",
         "type": "float"
        }
       ],
       "ref": "62e07e6d-91a4-4bab-bbab-f2f1e03513e4",
       "rows": [
        [
         "0",
         "396210.0",
         "4274876.283167821",
         "4245109.283167821",
         "759978.0058965017"
        ],
        [
         "1",
         "0.0",
         "64050446.43328446",
         "0.0",
         "0.0"
        ],
        [
         "2",
         "0.0",
         "219455131.95543593",
         "0.0",
         "0.0"
        ],
        [
         "3",
         "0.0",
         "332048237.58749604",
         "0.0",
         "0.0"
        ],
        [
         "4",
         "0.0",
         "646857.9034788721",
         "0.0",
         "0.0"
        ],
        [
         "5",
         "0.0",
         "109747118.76909621",
         "0.0",
         "0.0"
        ],
        [
         "6",
         "0.0",
         "254860.49513239038",
         "0.0",
         "0.0"
        ],
        [
         "7",
         "0.0",
         "1706034.3237213732",
         "0.0",
         "0.0"
        ],
        [
         "8",
         "0.0",
         "86460.84095548661",
         "0.0",
         "0.0"
        ],
        [
         "9",
         "0.0",
         "1509068.6058499422",
         "0.0",
         "0.0"
        ],
        [
         "10",
         "0.0",
         "714236.6096692993",
         "0.0",
         "0.0"
        ],
        [
         "11",
         "0.0",
         "460639.02057329076",
         "0.0",
         "0.0"
        ],
        [
         "12",
         "0.0",
         "135931.1814211931",
         "0.0",
         "0.0"
        ],
        [
         "13",
         "0.0",
         "3726513.9797575423",
         "0.0",
         "0.0"
        ],
        [
         "14",
         "0.0",
         "692385.1295858817",
         "0.0",
         "0.0"
        ],
        [
         "15",
         "0.0",
         "4404.803300382253",
         "0.0",
         "0.0"
        ],
        [
         "16",
         "0.0",
         "3132.537571566732",
         "0.0",
         "0.0"
        ],
        [
         "17",
         "0.0",
         "38485.51055089498",
         "0.0",
         "0.0"
        ],
        [
         "18",
         "0.0",
         "35792.60288792953",
         "0.0",
         "0.0"
        ],
        [
         "19",
         "0.0",
         "2181184.511509707",
         "0.0",
         "0.0"
        ],
        [
         "20",
         "0.0",
         "336934.3663313018",
         "0.0",
         "0.0"
        ],
        [
         "21",
         "0.0",
         "388823.1253823811",
         "0.0",
         "0.0"
        ],
        [
         "22",
         "0.0",
         "3828.2354081255735",
         "0.0",
         "0.0"
        ],
        [
         "23",
         "0.0",
         "13066948.921397759",
         "0.0",
         "0.0"
        ],
        [
         "24",
         "0.0",
         "87954.57631972407",
         "0.0",
         "0.0"
        ],
        [
         "25",
         "0.0",
         "660120.4991625671",
         "0.0",
         "0.0"
        ],
        [
         "26",
         "0.0",
         "181796.25710216735",
         "0.0",
         "0.0"
        ],
        [
         "27",
         "0.0",
         "632.0848457765383",
         "0.0",
         "0.0"
        ],
        [
         "28",
         "0.0",
         "60524705.56298325",
         "0.0",
         "0.0"
        ],
        [
         "29",
         "0.0",
         "3385.9241985398976",
         "0.0",
         "0.0"
        ],
        [
         "30",
         "0.0",
         "6742.670855213316",
         "0.0",
         "0.0"
        ],
        [
         "31",
         "0.0",
         "2810.8309636477657",
         "0.0",
         "0.0"
        ],
        [
         "32",
         "0.0",
         "6932.976741890282",
         "0.0",
         "0.0"
        ],
        [
         "33",
         "0.0",
         "185605.20704319509",
         "0.0",
         "0.0"
        ],
        [
         "34",
         "0.0",
         "15719447.443479296",
         "0.0",
         "0.0"
        ],
        [
         "35",
         "0.0",
         "61338318.252803385",
         "0.0",
         "0.0"
        ],
        [
         "36",
         "0.0",
         "282.8162635746002",
         "0.0",
         "0.0"
        ],
        [
         "37",
         "0.0",
         "541.3986670988893",
         "0.0",
         "0.0"
        ],
        [
         "38",
         "0.0",
         "12903687.725663256",
         "0.0",
         "0.0"
        ],
        [
         "39",
         "0.0",
         "162374.05276535093",
         "0.0",
         "0.0"
        ],
        [
         "40",
         "0.0",
         "8117.736932170425",
         "0.0",
         "0.0"
        ],
        [
         "41",
         "0.0",
         "43586.87392074373",
         "0.0",
         "0.0"
        ],
        [
         "42",
         "0.0",
         "236481.7964823485",
         "0.0",
         "0.0"
        ],
        [
         "43",
         "0.0",
         "818848.7838219695",
         "0.0",
         "0.0"
        ],
        [
         "44",
         "0.0",
         "1066.3292660322916",
         "0.0",
         "0.0"
        ],
        [
         "45",
         "0.0",
         "388092.2445266413",
         "0.0",
         "0.0"
        ],
        [
         "46",
         "0.0",
         "979.4314139657298",
         "0.0",
         "0.0"
        ],
        [
         "47",
         "0.0",
         "1078.8520318916742",
         "0.0",
         "0.0"
        ],
        [
         "48",
         "0.0",
         "898.4626649019392",
         "0.0",
         "0.0"
        ],
        [
         "49",
         "0.0",
         "1688827.0539399267",
         "0.0",
         "0.0"
        ]
       ],
       "shape": {
        "columns": 4,
        "rows": 461
       }
      },
      "text/html": [
       "<div>\n",
       "<style scoped>\n",
       "    .dataframe tbody tr th:only-of-type {\n",
       "        vertical-align: middle;\n",
       "    }\n",
       "\n",
       "    .dataframe tbody tr th {\n",
       "        vertical-align: top;\n",
       "    }\n",
       "\n",
       "    .dataframe thead th {\n",
       "        text-align: right;\n",
       "    }\n",
       "</style>\n",
       "<table border=\"1\" class=\"dataframe\">\n",
       "  <thead>\n",
       "    <tr style=\"text-align: right;\">\n",
       "      <th></th>\n",
       "      <th>population</th>\n",
       "      <th>build_floor_area</th>\n",
       "      <th>living_area</th>\n",
       "      <th>footprint_area</th>\n",
       "    </tr>\n",
       "  </thead>\n",
       "  <tbody>\n",
       "    <tr>\n",
       "      <th>0</th>\n",
       "      <td>396210.0</td>\n",
       "      <td>4.274876e+06</td>\n",
       "      <td>4.245109e+06</td>\n",
       "      <td>759978.005897</td>\n",
       "    </tr>\n",
       "    <tr>\n",
       "      <th>1</th>\n",
       "      <td>0.0</td>\n",
       "      <td>6.405045e+07</td>\n",
       "      <td>0.000000e+00</td>\n",
       "      <td>0.000000</td>\n",
       "    </tr>\n",
       "    <tr>\n",
       "      <th>2</th>\n",
       "      <td>0.0</td>\n",
       "      <td>2.194551e+08</td>\n",
       "      <td>0.000000e+00</td>\n",
       "      <td>0.000000</td>\n",
       "    </tr>\n",
       "    <tr>\n",
       "      <th>3</th>\n",
       "      <td>0.0</td>\n",
       "      <td>3.320482e+08</td>\n",
       "      <td>0.000000e+00</td>\n",
       "      <td>0.000000</td>\n",
       "    </tr>\n",
       "    <tr>\n",
       "      <th>4</th>\n",
       "      <td>0.0</td>\n",
       "      <td>6.468579e+05</td>\n",
       "      <td>0.000000e+00</td>\n",
       "      <td>0.000000</td>\n",
       "    </tr>\n",
       "    <tr>\n",
       "      <th>...</th>\n",
       "      <td>...</td>\n",
       "      <td>...</td>\n",
       "      <td>...</td>\n",
       "      <td>...</td>\n",
       "    </tr>\n",
       "    <tr>\n",
       "      <th>456</th>\n",
       "      <td>0.0</td>\n",
       "      <td>1.288098e+04</td>\n",
       "      <td>0.000000e+00</td>\n",
       "      <td>0.000000</td>\n",
       "    </tr>\n",
       "    <tr>\n",
       "      <th>457</th>\n",
       "      <td>0.0</td>\n",
       "      <td>8.803568e+02</td>\n",
       "      <td>0.000000e+00</td>\n",
       "      <td>0.000000</td>\n",
       "    </tr>\n",
       "    <tr>\n",
       "      <th>458</th>\n",
       "      <td>0.0</td>\n",
       "      <td>5.518729e+02</td>\n",
       "      <td>0.000000e+00</td>\n",
       "      <td>0.000000</td>\n",
       "    </tr>\n",
       "    <tr>\n",
       "      <th>459</th>\n",
       "      <td>0.0</td>\n",
       "      <td>7.127272e+02</td>\n",
       "      <td>0.000000e+00</td>\n",
       "      <td>0.000000</td>\n",
       "    </tr>\n",
       "    <tr>\n",
       "      <th>460</th>\n",
       "      <td>0.0</td>\n",
       "      <td>8.373475e+02</td>\n",
       "      <td>0.000000e+00</td>\n",
       "      <td>0.000000</td>\n",
       "    </tr>\n",
       "  </tbody>\n",
       "</table>\n",
       "<p>461 rows × 4 columns</p>\n",
       "</div>"
      ],
      "text/plain": [
       "     population  build_floor_area   living_area  footprint_area\n",
       "0      396210.0      4.274876e+06  4.245109e+06   759978.005897\n",
       "1           0.0      6.405045e+07  0.000000e+00        0.000000\n",
       "2           0.0      2.194551e+08  0.000000e+00        0.000000\n",
       "3           0.0      3.320482e+08  0.000000e+00        0.000000\n",
       "4           0.0      6.468579e+05  0.000000e+00        0.000000\n",
       "..          ...               ...           ...             ...\n",
       "456         0.0      1.288098e+04  0.000000e+00        0.000000\n",
       "457         0.0      8.803568e+02  0.000000e+00        0.000000\n",
       "458         0.0      5.518729e+02  0.000000e+00        0.000000\n",
       "459         0.0      7.127272e+02  0.000000e+00        0.000000\n",
       "460         0.0      8.373475e+02  0.000000e+00        0.000000\n",
       "\n",
       "[461 rows x 4 columns]"
      ]
     },
     "execution_count": 57,
     "metadata": {},
     "output_type": "execute_result"
    }
   ],
   "source": [
    "solution_population_df = facade.get_solution_area_df(best_x)\n",
    "solution_population_df"
   ]
  }
 ],
 "metadata": {
  "kernelspec": {
   "display_name": ".venv",
   "language": "python",
   "name": "python3"
  },
  "language_info": {
   "codemirror_mode": {
    "name": "ipython",
    "version": 3
   },
   "file_extension": ".py",
   "mimetype": "text/x-python",
   "name": "python",
   "nbconvert_exporter": "python",
   "pygments_lexer": "ipython3",
   "version": "3.10.12"
  }
 },
 "nbformat": 4,
 "nbformat_minor": 5
}
