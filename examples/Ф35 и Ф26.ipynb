{
 "cells": [
  {
   "cell_type": "markdown",
   "id": "da933d70",
   "metadata": {},
   "source": [
    "# **Ф35**: Модуль прогнозирования эффектов трансформации территории в масштабах населенного пункта и региона"
   ]
  },
  {
   "cell_type": "markdown",
   "id": "917271ae",
   "metadata": {},
   "source": [
    "## 1. Подготовка исходных данных\n",
    "\n",
    "- `service_types` -- таблица типов сервисов.\n",
    "- `blocks` -- слой городских кварталов с разной информацией.\n",
    "- `acc_mx` -- матрица доступности городских кварталов."
   ]
  },
  {
   "cell_type": "code",
   "execution_count": 32,
   "id": "d9871314",
   "metadata": {},
   "outputs": [],
   "source": [
    "import pandas as pd\n",
    "import geopandas as gpd\n",
    "from blocksnet.config import log_config\n",
    "\n",
    "log_config.set_disable_tqdm(True)\n",
    "log_config.set_logger_level('ERROR')\n",
    "\n",
    "service_types = pd.read_pickle('./data/service_types.pickle')\n",
    "blocks = pd.read_pickle('./data/blocks.pickle')\n",
    "acc_mx = pd.read_pickle('./data/acc_mx.pickle')"
   ]
  },
  {
   "cell_type": "code",
   "execution_count": 33,
   "id": "93b8bb15",
   "metadata": {},
   "outputs": [],
   "source": [
    "blocks['population'] = blocks['population'].fillna(0)"
   ]
  },
  {
   "cell_type": "markdown",
   "id": "09a65280",
   "metadata": {},
   "source": [
    "### 1.1. Подготовка списка сервисов\n",
    "\n",
    "Нужны только те списки сервисов, у которых есть `infrastructure_type`"
   ]
  },
  {
   "cell_type": "code",
   "execution_count": 34,
   "id": "3b0ab616",
   "metadata": {},
   "outputs": [
    {
     "data": {
      "application/vnd.microsoft.datawrangler.viewer.v0+json": {
       "columns": [
        {
         "name": "service_type_id",
         "rawType": "int64",
         "type": "integer"
        },
        {
         "name": "name",
         "rawType": "object",
         "type": "string"
        },
        {
         "name": "infrastructure_type",
         "rawType": "object",
         "type": "string"
        },
        {
         "name": "infrastructure_weight",
         "rawType": "float64",
         "type": "float"
        },
        {
         "name": "social_values",
         "rawType": "object",
         "type": "unknown"
        }
       ],
       "ref": "1f960bef-4a44-4266-8172-2d2091153bd6",
       "rows": [
        [
         "1",
         "park",
         "basic",
         "0.2",
         "[8]"
        ],
        [
         "5",
         "beach",
         "comfort",
         "0.5",
         null
        ],
        [
         "21",
         "kindergarten",
         "basic",
         "0.2",
         "[2]"
        ],
        [
         "22",
         "school",
         "basic",
         "0.2",
         "[2, 4]"
        ],
        [
         "27",
         "university",
         "comfort",
         "0.2",
         "[4, 10, 17]"
        ]
       ],
       "shape": {
        "columns": 4,
        "rows": 5
       }
      },
      "text/html": [
       "<div>\n",
       "<style scoped>\n",
       "    .dataframe tbody tr th:only-of-type {\n",
       "        vertical-align: middle;\n",
       "    }\n",
       "\n",
       "    .dataframe tbody tr th {\n",
       "        vertical-align: top;\n",
       "    }\n",
       "\n",
       "    .dataframe thead th {\n",
       "        text-align: right;\n",
       "    }\n",
       "</style>\n",
       "<table border=\"1\" class=\"dataframe\">\n",
       "  <thead>\n",
       "    <tr style=\"text-align: right;\">\n",
       "      <th></th>\n",
       "      <th>name</th>\n",
       "      <th>infrastructure_type</th>\n",
       "      <th>infrastructure_weight</th>\n",
       "      <th>social_values</th>\n",
       "    </tr>\n",
       "    <tr>\n",
       "      <th>service_type_id</th>\n",
       "      <th></th>\n",
       "      <th></th>\n",
       "      <th></th>\n",
       "      <th></th>\n",
       "    </tr>\n",
       "  </thead>\n",
       "  <tbody>\n",
       "    <tr>\n",
       "      <th>1</th>\n",
       "      <td>park</td>\n",
       "      <td>basic</td>\n",
       "      <td>0.2</td>\n",
       "      <td>[8]</td>\n",
       "    </tr>\n",
       "    <tr>\n",
       "      <th>5</th>\n",
       "      <td>beach</td>\n",
       "      <td>comfort</td>\n",
       "      <td>0.5</td>\n",
       "      <td>None</td>\n",
       "    </tr>\n",
       "    <tr>\n",
       "      <th>21</th>\n",
       "      <td>kindergarten</td>\n",
       "      <td>basic</td>\n",
       "      <td>0.2</td>\n",
       "      <td>[2]</td>\n",
       "    </tr>\n",
       "    <tr>\n",
       "      <th>22</th>\n",
       "      <td>school</td>\n",
       "      <td>basic</td>\n",
       "      <td>0.2</td>\n",
       "      <td>[2, 4]</td>\n",
       "    </tr>\n",
       "    <tr>\n",
       "      <th>27</th>\n",
       "      <td>university</td>\n",
       "      <td>comfort</td>\n",
       "      <td>0.2</td>\n",
       "      <td>[4, 10, 17]</td>\n",
       "    </tr>\n",
       "  </tbody>\n",
       "</table>\n",
       "</div>"
      ],
      "text/plain": [
       "                         name infrastructure_type  infrastructure_weight  \\\n",
       "service_type_id                                                            \n",
       "1                        park               basic                    0.2   \n",
       "5                       beach             comfort                    0.5   \n",
       "21               kindergarten               basic                    0.2   \n",
       "22                     school               basic                    0.2   \n",
       "27                 university             comfort                    0.2   \n",
       "\n",
       "                social_values  \n",
       "service_type_id                \n",
       "1                         [8]  \n",
       "5                        None  \n",
       "21                        [2]  \n",
       "22                     [2, 4]  \n",
       "27                [4, 10, 17]  "
      ]
     },
     "execution_count": 34,
     "metadata": {},
     "output_type": "execute_result"
    }
   ],
   "source": [
    "service_types = service_types[~service_types['infrastructure_type'].isna()].copy()\n",
    "service_types.head()"
   ]
  },
  {
   "cell_type": "markdown",
   "id": "d6f2eb94",
   "metadata": {},
   "source": [
    "## 2A. Эффекты ДО\n",
    "\n",
    "Если `scenario_id` является `base_scenario`, то мы не обязаны ничего оптимизировать и просто должны посчитать обеспеченность as is."
   ]
  },
  {
   "cell_type": "code",
   "execution_count": 35,
   "id": "4ab967cd",
   "metadata": {},
   "outputs": [],
   "source": [
    "from blocksnet.relations.accessibility import get_accessibility_context\n",
    "\n",
    "def _get_accessibility_context(blocks : pd.DataFrame, acc_mx : pd.DataFrame, accessibility : float) -> list[int]:\n",
    "  project_blocks = blocks[blocks['is_project']].copy()\n",
    "  context_blocks = get_accessibility_context(acc_mx, project_blocks, accessibility, out=False, keep=True)\n",
    "  return list(context_blocks.index)"
   ]
  },
  {
   "cell_type": "code",
   "execution_count": 36,
   "id": "26245b84",
   "metadata": {},
   "outputs": [],
   "source": [
    "from blocksnet.analysis.provision import competitive_provision\n",
    "from blocksnet.config import service_types_config\n",
    "\n",
    "def _assess_provision(blocks : pd.DataFrame, acc_mx : pd.DataFrame, service_type : str) -> gpd.GeoDataFrame:\n",
    "  _, demand, accessibility = service_types_config[service_type].values()\n",
    "  context_ids = _get_accessibility_context(blocks, acc_mx, accessibility)\n",
    "  capacity_column = f'capacity_{service_type}'\n",
    "  if capacity_column not in blocks.columns:\n",
    "    blocks_df = blocks[['geometry','population']].fillna(0)\n",
    "    blocks_df['capacity'] = 0\n",
    "  else:\n",
    "    blocks_df = blocks.rename(columns={capacity_column:'capacity'})[['geometry', 'population', 'capacity']].fillna(0)\n",
    "  prov_df, _ = competitive_provision(blocks_df, acc_mx, accessibility, demand)\n",
    "  prov_df = prov_df.loc[context_ids].copy()\n",
    "  return blocks[['geometry']].join(prov_df, how='right')"
   ]
  },
  {
   "cell_type": "markdown",
   "id": "70aab4b6",
   "metadata": {},
   "source": [
    "### Получаем слои с оценкой обеспеченности"
   ]
  },
  {
   "cell_type": "code",
   "execution_count": 37,
   "id": "ff29d74e",
   "metadata": {},
   "outputs": [],
   "source": [
    "from blocksnet.config import service_types_config\n",
    "\n",
    "prov_gdfs = {}\n",
    "for st_id in service_types.index:\n",
    "    st_name = service_types.loc[st_id,'name']\n",
    "    column = f'capacity_{st_name}'\n",
    "    _,demand,accessibility = service_types_config[st_name].values()\n",
    "    prov_gdf = _assess_provision(blocks, acc_mx, st_name)\n",
    "    prov_gdfs[st_name] = prov_gdf"
   ]
  },
  {
   "cell_type": "markdown",
   "id": "fe1ce07d",
   "metadata": {},
   "source": [
    "Например:"
   ]
  },
  {
   "cell_type": "code",
   "execution_count": 38,
   "id": "63c3ccf0",
   "metadata": {},
   "outputs": [
    {
     "data": {
      "image/png": "[encoded data removed]",
      "text/plain": [
       "<Figure size 640x480 with 2 Axes>"
      ]
     },
     "metadata": {},
     "output_type": "display_data"
    }
   ],
   "source": [
    "ax = prov_gdfs['school'].plot(color='#ddd')\n",
    "prov_gdfs['school'].plot('provision_strong', ax=ax, vmin=0, vmax=1, cmap='RdYlGn', legend=True).set_axis_off()"
   ]
  },
  {
   "cell_type": "markdown",
   "id": "980df468",
   "metadata": {},
   "source": [
    "### Получаем общие оценки обеспеченности"
   ]
  },
  {
   "cell_type": "code",
   "execution_count": 39,
   "id": "458f1b18",
   "metadata": {},
   "outputs": [],
   "source": [
    "from blocksnet.analysis.provision import competitive_provision, provision_strong_total\n",
    "\n",
    "prov_totals = {}\n",
    "for st_name, prov_gdf in prov_gdfs.items():\n",
    "    if prov_gdf.demand.sum() == 0:\n",
    "        total = None\n",
    "    else:\n",
    "        total = float(provision_strong_total(prov_gdf))\n",
    "    prov_totals[st_name] = total"
   ]
  },
  {
   "cell_type": "markdown",
   "id": "0f925bf2",
   "metadata": {},
   "source": [
    "В итоге:"
   ]
  },
  {
   "cell_type": "code",
   "execution_count": 40,
   "id": "ab1bc884",
   "metadata": {},
   "outputs": [
    {
     "data": {
      "text/plain": [
       "{'park': 1.0,\n",
       " 'beach': 0.0,\n",
       " 'kindergarten': 0.0,\n",
       " 'school': 0.674074074074074,\n",
       " 'university': 0.0,\n",
       " 'polyclinic': 0.0,\n",
       " 'pharmacy': 1.0,\n",
       " 'hospital': 0.5707547169811321,\n",
       " 'library': 1.0,\n",
       " 'museum': 0.9856115107913669,\n",
       " 'theatre': 0.0,\n",
       " 'cinema': 0.0,\n",
       " 'mall': 0.8875,\n",
       " 'stadium': 0.19327731092436976,\n",
       " 'cafe': 1.0,\n",
       " 'restaurant': 0.6990838618745595,\n",
       " 'bar': 0.4642857142857143,\n",
       " 'pitch': 1.0,\n",
       " 'playground': None,\n",
       " 'police': 0.4,\n",
       " 'train_station': 0.3865546218487395,\n",
       " 'supermarket': 0.9897209985315712,\n",
       " 'market': 0.6977599465061852,\n",
       " 'bank': 1.0,\n",
       " 'veterinary': 0.711864406779661,\n",
       " 'hotel': 1.0,\n",
       " 'religion': 0.6984924623115578,\n",
       " 'sanatorium': 0.0}"
      ]
     },
     "execution_count": 40,
     "metadata": {},
     "output_type": "execute_result"
    }
   ],
   "source": [
    "prov_totals"
   ]
  },
  {
   "cell_type": "markdown",
   "id": "8a27051e",
   "metadata": {},
   "source": [
    "### Результат\n",
    "\n",
    "В результате имеем следующие данные для ситуации ДО:\n",
    "- `prov_gdfs : dict[str, gpd.GeoDataFrame]` -- слои с оценкой обеспеченности по выбранным типам сервисов\n",
    "- `prov_totals : dict[str, float | None]` -- оценки обеспеченности"
   ]
  },
  {
   "cell_type": "markdown",
   "id": "596776b8",
   "metadata": {},
   "source": [
    "## 2B. Эффекты ПОСЛЕ\n",
    "\n",
    "Если `scenario_id` не является `base_scenario`, то для заданного пользователем функционального зонирования мы должны предсказать возможную обеспеченность (по сути, лучший случай)."
   ]
  },
  {
   "cell_type": "markdown",
   "id": "7d85e9f8",
   "metadata": {},
   "source": [
    "### Подготовка данных"
   ]
  },
  {
   "cell_type": "markdown",
   "id": "eeab0004",
   "metadata": {},
   "source": [
    "Для каждого `infrastructure_type` также добавим весовой коэффициент, чтобы отдать предпочтение базовым сервисам, а остальные добавлять по возможности."
   ]
  },
  {
   "cell_type": "code",
   "execution_count": 41,
   "id": "d0b45506",
   "metadata": {},
   "outputs": [
    {
     "data": {
      "application/vnd.microsoft.datawrangler.viewer.v0+json": {
       "columns": [
        {
         "name": "service_type_id",
         "rawType": "int64",
         "type": "integer"
        },
        {
         "name": "name",
         "rawType": "object",
         "type": "string"
        },
        {
         "name": "infrastructure_type",
         "rawType": "object",
         "type": "string"
        },
        {
         "name": "infrastructure_weight",
         "rawType": "float64",
         "type": "float"
        },
        {
         "name": "social_values",
         "rawType": "object",
         "type": "unknown"
        }
       ],
       "ref": "9d59a7ed-830f-4487-ba94-c09ddce5020b",
       "rows": [
        [
         "1",
         "park",
         "basic",
         "0.11428",
         "[8]"
        ],
        [
         "5",
         "beach",
         "comfort",
         "0.07145",
         null
        ],
        [
         "21",
         "kindergarten",
         "basic",
         "0.11428",
         "[2]"
        ],
        [
         "22",
         "school",
         "basic",
         "0.11428",
         "[2, 4]"
        ],
        [
         "27",
         "university",
         "comfort",
         "0.02858",
         "[4, 10, 17]"
        ]
       ],
       "shape": {
        "columns": 4,
        "rows": 5
       }
      },
      "text/html": [
       "<div>\n",
       "<style scoped>\n",
       "    .dataframe tbody tr th:only-of-type {\n",
       "        vertical-align: middle;\n",
       "    }\n",
       "\n",
       "    .dataframe tbody tr th {\n",
       "        vertical-align: top;\n",
       "    }\n",
       "\n",
       "    .dataframe thead th {\n",
       "        text-align: right;\n",
       "    }\n",
       "</style>\n",
       "<table border=\"1\" class=\"dataframe\">\n",
       "  <thead>\n",
       "    <tr style=\"text-align: right;\">\n",
       "      <th></th>\n",
       "      <th>name</th>\n",
       "      <th>infrastructure_type</th>\n",
       "      <th>infrastructure_weight</th>\n",
       "      <th>social_values</th>\n",
       "    </tr>\n",
       "    <tr>\n",
       "      <th>service_type_id</th>\n",
       "      <th></th>\n",
       "      <th></th>\n",
       "      <th></th>\n",
       "      <th></th>\n",
       "    </tr>\n",
       "  </thead>\n",
       "  <tbody>\n",
       "    <tr>\n",
       "      <th>1</th>\n",
       "      <td>park</td>\n",
       "      <td>basic</td>\n",
       "      <td>0.11428</td>\n",
       "      <td>[8]</td>\n",
       "    </tr>\n",
       "    <tr>\n",
       "      <th>5</th>\n",
       "      <td>beach</td>\n",
       "      <td>comfort</td>\n",
       "      <td>0.07145</td>\n",
       "      <td>None</td>\n",
       "    </tr>\n",
       "    <tr>\n",
       "      <th>21</th>\n",
       "      <td>kindergarten</td>\n",
       "      <td>basic</td>\n",
       "      <td>0.11428</td>\n",
       "      <td>[2]</td>\n",
       "    </tr>\n",
       "    <tr>\n",
       "      <th>22</th>\n",
       "      <td>school</td>\n",
       "      <td>basic</td>\n",
       "      <td>0.11428</td>\n",
       "      <td>[2, 4]</td>\n",
       "    </tr>\n",
       "    <tr>\n",
       "      <th>27</th>\n",
       "      <td>university</td>\n",
       "      <td>comfort</td>\n",
       "      <td>0.02858</td>\n",
       "      <td>[4, 10, 17]</td>\n",
       "    </tr>\n",
       "  </tbody>\n",
       "</table>\n",
       "</div>"
      ],
      "text/plain": [
       "                         name infrastructure_type  infrastructure_weight  \\\n",
       "service_type_id                                                            \n",
       "1                        park               basic                0.11428   \n",
       "5                       beach             comfort                0.07145   \n",
       "21               kindergarten               basic                0.11428   \n",
       "22                     school               basic                0.11428   \n",
       "27                 university             comfort                0.02858   \n",
       "\n",
       "                social_values  \n",
       "service_type_id                \n",
       "1                         [8]  \n",
       "5                        None  \n",
       "21                        [2]  \n",
       "22                     [2, 4]  \n",
       "27                [4, 10, 17]  "
      ]
     },
     "execution_count": 41,
     "metadata": {},
     "output_type": "execute_result"
    }
   ],
   "source": [
    "INFRASTRUCTURES_WEIGHTS = {\n",
    "    'basic': 0.5714,\n",
    "    'additional': 0.2857,\n",
    "    'comfort': 0.1429\n",
    "}\n",
    "\n",
    "service_types['infrastructure_weight'] = service_types['infrastructure_type'].map(INFRASTRUCTURES_WEIGHTS) * service_types['infrastructure_weight']\n",
    "service_types.head()"
   ]
  },
  {
   "cell_type": "markdown",
   "id": "41977203",
   "metadata": {},
   "source": [
    "Готовим словарь, какой квартал в какой ФЗ переводим.\n",
    "\n",
    "`blocks_lus : dict[int, LandUse]`"
   ]
  },
  {
   "cell_type": "code",
   "execution_count": 42,
   "id": "065af3f4",
   "metadata": {},
   "outputs": [],
   "source": [
    "blocks_lus = blocks.loc[blocks['is_project'],'land_use']\n",
    "blocks_lus = blocks_lus[~blocks_lus.isna()]\n",
    "blocks_lus = blocks_lus.to_dict()"
   ]
  },
  {
   "cell_type": "markdown",
   "id": "58a99c93",
   "metadata": {},
   "source": [
    "Инициализируем экземпляр класса оптимизатора."
   ]
  },
  {
   "cell_type": "code",
   "execution_count": 43,
   "id": "9d783585",
   "metadata": {},
   "outputs": [],
   "source": [
    "from blocksnet.optimization.services import (\n",
    "    TPEOptimizer,\n",
    "    WeightedObjective,\n",
    "    WeightedConstraints,\n",
    "    Facade,\n",
    "    BlockSolution,\n",
    "    SimpleChooser,\n",
    "    GradientChooser,\n",
    "    AreaSolution\n",
    ")\n",
    "\n",
    "var_adapter = AreaSolution(blocks_lus)\n",
    "\n",
    "facade = Facade(\n",
    "    blocks_lu=blocks_lus,\n",
    "    blocks_df=blocks,\n",
    "    accessibility_matrix=acc_mx,\n",
    "    var_adapter=var_adapter,\n",
    ")\n"
   ]
  },
  {
   "cell_type": "markdown",
   "id": "10cf65f9",
   "metadata": {},
   "source": [
    "Добавляем информацию о существующих типах сервисов.\n",
    "\n",
    "**ВАЖНО**: если сервиса нет в слое кварталов, просто добавляем `DataFrame` с нулевыми `capacity` для него. Ведь мы же должны что-то расставлять.\n",
    "\n",
    "ЛИБО\n",
    "\n",
    "Можно попробовать на этапе сборки слоя просто добавлять пустой столбец, чтобы не терять."
   ]
  },
  {
   "cell_type": "code",
   "execution_count": 44,
   "id": "3952fee4",
   "metadata": {},
   "outputs": [
    {
     "name": "stdout",
     "output_type": "stream",
     "text": [
      "#5:beach нет на территории контекста проекта. Добавляем нулевой датафрейм\n",
      "#51:theatre нет на территории контекста проекта. Добавляем нулевой датафрейм\n",
      "#56:cinema нет на территории контекста проекта. Добавляем нулевой датафрейм\n",
      "#143:sanatorium нет на территории контекста проекта. Добавляем нулевой датафрейм\n"
     ]
    }
   ],
   "source": [
    "for st_id, row in service_types.iterrows():\n",
    "    st_name = row['name']\n",
    "    st_weight = row['infrastructure_weight']\n",
    "    st_column = f'capacity_{st_name}'\n",
    "    if st_column in blocks.columns:\n",
    "        df = blocks.rename(columns={st_column: 'capacity'})[['capacity']].fillna(0)\n",
    "    else:\n",
    "        print(f'#{st_id}:{st_name} нет на территории контекста проекта. Добавляем нулевой датафрейм')\n",
    "        df = blocks[[]].copy()\n",
    "        df['capacity'] = 0\n",
    "    facade.add_service_type(st_name, st_weight, df)"
   ]
  },
  {
   "cell_type": "markdown",
   "id": "3842f465",
   "metadata": {},
   "source": [
    "### Оптимизация"
   ]
  },
  {
   "cell_type": "markdown",
   "id": "993cb219",
   "metadata": {},
   "source": [
    "Запускаем оптимизатор..."
   ]
  },
  {
   "cell_type": "code",
   "execution_count": 47,
   "id": "e166fc14",
   "metadata": {},
   "outputs": [
    {
     "data": {
      "application/vnd.jupyter.widget-view+json": {
       "model_id": "f80f48e160784c2da1be635de60dfb0c",
       "version_major": 2,
       "version_minor": 0
      },
      "text/plain": [
       "  0%|          | 0/50 [00:00<?, ?it/s]"
      ]
     },
     "metadata": {},
     "output_type": "display_data"
    },
    {
     "name": "stderr",
     "output_type": "stream",
     "text": [
      "/home/vasilstar/prostor-examples/.venv/lib/python3.10/site-packages/optuna/trial/_trial.py:652: UserWarning: Fixed parameter 'x_174' with value 1249 is out of range for distribution IntDistribution(high=426, log=False, low=0, step=1).\n",
      "  warnings.warn(\n",
      "/home/vasilstar/prostor-examples/.venv/lib/python3.10/site-packages/optuna/trial/_trial.py:652: UserWarning: Fixed parameter 'x_176' with value 1252 is out of range for distribution IntDistribution(high=612, log=False, low=0, step=1).\n",
      "  warnings.warn(\n",
      "/home/vasilstar/prostor-examples/.venv/lib/python3.10/site-packages/optuna/trial/_trial.py:652: UserWarning: Fixed parameter 'x_318' with value 1762 is out of range for distribution IntDistribution(high=23, log=False, low=0, step=1).\n",
      "  warnings.warn(\n",
      "/home/vasilstar/prostor-examples/.venv/lib/python3.10/site-packages/optuna/trial/_trial.py:652: UserWarning: Fixed parameter 'x_324' with value 1762 is out of range for distribution IntDistribution(high=820, log=False, low=0, step=1).\n",
      "  warnings.warn(\n",
      "/home/vasilstar/prostor-examples/.venv/lib/python3.10/site-packages/optuna/trial/_trial.py:652: UserWarning: Fixed parameter 'x_367' with value 2411 is out of range for distribution IntDistribution(high=1898, log=False, low=0, step=1).\n",
      "  warnings.warn(\n",
      "/home/vasilstar/prostor-examples/.venv/lib/python3.10/site-packages/optuna/trial/_trial.py:652: UserWarning: Fixed parameter 'x_529' with value 121 is out of range for distribution IntDistribution(high=27, log=False, low=0, step=1).\n",
      "  warnings.warn(\n"
     ]
    }
   ],
   "source": [
    "services_weights = service_types.set_index('name')['infrastructure_weight'].to_dict()\n",
    "\n",
    "objective = WeightedObjective(num_params=facade.num_params, facade=facade, weights=services_weights, max_evals=50)\n",
    "\n",
    "constraints = WeightedConstraints(num_params=facade.num_params, facade=facade)\n",
    "\n",
    "tpe_optimizer = TPEOptimizer(\n",
    "    objective=objective, constraints=constraints, vars_chooser=SimpleChooser(facade)\n",
    ")\n",
    "\n",
    "best_x, best_val, perc, func_evals = tpe_optimizer.run(max_runs=50, timeout=60000, initial_runs_num=1)"
   ]
  },
  {
   "cell_type": "markdown",
   "id": "3bc80a2f",
   "metadata": {},
   "source": [
    "### Результат\n",
    "\n",
    "Если для данного типа сервиса все хорошо в плане обеспеченности с самого начала, то он не оптимизируется и для него обеспеченность считается той же, что и раньше."
   ]
  },
  {
   "cell_type": "code",
   "execution_count": 48,
   "id": "b58f5571",
   "metadata": {},
   "outputs": [],
   "source": [
    "prov_gdfs = {}\n",
    "for st_id in service_types.index:\n",
    "    st_name = service_types.loc[st_id, 'name']\n",
    "    if st_name in facade._chosen_service_types:\n",
    "        prov_df = facade._provision_adapter.get_last_provision_df(st_name)\n",
    "        prov_gdf = blocks[['geometry']].join(prov_df, how='right')\n",
    "        prov_gdfs[st_name] = prov_gdf"
   ]
  },
  {
   "cell_type": "code",
   "execution_count": 49,
   "id": "02557302",
   "metadata": {},
   "outputs": [
    {
     "data": {
      "image/png": "[encoded data removed]",
      "text/plain": [
       "<Figure size 640x480 with 2 Axes>"
      ]
     },
     "metadata": {},
     "output_type": "display_data"
    }
   ],
   "source": [
    "ax = prov_gdfs['school'].plot(color='#ddd')\n",
    "prov_gdfs['school'].plot('provision_strong', ax=ax, vmin=0, vmax=1, cmap='RdYlGn', legend=True).set_axis_off()"
   ]
  },
  {
   "cell_type": "markdown",
   "id": "d580c1ce",
   "metadata": {},
   "source": [
    "Чиселки обеспеченности для графика"
   ]
  },
  {
   "cell_type": "code",
   "execution_count": 51,
   "id": "894e4b17",
   "metadata": {},
   "outputs": [],
   "source": [
    "prov_totals = {}\n",
    "for st_name, prov_gdf in prov_gdfs.items():\n",
    "    if prov_gdf.demand.sum() == 0:\n",
    "        total = None\n",
    "    else:\n",
    "        total = float(provision_strong_total(prov_gdf))\n",
    "    prov_totals[st_name] = total"
   ]
  },
  {
   "cell_type": "markdown",
   "id": "0d7a8885",
   "metadata": {},
   "source": [
    "Если какой-то сервис тут отсутствует, можно брать с `base_scenario` (?? я подумаю еще правильно ли это)"
   ]
  },
  {
   "cell_type": "code",
   "execution_count": 52,
   "id": "2d1c01b6",
   "metadata": {},
   "outputs": [
    {
     "data": {
      "text/plain": [
       "{'beach': 0.0,\n",
       " 'kindergarten': 0.0,\n",
       " 'school': 0.674074074074074,\n",
       " 'university': 0.0,\n",
       " 'polyclinic': 0.3333333333333333,\n",
       " 'hospital': 1.0,\n",
       " 'museum': 1.0,\n",
       " 'theatre': 0.9469964664310954,\n",
       " 'cinema': 0.0,\n",
       " 'mall': 0.8875,\n",
       " 'stadium': 0.19327731092436976,\n",
       " 'restaurant': 1.0,\n",
       " 'bar': 0.4642857142857143,\n",
       " 'police': 1.0,\n",
       " 'train_station': 0.9425770308123249,\n",
       " 'supermarket': 0.9926578560939795,\n",
       " 'market': 0.808090939485122,\n",
       " 'veterinary': 0.8135593220338984,\n",
       " 'religion': 1.0,\n",
       " 'sanatorium': 0.0}"
      ]
     },
     "execution_count": 52,
     "metadata": {},
     "output_type": "execute_result"
    }
   ],
   "source": [
    "prov_totals"
   ]
  },
  {
   "cell_type": "markdown",
   "id": "8810de6e",
   "metadata": {},
   "source": [
    "# **Ф26**: Модуль ценностно-ориентированного моделирования программ развития населенного пункта.\n",
    "\n",
    "Берем результат из пункта `2.b` и разворачиваем его на кварталы: куда что ставить:\n",
    "\n",
    "- `block_id` -- номер квартала, куда ставим.\n",
    "- `service_type` -- тип сервиса.\n",
    "- `site_area` -- занимаемая площадь квартала.\n",
    "- `build_floor_area` -- занимаемая площадь зданий.\n",
    "- `capacity` -- суммарная емкость типа застройки\n",
    "- `count` -- количество расставляемых объектов данного типа в данном квартале\n",
    "\n",
    "P.S: сейчас результаты не выглядят правдиво. Оптимизатор дорабатывается, формат останется таким же."
   ]
  },
  {
   "cell_type": "code",
   "execution_count": 50,
   "id": "f4bc3cc9",
   "metadata": {},
   "outputs": [
    {
     "data": {
      "application/vnd.microsoft.datawrangler.viewer.v0+json": {
       "columns": [
        {
         "name": "index",
         "rawType": "int64",
         "type": "integer"
        },
        {
         "name": "block_id",
         "rawType": "int64",
         "type": "integer"
        },
        {
         "name": "service_type",
         "rawType": "object",
         "type": "string"
        },
        {
         "name": "site_area",
         "rawType": "float64",
         "type": "float"
        },
        {
         "name": "build_floor_area",
         "rawType": "float64",
         "type": "float"
        },
        {
         "name": "capacity",
         "rawType": "int64",
         "type": "integer"
        },
        {
         "name": "count",
         "rawType": "int64",
         "type": "integer"
        }
       ],
       "ref": "8d4c52ed-ea7c-4169-8843-e08d548b2583",
       "rows": [
        [
         "361",
         "10",
         "polyclinic",
         "0.0",
         "700.0",
         "100",
         "1"
        ],
        [
         "366",
         "11",
         "polyclinic",
         "0.0",
         "400.0",
         "50",
         "1"
        ],
        [
         "373",
         "12",
         "polyclinic",
         "0.0",
         "700.0",
         "100",
         "1"
        ],
        [
         "379",
         "17",
         "polyclinic",
         "0.0",
         "700.0",
         "100",
         "1"
        ],
        [
         "385",
         "19",
         "polyclinic",
         "0.0",
         "700.0",
         "100",
         "1"
        ],
        [
         "391",
         "20",
         "polyclinic",
         "0.0",
         "700.0",
         "100",
         "1"
        ],
        [
         "397",
         "21",
         "polyclinic",
         "0.0",
         "700.0",
         "100",
         "1"
        ],
        [
         "403",
         "22",
         "polyclinic",
         "0.0",
         "700.0",
         "100",
         "1"
        ],
        [
         "409",
         "24",
         "polyclinic",
         "0.0",
         "700.0",
         "100",
         "1"
        ],
        [
         "415",
         "26",
         "polyclinic",
         "0.0",
         "700.0",
         "100",
         "1"
        ],
        [
         "433",
         "33",
         "polyclinic",
         "0.0",
         "700.0",
         "100",
         "1"
        ],
        [
         "439",
         "34",
         "polyclinic",
         "0.0",
         "700.0",
         "100",
         "1"
        ],
        [
         "463",
         "40",
         "polyclinic",
         "0.0",
         "700.0",
         "100",
         "1"
        ],
        [
         "475",
         "44",
         "polyclinic",
         "0.0",
         "700.0",
         "100",
         "1"
        ],
        [
         "535",
         "63",
         "polyclinic",
         "0.0",
         "700.0",
         "100",
         "1"
        ],
        [
         "574",
         "10",
         "hospital",
         "3500.0",
         "660.0",
         "110",
         "2"
        ],
        [
         "578",
         "12",
         "hospital",
         "3500.0",
         "660.0",
         "110",
         "2"
        ],
        [
         "582",
         "17",
         "hospital",
         "3500.0",
         "660.0",
         "110",
         "2"
        ],
        [
         "586",
         "19",
         "hospital",
         "3500.0",
         "660.0",
         "110",
         "2"
        ],
        [
         "590",
         "20",
         "hospital",
         "3500.0",
         "660.0",
         "110",
         "2"
        ],
        [
         "606",
         "26",
         "hospital",
         "3500.0",
         "660.0",
         "110",
         "1"
        ],
        [
         "618",
         "33",
         "hospital",
         "3500.0",
         "660.0",
         "110",
         "2"
        ],
        [
         "622",
         "34",
         "hospital",
         "3500.0",
         "660.0",
         "110",
         "2"
        ],
        [
         "638",
         "40",
         "hospital",
         "3500.0",
         "660.0",
         "110",
         "2"
        ],
        [
         "729",
         "8",
         "museum",
         "0.0",
         "400.0",
         "200",
         "1"
        ],
        [
         "741",
         "13",
         "museum",
         "0.0",
         "400.0",
         "200",
         "1"
        ],
        [
         "747",
         "14",
         "museum",
         "0.0",
         "400.0",
         "200",
         "1"
        ],
        [
         "753",
         "15",
         "museum",
         "0.0",
         "400.0",
         "200",
         "1"
        ],
        [
         "759",
         "30",
         "museum",
         "0.0",
         "400.0",
         "200",
         "1"
        ],
        [
         "777",
         "36",
         "museum",
         "0.0",
         "400.0",
         "200",
         "1"
        ],
        [
         "801",
         "43",
         "museum",
         "0.0",
         "400.0",
         "200",
         "1"
        ],
        [
         "843",
         "62",
         "museum",
         "0.0",
         "400.0",
         "200",
         "1"
        ],
        [
         "882",
         "15",
         "theatre",
         "2800.0",
         "2000.0",
         "800",
         "1"
        ],
        [
         "1174",
         "1",
         "restaurant",
         "0.0",
         "270.0",
         "70",
         "1"
        ],
        [
         "1222",
         "35",
         "restaurant",
         "0.0",
         "270.0",
         "70",
         "3"
        ],
        [
         "1254",
         "45",
         "restaurant",
         "0.0",
         "270.0",
         "70",
         "2"
        ],
        [
         "1277",
         "54",
         "restaurant",
         "0.0",
         "200.0",
         "50",
         "1"
        ],
        [
         "1278",
         "54",
         "restaurant",
         "0.0",
         "270.0",
         "70",
         "2"
        ],
        [
         "1294",
         "65",
         "restaurant",
         "0.0",
         "270.0",
         "70",
         "3"
        ],
        [
         "1407",
         "0",
         "police",
         "700.0",
         "240.0",
         "60",
         "2"
        ],
        [
         "1410",
         "1",
         "police",
         "700.0",
         "240.0",
         "60",
         "3"
        ],
        [
         "1413",
         "2",
         "police",
         "700.0",
         "240.0",
         "60",
         "3"
        ],
        [
         "1422",
         "6",
         "police",
         "700.0",
         "240.0",
         "60",
         "3"
        ],
        [
         "1452",
         "16",
         "police",
         "700.0",
         "240.0",
         "60",
         "2"
        ],
        [
         "1458",
         "18",
         "police",
         "700.0",
         "240.0",
         "60",
         "2"
        ],
        [
         "1470",
         "22",
         "police",
         "700.0",
         "240.0",
         "60",
         "1"
        ],
        [
         "1473",
         "23",
         "police",
         "700.0",
         "240.0",
         "60",
         "1"
        ],
        [
         "1476",
         "24",
         "police",
         "700.0",
         "240.0",
         "60",
         "1"
        ],
        [
         "1479",
         "25",
         "police",
         "700.0",
         "240.0",
         "60",
         "1"
        ],
        [
         "1482",
         "26",
         "police",
         "700.0",
         "240.0",
         "60",
         "1"
        ]
       ],
       "shape": {
        "columns": 6,
        "rows": 91
       }
      },
      "text/html": [
       "<div>\n",
       "<style scoped>\n",
       "    .dataframe tbody tr th:only-of-type {\n",
       "        vertical-align: middle;\n",
       "    }\n",
       "\n",
       "    .dataframe tbody tr th {\n",
       "        vertical-align: top;\n",
       "    }\n",
       "\n",
       "    .dataframe thead th {\n",
       "        text-align: right;\n",
       "    }\n",
       "</style>\n",
       "<table border=\"1\" class=\"dataframe\">\n",
       "  <thead>\n",
       "    <tr style=\"text-align: right;\">\n",
       "      <th></th>\n",
       "      <th>block_id</th>\n",
       "      <th>service_type</th>\n",
       "      <th>site_area</th>\n",
       "      <th>build_floor_area</th>\n",
       "      <th>capacity</th>\n",
       "      <th>count</th>\n",
       "    </tr>\n",
       "  </thead>\n",
       "  <tbody>\n",
       "    <tr>\n",
       "      <th>361</th>\n",
       "      <td>10</td>\n",
       "      <td>polyclinic</td>\n",
       "      <td>0.0</td>\n",
       "      <td>700.0</td>\n",
       "      <td>100</td>\n",
       "      <td>1</td>\n",
       "    </tr>\n",
       "    <tr>\n",
       "      <th>366</th>\n",
       "      <td>11</td>\n",
       "      <td>polyclinic</td>\n",
       "      <td>0.0</td>\n",
       "      <td>400.0</td>\n",
       "      <td>50</td>\n",
       "      <td>1</td>\n",
       "    </tr>\n",
       "    <tr>\n",
       "      <th>373</th>\n",
       "      <td>12</td>\n",
       "      <td>polyclinic</td>\n",
       "      <td>0.0</td>\n",
       "      <td>700.0</td>\n",
       "      <td>100</td>\n",
       "      <td>1</td>\n",
       "    </tr>\n",
       "    <tr>\n",
       "      <th>379</th>\n",
       "      <td>17</td>\n",
       "      <td>polyclinic</td>\n",
       "      <td>0.0</td>\n",
       "      <td>700.0</td>\n",
       "      <td>100</td>\n",
       "      <td>1</td>\n",
       "    </tr>\n",
       "    <tr>\n",
       "      <th>385</th>\n",
       "      <td>19</td>\n",
       "      <td>polyclinic</td>\n",
       "      <td>0.0</td>\n",
       "      <td>700.0</td>\n",
       "      <td>100</td>\n",
       "      <td>1</td>\n",
       "    </tr>\n",
       "    <tr>\n",
       "      <th>...</th>\n",
       "      <td>...</td>\n",
       "      <td>...</td>\n",
       "      <td>...</td>\n",
       "      <td>...</td>\n",
       "      <td>...</td>\n",
       "      <td>...</td>\n",
       "    </tr>\n",
       "    <tr>\n",
       "      <th>2073</th>\n",
       "      <td>17</td>\n",
       "      <td>religion</td>\n",
       "      <td>9100.0</td>\n",
       "      <td>2000.0</td>\n",
       "      <td>1300</td>\n",
       "      <td>2</td>\n",
       "    </tr>\n",
       "    <tr>\n",
       "      <th>2081</th>\n",
       "      <td>20</td>\n",
       "      <td>religion</td>\n",
       "      <td>9100.0</td>\n",
       "      <td>2000.0</td>\n",
       "      <td>1300</td>\n",
       "      <td>2</td>\n",
       "    </tr>\n",
       "    <tr>\n",
       "      <th>2109</th>\n",
       "      <td>33</td>\n",
       "      <td>religion</td>\n",
       "      <td>9100.0</td>\n",
       "      <td>2000.0</td>\n",
       "      <td>1300</td>\n",
       "      <td>1</td>\n",
       "    </tr>\n",
       "    <tr>\n",
       "      <th>2113</th>\n",
       "      <td>34</td>\n",
       "      <td>religion</td>\n",
       "      <td>9100.0</td>\n",
       "      <td>2000.0</td>\n",
       "      <td>1300</td>\n",
       "      <td>2</td>\n",
       "    </tr>\n",
       "    <tr>\n",
       "      <th>2129</th>\n",
       "      <td>40</td>\n",
       "      <td>religion</td>\n",
       "      <td>9100.0</td>\n",
       "      <td>2000.0</td>\n",
       "      <td>1300</td>\n",
       "      <td>2</td>\n",
       "    </tr>\n",
       "  </tbody>\n",
       "</table>\n",
       "<p>91 rows × 6 columns</p>\n",
       "</div>"
      ],
      "text/plain": [
       "      block_id service_type  site_area  build_floor_area  capacity  count\n",
       "361         10   polyclinic        0.0             700.0       100      1\n",
       "366         11   polyclinic        0.0             400.0        50      1\n",
       "373         12   polyclinic        0.0             700.0       100      1\n",
       "379         17   polyclinic        0.0             700.0       100      1\n",
       "385         19   polyclinic        0.0             700.0       100      1\n",
       "...        ...          ...        ...               ...       ...    ...\n",
       "2073        17     religion     9100.0            2000.0      1300      2\n",
       "2081        20     religion     9100.0            2000.0      1300      2\n",
       "2109        33     religion     9100.0            2000.0      1300      1\n",
       "2113        34     religion     9100.0            2000.0      1300      2\n",
       "2129        40     religion     9100.0            2000.0      1300      2\n",
       "\n",
       "[91 rows x 6 columns]"
      ]
     },
     "execution_count": 50,
     "metadata": {},
     "output_type": "execute_result"
    }
   ],
   "source": [
    "solution_df = facade.solution_to_services_df(best_x)\n",
    "solution_df"
   ]
  }
 ],
 "metadata": {
  "kernelspec": {
   "display_name": ".venv",
   "language": "python",
   "name": "python3"
  },
  "language_info": {
   "codemirror_mode": {
    "name": "ipython",
    "version": 3
   },
   "file_extension": ".py",
   "mimetype": "text/x-python",
   "name": "python",
   "nbconvert_exporter": "python",
   "pygments_lexer": "ipython3",
   "version": "3.10.12"
  }
 },
 "nbformat": 4,
 "nbformat_minor": 5
}
