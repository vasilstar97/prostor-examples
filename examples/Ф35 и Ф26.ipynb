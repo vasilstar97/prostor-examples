{
 "cells": [
  {
   "cell_type": "markdown",
   "id": "da933d70",
   "metadata": {},
   "source": [
    "# **Ф35**: Модуль прогнозирования эффектов трансформации территории в масштабах населенного пункта и региона"
   ]
  },
  {
   "cell_type": "markdown",
   "id": "917271ae",
   "metadata": {},
   "source": [
    "## 1. Подготовка исходных данных\n",
    "\n",
    "- `service_types` -- таблица типов сервисов.\n",
    "- `blocks` -- слой городских кварталов с разной информацией.\n",
    "- `acc_mx` -- матрица доступности городских кварталов."
   ]
  },
  {
   "cell_type": "code",
   "execution_count": 74,
   "id": "d9871314",
   "metadata": {},
   "outputs": [],
   "source": [
    "import pandas as pd\n",
    "import geopandas as gpd\n",
    "from blocksnet.config import log_config\n",
    "\n",
    "log_config.set_disable_tqdm(True)\n",
    "log_config.set_logger_level('ERROR')\n",
    "\n",
    "service_types_df = pd.read_pickle('./data/service_types.pickle')\n",
    "blocks_gdf = pd.read_pickle('./data/blocks.pickle')\n",
    "acc_mx = pd.read_pickle('./data/acc_mx.pickle')"
   ]
  },
  {
   "cell_type": "code",
   "execution_count": 75,
   "id": "93b8bb15",
   "metadata": {},
   "outputs": [],
   "source": [
    "blocks_gdf['population'] = blocks_gdf['population'].fillna(0)"
   ]
  },
  {
   "cell_type": "markdown",
   "id": "41a63bd1",
   "metadata": {},
   "source": [
    "### 1.1. Создание колонок\n",
    "\n",
    "Чтобы не мучаться с передачей всего добра в методы и сразу скушать что надо, можем суммировать нужные колонки по `blocksnet` параметру.\n",
    "\n",
    "Тогда из наших столбцов получим новые столбцы:\n",
    "- `count_1` -> `count_park`\n",
    "- `capacity_1` -> `capacity_park`\n",
    "- ...\n",
    "- `count_x` + `count_y` -> `count_z`\n",
    "- ..."
   ]
  },
  {
   "cell_type": "code",
   "execution_count": 76,
   "id": "95761ddd",
   "metadata": {},
   "outputs": [],
   "source": [
    "def generate_blocksnet_columns(blocks_gdf : gpd.GeoDataFrame, service_types_df : pd.DataFrame) -> gpd.GeoDataFrame:\n",
    "    \n",
    "    from typing import cast\n",
    "\n",
    "    st_df = service_types_df[~service_types_df.blocksnet.isna()].copy()\n",
    "    st_df['service_type_id'] = st_df.index\n",
    "    agg_df = st_df.groupby('blocksnet').agg({'service_type_id': lambda s : list(s)})\n",
    "    new_columns = {}\n",
    "    for st_name, row in agg_df.iterrows():\n",
    "        st_ids = row['service_type_id']\n",
    "        for prefix in ['count', 'capacity']:\n",
    "            sum_df = blocks_gdf[[f'{prefix}_{st_id}' for st_id in st_ids]].sum(axis=1)\n",
    "            new_columns[f'{prefix}_{st_name}'] = sum_df\n",
    "    new_columns_df = pd.DataFrame.from_dict(new_columns)\n",
    "    \n",
    "    df = pd.concat([blocks_gdf, new_columns_df], axis=1)\n",
    "    return cast(gpd.GeoDataFrame, df)\n",
    "\n",
    "blocks_gdf = generate_blocksnet_columns(blocks_gdf, service_types_df)"
   ]
  },
  {
   "cell_type": "markdown",
   "id": "09a65280",
   "metadata": {},
   "source": [
    "### 1.2. Подготовка списка сервисов\n",
    "\n",
    "Нужны только те списки сервисов, у которых есть `infrastructure_type` и у которых известно имя `blocksnet`"
   ]
  },
  {
   "cell_type": "code",
   "execution_count": 77,
   "id": "3b0ab616",
   "metadata": {},
   "outputs": [
    {
     "data": {
      "application/vnd.microsoft.datawrangler.viewer.v0+json": {
       "columns": [
        {
         "name": "service_type_id",
         "rawType": "int64",
         "type": "integer"
        },
        {
         "name": "capacity_modeled",
         "rawType": "float64",
         "type": "float"
        },
        {
         "name": "infrastructure_type",
         "rawType": "object",
         "type": "string"
        },
        {
         "name": "weight",
         "rawType": "float64",
         "type": "float"
        },
        {
         "name": "radius_availability_meters",
         "rawType": "object",
         "type": "unknown"
        },
        {
         "name": "time_availability_minutes",
         "rawType": "float64",
         "type": "float"
        },
        {
         "name": "services_per_1000_normative",
         "rawType": "float64",
         "type": "float"
        },
        {
         "name": "services_capacity_per_1000_normative",
         "rawType": "float64",
         "type": "float"
        },
        {
         "name": "soc_values_ids",
         "rawType": "object",
         "type": "unknown"
        },
        {
         "name": "blocksnet",
         "rawType": "object",
         "type": "string"
        }
       ],
       "ref": "8f0e9c0c-e9ad-4cdb-a783-d56d62e06f51",
       "rows": [
        [
         "1",
         "2000.0",
         "basic",
         "0.2",
         null,
         "30.0",
         null,
         "150.0",
         "[8, 18, 1]",
         "park"
        ],
        [
         "5",
         null,
         "comfort",
         "0.5",
         null,
         "60.0",
         null,
         "64.0",
         null,
         "beach"
        ],
        [
         "21",
         "500.0",
         "basic",
         "0.2",
         null,
         "7.0",
         null,
         "61.0",
         "[2]",
         "kindergarten"
        ],
        [
         "22",
         "800.0",
         "basic",
         "0.2",
         null,
         "15.0",
         null,
         "120.0",
         "[2, 4, 1]",
         "school"
        ],
        [
         "27",
         "5000.0",
         "comfort",
         "0.2",
         null,
         "60.0",
         null,
         "13.0",
         "[4, 10, 17]",
         "university"
        ]
       ],
       "shape": {
        "columns": 9,
        "rows": 5
       }
      },
      "text/html": [
       "<div>\n",
       "<style scoped>\n",
       "    .dataframe tbody tr th:only-of-type {\n",
       "        vertical-align: middle;\n",
       "    }\n",
       "\n",
       "    .dataframe tbody tr th {\n",
       "        vertical-align: top;\n",
       "    }\n",
       "\n",
       "    .dataframe thead th {\n",
       "        text-align: right;\n",
       "    }\n",
       "</style>\n",
       "<table border=\"1\" class=\"dataframe\">\n",
       "  <thead>\n",
       "    <tr style=\"text-align: right;\">\n",
       "      <th></th>\n",
       "      <th>capacity_modeled</th>\n",
       "      <th>infrastructure_type</th>\n",
       "      <th>weight</th>\n",
       "      <th>radius_availability_meters</th>\n",
       "      <th>time_availability_minutes</th>\n",
       "      <th>services_per_1000_normative</th>\n",
       "      <th>services_capacity_per_1000_normative</th>\n",
       "      <th>soc_values_ids</th>\n",
       "      <th>blocksnet</th>\n",
       "    </tr>\n",
       "    <tr>\n",
       "      <th>service_type_id</th>\n",
       "      <th></th>\n",
       "      <th></th>\n",
       "      <th></th>\n",
       "      <th></th>\n",
       "      <th></th>\n",
       "      <th></th>\n",
       "      <th></th>\n",
       "      <th></th>\n",
       "      <th></th>\n",
       "    </tr>\n",
       "  </thead>\n",
       "  <tbody>\n",
       "    <tr>\n",
       "      <th>1</th>\n",
       "      <td>2000.0</td>\n",
       "      <td>basic</td>\n",
       "      <td>0.2</td>\n",
       "      <td>None</td>\n",
       "      <td>30.0</td>\n",
       "      <td>NaN</td>\n",
       "      <td>150.0</td>\n",
       "      <td>[8, 18, 1]</td>\n",
       "      <td>park</td>\n",
       "    </tr>\n",
       "    <tr>\n",
       "      <th>5</th>\n",
       "      <td>NaN</td>\n",
       "      <td>comfort</td>\n",
       "      <td>0.5</td>\n",
       "      <td>None</td>\n",
       "      <td>60.0</td>\n",
       "      <td>NaN</td>\n",
       "      <td>64.0</td>\n",
       "      <td>None</td>\n",
       "      <td>beach</td>\n",
       "    </tr>\n",
       "    <tr>\n",
       "      <th>21</th>\n",
       "      <td>500.0</td>\n",
       "      <td>basic</td>\n",
       "      <td>0.2</td>\n",
       "      <td>None</td>\n",
       "      <td>7.0</td>\n",
       "      <td>NaN</td>\n",
       "      <td>61.0</td>\n",
       "      <td>[2]</td>\n",
       "      <td>kindergarten</td>\n",
       "    </tr>\n",
       "    <tr>\n",
       "      <th>22</th>\n",
       "      <td>800.0</td>\n",
       "      <td>basic</td>\n",
       "      <td>0.2</td>\n",
       "      <td>None</td>\n",
       "      <td>15.0</td>\n",
       "      <td>NaN</td>\n",
       "      <td>120.0</td>\n",
       "      <td>[2, 4, 1]</td>\n",
       "      <td>school</td>\n",
       "    </tr>\n",
       "    <tr>\n",
       "      <th>27</th>\n",
       "      <td>5000.0</td>\n",
       "      <td>comfort</td>\n",
       "      <td>0.2</td>\n",
       "      <td>None</td>\n",
       "      <td>60.0</td>\n",
       "      <td>NaN</td>\n",
       "      <td>13.0</td>\n",
       "      <td>[4, 10, 17]</td>\n",
       "      <td>university</td>\n",
       "    </tr>\n",
       "  </tbody>\n",
       "</table>\n",
       "</div>"
      ],
      "text/plain": [
       "                 capacity_modeled infrastructure_type  weight  \\\n",
       "service_type_id                                                 \n",
       "1                          2000.0               basic     0.2   \n",
       "5                             NaN             comfort     0.5   \n",
       "21                          500.0               basic     0.2   \n",
       "22                          800.0               basic     0.2   \n",
       "27                         5000.0             comfort     0.2   \n",
       "\n",
       "                radius_availability_meters  time_availability_minutes  \\\n",
       "service_type_id                                                         \n",
       "1                                     None                       30.0   \n",
       "5                                     None                       60.0   \n",
       "21                                    None                        7.0   \n",
       "22                                    None                       15.0   \n",
       "27                                    None                       60.0   \n",
       "\n",
       "                 services_per_1000_normative  \\\n",
       "service_type_id                                \n",
       "1                                        NaN   \n",
       "5                                        NaN   \n",
       "21                                       NaN   \n",
       "22                                       NaN   \n",
       "27                                       NaN   \n",
       "\n",
       "                 services_capacity_per_1000_normative soc_values_ids  \\\n",
       "service_type_id                                                        \n",
       "1                                               150.0     [8, 18, 1]   \n",
       "5                                                64.0           None   \n",
       "21                                               61.0            [2]   \n",
       "22                                              120.0      [2, 4, 1]   \n",
       "27                                               13.0    [4, 10, 17]   \n",
       "\n",
       "                    blocksnet  \n",
       "service_type_id                \n",
       "1                        park  \n",
       "5                       beach  \n",
       "21               kindergarten  \n",
       "22                     school  \n",
       "27                 university  "
      ]
     },
     "execution_count": 77,
     "metadata": {},
     "output_type": "execute_result"
    }
   ],
   "source": [
    "service_types_df = service_types_df[~service_types_df['infrastructure_type'].isna()].copy()\n",
    "service_types_df = service_types_df[~service_types_df['blocksnet'].isna()].copy()\n",
    "service_types_df.head()"
   ]
  },
  {
   "cell_type": "markdown",
   "id": "d6f2eb94",
   "metadata": {},
   "source": [
    "## 2A. Эффекты ДО\n",
    "\n",
    "Если `scenario_id` является `base_scenario`, то мы не обязаны ничего оптимизировать и просто должны посчитать обеспеченность as is."
   ]
  },
  {
   "cell_type": "code",
   "execution_count": 79,
   "id": "4ab967cd",
   "metadata": {},
   "outputs": [],
   "source": [
    "from blocksnet.relations.accessibility import get_accessibility_context\n",
    "\n",
    "def _get_accessibility_context(blocks : pd.DataFrame, acc_mx : pd.DataFrame, accessibility : float) -> list[int]:\n",
    "  project_blocks = blocks[blocks['is_project']].copy()\n",
    "  context_blocks = get_accessibility_context(acc_mx, project_blocks, accessibility, out=False, keep=True)\n",
    "  return list(context_blocks.index)"
   ]
  },
  {
   "cell_type": "code",
   "execution_count": 80,
   "id": "26245b84",
   "metadata": {},
   "outputs": [],
   "source": [
    "from blocksnet.analysis.provision import competitive_provision\n",
    "from blocksnet.config import service_types_config\n",
    "\n",
    "def _assess_provision(blocks : pd.DataFrame, acc_mx : pd.DataFrame, service_type : str) -> gpd.GeoDataFrame:\n",
    "  _, demand, accessibility = service_types_config[service_type].values()\n",
    "  context_ids = _get_accessibility_context(blocks, acc_mx, accessibility)\n",
    "  capacity_column = f'capacity_{service_type}'\n",
    "  if capacity_column not in blocks.columns:\n",
    "    blocks_df = blocks[['geometry','population']].fillna(0)\n",
    "    blocks_df['capacity'] = 0\n",
    "  else:\n",
    "    blocks_df = blocks.rename(columns={capacity_column:'capacity'})[['geometry', 'population', 'capacity']].fillna(0)\n",
    "  prov_df, _ = competitive_provision(blocks_df, acc_mx, accessibility, demand)\n",
    "  prov_df = prov_df.loc[context_ids].copy()\n",
    "  return blocks[['geometry']].join(prov_df, how='right')"
   ]
  },
  {
   "cell_type": "markdown",
   "id": "70aab4b6",
   "metadata": {},
   "source": [
    "### Получаем слои с оценкой обеспеченности"
   ]
  },
  {
   "cell_type": "code",
   "execution_count": 81,
   "id": "ff29d74e",
   "metadata": {},
   "outputs": [],
   "source": [
    "from blocksnet.config import service_types_config\n",
    "\n",
    "prov_gdfs = {}\n",
    "for st_id in service_types_df.index:\n",
    "    st_name = service_types_df.loc[st_id,'blocksnet']\n",
    "    column = f'capacity_{st_name}'\n",
    "    _,demand,accessibility = service_types_config[st_name].values()\n",
    "    prov_gdf = _assess_provision(blocks_gdf, acc_mx, st_name)\n",
    "    prov_gdfs[st_name] = prov_gdf"
   ]
  },
  {
   "cell_type": "markdown",
   "id": "fe1ce07d",
   "metadata": {},
   "source": [
    "Например:"
   ]
  },
  {
   "cell_type": "code",
   "execution_count": 82,
   "id": "63c3ccf0",
   "metadata": {},
   "outputs": [
    {
     "data": {
      "image/png": "[encoded data removed]",
      "text/plain": [
       "<Figure size 640x480 with 2 Axes>"
      ]
     },
     "metadata": {},
     "output_type": "display_data"
    }
   ],
   "source": [
    "ax = prov_gdfs['park'].plot(color='#ddd')\n",
    "prov_gdfs['park'].plot('provision_strong', ax=ax, vmin=0, vmax=1, cmap='RdYlGn', legend=True).set_axis_off()"
   ]
  },
  {
   "cell_type": "markdown",
   "id": "980df468",
   "metadata": {},
   "source": [
    "### Получаем общие оценки обеспеченности"
   ]
  },
  {
   "cell_type": "code",
   "execution_count": 83,
   "id": "458f1b18",
   "metadata": {},
   "outputs": [],
   "source": [
    "from blocksnet.analysis.provision import provision_strong_total\n",
    "\n",
    "prov_totals_before = {}\n",
    "for st_name, prov_gdf in prov_gdfs.items():\n",
    "    if prov_gdf.demand.sum() == 0:\n",
    "        if prov_gdf.capacity.sum() > 0:\n",
    "            total = 1.0\n",
    "        else:\n",
    "            total = 0.0\n",
    "    else:\n",
    "        total = float(provision_strong_total(prov_gdf))\n",
    "    prov_totals_before[st_name] = total"
   ]
  },
  {
   "cell_type": "markdown",
   "id": "0f925bf2",
   "metadata": {},
   "source": [
    "В итоге:"
   ]
  },
  {
   "cell_type": "code",
   "execution_count": 84,
   "id": "ab1bc884",
   "metadata": {},
   "outputs": [
    {
     "data": {
      "text/plain": [
       "{'park': 0.9904610492845787,\n",
       " 'beach': 0.0,\n",
       " 'kindergarten': 0.0,\n",
       " 'school': 0.0,\n",
       " 'university': 0.0,\n",
       " 'polyclinic': 0.0,\n",
       " 'pharmacy': 0.0,\n",
       " 'hospital': 0.0,\n",
       " 'library': 0.9666666666666667,\n",
       " 'museum': 0.0,\n",
       " 'theatre': 1.0,\n",
       " 'cinema': 0.0,\n",
       " 'mall': 1.0,\n",
       " 'stadium': 1.0,\n",
       " 'cafe': 0.0,\n",
       " 'restaurant': 0.9411764705882353,\n",
       " 'bar': 0.0,\n",
       " 'pitch': 1.0,\n",
       " 'playground': 0.0,\n",
       " 'police': 0.0,\n",
       " 'train_station': 0.15151515151515152,\n",
       " 'fuel': 1.0,\n",
       " 'supermarket': 0.0,\n",
       " 'market': 1.0,\n",
       " 'post': 1.0,\n",
       " 'bank': 0.98989898989899,\n",
       " 'veterinary': 0.0,\n",
       " 'hotel': 1.0,\n",
       " 'religion': 0.0,\n",
       " 'sanatorium': 0.0}"
      ]
     },
     "execution_count": 84,
     "metadata": {},
     "output_type": "execute_result"
    }
   ],
   "source": [
    "prov_totals_before"
   ]
  },
  {
   "cell_type": "markdown",
   "id": "8a27051e",
   "metadata": {},
   "source": [
    "### Результат\n",
    "\n",
    "В результате имеем следующие данные для ситуации ДО:\n",
    "- `prov_gdfs : dict[str, gpd.GeoDataFrame]` -- слои с оценкой обеспеченности по выбранным типам сервисов\n",
    "- `prov_totals : dict[str, float | None]` -- оценки обеспеченности"
   ]
  },
  {
   "cell_type": "markdown",
   "id": "596776b8",
   "metadata": {},
   "source": [
    "## 2B. Эффекты ПОСЛЕ\n",
    "\n",
    "Если `scenario_id` не является `base_scenario`, то для заданного пользователем функционального зонирования мы должны предсказать возможную обеспеченность (по сути, лучший случай)."
   ]
  },
  {
   "cell_type": "markdown",
   "id": "7d85e9f8",
   "metadata": {},
   "source": [
    "### Подготовка данных"
   ]
  },
  {
   "cell_type": "markdown",
   "id": "eeab0004",
   "metadata": {},
   "source": [
    "Для каждого `infrastructure_type` также добавим весовой коэффициент, чтобы отдать предпочтение базовым сервисам, а остальные добавлять по возможности."
   ]
  },
  {
   "cell_type": "code",
   "execution_count": 85,
   "id": "d0b45506",
   "metadata": {},
   "outputs": [
    {
     "data": {
      "application/vnd.microsoft.datawrangler.viewer.v0+json": {
       "columns": [
        {
         "name": "service_type_id",
         "rawType": "int64",
         "type": "integer"
        },
        {
         "name": "capacity_modeled",
         "rawType": "float64",
         "type": "float"
        },
        {
         "name": "infrastructure_type",
         "rawType": "object",
         "type": "string"
        },
        {
         "name": "weight",
         "rawType": "float64",
         "type": "float"
        },
        {
         "name": "radius_availability_meters",
         "rawType": "object",
         "type": "unknown"
        },
        {
         "name": "time_availability_minutes",
         "rawType": "float64",
         "type": "float"
        },
        {
         "name": "services_per_1000_normative",
         "rawType": "float64",
         "type": "float"
        },
        {
         "name": "services_capacity_per_1000_normative",
         "rawType": "float64",
         "type": "float"
        },
        {
         "name": "soc_values_ids",
         "rawType": "object",
         "type": "unknown"
        },
        {
         "name": "blocksnet",
         "rawType": "object",
         "type": "string"
        },
        {
         "name": "infrastructure_weight",
         "rawType": "float64",
         "type": "float"
        }
       ],
       "ref": "a143e032-b9e8-4fe6-95fb-99ff6b950f61",
       "rows": [
        [
         "1",
         "2000.0",
         "basic",
         "0.2",
         null,
         "30.0",
         null,
         "150.0",
         "[8, 18, 1]",
         "park",
         "0.11428"
        ],
        [
         "5",
         null,
         "comfort",
         "0.5",
         null,
         "60.0",
         null,
         "64.0",
         null,
         "beach",
         "0.07145"
        ],
        [
         "21",
         "500.0",
         "basic",
         "0.2",
         null,
         "7.0",
         null,
         "61.0",
         "[2]",
         "kindergarten",
         "0.11428"
        ],
        [
         "22",
         "800.0",
         "basic",
         "0.2",
         null,
         "15.0",
         null,
         "120.0",
         "[2, 4, 1]",
         "school",
         "0.11428"
        ],
        [
         "27",
         "5000.0",
         "comfort",
         "0.2",
         null,
         "60.0",
         null,
         "13.0",
         "[4, 10, 17]",
         "university",
         "0.02858"
        ]
       ],
       "shape": {
        "columns": 10,
        "rows": 5
       }
      },
      "text/html": [
       "<div>\n",
       "<style scoped>\n",
       "    .dataframe tbody tr th:only-of-type {\n",
       "        vertical-align: middle;\n",
       "    }\n",
       "\n",
       "    .dataframe tbody tr th {\n",
       "        vertical-align: top;\n",
       "    }\n",
       "\n",
       "    .dataframe thead th {\n",
       "        text-align: right;\n",
       "    }\n",
       "</style>\n",
       "<table border=\"1\" class=\"dataframe\">\n",
       "  <thead>\n",
       "    <tr style=\"text-align: right;\">\n",
       "      <th></th>\n",
       "      <th>capacity_modeled</th>\n",
       "      <th>infrastructure_type</th>\n",
       "      <th>weight</th>\n",
       "      <th>radius_availability_meters</th>\n",
       "      <th>time_availability_minutes</th>\n",
       "      <th>services_per_1000_normative</th>\n",
       "      <th>services_capacity_per_1000_normative</th>\n",
       "      <th>soc_values_ids</th>\n",
       "      <th>blocksnet</th>\n",
       "      <th>infrastructure_weight</th>\n",
       "    </tr>\n",
       "    <tr>\n",
       "      <th>service_type_id</th>\n",
       "      <th></th>\n",
       "      <th></th>\n",
       "      <th></th>\n",
       "      <th></th>\n",
       "      <th></th>\n",
       "      <th></th>\n",
       "      <th></th>\n",
       "      <th></th>\n",
       "      <th></th>\n",
       "      <th></th>\n",
       "    </tr>\n",
       "  </thead>\n",
       "  <tbody>\n",
       "    <tr>\n",
       "      <th>1</th>\n",
       "      <td>2000.0</td>\n",
       "      <td>basic</td>\n",
       "      <td>0.2</td>\n",
       "      <td>None</td>\n",
       "      <td>30.0</td>\n",
       "      <td>NaN</td>\n",
       "      <td>150.0</td>\n",
       "      <td>[8, 18, 1]</td>\n",
       "      <td>park</td>\n",
       "      <td>0.11428</td>\n",
       "    </tr>\n",
       "    <tr>\n",
       "      <th>5</th>\n",
       "      <td>NaN</td>\n",
       "      <td>comfort</td>\n",
       "      <td>0.5</td>\n",
       "      <td>None</td>\n",
       "      <td>60.0</td>\n",
       "      <td>NaN</td>\n",
       "      <td>64.0</td>\n",
       "      <td>None</td>\n",
       "      <td>beach</td>\n",
       "      <td>0.07145</td>\n",
       "    </tr>\n",
       "    <tr>\n",
       "      <th>21</th>\n",
       "      <td>500.0</td>\n",
       "      <td>basic</td>\n",
       "      <td>0.2</td>\n",
       "      <td>None</td>\n",
       "      <td>7.0</td>\n",
       "      <td>NaN</td>\n",
       "      <td>61.0</td>\n",
       "      <td>[2]</td>\n",
       "      <td>kindergarten</td>\n",
       "      <td>0.11428</td>\n",
       "    </tr>\n",
       "    <tr>\n",
       "      <th>22</th>\n",
       "      <td>800.0</td>\n",
       "      <td>basic</td>\n",
       "      <td>0.2</td>\n",
       "      <td>None</td>\n",
       "      <td>15.0</td>\n",
       "      <td>NaN</td>\n",
       "      <td>120.0</td>\n",
       "      <td>[2, 4, 1]</td>\n",
       "      <td>school</td>\n",
       "      <td>0.11428</td>\n",
       "    </tr>\n",
       "    <tr>\n",
       "      <th>27</th>\n",
       "      <td>5000.0</td>\n",
       "      <td>comfort</td>\n",
       "      <td>0.2</td>\n",
       "      <td>None</td>\n",
       "      <td>60.0</td>\n",
       "      <td>NaN</td>\n",
       "      <td>13.0</td>\n",
       "      <td>[4, 10, 17]</td>\n",
       "      <td>university</td>\n",
       "      <td>0.02858</td>\n",
       "    </tr>\n",
       "  </tbody>\n",
       "</table>\n",
       "</div>"
      ],
      "text/plain": [
       "                 capacity_modeled infrastructure_type  weight  \\\n",
       "service_type_id                                                 \n",
       "1                          2000.0               basic     0.2   \n",
       "5                             NaN             comfort     0.5   \n",
       "21                          500.0               basic     0.2   \n",
       "22                          800.0               basic     0.2   \n",
       "27                         5000.0             comfort     0.2   \n",
       "\n",
       "                radius_availability_meters  time_availability_minutes  \\\n",
       "service_type_id                                                         \n",
       "1                                     None                       30.0   \n",
       "5                                     None                       60.0   \n",
       "21                                    None                        7.0   \n",
       "22                                    None                       15.0   \n",
       "27                                    None                       60.0   \n",
       "\n",
       "                 services_per_1000_normative  \\\n",
       "service_type_id                                \n",
       "1                                        NaN   \n",
       "5                                        NaN   \n",
       "21                                       NaN   \n",
       "22                                       NaN   \n",
       "27                                       NaN   \n",
       "\n",
       "                 services_capacity_per_1000_normative soc_values_ids  \\\n",
       "service_type_id                                                        \n",
       "1                                               150.0     [8, 18, 1]   \n",
       "5                                                64.0           None   \n",
       "21                                               61.0            [2]   \n",
       "22                                              120.0      [2, 4, 1]   \n",
       "27                                               13.0    [4, 10, 17]   \n",
       "\n",
       "                    blocksnet  infrastructure_weight  \n",
       "service_type_id                                       \n",
       "1                        park                0.11428  \n",
       "5                       beach                0.07145  \n",
       "21               kindergarten                0.11428  \n",
       "22                     school                0.11428  \n",
       "27                 university                0.02858  "
      ]
     },
     "execution_count": 85,
     "metadata": {},
     "output_type": "execute_result"
    }
   ],
   "source": [
    "INFRASTRUCTURES_WEIGHTS = {\n",
    "    'basic': 0.5714,\n",
    "    'additional': 0.2857,\n",
    "    'comfort': 0.1429\n",
    "}\n",
    "\n",
    "service_types_df['infrastructure_weight'] = service_types_df['infrastructure_type'].map(INFRASTRUCTURES_WEIGHTS) * service_types_df['weight']\n",
    "service_types_df.head()"
   ]
  },
  {
   "cell_type": "markdown",
   "id": "41977203",
   "metadata": {},
   "source": [
    "Готовим словарь, какой квартал в какой ФЗ переводим.\n",
    "\n",
    "`blocks_lus : dict[int, LandUse]`"
   ]
  },
  {
   "cell_type": "code",
   "execution_count": 86,
   "id": "065af3f4",
   "metadata": {},
   "outputs": [],
   "source": [
    "from blocksnet.enums import LandUse\n",
    "\n",
    "blocks_lus = blocks_gdf.loc[blocks_gdf['is_project'],'land_use']\n",
    "blocks_lus = blocks_lus[~blocks_lus.isna()]\n",
    "blocks_lus = blocks_lus.to_dict()\n",
    "# blocks_lus[0] = LandUse.RESIDENTIAL #FIXME УДАЛИТЬ!!! ЭТО ДЛЯ ПРИМЕРА"
   ]
  },
  {
   "cell_type": "markdown",
   "id": "58a99c93",
   "metadata": {},
   "source": [
    "Инициализируем экземпляр класса оптимизатора."
   ]
  },
  {
   "cell_type": "code",
   "execution_count": 87,
   "id": "9d783585",
   "metadata": {},
   "outputs": [],
   "source": [
    "from blocksnet.optimization.services import (\n",
    "    TPEOptimizer,\n",
    "    WeightedObjective,\n",
    "    WeightedConstraints,\n",
    "    Facade,\n",
    "    GradientChooser,\n",
    "    AreaSolution\n",
    ")\n",
    "\n",
    "var_adapter = AreaSolution(blocks_lus)\n",
    "\n",
    "facade = Facade(\n",
    "    blocks_lu=blocks_lus,\n",
    "    blocks_df=blocks_gdf,\n",
    "    accessibility_matrix=acc_mx,\n",
    "    var_adapter=var_adapter,\n",
    ")\n"
   ]
  },
  {
   "cell_type": "markdown",
   "id": "10cf65f9",
   "metadata": {},
   "source": [
    "Добавляем информацию о существующих типах сервисов.\n",
    "\n",
    "**ВАЖНО**: если сервиса нет в слое кварталов, просто добавляем `DataFrame` с нулевыми `capacity` для него. Ведь мы же должны что-то расставлять.\n",
    "\n",
    "ЛИБО\n",
    "\n",
    "Можно попробовать на этапе сборки слоя просто добавлять пустой столбец, чтобы не терять."
   ]
  },
  {
   "cell_type": "code",
   "execution_count": 88,
   "id": "3952fee4",
   "metadata": {},
   "outputs": [],
   "source": [
    "for st_id, row in service_types_df.iterrows():\n",
    "    st_name = row['blocksnet']\n",
    "    st_weight = row['infrastructure_weight']\n",
    "    st_column = f'capacity_{st_name}'\n",
    "    df = blocks_gdf.rename(columns={st_column: 'capacity'})[['capacity']].fillna(0)\n",
    "    facade.add_service_type(st_name, st_weight, df)"
   ]
  },
  {
   "cell_type": "markdown",
   "id": "3842f465",
   "metadata": {},
   "source": [
    "### Оптимизация"
   ]
  },
  {
   "cell_type": "markdown",
   "id": "993cb219",
   "metadata": {},
   "source": [
    "Запускаем оптимизатор..."
   ]
  },
  {
   "cell_type": "code",
   "execution_count": 89,
   "id": "919a1421",
   "metadata": {},
   "outputs": [],
   "source": [
    "MAX_EVALS = 1000 # сколько раз будет считаться обеспеченность. Можно ставить и большее число, если ориентируемся только на время\n",
    "MAX_RUNS = 1000 # сколько итераций будет считаться в оптимизации. Так же ставим 1000 без проблем\n",
    "TIMEOUT = 1 * 60 # сколько по времени будет считаться оптимизация (в секундах). Если уже прошло данное время, досчитается итерация и отдаст ответ"
   ]
  },
  {
   "cell_type": "code",
   "execution_count": 90,
   "id": "e166fc14",
   "metadata": {},
   "outputs": [
    {
     "name": "stderr",
     "output_type": "stream",
     "text": [
      "[I 2025-10-17 14:00:39,801] A new study created in memory with name: no-name-45432ff9-a99c-4a40-9353-f36ffa808f6d\n"
     ]
    },
    {
     "data": {
      "application/vnd.jupyter.widget-view+json": {
       "model_id": "8e1deae5623041cb9c3bef249dc0259e",
       "version_major": 2,
       "version_minor": 0
      },
      "text/plain": [
       "  0%|          | 0/1000 [00:00<?, ?it/s]"
      ]
     },
     "metadata": {},
     "output_type": "display_data"
    },
    {
     "name": "stdout",
     "output_type": "stream",
     "text": [
      "[I 2025-10-17 14:00:39,994] Trial 0 finished with value: 0.22857 and parameters: {'x_0': 0, 'x_1': 12000, 'x_2': 700, 'x_3': 400, 'x_4': 0, 'x_5': 9100}. Best is trial 0 with value: 0.22857.\n",
      "[I 2025-10-17 14:00:40,069] Trial 1 finished with value: 0.22857 and parameters: {'x_0': 4, 'x_1': 12019, 'x_2': 700, 'x_3': 400, 'x_4': 4113, 'x_5': 9102}. Best is trial 0 with value: 0.22857.\n",
      "[I 2025-10-17 14:00:40,180] Trial 2 finished with value: 0.17630697368421053 and parameters: {'x_0': 464, 'x_1': 4286, 'x_2': 23, 'x_3': 400, 'x_4': 0, 'x_5': 0}. Best is trial 0 with value: 0.22857.\n",
      "[I 2025-10-17 14:00:40,367] Trial 3 finished with value: 0.22857 and parameters: {'x_0': 3, 'x_1': 17441, 'x_2': 729, 'x_3': 400, 'x_4': 3766595, 'x_5': 9464}. Best is trial 0 with value: 0.22857.\n",
      "[I 2025-10-17 14:00:40,492] Trial 4 finished with value: 0.19999 and parameters: {'x_0': 0, 'x_1': 10118, 'x_2': 387, 'x_3': 0, 'x_4': 0, 'x_5': 4941}. Best is trial 0 with value: 0.22857.\n",
      "[I 2025-10-17 14:00:40,643] Trial 5 finished with value: 0.19999 and parameters: {'x_0': 223, 'x_1': 16769, 'x_2': 432, 'x_3': 209, 'x_4': 1796219, 'x_5': 5628}. Best is trial 0 with value: 0.22857.\n",
      "[I 2025-10-17 14:00:40,717] Trial 6 finished with value: 0.11428 and parameters: {'x_0': 195, 'x_1': 490, 'x_2': 76, 'x_3': 0, 'x_4': 0, 'x_5': 0}. Best is trial 0 with value: 0.22857.\n",
      "[I 2025-10-17 14:00:40,870] Trial 7 finished with value: 0.17630697368421053 and parameters: {'x_0': 391, 'x_1': 6605, 'x_2': 542, 'x_3': 249, 'x_4': 1533067, 'x_5': 7036}. Best is trial 0 with value: 0.22857.\n",
      "[I 2025-10-17 14:00:41,003] Trial 8 finished with value: 0.19999 and parameters: {'x_0': 130, 'x_1': 13165, 'x_2': 211, 'x_3': 0, 'x_4': 0, 'x_5': 0}. Best is trial 0 with value: 0.22857.\n",
      "[I 2025-10-17 14:00:41,166] Trial 9 finished with value: 0.19999 and parameters: {'x_0': 327, 'x_1': 15658, 'x_2': 560, 'x_3': 293, 'x_4': 2933732, 'x_5': 2752}. Best is trial 0 with value: 0.22857.\n",
      "[I 2025-10-17 14:00:41,293] Trial 10 finished with value: 0.19999 and parameters: {'x_0': 118, 'x_1': 7530, 'x_2': 236, 'x_3': 0, 'x_4': 0, 'x_5': 0}. Best is trial 0 with value: 0.22857.\n",
      "[I 2025-10-17 14:00:41,521] Trial 11 finished with value: 0.22857 and parameters: {'x_0': 80, 'x_1': 13096, 'x_2': 732, 'x_3': 325, 'x_4': 978465, 'x_5': 9490}. Best is trial 0 with value: 0.22857.\n",
      "[I 2025-10-17 14:00:41,660] Trial 12 finished with value: 0.19999 and parameters: {'x_0': 0, 'x_1': 11073, 'x_2': 600, 'x_3': 0, 'x_4': 0, 'x_5': 7581}. Best is trial 0 with value: 0.22857.\n",
      "[I 2025-10-17 14:00:41,864] Trial 13 finished with value: 0.19999 and parameters: {'x_0': 77, 'x_1': 14382, 'x_2': 637, 'x_3': 112, 'x_4': 884998, 'x_5': 7790}. Best is trial 0 with value: 0.22857.\n",
      "[I 2025-10-17 14:00:42,002] Trial 14 finished with value: 0.19999 and parameters: {'x_0': 297, 'x_1': 11083, 'x_2': 484, 'x_3': 0, 'x_4': 0, 'x_5': 0}. Best is trial 0 with value: 0.22857.\n",
      "[I 2025-10-17 14:00:42,113] Trial 15 finished with value: 0.19999 and parameters: {'x_0': 164, 'x_1': 13330, 'x_2': 292, 'x_3': 340, 'x_4': 787880, 'x_5': 3069}. Best is trial 0 with value: 0.22857.\n",
      "[I 2025-10-17 14:00:42,238] Trial 16 finished with value: 0.17630697368421053 and parameters: {'x_0': 63, 'x_1': 4538, 'x_2': 655, 'x_3': 0, 'x_4': 0, 'x_5': 0}. Best is trial 0 with value: 0.22857.\n",
      "[I 2025-10-17 14:00:42,408] Trial 17 finished with value: 0.19999 and parameters: {'x_0': 275, 'x_1': 9293, 'x_2': 487, 'x_3': 127, 'x_4': 2504438, 'x_5': 8443}. Best is trial 0 with value: 0.22857.\n",
      "[I 2025-10-17 14:00:42,488] Trial 18 finished with value: 0.11428 and parameters: {'x_0': 51, 'x_1': 51, 'x_2': 135, 'x_3': 0, 'x_4': 0, 'x_5': 0}. Best is trial 0 with value: 0.22857.\n",
      "[I 2025-10-17 14:00:42,648] Trial 19 finished with value: 0.17630697368421053 and parameters: {'x_0': 138, 'x_1': 5557, 'x_2': 330, 'x_3': 355, 'x_4': 583959, 'x_5': 6331}. Best is trial 0 with value: 0.22857.\n",
      "[I 2025-10-17 14:00:42,744] Trial 20 finished with value: 0.11428 and parameters: {'x_0': 371, 'x_1': 2484, 'x_2': 673, 'x_3': 0, 'x_4': 0, 'x_5': 0}. Best is trial 0 with value: 0.22857.\n",
      "[I 2025-10-17 14:00:42,976] Trial 21 finished with value: 0.22857 and parameters: {'x_0': 30, 'x_1': 17451, 'x_2': 729, 'x_3': 400, 'x_4': 3733295, 'x_5': 9491}. Best is trial 0 with value: 0.22857.\n",
      "[I 2025-10-17 14:00:43,074] Trial 22 finished with value: 0.19999 and parameters: {'x_0': 0, 'x_1': 15500, 'x_2': 687, 'x_3': 369, 'x_4': 0, 'x_5': 8602}. Best is trial 0 with value: 0.22857.\n",
      "[I 2025-10-17 14:00:43,212] Trial 23 finished with value: 0.19999 and parameters: {'x_0': 98, 'x_1': 17562, 'x_2': 592, 'x_3': 297, 'x_4': 3779457, 'x_5': 1879}. Best is trial 0 with value: 0.22857.\n",
      "[I 2025-10-17 14:00:43,363] Trial 24 finished with value: 0.19999 and parameters: {'x_0': 40, 'x_1': 11817, 'x_2': 511, 'x_3': 0, 'x_4': 0, 'x_5': 0}. Best is trial 0 with value: 0.22857.\n",
      "[I 2025-10-17 14:00:43,497] Trial 25 finished with value: 0.19999 and parameters: {'x_0': 174, 'x_1': 12430, 'x_2': 619, 'x_3': 374, 'x_4': 2485288, 'x_5': 8636}. Best is trial 0 with value: 0.22857.\n",
      "[I 2025-10-17 14:00:43,651] Trial 26 finished with value: 0.19999 and parameters: {'x_0': 34, 'x_1': 8370, 'x_2': 727, 'x_3': 0, 'x_4': 0, 'x_5': 0}. Best is trial 0 with value: 0.22857.\n",
      "[I 2025-10-17 14:00:43,827] Trial 27 finished with value: 0.19999 and parameters: {'x_0': 102, 'x_1': 14390, 'x_2': 721, 'x_3': 308, 'x_4': 499878, 'x_5': 6652}. Best is trial 0 with value: 0.22857.\n",
      "[I 2025-10-17 14:00:43,971] Trial 28 finished with value: 0.19999 and parameters: {'x_0': 244, 'x_1': 9869, 'x_2': 429, 'x_3': 0, 'x_4': 0, 'x_5': 0}. Best is trial 0 with value: 0.22857.\n",
      "[I 2025-10-17 14:00:44,158] Trial 29 finished with value: 0.19999 and parameters: {'x_0': 456, 'x_1': 14317, 'x_2': 5, 'x_3': 263, 'x_4': 1292894, 'x_5': 7938}. Best is trial 0 with value: 0.22857.\n",
      "[I 2025-10-17 14:00:44,309] Trial 30 finished with value: 0.19999 and parameters: {'x_0': 28, 'x_1': 15874, 'x_2': 562, 'x_3': 0, 'x_4': 0, 'x_5': 0}. Best is trial 0 with value: 0.22857.\n",
      "[I 2025-10-17 14:00:44,489] Trial 31 finished with value: 0.22857 and parameters: {'x_0': 78, 'x_1': 17190, 'x_2': 682, 'x_3': 331, 'x_4': 431831, 'x_5': 9456}. Best is trial 0 with value: 0.22857.\n",
      "[I 2025-10-17 14:00:44,640] Trial 32 finished with value: 0.19999 and parameters: {'x_0': 0, 'x_1': 10816, 'x_2': 0, 'x_3': 0, 'x_4': 0, 'x_5': 9012}. Best is trial 0 with value: 0.22857.\n",
      "[I 2025-10-17 14:00:44,801] Trial 33 finished with value: 0.19999 and parameters: {'x_0': 70, 'x_1': 12518, 'x_2': 644, 'x_3': 382, 'x_4': 1147769, 'x_5': 4480}. Best is trial 0 with value: 0.22857.\n",
      "[I 2025-10-17 14:00:44,959] Trial 34 finished with value: 0.19999 and parameters: {'x_0': 23, 'x_1': 8474, 'x_2': 694, 'x_3': 0, 'x_4': 0, 'x_5': 0}. Best is trial 0 with value: 0.22857.\n",
      "[I 2025-10-17 14:00:45,169] Trial 35 finished with value: 0.19999 and parameters: {'x_0': 94, 'x_1': 16423, 'x_2': 731, 'x_3': 399, 'x_4': 1994362, 'x_5': 9018}. Best is trial 0 with value: 0.22857.\n",
      "[I 2025-10-17 14:00:45,272] Trial 36 finished with value: 0.19999 and parameters: {'x_0': 217, 'x_1': 13642, 'x_2': 75, 'x_3': 0, 'x_4': 0, 'x_5': 0}. Best is trial 0 with value: 0.22857.\n",
      "[I 2025-10-17 14:00:45,418] Trial 37 finished with value: 0.19999 and parameters: {'x_0': 151, 'x_1': 15057, 'x_2': 406, 'x_3': 326, 'x_4': 3416470, 'x_5': 7330}. Best is trial 0 with value: 0.22857.\n",
      "[I 2025-10-17 14:00:45,525] Trial 38 finished with value: 0.11428 and parameters: {'x_0': 53, 'x_1': 2062, 'x_2': 588, 'x_3': 0, 'x_4': 0, 'x_5': 0}. Best is trial 0 with value: 0.22857.\n",
      "[I 2025-10-17 14:00:45,729] Trial 39 finished with value: 0.19999 and parameters: {'x_0': 17, 'x_1': 7296, 'x_2': 525, 'x_3': 201, 'x_4': 326002, 'x_5': 8164}. Best is trial 0 with value: 0.22857.\n",
      "[I 2025-10-17 14:00:45,895] Trial 40 finished with value: 0.19999 and parameters: {'x_0': 118, 'x_1': 11940, 'x_2': 630, 'x_3': 0, 'x_4': 0, 'x_5': 0}. Best is trial 0 with value: 0.22857.\n",
      "[I 2025-10-17 14:00:46,067] Trial 41 finished with value: 0.19999 and parameters: {'x_0': 23, 'x_1': 12777, 'x_2': 702, 'x_3': 400, 'x_4': 3781489, 'x_5': 4344}. Best is trial 0 with value: 0.22857.\n",
      "[I 2025-10-17 14:00:46,254] Trial 42 finished with value: 0.19999 and parameters: {'x_0': 49, 'x_1': 16506, 'x_2': 733, 'x_3': 400, 'x_4': 0, 'x_5': 0}. Best is trial 0 with value: 0.22857.\n",
      "[I 2025-10-17 14:00:46,431] Trial 43 finished with value: 0.22857 and parameters: {'x_0': 1, 'x_1': 17478, 'x_2': 727, 'x_3': 400, 'x_4': 3408786, 'x_5': 9487}. Best is trial 0 with value: 0.22857.\n",
      "[I 2025-10-17 14:00:46,605] Trial 44 finished with value: 0.19999 and parameters: {'x_0': 81, 'x_1': 10349, 'x_2': 700, 'x_3': 0, 'x_4': 0, 'x_5': 9056}. Best is trial 0 with value: 0.22857.\n",
      "[I 2025-10-17 14:00:46,837] Trial 45 finished with value: 0.19999 and parameters: {'x_0': 41, 'x_1': 11592, 'x_2': 728, 'x_3': 353, 'x_4': 1776992, 'x_5': 5589}. Best is trial 0 with value: 0.22857.\n",
      "[I 2025-10-17 14:00:47,033] Trial 46 finished with value: 0.19999 and parameters: {'x_0': 18, 'x_1': 13744, 'x_2': 660, 'x_3': 0, 'x_4': 0, 'x_5': 0}. Best is trial 0 with value: 0.22857.\n",
      "[I 2025-10-17 14:00:47,267] Trial 47 finished with value: 0.19999 and parameters: {'x_0': 62, 'x_1': 17008, 'x_2': 206, 'x_3': 165, 'x_4': 3490633, 'x_5': 8252}. Best is trial 0 with value: 0.22857.\n",
      "[I 2025-10-17 14:00:47,391] Trial 48 finished with value: 0.19999 and parameters: {'x_0': 352, 'x_1': 14937, 'x_2': 613, 'x_3': 0, 'x_4': 0, 'x_5': 0}. Best is trial 0 with value: 0.22857.\n",
      "[I 2025-10-17 14:00:47,584] Trial 49 finished with value: 0.19999 and parameters: {'x_0': 422, 'x_1': 13042, 'x_2': 567, 'x_3': 263, 'x_4': 3043989, 'x_5': 7465}. Best is trial 0 with value: 0.22857.\n",
      "[I 2025-10-17 14:00:47,760] Trial 50 finished with value: 0.19999 and parameters: {'x_0': 187, 'x_1': 9522, 'x_2': 358, 'x_3': 0, 'x_4': 0, 'x_5': 0}. Best is trial 0 with value: 0.22857.\n",
      "[I 2025-10-17 14:00:48,058] Trial 51 finished with value: 0.22857 and parameters: {'x_0': 82, 'x_1': 17034, 'x_2': 670, 'x_3': 330, 'x_4': 303052, 'x_5': 9502}. Best is trial 0 with value: 0.22857.\n",
      "[I 2025-10-17 14:00:48,186] Trial 52 finished with value: 0.22857 and parameters: {'x_0': 119, 'x_1': 15998, 'x_2': 0, 'x_3': 0, 'x_4': 0, 'x_5': 9173}. Best is trial 0 with value: 0.22857.\n",
      "[I 2025-10-17 14:00:48,362] Trial 53 finished with value: 0.22857 and parameters: {'x_0': 64, 'x_1': 17345, 'x_2': 675, 'x_3': 357, 'x_4': 267977, 'x_5': 9458}. Best is trial 0 with value: 0.22857.\n",
      "[I 2025-10-17 14:00:48,672] Trial 54 finished with value: 0.19999 and parameters: {'x_0': 14, 'x_1': 15208, 'x_2': 645, 'x_3': 0, 'x_4': 0, 'x_5': 0}. Best is trial 0 with value: 0.22857.\n",
      "[I 2025-10-17 14:00:48,909] Trial 55 finished with value: 0.19999 and parameters: {'x_0': 300, 'x_1': 17195, 'x_2': 695, 'x_3': 381, 'x_4': 810169, 'x_5': 8703}. Best is trial 0 with value: 0.22857.\n",
      "[I 2025-10-17 14:00:49,057] Trial 56 finished with value: 0.19999 and parameters: {'x_0': 40, 'x_1': 16272, 'x_2': 263, 'x_3': 0, 'x_4': 0, 'x_5': 0}. Best is trial 0 with value: 0.22857.\n",
      "[I 2025-10-17 14:00:49,257] Trial 57 finished with value: 0.19999 and parameters: {'x_0': 90, 'x_1': 17345, 'x_2': 477, 'x_3': 229, 'x_4': 606395, 'x_5': 8757}. Best is trial 0 with value: 0.22857.\n",
      "[I 2025-10-17 14:00:49,387] Trial 58 finished with value: 0.19999 and parameters: {'x_0': 109, 'x_1': 14272, 'x_2': 597, 'x_3': 0, 'x_4': 0, 'x_5': 0}. Best is trial 0 with value: 0.22857.\n",
      "[I 2025-10-17 14:00:49,619] Trial 59 finished with value: 0.19999 and parameters: {'x_0': 141, 'x_1': 16797, 'x_2': 661, 'x_3': 313, 'x_4': 1010949, 'x_5': 7880}. Best is trial 0 with value: 0.22857.\n",
      "[I 2025-10-17 14:00:49,764] Trial 60 finished with value: 0.19999 and parameters: {'x_0': 54, 'x_1': 5811, 'x_2': 703, 'x_3': 0, 'x_4': 0, 'x_5': 0}. Best is trial 0 with value: 0.22857.\n",
      "[I 2025-10-17 14:00:50,065] Trial 61 finished with value: 0.22857 and parameters: {'x_0': 2, 'x_1': 11361, 'x_2': 727, 'x_3': 365, 'x_4': 3591415, 'x_5': 9501}. Best is trial 0 with value: 0.22857.\n",
      "[I 2025-10-17 14:00:50,317] Trial 62 finished with value: 0.19999 and parameters: {'x_0': 10, 'x_1': 15653, 'x_2': 700, 'x_3': 0, 'x_4': 0, 'x_5': 8354}. Best is trial 0 with value: 0.22857.\n",
      "[I 2025-10-17 14:00:50,563] Trial 63 finished with value: 0.22857 and parameters: {'x_0': 33, 'x_1': 17562, 'x_2': 724, 'x_3': 386, 'x_4': 3226464, 'x_5': 9207}. Best is trial 0 with value: 0.22857.\n",
      "[I 2025-10-17 14:00:50,769] Trial 64 finished with value: 0.19999 and parameters: {'x_0': 0, 'x_1': 10522, 'x_2': 700, 'x_3': 0, 'x_4': 0, 'x_5': 8823}. Best is trial 0 with value: 0.22857.\n",
      "[I 2025-10-17 14:00:51,055] Trial 65 finished with value: 0.22857 and parameters: {'x_0': 31, 'x_1': 12165, 'x_2': 715, 'x_3': 343, 'x_4': 2567938, 'x_5': 9241}. Best is trial 0 with value: 0.22857.\n",
      "[I 2025-10-17 14:00:51,207] Trial 66 finished with value: 0.19999 and parameters: {'x_0': 72, 'x_1': 14707, 'x_2': 700, 'x_3': 0, 'x_4': 0, 'x_5': 8482}. Best is trial 0 with value: 0.22857.\n",
      "[I 2025-10-17 14:00:51,474] Trial 67 finished with value: 0.19999 and parameters: {'x_0': 255, 'x_1': 16766, 'x_2': 730, 'x_3': 387, 'x_4': 3639084, 'x_5': 7002}. Best is trial 0 with value: 0.22857.\n",
      "[I 2025-10-17 14:00:51,671] Trial 68 finished with value: 0.19999 and parameters: {'x_0': 46, 'x_1': 8967, 'x_2': 629, 'x_3': 0, 'x_4': 0, 'x_5': 0}. Best is trial 0 with value: 0.22857.\n",
      "[I 2025-10-17 14:00:51,925] Trial 69 finished with value: 0.19999 and parameters: {'x_0': 212, 'x_1': 16145, 'x_2': 677, 'x_3': 288, 'x_4': 192325, 'x_5': 3649}. Best is trial 0 with value: 0.22857.\n",
      "[I 2025-10-17 14:00:52,073] Trial 70 finished with value: 0.19999 and parameters: {'x_0': 16, 'x_1': 13785, 'x_2': 167, 'x_3': 0, 'x_4': 0, 'x_5': 0}. Best is trial 0 with value: 0.22857.\n",
      "[I 2025-10-17 14:00:52,387] Trial 71 finished with value: 0.22857 and parameters: {'x_0': 83, 'x_1': 17053, 'x_2': 670, 'x_3': 332, 'x_4': 435973, 'x_5': 9503}. Best is trial 0 with value: 0.22857.\n",
      "[I 2025-10-17 14:00:52,537] Trial 72 finished with value: 0.19999 and parameters: {'x_0': 29, 'x_1': 15490, 'x_2': 0, 'x_3': 0, 'x_4': 0, 'x_5': 8886}. Best is trial 0 with value: 0.22857.\n",
      "[I 2025-10-17 14:00:52,820] Trial 73 finished with value: 0.19999 and parameters: {'x_0': 60, 'x_1': 17399, 'x_2': 650, 'x_3': 370, 'x_4': 191121, 'x_5': 8064}. Best is trial 0 with value: 0.22857.\n",
      "[I 2025-10-17 14:00:52,980] Trial 74 finished with value: 0.19999 and parameters: {'x_0': 75, 'x_1': 16517, 'x_2': 678, 'x_3': 0, 'x_4': 0, 'x_5': 0}. Best is trial 0 with value: 0.22857.\n",
      "[I 2025-10-17 14:00:53,252] Trial 75 finished with value: 0.22857 and parameters: {'x_0': 10, 'x_1': 17478, 'x_2': 614, 'x_3': 345, 'x_4': 674320, 'x_5': 9285}. Best is trial 0 with value: 0.22857.\n",
      "[I 2025-10-17 14:00:53,469] Trial 76 finished with value: 0.19999 and parameters: {'x_0': 105, 'x_1': 7680, 'x_2': 0, 'x_3': 0, 'x_4': 0, 'x_5': 8532}. Best is trial 0 with value: 0.22857.\n",
      "[I 2025-10-17 14:00:53,764] Trial 77 finished with value: 0.19999 and parameters: {'x_0': 159, 'x_1': 16810, 'x_2': 578, 'x_3': 321, 'x_4': 1427064, 'x_5': 1943}. Best is trial 0 with value: 0.22857.\n",
      "[I 2025-10-17 14:00:53,926] Trial 78 finished with value: 0.19999 and parameters: {'x_0': 130, 'x_1': 3604, 'x_2': 539, 'x_3': 0, 'x_4': 0, 'x_5': 0}. Best is trial 0 with value: 0.22857.\n",
      "[I 2025-10-17 14:00:54,216] Trial 79 finished with value: 0.19999 and parameters: {'x_0': 41, 'x_1': 10966, 'x_2': 58, 'x_3': 391, 'x_4': 403801, 'x_5': 7692}. Best is trial 0 with value: 0.22857.\n",
      "[I 2025-10-17 14:00:54,451] Trial 80 finished with value: 0.19999 and parameters: {'x_0': 25, 'x_1': 15825, 'x_2': 639, 'x_3': 0, 'x_4': 0, 'x_5': 0}. Best is trial 0 with value: 0.22857.\n",
      "[I 2025-10-17 14:00:54,749] Trial 81 finished with value: 0.22857 and parameters: {'x_0': 118, 'x_1': 17223, 'x_2': 113, 'x_3': 50, 'x_4': 176304, 'x_5': 9104}. Best is trial 0 with value: 0.22857.\n",
      "[I 2025-10-17 14:00:54,920] Trial 82 finished with value: 0.22857 and parameters: {'x_0': 89, 'x_1': 16079, 'x_2': 0, 'x_3': 0, 'x_4': 0, 'x_5': 9287}. Best is trial 0 with value: 0.22857.\n",
      "[I 2025-10-17 14:00:55,184] Trial 83 finished with value: 0.22857 and parameters: {'x_0': 53, 'x_1': 17483, 'x_2': 311, 'x_3': 176, 'x_4': 3324759, 'x_5': 9476}. Best is trial 0 with value: 0.22857.\n",
      "[I 2025-10-17 14:00:55,364] Trial 84 finished with value: 0.19999 and parameters: {'x_0': 9, 'x_1': 15363, 'x_2': 461, 'x_3': 0, 'x_4': 0, 'x_5': 0}. Best is trial 0 with value: 0.22857.\n",
      "[I 2025-10-17 14:00:55,683] Trial 85 finished with value: 0.19999 and parameters: {'x_0': 69, 'x_1': 16995, 'x_2': 683, 'x_3': 282, 'x_4': 3656178, 'x_5': 8941}. Best is trial 0 with value: 0.22857.\n",
      "[I 2025-10-17 14:00:55,869] Trial 86 finished with value: 0.19999 and parameters: {'x_0': 130, 'x_1': 14663, 'x_2': 712, 'x_3': 0, 'x_4': 0, 'x_5': 0}. Best is trial 0 with value: 0.22857.\n",
      "[I 2025-10-17 14:00:56,112] Trial 87 finished with value: 0.19999 and parameters: {'x_0': 23, 'x_1': 12659, 'x_2': 733, 'x_3': 376, 'x_4': 2155099, 'x_5': 5955}. Best is trial 0 with value: 0.22857.\n",
      "[I 2025-10-17 14:00:56,284] Trial 88 finished with value: 0.19999 and parameters: {'x_0': 114, 'x_1': 13306, 'x_2': 659, 'x_3': 0, 'x_4': 0, 'x_5': 0}. Best is trial 0 with value: 0.22857.\n",
      "[I 2025-10-17 14:00:56,583] Trial 89 finished with value: 0.19999 and parameters: {'x_0': 99, 'x_1': 17172, 'x_2': 369, 'x_3': 361, 'x_4': 297923, 'x_5': 8668}. Best is trial 0 with value: 0.22857.\n",
      "[I 2025-10-17 14:00:56,760] Trial 90 finished with value: 0.19999 and parameters: {'x_0': 38, 'x_1': 16454, 'x_2': 685, 'x_3': 0, 'x_4': 0, 'x_5': 0}. Best is trial 0 with value: 0.22857.\n",
      "[I 2025-10-17 14:00:57,058] Trial 91 finished with value: 0.22857 and parameters: {'x_0': 63, 'x_1': 17303, 'x_2': 668, 'x_3': 354, 'x_4': 282462, 'x_5': 9327}. Best is trial 0 with value: 0.22857.\n",
      "[I 2025-10-17 14:00:57,238] Trial 92 finished with value: 0.19999 and parameters: {'x_0': 80, 'x_1': 15957, 'x_2': 0, 'x_3': 0, 'x_4': 0, 'x_5': 9043}. Best is trial 0 with value: 0.22857.\n",
      "[I 2025-10-17 14:00:57,541] Trial 93 finished with value: 0.22857 and parameters: {'x_0': 49, 'x_1': 17423, 'x_2': 713, 'x_3': 392, 'x_4': 141583, 'x_5': 9506}. Best is trial 0 with value: 0.22857.\n",
      "[I 2025-10-17 14:00:57,697] Trial 94 finished with value: 0.19999 and parameters: {'x_0': 0, 'x_1': 15500, 'x_2': 686, 'x_3': 0, 'x_4': 0, 'x_5': 8855}. Best is trial 0 with value: 0.22857.\n",
      "[I 2025-10-17 14:00:57,957] Trial 95 finished with value: 0.19999 and parameters: {'x_0': 62, 'x_1': 17275, 'x_2': 626, 'x_3': 110, 'x_4': 523407, 'x_5': 8325}. Best is trial 0 with value: 0.22857.\n",
      "[I 2025-10-17 14:00:58,142] Trial 96 finished with value: 0.19999 and parameters: {'x_0': 16, 'x_1': 16594, 'x_2': 712, 'x_3': 0, 'x_4': 0, 'x_5': 0}. Best is trial 0 with value: 0.22857.\n",
      "[I 2025-10-17 14:00:58,444] Trial 97 finished with value: 0.22857 and parameters: {'x_0': 33, 'x_1': 17128, 'x_2': 731, 'x_3': 303, 'x_4': 696616, 'x_5': 9139}. Best is trial 0 with value: 0.22857.\n",
      "[I 2025-10-17 14:00:58,626] Trial 98 finished with value: 0.11428 and parameters: {'x_0': 408, 'x_1': 928, 'x_2': 700, 'x_3': 0, 'x_4': 0, 'x_5': 8604}. Best is trial 0 with value: 0.22857.\n",
      "[I 2025-10-17 14:00:59,004] Trial 99 finished with value: 0.22857 and parameters: {'x_0': 330, 'x_1': 13996, 'x_2': 720, 'x_3': 333, 'x_4': 954804, 'x_5': 9321}. Best is trial 0 with value: 0.22857.\n",
      "[I 2025-10-17 14:00:59,264] Trial 100 finished with value: 0.19999 and parameters: {'x_0': 465, 'x_1': 9854, 'x_2': 700, 'x_3': 0, 'x_4': 0, 'x_5': 5162}. Best is trial 0 with value: 0.22857.\n",
      "[I 2025-10-17 14:00:59,627] Trial 101 finished with value: 0.22857 and parameters: {'x_0': 6, 'x_1': 11436, 'x_2': 727, 'x_3': 362, 'x_4': 3659349, 'x_5': 9501}. Best is trial 0 with value: 0.22857.\n",
      "[I 2025-10-17 14:00:59,810] Trial 102 finished with value: 0.19999 and parameters: {'x_0': 0, 'x_1': 11332, 'x_2': 700, 'x_3': 0, 'x_4': 0, 'x_5': 8975}. Best is trial 0 with value: 0.22857.\n",
      "[I 2025-10-17 14:01:00,125] Trial 103 finished with value: 0.22857 and parameters: {'x_0': 21, 'x_1': 12220, 'x_2': 729, 'x_3': 377, 'x_4': 3540764, 'x_5': 9168}. Best is trial 0 with value: 0.22857.\n",
      "[I 2025-10-17 14:01:00,325] Trial 104 finished with value: 0.19999 and parameters: {'x_0': 44, 'x_1': 12959, 'x_2': 700, 'x_3': 0, 'x_4': 0, 'x_5': 8788}. Best is trial 0 with value: 0.22857.\n",
      "[I 2025-10-17 14:01:00,737] Trial 105 finished with value: 0.22857 and parameters: {'x_0': 88, 'x_1': 16907, 'x_2': 725, 'x_3': 365, 'x_4': 121237, 'x_5': 9350}. Best is trial 0 with value: 0.22857.\n",
      "[I 2025-10-17 14:01:00,997] Trial 106 finished with value: 0.19999 and parameters: {'x_0': 11, 'x_1': 11755, 'x_2': 700, 'x_3': 0, 'x_4': 0, 'x_5': 8066}. Best is trial 0 with value: 0.22857.\n",
      "[I 2025-10-17 14:01:01,328] Trial 107 finished with value: 0.19999 and parameters: {'x_0': 30, 'x_1': 16667, 'x_2': 709, 'x_3': 394, 'x_4': 3727566, 'x_5': 8479}. Best is trial 0 with value: 0.22857.\n",
      "[I 2025-10-17 14:01:01,524] Trial 108 finished with value: 0.19999 and parameters: {'x_0': 56, 'x_1': 16215, 'x_2': 650, 'x_3': 0, 'x_4': 0, 'x_5': 0}. Best is trial 0 with value: 0.22857.\n",
      "[I 2025-10-17 14:01:01,812] Trial 109 finished with value: 0.19999 and parameters: {'x_0': 70, 'x_1': 17510, 'x_2': 671, 'x_3': 348, 'x_4': 3539653, 'x_5': 9088}. Best is trial 0 with value: 0.22857.\n",
      "[I 2025-10-17 14:01:02,086] Trial 110 finished with value: 0.19999 and parameters: {'x_0': 21, 'x_1': 10597, 'x_2': 232, 'x_3': 0, 'x_4': 0, 'x_5': 0}. Best is trial 0 with value: 0.22857.\n",
      "[I 2025-10-17 14:01:02,499] Trial 111 finished with value: 0.22857 and parameters: {'x_0': 34, 'x_1': 17552, 'x_2': 683, 'x_3': 384, 'x_4': 3270951, 'x_5': 9224}. Best is trial 0 with value: 0.22857.\n",
      "[I 2025-10-17 14:01:02,712] Trial 112 finished with value: 0.19999 and parameters: {'x_0': 8, 'x_1': 16301, 'x_2': 0, 'x_3': 0, 'x_4': 0, 'x_5': 8896}. Best is trial 0 with value: 0.22857.\n",
      "[I 2025-10-17 14:01:03,088] Trial 113 finished with value: 0.22857 and parameters: {'x_0': 45, 'x_1': 17405, 'x_2': 661, 'x_3': 400, 'x_4': 3140770, 'x_5': 9506}. Best is trial 0 with value: 0.22857.\n",
      "[I 2025-10-17 14:01:03,255] Trial 114 finished with value: 0.22857 and parameters: {'x_0': 180, 'x_1': 15500, 'x_2': 0, 'x_3': 371, 'x_4': 0, 'x_5': 9312}. Best is trial 0 with value: 0.22857.\n",
      "[I 2025-10-17 14:01:03,546] Trial 115 finished with value: 0.22857 and parameters: {'x_0': 200, 'x_1': 17357, 'x_2': 607, 'x_3': 385, 'x_4': 3427683, 'x_5': 9460}. Best is trial 0 with value: 0.22857.\n",
      "[I 2025-10-17 14:01:03,755] Trial 116 finished with value: 0.19999 and parameters: {'x_0': 28, 'x_1': 15002, 'x_2': 639, 'x_3': 0, 'x_4': 0, 'x_5': 0}. Best is trial 0 with value: 0.22857.\n",
      "[I 2025-10-17 14:01:04,125] Trial 117 finished with value: 0.19999 and parameters: {'x_0': 276, 'x_1': 12435, 'x_2': 33, 'x_3': 336, 'x_4': 2817457, 'x_5': 8715}. Best is trial 0 with value: 0.22857.\n",
      "[I 2025-10-17 14:01:04,392] Trial 118 finished with value: 0.19999 and parameters: {'x_0': 96, 'x_1': 15932, 'x_2': 174, 'x_3': 0, 'x_4': 0, 'x_5': 0}. Best is trial 0 with value: 0.22857.\n",
      "[I 2025-10-17 14:01:04,734] Trial 119 finished with value: 0.22857 and parameters: {'x_0': 16, 'x_1': 17447, 'x_2': 272, 'x_3': 320, 'x_4': 379470, 'x_5': 9120}. Best is trial 0 with value: 0.22857.\n",
      "[I 2025-10-17 14:01:04,950] Trial 120 finished with value: 0.19999 and parameters: {'x_0': 38, 'x_1': 16774, 'x_2': 0, 'x_3': 0, 'x_4': 0, 'x_5': 8966}. Best is trial 0 with value: 0.22857.\n",
      "[I 2025-10-17 14:01:05,301] Trial 121 finished with value: 0.22857 and parameters: {'x_0': 0, 'x_1': 17357, 'x_2': 716, 'x_3': 344, 'x_4': 2742327, 'x_5': 9223}. Best is trial 0 with value: 0.22857.\n",
      "[I 2025-10-17 14:01:05,482] Trial 122 finished with value: 0.22857 and parameters: {'x_0': 30, 'x_1': 15500, 'x_2': 684, 'x_3': 0, 'x_4': 0, 'x_5': 9274}. Best is trial 0 with value: 0.22857.\n",
      "[I 2025-10-17 14:01:05,800] Trial 123 finished with value: 0.22857 and parameters: {'x_0': 77, 'x_1': 17533, 'x_2': 715, 'x_3': 357, 'x_4': 2349299, 'x_5': 9467}. Best is trial 0 with value: 0.22857.\n",
      "[I 2025-10-17 14:01:03,957] Trial 124 finished with value: 0.19999 and parameters: {'x_0': 54, 'x_1': 12106, 'x_2': 413, 'x_3': 0, 'x_4': 0, 'x_5': 0}. Best is trial 0 with value: 0.22857.\n",
      "[I 2025-10-17 14:01:04,264] Trial 125 finished with value: 0.19999 and parameters: {'x_0': 65, 'x_1': 12592, 'x_2': 671, 'x_3': 378, 'x_4': 1656275, 'x_5': 8786}. Best is trial 0 with value: 0.22857.\n",
      "[I 2025-10-17 14:01:04,496] Trial 126 finished with value: 0.19999 and parameters: {'x_0': 450, 'x_1': 13479, 'x_2': 687, 'x_3': 0, 'x_4': 0, 'x_5': 0}. Best is trial 0 with value: 0.22857.\n",
      "[I 2025-10-17 14:01:04,805] Trial 127 finished with value: 0.19999 and parameters: {'x_0': 10, 'x_1': 12325, 'x_2': 504, 'x_3': 392, 'x_4': 248711, 'x_5': 8389}. Best is trial 0 with value: 0.22857.\n",
      "[I 2025-10-17 14:01:05,083] Trial 128 finished with value: 0.19999 and parameters: {'x_0': 22, 'x_1': 11184, 'x_2': 715, 'x_3': 0, 'x_4': 0, 'x_5': 0}. Best is trial 0 with value: 0.22857.\n",
      "[I 2025-10-17 14:01:05,385] Trial 129 finished with value: 0.19999 and parameters: {'x_0': 234, 'x_1': 11956, 'x_2': 725, 'x_3': 229, 'x_4': 3289109, 'x_5': 9057}. Best is trial 0 with value: 0.22857.\n",
      "[I 2025-10-17 14:01:05,724] Trial 130 finished with value: 0.19999 and parameters: {'x_0': 37, 'x_1': 10056, 'x_2': 653, 'x_3': 0, 'x_4': 0, 'x_5': 0}. Best is trial 0 with value: 0.22857.\n",
      "[I 2025-10-17 14:01:06,148] Trial 131 finished with value: 0.22857 and parameters: {'x_0': 83, 'x_1': 17020, 'x_2': 671, 'x_3': 329, 'x_4': 428974, 'x_5': 9324}. Best is trial 0 with value: 0.22857.\n",
      "[I 2025-10-17 14:01:06,380] Trial 132 finished with value: 0.22857 and parameters: {'x_0': 106, 'x_1': 16478, 'x_2': 0, 'x_3': 0, 'x_4': 0, 'x_5': 9159}. Best is trial 0 with value: 0.22857.\n",
      "[I 2025-10-17 14:01:06,716] Trial 133 finished with value: 0.22857 and parameters: {'x_0': 122, 'x_1': 17089, 'x_2': 689, 'x_3': 313, 'x_4': 487062, 'x_5': 9490}. Best is trial 0 with value: 0.22857.\n",
      "[I 2025-10-17 14:01:06,956] Trial 134 finished with value: 0.19999 and parameters: {'x_0': 85, 'x_1': 16767, 'x_2': 106, 'x_3': 0, 'x_4': 0, 'x_5': 0}. Best is trial 0 with value: 0.22857.\n",
      "[I 2025-10-17 14:01:07,312] Trial 135 finished with value: 0.19999 and parameters: {'x_0': 144, 'x_1': 17261, 'x_2': 733, 'x_3': 368, 'x_4': 3590278, 'x_5': 8624}. Best is trial 0 with value: 0.22857.\n",
      "[I 2025-10-17 14:01:07,548] Trial 136 finished with value: 0.19999 and parameters: {'x_0': 47, 'x_1': 16215, 'x_2': 669, 'x_3': 0, 'x_4': 0, 'x_5': 0}. Best is trial 0 with value: 0.22857.\n",
      "[I 2025-10-17 14:01:07,932] Trial 137 finished with value: 0.19999 and parameters: {'x_0': 73, 'x_1': 17458, 'x_2': 711, 'x_3': 339, 'x_4': 3728722, 'x_5': 8926}. Best is trial 0 with value: 0.22857.\n",
      "[I 2025-10-17 14:01:08,166] Trial 138 finished with value: 0.19999 and parameters: {'x_0': 16, 'x_1': 13082, 'x_2': 628, 'x_3': 0, 'x_4': 0, 'x_5': 0}. Best is trial 0 with value: 0.22857.\n",
      "[I 2025-10-17 14:01:08,505] Trial 139 finished with value: 0.19999 and parameters: {'x_0': 6, 'x_1': 12814, 'x_2': 342, 'x_3': 86, 'x_4': 1155533, 'x_5': 3539}. Best is trial 0 with value: 0.22857.\n",
      "[I 2025-10-17 14:01:08,799] Trial 140 finished with value: 0.19999 and parameters: {'x_0': 59, 'x_1': 11634, 'x_2': 447, 'x_3': 0, 'x_4': 0, 'x_5': 0}. Best is trial 0 with value: 0.22857.\n",
      "[I 2025-10-17 14:01:09,250] Trial 141 finished with value: 0.22857 and parameters: {'x_0': 10, 'x_1': 16930, 'x_2': 615, 'x_3': 349, 'x_4': 641245, 'x_5': 9277}. Best is trial 0 with value: 0.22857.\n",
      "[I 2025-10-17 14:01:09,651] Trial 142 finished with value: 0.22857 and parameters: {'x_0': 27, 'x_1': 16529, 'x_2': 0, 'x_3': 0, 'x_4': 0, 'x_5': 9145}. Best is trial 0 with value: 0.22857.\n",
      "[I 2025-10-17 14:01:10,004] Trial 143 finished with value: 0.22857 and parameters: {'x_0': 0, 'x_1': 17493, 'x_2': 691, 'x_3': 323, 'x_4': 751760, 'x_5': 9442}. Best is trial 0 with value: 0.22857.\n",
      "[I 2025-10-17 14:01:10,307] Trial 144 finished with value: 0.19999 and parameters: {'x_0': 18, 'x_1': 10797, 'x_2': 654, 'x_3': 0, 'x_4': 0, 'x_5': 0}. Best is trial 0 with value: 0.22857.\n",
      "[I 2025-10-17 14:01:10,717] Trial 145 finished with value: 0.19999 and parameters: {'x_0': 97, 'x_1': 17158, 'x_2': 712, 'x_3': 400, 'x_4': 125538, 'x_5': 8951}. Best is trial 0 with value: 0.22857.\n",
      "[I 2025-10-17 14:01:10,960] Trial 146 finished with value: 0.19999 and parameters: {'x_0': 35, 'x_1': 15880, 'x_2': 677, 'x_3': 400, 'x_4': 0, 'x_5': 0}. Best is trial 0 with value: 0.22857.\n",
      "[I 2025-10-17 14:01:11,344] Trial 147 finished with value: 0.22857 and parameters: {'x_0': 48, 'x_1': 17320, 'x_2': 733, 'x_3': 400, 'x_4': 347585, 'x_5': 9279}. Best is trial 0 with value: 0.22857.\n",
      "[I 2025-10-17 14:01:11,543] Trial 148 finished with value: 0.19999 and parameters: {'x_0': 9, 'x_1': 15500, 'x_2': 641, 'x_3': 0, 'x_4': 0, 'x_5': 8781}. Best is trial 0 with value: 0.22857.\n",
      "[I 2025-10-17 14:01:11,942] Trial 149 finished with value: 0.22857 and parameters: {'x_0': 25, 'x_1': 17385, 'x_2': 694, 'x_3': 386, 'x_4': 235877, 'x_5': 9506}. Best is trial 0 with value: 0.22857.\n",
      "[I 2025-10-17 14:01:12,198] Trial 150 finished with value: 0.19999 and parameters: {'x_0': 67, 'x_1': 6480, 'x_2': 0, 'x_3': 0, 'x_4': 0, 'x_5': 9086}. Best is trial 0 with value: 0.22857.\n",
      "[I 2025-10-17 14:01:12,639] Trial 151 finished with value: 0.22857 and parameters: {'x_0': 120, 'x_1': 16949, 'x_2': 110, 'x_3': 21, 'x_4': 165075, 'x_5': 9197}. Best is trial 0 with value: 0.22857.\n",
      "[I 2025-10-17 14:01:12,887] Trial 152 finished with value: 0.19999 and parameters: {'x_0': 165, 'x_1': 16607, 'x_2': 0, 'x_3': 0, 'x_4': 0, 'x_5': 9014}. Best is trial 0 with value: 0.22857.\n",
      "[I 2025-10-17 14:01:13,336] Trial 153 finished with value: 0.22857 and parameters: {'x_0': 110, 'x_1': 17229, 'x_2': 28, 'x_3': 46, 'x_4': 3425324, 'x_5': 9318}. Best is trial 0 with value: 0.22857.\n",
      "[I 2025-10-17 14:01:13,595] Trial 154 finished with value: 0.19999 and parameters: {'x_0': 91, 'x_1': 16260, 'x_2': 0, 'x_3': 0, 'x_4': 0, 'x_5': 6574}. Best is trial 0 with value: 0.22857.\n",
      "[I 2025-10-17 14:01:13,955] Trial 155 finished with value: 0.19999 and parameters: {'x_0': 374, 'x_1': 17081, 'x_2': 53, 'x_3': 56, 'x_4': 553123, 'x_5': 8556}. Best is trial 0 with value: 0.22857.\n",
      "[I 2025-10-17 14:01:14,211] Trial 156 finished with value: 0.19999 and parameters: {'x_0': 79, 'x_1': 16721, 'x_2': 158, 'x_3': 0, 'x_4': 0, 'x_5': 0}. Best is trial 0 with value: 0.22857.\n",
      "[I 2025-10-17 14:01:14,593] Trial 157 finished with value: 0.19999 and parameters: {'x_0': 0, 'x_1': 17562, 'x_2': 714, 'x_3': 151, 'x_4': 448775, 'x_5': 8844}. Best is trial 0 with value: 0.22857.\n",
      "[I 2025-10-17 14:01:14,869] Trial 158 finished with value: 0.19999 and parameters: {'x_0': 16, 'x_1': 4680, 'x_2': 202, 'x_3': 0, 'x_4': 0, 'x_5': 0}. Best is trial 0 with value: 0.22857.\n",
      "[I 2025-10-17 14:01:15,363] Trial 159 finished with value: 0.19999 and parameters: {'x_0': 40, 'x_1': 11475, 'x_2': 704, 'x_3': 342, 'x_4': 3786970, 'x_5': 164}. Best is trial 0 with value: 0.22857.\n",
      "[I 2025-10-17 14:01:15,696] Trial 160 finished with value: 0.19999 and parameters: {'x_0': 29, 'x_1': 14061, 'x_2': 93, 'x_3': 0, 'x_4': 0, 'x_5': 0}. Best is trial 0 with value: 0.22857.\n",
      "[I 2025-10-17 14:01:16,178] Trial 161 finished with value: 0.22857 and parameters: {'x_0': 88, 'x_1': 17213, 'x_2': 44, 'x_3': 18, 'x_4': 122862, 'x_5': 9309}. Best is trial 0 with value: 0.22857.\n",
      "[I 2025-10-17 14:01:16,451] Trial 162 finished with value: 0.22857 and parameters: {'x_0': 101, 'x_1': 16028, 'x_2': 0, 'x_3': 0, 'x_4': 0, 'x_5': 9141}. Best is trial 0 with value: 0.22857.\n",
      "[I 2025-10-17 14:01:16,864] Trial 163 finished with value: 0.22857 and parameters: {'x_0': 129, 'x_1': 15766, 'x_2': 21, 'x_3': 16, 'x_4': 312552, 'x_5': 9489}. Best is trial 0 with value: 0.22857.\n",
      "[I 2025-10-17 14:01:17,257] Trial 164 finished with value: 0.19999 and parameters: {'x_0': 76, 'x_1': 8058, 'x_2': 719, 'x_3': 0, 'x_4': 0, 'x_5': 0}. Best is trial 0 with value: 0.22857.\n",
      "[I 2025-10-17 14:01:17,720] Trial 165 finished with value: 0.22857 and parameters: {'x_0': 57, 'x_1': 12024, 'x_2': 726, 'x_3': 377, 'x_4': 211160, 'x_5': 9298}. Best is trial 0 with value: 0.22857.\n",
      "[I 2025-10-17 14:01:18,043] Trial 166 finished with value: 0.19999 and parameters: {'x_0': 8, 'x_1': 16396, 'x_2': 700, 'x_3': 0, 'x_4': 0, 'x_5': 9022}. Best is trial 0 with value: 0.22857.\n",
      "[I 2025-10-17 14:01:18,466] Trial 167 finished with value: 0.22857 and parameters: {'x_0': 113, 'x_1': 17452, 'x_2': 723, 'x_3': 358, 'x_4': 1946954, 'x_5': 9505}. Best is trial 0 with value: 0.22857.\n",
      "[I 2025-10-17 14:01:18,744] Trial 168 finished with value: 0.19999 and parameters: {'x_0': 92, 'x_1': 16802, 'x_2': 700, 'x_3': 0, 'x_4': 0, 'x_5': 2166}. Best is trial 0 with value: 0.22857.\n",
      "[I 2025-10-17 14:01:19,190] Trial 169 finished with value: 0.22857 and parameters: {'x_0': 19, 'x_1': 15712, 'x_2': 707, 'x_3': 390, 'x_4': 3201233, 'x_5': 9172}. Best is trial 0 with value: 0.22857.\n",
      "[I 2025-10-17 14:01:19,536] Trial 170 finished with value: 0.19999 and parameters: {'x_0': 67, 'x_1': 9192, 'x_2': 700, 'x_3': 0, 'x_4': 0, 'x_5': 733}. Best is trial 0 with value: 0.22857.\n",
      "[I 2025-10-17 14:01:20,025] Trial 171 finished with value: 0.22857 and parameters: {'x_0': 53, 'x_1': 17014, 'x_2': 731, 'x_3': 182, 'x_4': 3327546, 'x_5': 9333}. Best is trial 0 with value: 0.22857.\n",
      "[I 2025-10-17 14:01:20,296] Trial 172 finished with value: 0.19999 and parameters: {'x_0': 83, 'x_1': 16641, 'x_2': 700, 'x_3': 0, 'x_4': 0, 'x_5': 8914}. Best is trial 0 with value: 0.22857.\n",
      "[I 2025-10-17 14:01:20,731] Trial 173 finished with value: 0.22857 and parameters: {'x_0': 46, 'x_1': 17492, 'x_2': 729, 'x_3': 332, 'x_4': 3512222, 'x_5': 9505}. Best is trial 0 with value: 0.22857.\n",
      "[I 2025-10-17 14:01:21,006] Trial 174 finished with value: 0.22857 and parameters: {'x_0': 34, 'x_1': 14560, 'x_2': 700, 'x_3': 0, 'x_4': 0, 'x_5': 9158}. Best is trial 0 with value: 0.22857.\n",
      "[I 2025-10-17 14:01:21,450] Trial 175 finished with value: 0.22857 and parameters: {'x_0': 61, 'x_1': 12312, 'x_2': 728, 'x_3': 32, 'x_4': 2982504, 'x_5': 9474}. Best is trial 0 with value: 0.22857.\n",
      "[I 2025-10-17 14:01:21,793] Trial 176 finished with value: 0.19999 and parameters: {'x_0': 0, 'x_1': 16233, 'x_2': 307, 'x_3': 0, 'x_4': 0, 'x_5': 0}. Best is trial 0 with value: 0.22857.\n",
      "[I 2025-10-17 14:01:22,237] Trial 177 finished with value: 0.19999 and parameters: {'x_0': 13, 'x_1': 17485, 'x_2': 390, 'x_3': 72, 'x_4': 3613999, 'x_5': 8698}. Best is trial 0 with value: 0.22857.\n",
      "[I 2025-10-17 14:01:22,550] Trial 178 finished with value: 0.19999 and parameters: {'x_0': 25, 'x_1': 16900, 'x_2': 134, 'x_3': 0, 'x_4': 0, 'x_5': 0}. Best is trial 0 with value: 0.22857.\n",
      "[I 2025-10-17 14:01:23,045] Trial 179 finished with value: 0.22857 and parameters: {'x_0': 73, 'x_1': 17419, 'x_2': 68, 'x_3': 272, 'x_4': 3362539, 'x_5': 9300}. Best is trial 0 with value: 0.22857.\n",
      "[I 2025-10-17 14:01:23,346] Trial 180 finished with value: 0.19999 and parameters: {'x_0': 102, 'x_1': 16507, 'x_2': 0, 'x_3': 0, 'x_4': 0, 'x_5': 9026}. Best is trial 0 with value: 0.22857.\n",
      "[I 2025-10-17 14:01:23,874] Trial 181 finished with value: 0.22857 and parameters: {'x_0': 63, 'x_1': 17307, 'x_2': 666, 'x_3': 352, 'x_4': 280274, 'x_5': 9307}. Best is trial 0 with value: 0.22857.\n",
      "[I 2025-10-17 14:01:24,165] Trial 182 finished with value: 0.22857 and parameters: {'x_0': 53, 'x_1': 16922, 'x_2': 0, 'x_3': 0, 'x_4': 0, 'x_5': 9161}. Best is trial 0 with value: 0.22857.\n",
      "[I 2025-10-17 14:01:24,788] Trial 183 finished with value: 0.22857 and parameters: {'x_0': 82, 'x_1': 17275, 'x_2': 679, 'x_3': 367, 'x_4': 2611014, 'x_5': 9445}. Best is trial 0 with value: 0.22857.\n",
      "[I 2025-10-17 14:01:25,084] Trial 184 finished with value: 0.19999 and parameters: {'x_0': 41, 'x_1': 16856, 'x_2': 663, 'x_3': 0, 'x_4': 0, 'x_5': 0}. Best is trial 0 with value: 0.22857.\n",
      "[I 2025-10-17 14:01:25,518] Trial 185 finished with value: 0.19999 and parameters: {'x_0': 10, 'x_1': 17372, 'x_2': 682, 'x_3': 302, 'x_4': 130960, 'x_5': 8874}. Best is trial 0 with value: 0.22857.\n",
      "[I 2025-10-17 14:01:25,825] Trial 186 finished with value: 0.19999 and parameters: {'x_0': 70, 'x_1': 16112, 'x_2': 21, 'x_3': 0, 'x_4': 0, 'x_5': 0}. Best is trial 0 with value: 0.22857.\n",
      "[I 2025-10-17 14:01:26,309] Trial 187 finished with value: 0.22857 and parameters: {'x_0': 307, 'x_1': 17523, 'x_2': 543, 'x_3': 383, 'x_4': 374699, 'x_5': 9296}. Best is trial 0 with value: 0.22857.\n",
      "[I 2025-10-17 14:01:26,597] Trial 188 finished with value: 0.19999 and parameters: {'x_0': 22, 'x_1': 16558, 'x_2': 0, 'x_3': 0, 'x_4': 0, 'x_5': 9053}. Best is trial 0 with value: 0.22857.\n",
      "[I 2025-10-17 14:01:27,039] Trial 189 finished with value: 0.19999 and parameters: {'x_0': 92, 'x_1': 17321, 'x_2': 256, 'x_3': 125, 'x_4': 3698750, 'x_5': 4685}. Best is trial 0 with value: 0.22857.\n",
      "[I 2025-10-17 14:01:27,395] Trial 190 finished with value: 0.19999 and parameters: {'x_0': 33, 'x_1': 11106, 'x_2': 310, 'x_3': 0, 'x_4': 0, 'x_5': 0}. Best is trial 0 with value: 0.22857.\n",
      "[I 2025-10-17 14:01:27,876] Trial 191 finished with value: 0.22857 and parameters: {'x_0': 49, 'x_1': 11788, 'x_2': 714, 'x_3': 392, 'x_4': 186549, 'x_5': 9504}. Best is trial 0 with value: 0.22857.\n",
      "[I 2025-10-17 14:01:28,155] Trial 192 finished with value: 0.22857 and parameters: {'x_0': 59, 'x_1': 10500, 'x_2': 685, 'x_3': 0, 'x_4': 0, 'x_5': 9304}. Best is trial 0 with value: 0.22857.\n",
      "[I 2025-10-17 14:01:28,660] Trial 193 finished with value: 0.22857 and parameters: {'x_0': 7, 'x_1': 17157, 'x_2': 671, 'x_3': 345, 'x_4': 2177172, 'x_5': 9491}. Best is trial 0 with value: 0.22857.\n",
      "[I 2025-10-17 14:01:28,971] Trial 194 finished with value: 0.19999 and parameters: {'x_0': 76, 'x_1': 16904, 'x_2': 714, 'x_3': 0, 'x_4': 0, 'x_5': 0}. Best is trial 0 with value: 0.22857.\n",
      "[I 2025-10-17 14:01:29,458] Trial 195 finished with value: 0.22857 and parameters: {'x_0': 44, 'x_1': 17424, 'x_2': 706, 'x_3': 392, 'x_4': 123500, 'x_5': 9150}. Best is trial 0 with value: 0.22857.\n",
      "[I 2025-10-17 14:01:29,763] Trial 196 finished with value: 0.19999 and parameters: {'x_0': 152, 'x_1': 16671, 'x_2': 700, 'x_3': 0, 'x_4': 0, 'x_5': 7132}. Best is trial 0 with value: 0.22857.\n",
      "[I 2025-10-17 14:01:30,280] Trial 197 finished with value: 0.22857 and parameters: {'x_0': 17, 'x_1': 17462, 'x_2': 718, 'x_3': 316, 'x_4': 266600, 'x_5': 9301}. Best is trial 0 with value: 0.22857.\n",
      "[I 2025-10-17 14:01:30,597] Trial 198 finished with value: 0.19999 and parameters: {'x_0': 0, 'x_1': 16983, 'x_2': 700, 'x_3': 0, 'x_4': 0, 'x_5': 8964}. Best is trial 0 with value: 0.22857.\n",
      "[I 2025-10-17 14:01:31,074] Trial 199 finished with value: 0.19999 and parameters: {'x_0': 66, 'x_1': 17405, 'x_2': 723, 'x_3': 241, 'x_4': 866102, 'x_5': 8762}. Best is trial 0 with value: 0.22857.\n",
      "[I 2025-10-17 14:01:31,395] Trial 200 finished with value: 0.19999 and parameters: {'x_0': 29, 'x_1': 13332, 'x_2': 651, 'x_3': 0, 'x_4': 0, 'x_5': 0}. Best is trial 0 with value: 0.22857.\n",
      "[I 2025-10-17 14:01:31,950] Trial 201 finished with value: 0.22857 and parameters: {'x_0': 36, 'x_1': 17117, 'x_2': 733, 'x_3': 327, 'x_4': 710925, 'x_5': 9140}. Best is trial 0 with value: 0.22857.\n",
      "[I 2025-10-17 14:01:32,294] Trial 202 finished with value: 0.22857 and parameters: {'x_0': 0, 'x_1': 16398, 'x_2': 686, 'x_3': 0, 'x_4': 0, 'x_5': 9320}. Best is trial 0 with value: 0.22857.\n",
      "[I 2025-10-17 14:01:32,786] Trial 203 finished with value: 0.22857 and parameters: {'x_0': 52, 'x_1': 17239, 'x_2': 687, 'x_3': 337, 'x_4': 645701, 'x_5': 9479}. Best is trial 0 with value: 0.22857.\n",
      "[I 2025-10-17 14:01:33,099] Trial 204 finished with value: 0.19999 and parameters: {'x_0': 21, 'x_1': 16863, 'x_2': 583, 'x_3': 0, 'x_4': 0, 'x_5': 0}. Best is trial 0 with value: 0.22857.\n",
      "[I 2025-10-17 14:01:33,619] Trial 205 finished with value: 0.22857 and parameters: {'x_0': 264, 'x_1': 17060, 'x_2': 190, 'x_3': 355, 'x_4': 487041, 'x_5': 9119}. Best is trial 0 with value: 0.22857.\n",
      "[I 2025-10-17 14:01:33,940] Trial 206 finished with value: 0.14286000000000001 and parameters: {'x_0': 85, 'x_1': 2371, 'x_2': 0, 'x_3': 0, 'x_4': 0, 'x_5': 9238}. Best is trial 0 with value: 0.22857.\n",
      "[I 2025-10-17 14:01:34,488] Trial 207 finished with value: 0.22857 and parameters: {'x_0': 12, 'x_1': 15105, 'x_2': 234, 'x_3': 374, 'x_4': 1029390, 'x_5': 9456}. Best is trial 0 with value: 0.22857.\n",
      "[I 2025-10-17 14:01:34,819] Trial 208 finished with value: 0.19999 and parameters: {'x_0': 31, 'x_1': 12722, 'x_2': 714, 'x_3': 0, 'x_4': 0, 'x_5': 0}. Best is trial 0 with value: 0.22857.\n",
      "[I 2025-10-17 14:01:35,269] Trial 209 finished with value: 0.19999 and parameters: {'x_0': 42, 'x_1': 12481, 'x_2': 731, 'x_3': 303, 'x_4': 3126205, 'x_5': 8949}. Best is trial 0 with value: 0.22857.\n",
      "[I 2025-10-17 14:01:35,645] Trial 210 finished with value: 0.19999 and parameters: {'x_0': 58, 'x_1': 16596, 'x_2': 670, 'x_3': 0, 'x_4': 0, 'x_5': 0}. Best is trial 0 with value: 0.22857.\n",
      "[I 2025-10-17 14:01:34,131] Trial 211 finished with value: 0.22857 and parameters: {'x_0': 340, 'x_1': 15637, 'x_2': 715, 'x_3': 333, 'x_4': 960321, 'x_5': 9301}. Best is trial 0 with value: 0.22857.\n",
      "[I 2025-10-17 14:01:34,557] Trial 212 finished with value: 0.22857 and parameters: {'x_0': 415, 'x_1': 15500, 'x_2': 733, 'x_3': 0, 'x_4': 0, 'x_5': 9122}. Best is trial 0 with value: 0.22857.\n",
      "[I 2025-10-17 14:01:35,055] Trial 213 finished with value: 0.22857 and parameters: {'x_0': 201, 'x_1': 17124, 'x_2': 730, 'x_3': 343, 'x_4': 1295080, 'x_5': 9494}. Best is trial 0 with value: 0.22857.\n",
      "[I 2025-10-17 14:01:35,391] Trial 214 finished with value: 0.19999 and parameters: {'x_0': 441, 'x_1': 13850, 'x_2': 714, 'x_3': 0, 'x_4': 0, 'x_5': 0}. Best is trial 0 with value: 0.22857.\n",
      "[I 2025-10-17 14:01:35,856] Trial 215 finished with value: 0.19999 and parameters: {'x_0': 319, 'x_1': 12886, 'x_2': 721, 'x_3': 384, 'x_4': 342237, 'x_5': 5278}. Best is trial 0 with value: 0.22857.\n",
      "[I 2025-10-17 14:01:36,210] Trial 216 finished with value: 0.19999 and parameters: {'x_0': 383, 'x_1': 14220, 'x_2': 689, 'x_3': 0, 'x_4': 0, 'x_5': 0}. Best is trial 0 with value: 0.22857.\n",
      "[I 2025-10-17 14:01:36,777] Trial 217 finished with value: 0.22857 and parameters: {'x_0': 286, 'x_1': 12249, 'x_2': 142, 'x_3': 362, 'x_4': 202807, 'x_5': 9292}. Best is trial 0 with value: 0.22857.\n",
      "[I 2025-10-17 14:01:37,133] Trial 218 finished with value: 0.11428 and parameters: {'x_0': 357, 'x_1': 1245, 'x_2': 0, 'x_3': 0, 'x_4': 0, 'x_5': 4064}. Best is trial 0 with value: 0.22857.\n",
      "[I 2025-10-17 14:01:37,689] Trial 219 finished with value: 0.19999 and parameters: {'x_0': 73, 'x_1': 16184, 'x_2': 658, 'x_3': 324, 'x_4': 3459935, 'x_5': 9012}. Best is trial 0 with value: 0.22857.\n",
      "[I 2025-10-17 14:01:38,030] Trial 220 finished with value: 0.19999 and parameters: {'x_0': 12, 'x_1': 16775, 'x_2': 638, 'x_3': 0, 'x_4': 0, 'x_5': 0}. Best is trial 0 with value: 0.22857.\n",
      "[I 2025-10-17 14:01:38,603] Trial 221 finished with value: 0.22857 and parameters: {'x_0': 7, 'x_1': 17519, 'x_2': 712, 'x_3': 350, 'x_4': 3668534, 'x_5': 9506}. Best is trial 0 with value: 0.22857.\n",
      "[I 2025-10-17 14:01:38,879] Trial 222 finished with value: 0.22857 and parameters: {'x_0': 22, 'x_1': 15500, 'x_2': 690, 'x_3': 0, 'x_4': 0, 'x_5': 9305}. Best is trial 0 with value: 0.22857.\n",
      "[I 2025-10-17 14:01:39,422] Trial 223 finished with value: 0.22857 and parameters: {'x_0': 228, 'x_1': 17191, 'x_2': 713, 'x_3': 394, 'x_4': 3581472, 'x_5': 9481}. Best is trial 0 with value: 0.22857.\n",
      "[I 2025-10-17 14:01:39,818] Trial 224 finished with value: 0.19999 and parameters: {'x_0': 7, 'x_1': 11409, 'x_2': 733, 'x_3': 0, 'x_4': 0, 'x_5': 0}. Best is trial 0 with value: 0.22857.\n"
     ]
    }
   ],
   "source": [
    "services_weights = service_types_df.set_index('blocksnet')['infrastructure_weight'].to_dict()\n",
    "\n",
    "objective = WeightedObjective(num_params=facade.num_params, facade=facade, weights=services_weights, max_evals=MAX_EVALS)\n",
    "\n",
    "constraints = WeightedConstraints(num_params=facade.num_params, facade=facade)\n",
    "\n",
    "tpe_optimizer = TPEOptimizer(\n",
    "    objective=objective, constraints=constraints, vars_chooser=GradientChooser(facade, facade.num_params, num_top=5)\n",
    ")\n",
    "\n",
    "best_x, best_val, perc, func_evals = tpe_optimizer.run(max_runs=MAX_RUNS, timeout=TIMEOUT, initial_runs_num=1)"
   ]
  },
  {
   "cell_type": "markdown",
   "id": "3bc80a2f",
   "metadata": {},
   "source": [
    "### Результат"
   ]
  },
  {
   "cell_type": "markdown",
   "id": "36b080d9",
   "metadata": {},
   "source": [
    "Во-первых, обнуляем для территории все `capacity_`, `count_` и `population`, чтобы Ф22 был адекватен"
   ]
  },
  {
   "cell_type": "code",
   "execution_count": 101,
   "id": "82faa810",
   "metadata": {},
   "outputs": [],
   "source": [
    "columns = [c for c in blocks_gdf.columns if 'capacity_' in c or 'count_' in c or 'population' in c]\n",
    "blocks_gdf.loc[blocks_gdf.is_project, columns] = 0"
   ]
  },
  {
   "cell_type": "markdown",
   "id": "0156bd94",
   "metadata": {},
   "source": [
    "Обновляем параметры кварталов согласно тому, что наоптимизировали"
   ]
  },
  {
   "cell_type": "code",
   "execution_count": 102,
   "id": "086f6b39",
   "metadata": {},
   "outputs": [],
   "source": [
    "def get_solution_df(solution):\n",
    "    units_df = facade.solution_to_services_df(solution)\n",
    "    population_df = facade.get_solution_area_df(solution).loc[list(facade._blocks_lu.keys())]\n",
    "\n",
    "    df = (\n",
    "        units_df\n",
    "        .groupby(['block_id', 'service_type'])\n",
    "        .agg({'capacity': 'sum', 'count': 'sum'})\n",
    "        .unstack('service_type')  # превращаем service_type в столбцы\n",
    "    )\n",
    "    columns = []\n",
    "\n",
    "    for col in df.columns:\n",
    "        name = col[0]\n",
    "        st_name = col[1]\n",
    "        column = f'{name}_{st_name}'\n",
    "        columns.append(column)\n",
    "    df.columns = columns\n",
    "\n",
    "    df.loc[population_df.index, 'population'] = population_df['population']\n",
    "\n",
    "    return df.fillna(0)\n",
    "\n",
    "solution_df = get_solution_df(best_x)\n",
    "blocks_gdf.loc[solution_df.index, solution_df.columns] += solution_df"
   ]
  },
  {
   "cell_type": "markdown",
   "id": "90d23c0f",
   "metadata": {},
   "source": [
    "- Если для данного данного сервиса нет в списке доступных для данного `land_use`, он не оптимизируется и не учитывается.\n",
    "- То что не оптимизировали, надо пересчитать, особенно если прибавилось население. Добавляем это население по возможности"
   ]
  },
  {
   "cell_type": "code",
   "execution_count": 103,
   "id": "b58f5571",
   "metadata": {},
   "outputs": [],
   "source": [
    "solution_population_df = facade.get_solution_area_df(best_x)\n",
    "solution_population_df\n",
    "\n",
    "prov_gdfs = {}\n",
    "\n",
    "for st_name in prov_totals_before.keys():\n",
    "    if st_name in facade._chosen_service_types:\n",
    "        prov_df = facade._provision_adapter.get_last_provision_df(st_name)\n",
    "        prov_gdf = blocks_gdf[['geometry']].join(prov_df, how='right')\n",
    "        prov_gdfs[st_name] = prov_gdf\n",
    "    else:\n",
    "        column = f'capacity_{st_name}'\n",
    "        _,demand,accessibility = service_types_config[st_name].values()\n",
    "        df = blocks_gdf.copy()\n",
    "        prov_gdf = _assess_provision(df, acc_mx, st_name)\n",
    "        prov_gdfs[st_name] = prov_gdf"
   ]
  },
  {
   "cell_type": "code",
   "execution_count": 104,
   "id": "02557302",
   "metadata": {},
   "outputs": [
    {
     "data": {
      "image/png": "[encoded data removed]",
      "text/plain": [
       "<Figure size 640x480 with 2 Axes>"
      ]
     },
     "metadata": {},
     "output_type": "display_data"
    }
   ],
   "source": [
    "ax = prov_gdfs['hospital'].plot(color='#ddd')\n",
    "prov_gdfs['hospital'].plot('provision_strong', ax=ax, vmin=0, vmax=1, cmap='RdYlGn', legend=True).set_axis_off()"
   ]
  },
  {
   "cell_type": "markdown",
   "id": "d580c1ce",
   "metadata": {},
   "source": [
    "Чиселки обеспеченности для графика"
   ]
  },
  {
   "cell_type": "code",
   "execution_count": 105,
   "id": "894e4b17",
   "metadata": {},
   "outputs": [],
   "source": [
    "prov_totals_after = {}\n",
    "for st_name, prov_gdf in prov_gdfs.items():\n",
    "    if prov_gdf.demand.sum() == 0:\n",
    "        if prov_gdf.capacity.sum() > 0:\n",
    "            total = 1.0\n",
    "        else:\n",
    "            total = 0.0\n",
    "    else:\n",
    "        total = float(provision_strong_total(prov_gdf))\n",
    "    prov_totals_after[st_name] = total"
   ]
  },
  {
   "cell_type": "markdown",
   "id": "0d7a8885",
   "metadata": {},
   "source": [
    "Если какой-то сервис тут отсутствует, можно брать с `base_scenario` (?? я подумаю еще правильно ли это)"
   ]
  },
  {
   "cell_type": "code",
   "execution_count": 106,
   "id": "2d1c01b6",
   "metadata": {},
   "outputs": [
    {
     "data": {
      "text/plain": [
       "{'park': 0.9904610492845787,\n",
       " 'beach': 0.0,\n",
       " 'kindergarten': 0.0,\n",
       " 'school': 0.0,\n",
       " 'university': 0.0,\n",
       " 'polyclinic': 0.0,\n",
       " 'pharmacy': 0.0,\n",
       " 'hospital': 1.0,\n",
       " 'library': 0.9666666666666667,\n",
       " 'museum': 0.0,\n",
       " 'theatre': 1.0,\n",
       " 'cinema': 0.0,\n",
       " 'mall': 1.0,\n",
       " 'stadium': 1.0,\n",
       " 'cafe': 0.0,\n",
       " 'restaurant': 0.9411764705882353,\n",
       " 'bar': 0.0,\n",
       " 'pitch': 1.0,\n",
       " 'playground': 0.0,\n",
       " 'police': 0.0,\n",
       " 'train_station': 0.15151515151515152,\n",
       " 'fuel': 1.0,\n",
       " 'supermarket': 0.0,\n",
       " 'market': 1.0,\n",
       " 'post': 1.0,\n",
       " 'bank': 0.98989898989899,\n",
       " 'veterinary': 0.0,\n",
       " 'hotel': 1.0,\n",
       " 'religion': 1.0,\n",
       " 'sanatorium': 0.0}"
      ]
     },
     "execution_count": 106,
     "metadata": {},
     "output_type": "execute_result"
    }
   ],
   "source": [
    "prov_totals_after"
   ]
  },
  {
   "cell_type": "code",
   "execution_count": 107,
   "id": "8d1380ac",
   "metadata": {},
   "outputs": [
    {
     "data": {
      "text/plain": [
       "<Axes: >"
      ]
     },
     "execution_count": 107,
     "metadata": {},
     "output_type": "execute_result"
    },
    {
     "data": {
      "image/png": "[encoded data removed]",
      "text/plain": [
       "<Figure size 640x480 with 1 Axes>"
      ]
     },
     "metadata": {},
     "output_type": "display_data"
    }
   ],
   "source": [
    "provisions_df = pd.DataFrame.from_dict({'before': prov_totals_before, 'after': prov_totals_after})\n",
    "provisions_df.plot.bar()"
   ]
  },
  {
   "cell_type": "markdown",
   "id": "9012163d",
   "metadata": {},
   "source": [
    "## Выход в другие модули\n",
    "\n",
    "Чтоб могли посчитать и сопоставить"
   ]
  },
  {
   "cell_type": "code",
   "execution_count": 108,
   "id": "acb907af",
   "metadata": {},
   "outputs": [],
   "source": [
    "blocks_gdf.to_pickle('./data/blocks_f35.pickle')"
   ]
  },
  {
   "cell_type": "markdown",
   "id": "8810de6e",
   "metadata": {},
   "source": [
    "# **Ф26**: Модуль ценностно-ориентированного моделирования программ развития населенного пункта.\n",
    "\n",
    "Берем результат из пункта `2.b` и разворачиваем его на кварталы: куда что ставить:\n",
    "\n",
    "- `block_id` -- номер квартала, куда ставим.\n",
    "- `service_type` -- тип сервиса.\n",
    "- `site_area` -- занимаемая площадь квартала.\n",
    "- `build_floor_area` -- занимаемая площадь зданий.\n",
    "- `capacity` -- суммарная емкость типа застройки\n",
    "- `count` -- количество расставляемых объектов данного типа в данном квартале"
   ]
  },
  {
   "cell_type": "code",
   "execution_count": 109,
   "id": "f4bc3cc9",
   "metadata": {},
   "outputs": [
    {
     "data": {
      "application/vnd.microsoft.datawrangler.viewer.v0+json": {
       "columns": [
        {
         "name": "index",
         "rawType": "int64",
         "type": "integer"
        },
        {
         "name": "block_id",
         "rawType": "int64",
         "type": "integer"
        },
        {
         "name": "service_type",
         "rawType": "object",
         "type": "string"
        },
        {
         "name": "site_area",
         "rawType": "float64",
         "type": "float"
        },
        {
         "name": "build_floor_area",
         "rawType": "float64",
         "type": "float"
        },
        {
         "name": "capacity",
         "rawType": "int64",
         "type": "integer"
        },
        {
         "name": "count",
         "rawType": "int64",
         "type": "integer"
        }
       ],
       "ref": "0138bfcf-bda3-4f6e-9d99-0a7484d1a207",
       "rows": [
        [
         "4",
         "0",
         "polyclinic",
         "0.0",
         "400.0",
         "50",
         "1"
        ],
        [
         "6",
         "0",
         "hospital",
         "3500.0",
         "660.0",
         "110",
         "3"
        ],
        [
         "10",
         "0",
         "police",
         "700.0",
         "240.0",
         "60",
         "1"
        ],
        [
         "13",
         "0",
         "fuel",
         "400.0",
         "40.0",
         "30",
         "1"
        ],
        [
         "16",
         "0",
         "post",
         "0.0",
         "200.0",
         "60",
         "1"
        ],
        [
         "19",
         "0",
         "religion",
         "9100.0",
         "2000.0",
         "1300",
         "1"
        ]
       ],
       "shape": {
        "columns": 6,
        "rows": 6
       }
      },
      "text/html": [
       "<div>\n",
       "<style scoped>\n",
       "    .dataframe tbody tr th:only-of-type {\n",
       "        vertical-align: middle;\n",
       "    }\n",
       "\n",
       "    .dataframe tbody tr th {\n",
       "        vertical-align: top;\n",
       "    }\n",
       "\n",
       "    .dataframe thead th {\n",
       "        text-align: right;\n",
       "    }\n",
       "</style>\n",
       "<table border=\"1\" class=\"dataframe\">\n",
       "  <thead>\n",
       "    <tr style=\"text-align: right;\">\n",
       "      <th></th>\n",
       "      <th>block_id</th>\n",
       "      <th>service_type</th>\n",
       "      <th>site_area</th>\n",
       "      <th>build_floor_area</th>\n",
       "      <th>capacity</th>\n",
       "      <th>count</th>\n",
       "    </tr>\n",
       "  </thead>\n",
       "  <tbody>\n",
       "    <tr>\n",
       "      <th>4</th>\n",
       "      <td>0</td>\n",
       "      <td>polyclinic</td>\n",
       "      <td>0.0</td>\n",
       "      <td>400.0</td>\n",
       "      <td>50</td>\n",
       "      <td>1</td>\n",
       "    </tr>\n",
       "    <tr>\n",
       "      <th>6</th>\n",
       "      <td>0</td>\n",
       "      <td>hospital</td>\n",
       "      <td>3500.0</td>\n",
       "      <td>660.0</td>\n",
       "      <td>110</td>\n",
       "      <td>3</td>\n",
       "    </tr>\n",
       "    <tr>\n",
       "      <th>10</th>\n",
       "      <td>0</td>\n",
       "      <td>police</td>\n",
       "      <td>700.0</td>\n",
       "      <td>240.0</td>\n",
       "      <td>60</td>\n",
       "      <td>1</td>\n",
       "    </tr>\n",
       "    <tr>\n",
       "      <th>13</th>\n",
       "      <td>0</td>\n",
       "      <td>fuel</td>\n",
       "      <td>400.0</td>\n",
       "      <td>40.0</td>\n",
       "      <td>30</td>\n",
       "      <td>1</td>\n",
       "    </tr>\n",
       "    <tr>\n",
       "      <th>16</th>\n",
       "      <td>0</td>\n",
       "      <td>post</td>\n",
       "      <td>0.0</td>\n",
       "      <td>200.0</td>\n",
       "      <td>60</td>\n",
       "      <td>1</td>\n",
       "    </tr>\n",
       "    <tr>\n",
       "      <th>19</th>\n",
       "      <td>0</td>\n",
       "      <td>religion</td>\n",
       "      <td>9100.0</td>\n",
       "      <td>2000.0</td>\n",
       "      <td>1300</td>\n",
       "      <td>1</td>\n",
       "    </tr>\n",
       "  </tbody>\n",
       "</table>\n",
       "</div>"
      ],
      "text/plain": [
       "    block_id service_type  site_area  build_floor_area  capacity  count\n",
       "4          0   polyclinic        0.0             400.0        50      1\n",
       "6          0     hospital     3500.0             660.0       110      3\n",
       "10         0       police      700.0             240.0        60      1\n",
       "13         0         fuel      400.0              40.0        30      1\n",
       "16         0         post        0.0             200.0        60      1\n",
       "19         0     religion     9100.0            2000.0      1300      1"
      ]
     },
     "execution_count": 109,
     "metadata": {},
     "output_type": "execute_result"
    }
   ],
   "source": [
    "units_df = facade.solution_to_services_df(best_x)\n",
    "units_df"
   ]
  },
  {
   "cell_type": "markdown",
   "id": "31b33c61",
   "metadata": {},
   "source": [
    "Отсюда нужно взять `population` для каждого квартала (`index` здесь это тот же индекс из `blocks : pd.DataFrame`)"
   ]
  },
  {
   "cell_type": "code",
   "execution_count": 110,
   "id": "43c52558",
   "metadata": {},
   "outputs": [
    {
     "data": {
      "application/vnd.microsoft.datawrangler.viewer.v0+json": {
       "columns": [
        {
         "name": "index",
         "rawType": "int64",
         "type": "integer"
        },
        {
         "name": "population",
         "rawType": "float64",
         "type": "float"
        },
        {
         "name": "build_floor_area",
         "rawType": "float64",
         "type": "float"
        },
        {
         "name": "living_area",
         "rawType": "int64",
         "type": "integer"
        },
        {
         "name": "footprint_area",
         "rawType": "float64",
         "type": "float"
        }
       ],
       "ref": "75837afd-e98c-4c69-897d-33baacddbebc",
       "rows": [
        [
         "0",
         "0.0",
         "949972.5073706271",
         "0",
         "189994.50147412543"
        ],
        [
         "1",
         "0.0",
         "64050446.43328446",
         "0",
         "0.0"
        ],
        [
         "2",
         "0.0",
         "219455131.95543593",
         "0",
         "0.0"
        ],
        [
         "3",
         "0.0",
         "332048237.58749604",
         "0",
         "0.0"
        ],
        [
         "4",
         "0.0",
         "646857.9034788721",
         "0",
         "0.0"
        ],
        [
         "5",
         "0.0",
         "109747118.76909621",
         "0",
         "0.0"
        ],
        [
         "6",
         "0.0",
         "254860.49513239038",
         "0",
         "0.0"
        ],
        [
         "7",
         "0.0",
         "1706034.3237213732",
         "0",
         "0.0"
        ],
        [
         "8",
         "0.0",
         "86460.84095548661",
         "0",
         "0.0"
        ],
        [
         "9",
         "0.0",
         "1509068.6058499422",
         "0",
         "0.0"
        ],
        [
         "10",
         "0.0",
         "714236.6096692993",
         "0",
         "0.0"
        ],
        [
         "11",
         "0.0",
         "460639.02057329076",
         "0",
         "0.0"
        ],
        [
         "12",
         "0.0",
         "135931.1814211931",
         "0",
         "0.0"
        ],
        [
         "13",
         "0.0",
         "3726513.9797575423",
         "0",
         "0.0"
        ],
        [
         "14",
         "0.0",
         "692385.1295858817",
         "0",
         "0.0"
        ],
        [
         "15",
         "0.0",
         "4404.803300382253",
         "0",
         "0.0"
        ],
        [
         "16",
         "0.0",
         "3132.537571566732",
         "0",
         "0.0"
        ],
        [
         "17",
         "0.0",
         "38485.51055089498",
         "0",
         "0.0"
        ],
        [
         "18",
         "0.0",
         "35792.60288792953",
         "0",
         "0.0"
        ],
        [
         "19",
         "0.0",
         "2181184.511509707",
         "0",
         "0.0"
        ],
        [
         "20",
         "0.0",
         "336934.3663313018",
         "0",
         "0.0"
        ],
        [
         "21",
         "0.0",
         "388823.1253823811",
         "0",
         "0.0"
        ],
        [
         "22",
         "0.0",
         "3828.2354081255735",
         "0",
         "0.0"
        ],
        [
         "23",
         "0.0",
         "13066948.921397759",
         "0",
         "0.0"
        ],
        [
         "24",
         "0.0",
         "87954.57631972407",
         "0",
         "0.0"
        ],
        [
         "25",
         "0.0",
         "660120.4991625671",
         "0",
         "0.0"
        ],
        [
         "26",
         "0.0",
         "181796.25710216735",
         "0",
         "0.0"
        ],
        [
         "27",
         "0.0",
         "632.0848457765383",
         "0",
         "0.0"
        ],
        [
         "28",
         "0.0",
         "60524705.56298325",
         "0",
         "0.0"
        ],
        [
         "29",
         "0.0",
         "3385.9241985398976",
         "0",
         "0.0"
        ],
        [
         "30",
         "0.0",
         "6742.670855213316",
         "0",
         "0.0"
        ],
        [
         "31",
         "0.0",
         "2810.8309636477657",
         "0",
         "0.0"
        ],
        [
         "32",
         "0.0",
         "6932.976741890282",
         "0",
         "0.0"
        ],
        [
         "33",
         "0.0",
         "185605.20704319509",
         "0",
         "0.0"
        ],
        [
         "34",
         "0.0",
         "15719447.443479296",
         "0",
         "0.0"
        ],
        [
         "35",
         "0.0",
         "61338318.252803385",
         "0",
         "0.0"
        ],
        [
         "36",
         "0.0",
         "282.8162635746002",
         "0",
         "0.0"
        ],
        [
         "37",
         "0.0",
         "541.3986670988893",
         "0",
         "0.0"
        ],
        [
         "38",
         "0.0",
         "12903687.725663256",
         "0",
         "0.0"
        ],
        [
         "39",
         "0.0",
         "162374.05276535093",
         "0",
         "0.0"
        ],
        [
         "40",
         "0.0",
         "8117.736932170425",
         "0",
         "0.0"
        ],
        [
         "41",
         "0.0",
         "43586.87392074373",
         "0",
         "0.0"
        ],
        [
         "42",
         "0.0",
         "236481.7964823485",
         "0",
         "0.0"
        ],
        [
         "43",
         "0.0",
         "818848.7838219695",
         "0",
         "0.0"
        ],
        [
         "44",
         "0.0",
         "1066.3292660322916",
         "0",
         "0.0"
        ],
        [
         "45",
         "0.0",
         "388092.2445266413",
         "0",
         "0.0"
        ],
        [
         "46",
         "0.0",
         "979.4314139657298",
         "0",
         "0.0"
        ],
        [
         "47",
         "0.0",
         "1078.8520318916742",
         "0",
         "0.0"
        ],
        [
         "48",
         "0.0",
         "898.4626649019392",
         "0",
         "0.0"
        ],
        [
         "49",
         "0.0",
         "1688827.0539399267",
         "0",
         "0.0"
        ]
       ],
       "shape": {
        "columns": 4,
        "rows": 461
       }
      },
      "text/html": [
       "<div>\n",
       "<style scoped>\n",
       "    .dataframe tbody tr th:only-of-type {\n",
       "        vertical-align: middle;\n",
       "    }\n",
       "\n",
       "    .dataframe tbody tr th {\n",
       "        vertical-align: top;\n",
       "    }\n",
       "\n",
       "    .dataframe thead th {\n",
       "        text-align: right;\n",
       "    }\n",
       "</style>\n",
       "<table border=\"1\" class=\"dataframe\">\n",
       "  <thead>\n",
       "    <tr style=\"text-align: right;\">\n",
       "      <th></th>\n",
       "      <th>population</th>\n",
       "      <th>build_floor_area</th>\n",
       "      <th>living_area</th>\n",
       "      <th>footprint_area</th>\n",
       "    </tr>\n",
       "  </thead>\n",
       "  <tbody>\n",
       "    <tr>\n",
       "      <th>0</th>\n",
       "      <td>0.0</td>\n",
       "      <td>9.499725e+05</td>\n",
       "      <td>0</td>\n",
       "      <td>189994.501474</td>\n",
       "    </tr>\n",
       "    <tr>\n",
       "      <th>1</th>\n",
       "      <td>0.0</td>\n",
       "      <td>6.405045e+07</td>\n",
       "      <td>0</td>\n",
       "      <td>0.000000</td>\n",
       "    </tr>\n",
       "    <tr>\n",
       "      <th>2</th>\n",
       "      <td>0.0</td>\n",
       "      <td>2.194551e+08</td>\n",
       "      <td>0</td>\n",
       "      <td>0.000000</td>\n",
       "    </tr>\n",
       "    <tr>\n",
       "      <th>3</th>\n",
       "      <td>0.0</td>\n",
       "      <td>3.320482e+08</td>\n",
       "      <td>0</td>\n",
       "      <td>0.000000</td>\n",
       "    </tr>\n",
       "    <tr>\n",
       "      <th>4</th>\n",
       "      <td>0.0</td>\n",
       "      <td>6.468579e+05</td>\n",
       "      <td>0</td>\n",
       "      <td>0.000000</td>\n",
       "    </tr>\n",
       "    <tr>\n",
       "      <th>...</th>\n",
       "      <td>...</td>\n",
       "      <td>...</td>\n",
       "      <td>...</td>\n",
       "      <td>...</td>\n",
       "    </tr>\n",
       "    <tr>\n",
       "      <th>456</th>\n",
       "      <td>0.0</td>\n",
       "      <td>1.288098e+04</td>\n",
       "      <td>0</td>\n",
       "      <td>0.000000</td>\n",
       "    </tr>\n",
       "    <tr>\n",
       "      <th>457</th>\n",
       "      <td>0.0</td>\n",
       "      <td>8.803568e+02</td>\n",
       "      <td>0</td>\n",
       "      <td>0.000000</td>\n",
       "    </tr>\n",
       "    <tr>\n",
       "      <th>458</th>\n",
       "      <td>0.0</td>\n",
       "      <td>5.518729e+02</td>\n",
       "      <td>0</td>\n",
       "      <td>0.000000</td>\n",
       "    </tr>\n",
       "    <tr>\n",
       "      <th>459</th>\n",
       "      <td>0.0</td>\n",
       "      <td>7.127272e+02</td>\n",
       "      <td>0</td>\n",
       "      <td>0.000000</td>\n",
       "    </tr>\n",
       "    <tr>\n",
       "      <th>460</th>\n",
       "      <td>0.0</td>\n",
       "      <td>8.373475e+02</td>\n",
       "      <td>0</td>\n",
       "      <td>0.000000</td>\n",
       "    </tr>\n",
       "  </tbody>\n",
       "</table>\n",
       "<p>461 rows × 4 columns</p>\n",
       "</div>"
      ],
      "text/plain": [
       "     population  build_floor_area  living_area  footprint_area\n",
       "0           0.0      9.499725e+05            0   189994.501474\n",
       "1           0.0      6.405045e+07            0        0.000000\n",
       "2           0.0      2.194551e+08            0        0.000000\n",
       "3           0.0      3.320482e+08            0        0.000000\n",
       "4           0.0      6.468579e+05            0        0.000000\n",
       "..          ...               ...          ...             ...\n",
       "456         0.0      1.288098e+04            0        0.000000\n",
       "457         0.0      8.803568e+02            0        0.000000\n",
       "458         0.0      5.518729e+02            0        0.000000\n",
       "459         0.0      7.127272e+02            0        0.000000\n",
       "460         0.0      8.373475e+02            0        0.000000\n",
       "\n",
       "[461 rows x 4 columns]"
      ]
     },
     "execution_count": 110,
     "metadata": {},
     "output_type": "execute_result"
    }
   ],
   "source": [
    "solution_population_df = facade.get_solution_area_df(best_x)\n",
    "solution_population_df"
   ]
  }
 ],
 "metadata": {
  "kernelspec": {
   "display_name": ".venv",
   "language": "python",
   "name": "python3"
  },
  "language_info": {
   "codemirror_mode": {
    "name": "ipython",
    "version": 3
   },
   "file_extension": ".py",
   "mimetype": "text/x-python",
   "name": "python",
   "nbconvert_exporter": "python",
   "pygments_lexer": "ipython3",
   "version": "3.10.12"
  }
 },
 "nbformat": 4,
 "nbformat_minor": 5
}
