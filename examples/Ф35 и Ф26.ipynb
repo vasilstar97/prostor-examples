{
 "cells": [
  {
   "cell_type": "markdown",
   "id": "da933d70",
   "metadata": {},
   "source": [
    "# **Ф35**: Модуль прогнозирования эффектов трансформации территории в масштабах населенного пункта и региона"
   ]
  },
  {
   "cell_type": "markdown",
   "id": "917271ae",
   "metadata": {},
   "source": [
    "## 1. Подготовка исходных данных\n",
    "\n",
    "- `service_types` -- таблица типов сервисов.\n",
    "- `blocks` -- слой городских кварталов с разной информацией.\n",
    "- `acc_mx` -- матрица доступности городских кварталов."
   ]
  },
  {
   "cell_type": "code",
   "execution_count": 77,
   "id": "d9871314",
   "metadata": {},
   "outputs": [],
   "source": [
    "import pandas as pd\n",
    "import geopandas as gpd\n",
    "from blocksnet.config import log_config\n",
    "\n",
    "log_config.set_disable_tqdm(True)\n",
    "log_config.set_logger_level('ERROR')\n",
    "\n",
    "service_types_df = pd.read_pickle('./data/service_types.pickle')\n",
    "blocks_gdf = pd.read_pickle('./data/blocks.pickle')\n",
    "acc_mx = pd.read_pickle('./data/acc_mx.pickle')"
   ]
  },
  {
   "cell_type": "code",
   "execution_count": 78,
   "id": "93b8bb15",
   "metadata": {},
   "outputs": [],
   "source": [
    "blocks_gdf['population'] = blocks_gdf['population'].fillna(0)"
   ]
  },
  {
   "cell_type": "markdown",
   "id": "09a65280",
   "metadata": {},
   "source": [
    "### 1.1. Подготовка списка сервисов\n",
    "\n",
    "Нужны только те списки сервисов, у которых есть `infrastructure_type` и у которых известно имя `blocksnet`"
   ]
  },
  {
   "cell_type": "code",
   "execution_count": 79,
   "id": "3b0ab616",
   "metadata": {},
   "outputs": [
    {
     "data": {
      "application/vnd.microsoft.datawrangler.viewer.v0+json": {
       "columns": [
        {
         "name": "service_type_id",
         "rawType": "int64",
         "type": "integer"
        },
        {
         "name": "capacity_modeled",
         "rawType": "float64",
         "type": "float"
        },
        {
         "name": "infrastructure_type",
         "rawType": "object",
         "type": "string"
        },
        {
         "name": "weight",
         "rawType": "float64",
         "type": "float"
        },
        {
         "name": "radius_availability_meters",
         "rawType": "object",
         "type": "unknown"
        },
        {
         "name": "time_availability_minutes",
         "rawType": "float64",
         "type": "float"
        },
        {
         "name": "services_per_1000_normative",
         "rawType": "float64",
         "type": "float"
        },
        {
         "name": "services_capacity_per_1000_normative",
         "rawType": "float64",
         "type": "float"
        },
        {
         "name": "soc_values_ids",
         "rawType": "object",
         "type": "unknown"
        },
        {
         "name": "blocksnet",
         "rawType": "object",
         "type": "string"
        }
       ],
       "ref": "3c79bb27-ab60-46e9-b9a2-76fc83b22c40",
       "rows": [
        [
         "1",
         "2000.0",
         "basic",
         "0.2",
         null,
         "30.0",
         null,
         "150.0",
         "[8]",
         "park"
        ],
        [
         "5",
         null,
         "comfort",
         "0.5",
         null,
         "60.0",
         null,
         "64.0",
         null,
         "beach"
        ],
        [
         "21",
         "500.0",
         "basic",
         "0.2",
         null,
         "7.0",
         null,
         "61.0",
         "[2]",
         "kindergarten"
        ],
        [
         "22",
         "800.0",
         "basic",
         "0.2",
         null,
         "15.0",
         null,
         "120.0",
         "[2, 4]",
         "school"
        ],
        [
         "27",
         "5000.0",
         "comfort",
         "0.2",
         null,
         "60.0",
         null,
         "13.0",
         "[4, 10, 17]",
         "university"
        ]
       ],
       "shape": {
        "columns": 9,
        "rows": 5
       }
      },
      "text/html": [
       "<div>\n",
       "<style scoped>\n",
       "    .dataframe tbody tr th:only-of-type {\n",
       "        vertical-align: middle;\n",
       "    }\n",
       "\n",
       "    .dataframe tbody tr th {\n",
       "        vertical-align: top;\n",
       "    }\n",
       "\n",
       "    .dataframe thead th {\n",
       "        text-align: right;\n",
       "    }\n",
       "</style>\n",
       "<table border=\"1\" class=\"dataframe\">\n",
       "  <thead>\n",
       "    <tr style=\"text-align: right;\">\n",
       "      <th></th>\n",
       "      <th>capacity_modeled</th>\n",
       "      <th>infrastructure_type</th>\n",
       "      <th>weight</th>\n",
       "      <th>radius_availability_meters</th>\n",
       "      <th>time_availability_minutes</th>\n",
       "      <th>services_per_1000_normative</th>\n",
       "      <th>services_capacity_per_1000_normative</th>\n",
       "      <th>soc_values_ids</th>\n",
       "      <th>blocksnet</th>\n",
       "    </tr>\n",
       "    <tr>\n",
       "      <th>service_type_id</th>\n",
       "      <th></th>\n",
       "      <th></th>\n",
       "      <th></th>\n",
       "      <th></th>\n",
       "      <th></th>\n",
       "      <th></th>\n",
       "      <th></th>\n",
       "      <th></th>\n",
       "      <th></th>\n",
       "    </tr>\n",
       "  </thead>\n",
       "  <tbody>\n",
       "    <tr>\n",
       "      <th>1</th>\n",
       "      <td>2000.0</td>\n",
       "      <td>basic</td>\n",
       "      <td>0.2</td>\n",
       "      <td>None</td>\n",
       "      <td>30.0</td>\n",
       "      <td>NaN</td>\n",
       "      <td>150.0</td>\n",
       "      <td>[8]</td>\n",
       "      <td>park</td>\n",
       "    </tr>\n",
       "    <tr>\n",
       "      <th>5</th>\n",
       "      <td>NaN</td>\n",
       "      <td>comfort</td>\n",
       "      <td>0.5</td>\n",
       "      <td>None</td>\n",
       "      <td>60.0</td>\n",
       "      <td>NaN</td>\n",
       "      <td>64.0</td>\n",
       "      <td>None</td>\n",
       "      <td>beach</td>\n",
       "    </tr>\n",
       "    <tr>\n",
       "      <th>21</th>\n",
       "      <td>500.0</td>\n",
       "      <td>basic</td>\n",
       "      <td>0.2</td>\n",
       "      <td>None</td>\n",
       "      <td>7.0</td>\n",
       "      <td>NaN</td>\n",
       "      <td>61.0</td>\n",
       "      <td>[2]</td>\n",
       "      <td>kindergarten</td>\n",
       "    </tr>\n",
       "    <tr>\n",
       "      <th>22</th>\n",
       "      <td>800.0</td>\n",
       "      <td>basic</td>\n",
       "      <td>0.2</td>\n",
       "      <td>None</td>\n",
       "      <td>15.0</td>\n",
       "      <td>NaN</td>\n",
       "      <td>120.0</td>\n",
       "      <td>[2, 4]</td>\n",
       "      <td>school</td>\n",
       "    </tr>\n",
       "    <tr>\n",
       "      <th>27</th>\n",
       "      <td>5000.0</td>\n",
       "      <td>comfort</td>\n",
       "      <td>0.2</td>\n",
       "      <td>None</td>\n",
       "      <td>60.0</td>\n",
       "      <td>NaN</td>\n",
       "      <td>13.0</td>\n",
       "      <td>[4, 10, 17]</td>\n",
       "      <td>university</td>\n",
       "    </tr>\n",
       "  </tbody>\n",
       "</table>\n",
       "</div>"
      ],
      "text/plain": [
       "                 capacity_modeled infrastructure_type  weight  \\\n",
       "service_type_id                                                 \n",
       "1                          2000.0               basic     0.2   \n",
       "5                             NaN             comfort     0.5   \n",
       "21                          500.0               basic     0.2   \n",
       "22                          800.0               basic     0.2   \n",
       "27                         5000.0             comfort     0.2   \n",
       "\n",
       "                radius_availability_meters  time_availability_minutes  \\\n",
       "service_type_id                                                         \n",
       "1                                     None                       30.0   \n",
       "5                                     None                       60.0   \n",
       "21                                    None                        7.0   \n",
       "22                                    None                       15.0   \n",
       "27                                    None                       60.0   \n",
       "\n",
       "                 services_per_1000_normative  \\\n",
       "service_type_id                                \n",
       "1                                        NaN   \n",
       "5                                        NaN   \n",
       "21                                       NaN   \n",
       "22                                       NaN   \n",
       "27                                       NaN   \n",
       "\n",
       "                 services_capacity_per_1000_normative soc_values_ids  \\\n",
       "service_type_id                                                        \n",
       "1                                               150.0            [8]   \n",
       "5                                                64.0           None   \n",
       "21                                               61.0            [2]   \n",
       "22                                              120.0         [2, 4]   \n",
       "27                                               13.0    [4, 10, 17]   \n",
       "\n",
       "                    blocksnet  \n",
       "service_type_id                \n",
       "1                        park  \n",
       "5                       beach  \n",
       "21               kindergarten  \n",
       "22                     school  \n",
       "27                 university  "
      ]
     },
     "execution_count": 79,
     "metadata": {},
     "output_type": "execute_result"
    }
   ],
   "source": [
    "service_types_df = service_types_df[~service_types_df['infrastructure_type'].isna()].copy()\n",
    "service_types_df = service_types_df[~service_types_df['blocksnet'].isna()].copy()\n",
    "service_types_df.head()"
   ]
  },
  {
   "cell_type": "markdown",
   "id": "d6f2eb94",
   "metadata": {},
   "source": [
    "## 2A. Эффекты ДО\n",
    "\n",
    "Если `scenario_id` является `base_scenario`, то мы не обязаны ничего оптимизировать и просто должны посчитать обеспеченность as is."
   ]
  },
  {
   "cell_type": "code",
   "execution_count": 80,
   "id": "4ab967cd",
   "metadata": {},
   "outputs": [],
   "source": [
    "from blocksnet.relations.accessibility import get_accessibility_context\n",
    "\n",
    "def _get_accessibility_context(blocks : pd.DataFrame, acc_mx : pd.DataFrame, accessibility : float) -> list[int]:\n",
    "  project_blocks = blocks[blocks['is_project']].copy()\n",
    "  context_blocks = get_accessibility_context(acc_mx, project_blocks, accessibility, out=False, keep=True)\n",
    "  return list(context_blocks.index)"
   ]
  },
  {
   "cell_type": "code",
   "execution_count": 81,
   "id": "26245b84",
   "metadata": {},
   "outputs": [],
   "source": [
    "from blocksnet.analysis.provision import competitive_provision\n",
    "from blocksnet.config import service_types_config\n",
    "\n",
    "def _assess_provision(blocks : pd.DataFrame, acc_mx : pd.DataFrame, service_type : str) -> gpd.GeoDataFrame:\n",
    "  _, demand, accessibility = service_types_config[service_type].values()\n",
    "  context_ids = _get_accessibility_context(blocks, acc_mx, accessibility)\n",
    "  capacity_column = f'capacity_{service_type}'\n",
    "  if capacity_column not in blocks.columns:\n",
    "    blocks_df = blocks[['geometry','population']].fillna(0)\n",
    "    blocks_df['capacity'] = 0\n",
    "  else:\n",
    "    blocks_df = blocks.rename(columns={capacity_column:'capacity'})[['geometry', 'population', 'capacity']].fillna(0)\n",
    "  prov_df, _ = competitive_provision(blocks_df, acc_mx, accessibility, demand)\n",
    "  prov_df = prov_df.loc[context_ids].copy()\n",
    "  return blocks[['geometry']].join(prov_df, how='right')"
   ]
  },
  {
   "cell_type": "markdown",
   "id": "70aab4b6",
   "metadata": {},
   "source": [
    "### Получаем слои с оценкой обеспеченности"
   ]
  },
  {
   "cell_type": "code",
   "execution_count": 82,
   "id": "ff29d74e",
   "metadata": {},
   "outputs": [],
   "source": [
    "from blocksnet.config import service_types_config\n",
    "\n",
    "prov_gdfs = {}\n",
    "for st_id in service_types_df.index:\n",
    "    st_name = service_types_df.loc[st_id,'blocksnet']\n",
    "    column = f'capacity_{st_name}'\n",
    "    _,demand,accessibility = service_types_config[st_name].values()\n",
    "    prov_gdf = _assess_provision(blocks_gdf.rename(columns={f'capacity_{st_id}': f'capacity_{st_name}'}), acc_mx, st_name)\n",
    "    prov_gdfs[st_name] = prov_gdf"
   ]
  },
  {
   "cell_type": "markdown",
   "id": "fe1ce07d",
   "metadata": {},
   "source": [
    "Например:"
   ]
  },
  {
   "cell_type": "code",
   "execution_count": 83,
   "id": "63c3ccf0",
   "metadata": {},
   "outputs": [
    {
     "data": {
      "image/png": "[encoded data removed]",
      "text/plain": [
       "<Figure size 640x480 with 2 Axes>"
      ]
     },
     "metadata": {},
     "output_type": "display_data"
    }
   ],
   "source": [
    "ax = prov_gdfs['park'].plot(color='#ddd')\n",
    "prov_gdfs['park'].plot('provision_strong', ax=ax, vmin=0, vmax=1, cmap='RdYlGn', legend=True).set_axis_off()"
   ]
  },
  {
   "cell_type": "markdown",
   "id": "980df468",
   "metadata": {},
   "source": [
    "### Получаем общие оценки обеспеченности"
   ]
  },
  {
   "cell_type": "code",
   "execution_count": 84,
   "id": "458f1b18",
   "metadata": {},
   "outputs": [],
   "source": [
    "from blocksnet.analysis.provision import provision_strong_total\n",
    "\n",
    "prov_totals_before = {}\n",
    "for st_name, prov_gdf in prov_gdfs.items():\n",
    "    if prov_gdf.demand.sum() == 0:\n",
    "        if prov_gdf.capacity.sum() > 0:\n",
    "            total = 1.0\n",
    "        else:\n",
    "            total = 0.0\n",
    "    else:\n",
    "        total = float(provision_strong_total(prov_gdf))\n",
    "    prov_totals_before[st_name] = total"
   ]
  },
  {
   "cell_type": "markdown",
   "id": "0f925bf2",
   "metadata": {},
   "source": [
    "В итоге:"
   ]
  },
  {
   "cell_type": "code",
   "execution_count": 85,
   "id": "ab1bc884",
   "metadata": {},
   "outputs": [
    {
     "data": {
      "text/plain": [
       "{'park': 0.9904610492845787,\n",
       " 'beach': 0.0,\n",
       " 'kindergarten': 0.0,\n",
       " 'school': 0.0,\n",
       " 'university': 0.0,\n",
       " 'polyclinic': 0.0,\n",
       " 'pharmacy': 0.0,\n",
       " 'hospital': 0.0,\n",
       " 'library': 0.9666666666666667,\n",
       " 'museum': 0.0,\n",
       " 'theatre': 1.0,\n",
       " 'cinema': 0.0,\n",
       " 'mall': 1.0,\n",
       " 'stadium': 1.0,\n",
       " 'cafe': 0.0,\n",
       " 'restaurant': 0.9411764705882353,\n",
       " 'bar': 0.0,\n",
       " 'pitch': 1.0,\n",
       " 'playground': 0.0,\n",
       " 'police': 0.0,\n",
       " 'train_station': 0.15151515151515152,\n",
       " 'supermarket': 0.0,\n",
       " 'market': 1.0,\n",
       " 'bank': 0.98989898989899,\n",
       " 'veterinary': 0.0,\n",
       " 'hotel': 1.0,\n",
       " 'religion': 0.0,\n",
       " 'sanatorium': 0.0}"
      ]
     },
     "execution_count": 85,
     "metadata": {},
     "output_type": "execute_result"
    }
   ],
   "source": [
    "prov_totals_before"
   ]
  },
  {
   "cell_type": "markdown",
   "id": "8a27051e",
   "metadata": {},
   "source": [
    "### Результат\n",
    "\n",
    "В результате имеем следующие данные для ситуации ДО:\n",
    "- `prov_gdfs : dict[str, gpd.GeoDataFrame]` -- слои с оценкой обеспеченности по выбранным типам сервисов\n",
    "- `prov_totals : dict[str, float | None]` -- оценки обеспеченности"
   ]
  },
  {
   "cell_type": "markdown",
   "id": "596776b8",
   "metadata": {},
   "source": [
    "## 2B. Эффекты ПОСЛЕ\n",
    "\n",
    "Если `scenario_id` не является `base_scenario`, то для заданного пользователем функционального зонирования мы должны предсказать возможную обеспеченность (по сути, лучший случай)."
   ]
  },
  {
   "cell_type": "markdown",
   "id": "7d85e9f8",
   "metadata": {},
   "source": [
    "### Подготовка данных"
   ]
  },
  {
   "cell_type": "markdown",
   "id": "eeab0004",
   "metadata": {},
   "source": [
    "Для каждого `infrastructure_type` также добавим весовой коэффициент, чтобы отдать предпочтение базовым сервисам, а остальные добавлять по возможности."
   ]
  },
  {
   "cell_type": "code",
   "execution_count": 86,
   "id": "d0b45506",
   "metadata": {},
   "outputs": [
    {
     "data": {
      "application/vnd.microsoft.datawrangler.viewer.v0+json": {
       "columns": [
        {
         "name": "service_type_id",
         "rawType": "int64",
         "type": "integer"
        },
        {
         "name": "capacity_modeled",
         "rawType": "float64",
         "type": "float"
        },
        {
         "name": "infrastructure_type",
         "rawType": "object",
         "type": "string"
        },
        {
         "name": "weight",
         "rawType": "float64",
         "type": "float"
        },
        {
         "name": "radius_availability_meters",
         "rawType": "object",
         "type": "unknown"
        },
        {
         "name": "time_availability_minutes",
         "rawType": "float64",
         "type": "float"
        },
        {
         "name": "services_per_1000_normative",
         "rawType": "float64",
         "type": "float"
        },
        {
         "name": "services_capacity_per_1000_normative",
         "rawType": "float64",
         "type": "float"
        },
        {
         "name": "soc_values_ids",
         "rawType": "object",
         "type": "unknown"
        },
        {
         "name": "blocksnet",
         "rawType": "object",
         "type": "string"
        },
        {
         "name": "infrastructure_weight",
         "rawType": "float64",
         "type": "float"
        }
       ],
       "ref": "25214a10-39a8-4ee7-bee0-df5f122c9f89",
       "rows": [
        [
         "1",
         "2000.0",
         "basic",
         "0.2",
         null,
         "30.0",
         null,
         "150.0",
         "[8]",
         "park",
         "0.11428"
        ],
        [
         "5",
         null,
         "comfort",
         "0.5",
         null,
         "60.0",
         null,
         "64.0",
         null,
         "beach",
         "0.07145"
        ],
        [
         "21",
         "500.0",
         "basic",
         "0.2",
         null,
         "7.0",
         null,
         "61.0",
         "[2]",
         "kindergarten",
         "0.11428"
        ],
        [
         "22",
         "800.0",
         "basic",
         "0.2",
         null,
         "15.0",
         null,
         "120.0",
         "[2, 4]",
         "school",
         "0.11428"
        ],
        [
         "27",
         "5000.0",
         "comfort",
         "0.2",
         null,
         "60.0",
         null,
         "13.0",
         "[4, 10, 17]",
         "university",
         "0.02858"
        ]
       ],
       "shape": {
        "columns": 10,
        "rows": 5
       }
      },
      "text/html": [
       "<div>\n",
       "<style scoped>\n",
       "    .dataframe tbody tr th:only-of-type {\n",
       "        vertical-align: middle;\n",
       "    }\n",
       "\n",
       "    .dataframe tbody tr th {\n",
       "        vertical-align: top;\n",
       "    }\n",
       "\n",
       "    .dataframe thead th {\n",
       "        text-align: right;\n",
       "    }\n",
       "</style>\n",
       "<table border=\"1\" class=\"dataframe\">\n",
       "  <thead>\n",
       "    <tr style=\"text-align: right;\">\n",
       "      <th></th>\n",
       "      <th>capacity_modeled</th>\n",
       "      <th>infrastructure_type</th>\n",
       "      <th>weight</th>\n",
       "      <th>radius_availability_meters</th>\n",
       "      <th>time_availability_minutes</th>\n",
       "      <th>services_per_1000_normative</th>\n",
       "      <th>services_capacity_per_1000_normative</th>\n",
       "      <th>soc_values_ids</th>\n",
       "      <th>blocksnet</th>\n",
       "      <th>infrastructure_weight</th>\n",
       "    </tr>\n",
       "    <tr>\n",
       "      <th>service_type_id</th>\n",
       "      <th></th>\n",
       "      <th></th>\n",
       "      <th></th>\n",
       "      <th></th>\n",
       "      <th></th>\n",
       "      <th></th>\n",
       "      <th></th>\n",
       "      <th></th>\n",
       "      <th></th>\n",
       "      <th></th>\n",
       "    </tr>\n",
       "  </thead>\n",
       "  <tbody>\n",
       "    <tr>\n",
       "      <th>1</th>\n",
       "      <td>2000.0</td>\n",
       "      <td>basic</td>\n",
       "      <td>0.2</td>\n",
       "      <td>None</td>\n",
       "      <td>30.0</td>\n",
       "      <td>NaN</td>\n",
       "      <td>150.0</td>\n",
       "      <td>[8]</td>\n",
       "      <td>park</td>\n",
       "      <td>0.11428</td>\n",
       "    </tr>\n",
       "    <tr>\n",
       "      <th>5</th>\n",
       "      <td>NaN</td>\n",
       "      <td>comfort</td>\n",
       "      <td>0.5</td>\n",
       "      <td>None</td>\n",
       "      <td>60.0</td>\n",
       "      <td>NaN</td>\n",
       "      <td>64.0</td>\n",
       "      <td>None</td>\n",
       "      <td>beach</td>\n",
       "      <td>0.07145</td>\n",
       "    </tr>\n",
       "    <tr>\n",
       "      <th>21</th>\n",
       "      <td>500.0</td>\n",
       "      <td>basic</td>\n",
       "      <td>0.2</td>\n",
       "      <td>None</td>\n",
       "      <td>7.0</td>\n",
       "      <td>NaN</td>\n",
       "      <td>61.0</td>\n",
       "      <td>[2]</td>\n",
       "      <td>kindergarten</td>\n",
       "      <td>0.11428</td>\n",
       "    </tr>\n",
       "    <tr>\n",
       "      <th>22</th>\n",
       "      <td>800.0</td>\n",
       "      <td>basic</td>\n",
       "      <td>0.2</td>\n",
       "      <td>None</td>\n",
       "      <td>15.0</td>\n",
       "      <td>NaN</td>\n",
       "      <td>120.0</td>\n",
       "      <td>[2, 4]</td>\n",
       "      <td>school</td>\n",
       "      <td>0.11428</td>\n",
       "    </tr>\n",
       "    <tr>\n",
       "      <th>27</th>\n",
       "      <td>5000.0</td>\n",
       "      <td>comfort</td>\n",
       "      <td>0.2</td>\n",
       "      <td>None</td>\n",
       "      <td>60.0</td>\n",
       "      <td>NaN</td>\n",
       "      <td>13.0</td>\n",
       "      <td>[4, 10, 17]</td>\n",
       "      <td>university</td>\n",
       "      <td>0.02858</td>\n",
       "    </tr>\n",
       "  </tbody>\n",
       "</table>\n",
       "</div>"
      ],
      "text/plain": [
       "                 capacity_modeled infrastructure_type  weight  \\\n",
       "service_type_id                                                 \n",
       "1                          2000.0               basic     0.2   \n",
       "5                             NaN             comfort     0.5   \n",
       "21                          500.0               basic     0.2   \n",
       "22                          800.0               basic     0.2   \n",
       "27                         5000.0             comfort     0.2   \n",
       "\n",
       "                radius_availability_meters  time_availability_minutes  \\\n",
       "service_type_id                                                         \n",
       "1                                     None                       30.0   \n",
       "5                                     None                       60.0   \n",
       "21                                    None                        7.0   \n",
       "22                                    None                       15.0   \n",
       "27                                    None                       60.0   \n",
       "\n",
       "                 services_per_1000_normative  \\\n",
       "service_type_id                                \n",
       "1                                        NaN   \n",
       "5                                        NaN   \n",
       "21                                       NaN   \n",
       "22                                       NaN   \n",
       "27                                       NaN   \n",
       "\n",
       "                 services_capacity_per_1000_normative soc_values_ids  \\\n",
       "service_type_id                                                        \n",
       "1                                               150.0            [8]   \n",
       "5                                                64.0           None   \n",
       "21                                               61.0            [2]   \n",
       "22                                              120.0         [2, 4]   \n",
       "27                                               13.0    [4, 10, 17]   \n",
       "\n",
       "                    blocksnet  infrastructure_weight  \n",
       "service_type_id                                       \n",
       "1                        park                0.11428  \n",
       "5                       beach                0.07145  \n",
       "21               kindergarten                0.11428  \n",
       "22                     school                0.11428  \n",
       "27                 university                0.02858  "
      ]
     },
     "execution_count": 86,
     "metadata": {},
     "output_type": "execute_result"
    }
   ],
   "source": [
    "INFRASTRUCTURES_WEIGHTS = {\n",
    "    'basic': 0.5714,\n",
    "    'additional': 0.2857,\n",
    "    'comfort': 0.1429\n",
    "}\n",
    "\n",
    "service_types_df['infrastructure_weight'] = service_types_df['infrastructure_type'].map(INFRASTRUCTURES_WEIGHTS) * service_types_df['weight']\n",
    "service_types_df.head()"
   ]
  },
  {
   "cell_type": "markdown",
   "id": "41977203",
   "metadata": {},
   "source": [
    "Готовим словарь, какой квартал в какой ФЗ переводим.\n",
    "\n",
    "`blocks_lus : dict[int, LandUse]`"
   ]
  },
  {
   "cell_type": "code",
   "execution_count": 87,
   "id": "065af3f4",
   "metadata": {},
   "outputs": [],
   "source": [
    "from blocksnet.enums import LandUse\n",
    "\n",
    "blocks_lus = blocks_gdf.loc[blocks_gdf['is_project'],'land_use']\n",
    "blocks_lus = blocks_lus[~blocks_lus.isna()]\n",
    "blocks_lus = blocks_lus.to_dict()\n",
    "blocks_lus[0] = LandUse.RESIDENTIAL #FIXME УДАЛИТЬ!!! ЭТО ДЛЯ ПРИМЕРА"
   ]
  },
  {
   "cell_type": "markdown",
   "id": "58a99c93",
   "metadata": {},
   "source": [
    "Инициализируем экземпляр класса оптимизатора."
   ]
  },
  {
   "cell_type": "code",
   "execution_count": 88,
   "id": "9d783585",
   "metadata": {},
   "outputs": [],
   "source": [
    "from blocksnet.optimization.services import (\n",
    "    TPEOptimizer,\n",
    "    WeightedObjective,\n",
    "    WeightedConstraints,\n",
    "    Facade,\n",
    "    GradientChooser,\n",
    "    AreaSolution\n",
    ")\n",
    "\n",
    "var_adapter = AreaSolution(blocks_lus)\n",
    "\n",
    "facade = Facade(\n",
    "    blocks_lu=blocks_lus,\n",
    "    blocks_df=blocks_gdf,\n",
    "    accessibility_matrix=acc_mx,\n",
    "    var_adapter=var_adapter,\n",
    ")\n"
   ]
  },
  {
   "cell_type": "markdown",
   "id": "10cf65f9",
   "metadata": {},
   "source": [
    "Добавляем информацию о существующих типах сервисов.\n",
    "\n",
    "**ВАЖНО**: если сервиса нет в слое кварталов, просто добавляем `DataFrame` с нулевыми `capacity` для него. Ведь мы же должны что-то расставлять.\n",
    "\n",
    "ЛИБО\n",
    "\n",
    "Можно попробовать на этапе сборки слоя просто добавлять пустой столбец, чтобы не терять."
   ]
  },
  {
   "cell_type": "code",
   "execution_count": 89,
   "id": "3952fee4",
   "metadata": {},
   "outputs": [],
   "source": [
    "for st_id, row in service_types_df.iterrows():\n",
    "    st_name = row['blocksnet']\n",
    "    st_weight = row['infrastructure_weight']\n",
    "    st_column = f'capacity_{st_id}'\n",
    "    df = blocks_gdf.rename(columns={st_column: 'capacity'})[['capacity']].fillna(0)\n",
    "    facade.add_service_type(st_name, st_weight, df)"
   ]
  },
  {
   "cell_type": "markdown",
   "id": "3842f465",
   "metadata": {},
   "source": [
    "### Оптимизация"
   ]
  },
  {
   "cell_type": "markdown",
   "id": "993cb219",
   "metadata": {},
   "source": [
    "Запускаем оптимизатор..."
   ]
  },
  {
   "cell_type": "code",
   "execution_count": 90,
   "id": "919a1421",
   "metadata": {},
   "outputs": [],
   "source": [
    "MAX_EVALS = 1000 # сколько раз будет считаться обеспеченность. Можно ставить и большее число, если ориентируемся только на время\n",
    "MAX_RUNS = 1000 # сколько итераций будет считаться в оптимизации. Так же ставим 1000 без проблем\n",
    "TIMEOUT = 1 * 60 # сколько по времени будет считаться оптимизация (в секундах). Если уже прошло данное время, досчитается итерация и отдаст ответ"
   ]
  },
  {
   "cell_type": "code",
   "execution_count": 91,
   "id": "e166fc14",
   "metadata": {},
   "outputs": [
    {
     "name": "stderr",
     "output_type": "stream",
     "text": [
      "[I 2025-10-13 03:59:53,438] A new study created in memory with name: no-name-4c1863bd-d442-4aa3-8358-6dbcde06104a\n"
     ]
    },
    {
     "data": {
      "application/vnd.jupyter.widget-view+json": {
       "model_id": "79ccd89008f24306adfcc7a92ea918bf",
       "version_major": 2,
       "version_minor": 0
      },
      "text/plain": [
       "  0%|          | 0/1000 [00:00<?, ?it/s]"
      ]
     },
     "metadata": {},
     "output_type": "display_data"
    },
    {
     "name": "stdout",
     "output_type": "stream",
     "text": [
      "[I 2025-10-13 03:59:54,293] Trial 0 finished with value: 0.532769784985964 and parameters: {'x_0': 3520, 'x_1': 18500, 'x_2': 20000, 'x_3': 0, 'x_4': 0, 'x_5': 12000, 'x_6': 0, 'x_7': 0, 'x_8': 2800, 'x_9': 1000, 'x_10': 10000, 'x_11': 5000, 'x_12': 100, 'x_13': 200, 'x_14': 60, 'x_15': 150, 'x_16': 50, 'x_17': 700, 'x_18': 0, 'x_19': 3000, 'x_20': 450, 'x_21': 0, 'x_22': 24000, 'x_23': 9100}. Best is trial 0 with value: 0.532769784985964.\n",
      "[I 2025-10-13 03:59:54,773] Trial 1 finished with value: 0.532769784985964 and parameters: {'x_0': 10183, 'x_1': 49019, 'x_2': 20682, 'x_3': 193, 'x_4': 19348, 'x_5': 13095, 'x_6': 10728, 'x_7': 65, 'x_8': 2855, 'x_9': 1027, 'x_10': 10006, 'x_11': 5021, 'x_12': 750, 'x_13': 819, 'x_14': 169, 'x_15': 226, 'x_16': 60, 'x_17': 751, 'x_18': 3277, 'x_19': 3063, 'x_20': 532, 'x_21': 4158, 'x_22': 26688, 'x_23': 9180}. Best is trial 0 with value: 0.532769784985964.\n",
      "[I 2025-10-13 03:59:55,213] Trial 2 finished with value: 0.504734104423471 and parameters: {'x_0': 1690, 'x_1': 9824, 'x_2': 7907, 'x_3': 0, 'x_4': 3692766, 'x_5': 12000, 'x_6': 0, 'x_7': 0, 'x_8': 2800, 'x_9': 1000, 'x_10': 10000, 'x_11': 5000, 'x_12': 100, 'x_13': 200, 'x_14': 120, 'x_15': 150, 'x_16': 50, 'x_17': 700, 'x_18': 0, 'x_19': 0, 'x_20': 0, 'x_21': 0, 'x_22': 0, 'x_23': 0}. Best is trial 0 with value: 0.532769784985964.\n",
      "[I 2025-10-13 03:59:55,687] Trial 3 finished with value: 0.504734104423471 and parameters: {'x_0': 1069703, 'x_1': 2677555, 'x_2': 20468, 'x_3': 0, 'x_4': 0, 'x_5': 12000, 'x_6': 3, 'x_7': 0, 'x_8': 2800, 'x_9': 1000, 'x_10': 10038, 'x_11': 5000, 'x_12': 102, 'x_13': 200, 'x_14': 120, 'x_15': 150, 'x_16': 50, 'x_17': 700, 'x_18': 0, 'x_19': 1, 'x_20': 0, 'x_21': 0, 'x_22': 0, 'x_23': 0}. Best is trial 0 with value: 0.532769784985964.\n",
      "[I 2025-10-13 03:59:56,129] Trial 4 finished with value: 0.5048388290467678 and parameters: {'x_0': 2544, 'x_1': 11981, 'x_2': 27988, 'x_3': 465, 'x_4': 1790089, 'x_5': 12000, 'x_6': 0, 'x_7': 0, 'x_8': 2800, 'x_9': 1000, 'x_10': 10000, 'x_11': 5000, 'x_12': 100, 'x_13': 200, 'x_14': 120, 'x_15': 150, 'x_16': 50, 'x_17': 700, 'x_18': 0, 'x_19': 0, 'x_20': 0, 'x_21': 0, 'x_22': 0, 'x_23': 0}. Best is trial 0 with value: 0.532769784985964.\n",
      "[I 2025-10-13 03:59:56,503] Trial 5 finished with value: 0.5048388290467678 and parameters: {'x_0': 510806, 'x_1': 1402061, 'x_2': 231997, 'x_3': 48499, 'x_4': 654795, 'x_5': 129926, 'x_6': 786636, 'x_7': 7315, 'x_8': 10486, 'x_9': 1049, 'x_10': 10000, 'x_11': 5000, 'x_12': 100, 'x_13': 200, 'x_14': 120, 'x_15': 150, 'x_16': 50, 'x_17': 700, 'x_18': 0, 'x_19': 0, 'x_20': 0, 'x_21': 0, 'x_22': 0, 'x_23': 0}. Best is trial 0 with value: 0.532769784985964.\n",
      "[I 2025-10-13 03:59:56,930] Trial 6 finished with value: 0.504752450369209 and parameters: {'x_0': 2682, 'x_1': 16190, 'x_2': 198, 'x_3': 215, 'x_4': 1812035, 'x_5': 15500, 'x_6': 0, 'x_7': 0, 'x_8': 2800, 'x_9': 1000, 'x_10': 10000, 'x_11': 5000, 'x_12': 100, 'x_13': 200, 'x_14': 120, 'x_15': 150, 'x_16': 50, 'x_17': 700, 'x_18': 0, 'x_19': 0, 'x_20': 0, 'x_21': 0, 'x_22': 0, 'x_23': 0}. Best is trial 0 with value: 0.532769784985964.\n",
      "[I 2025-10-13 03:59:57,443] Trial 7 finished with value: 0.6395486096470694 and parameters: {'x_0': 422577, 'x_1': 1316996, 'x_2': 109539, 'x_3': 20219, 'x_4': 652586, 'x_5': 61599, 'x_6': 492763, 'x_7': 3092, 'x_8': 15638, 'x_9': 7469, 'x_10': 15769, 'x_11': 10901, 'x_12': 39019, 'x_13': 124801, 'x_14': 27964, 'x_15': 79069, 'x_16': 2020, 'x_17': 24995, 'x_18': 370200, 'x_19': 2668, 'x_20': 6, 'x_21': 0, 'x_22': 0, 'x_23': 0}. Best is trial 7 with value: 0.6395486096470694.\n",
      "[I 2025-10-13 03:59:57,887] Trial 8 finished with value: 0.616247203751741 and parameters: {'x_0': 3462, 'x_1': 69, 'x_2': 27160, 'x_3': 449, 'x_4': 0, 'x_5': 15500, 'x_6': 0, 'x_7': 0, 'x_8': 2800, 'x_9': 1000, 'x_10': 10000, 'x_11': 5000, 'x_12': 100, 'x_13': 200, 'x_14': 343, 'x_15': 150, 'x_16': 50, 'x_17': 700, 'x_18': 0, 'x_19': 0, 'x_20': 0, 'x_21': 0, 'x_22': 0, 'x_23': 0}. Best is trial 7 with value: 0.6395486096470694.\n",
      "[I 2025-10-13 03:59:58,465] Trial 9 finished with value: 0.6395812124558029 and parameters: {'x_0': 445083, 'x_1': 1339189, 'x_2': 115410, 'x_3': 21424, 'x_4': 731008, 'x_5': 63770, 'x_6': 411674, 'x_7': 3235, 'x_8': 15779, 'x_9': 7544, 'x_10': 15825, 'x_11': 10924, 'x_12': 39711, 'x_13': 125361, 'x_14': 28108, 'x_15': 78948, 'x_16': 2020, 'x_17': 24979, 'x_18': 319250, 'x_19': 590, 'x_20': 22, 'x_21': 27, 'x_22': 8, 'x_23': 1}. Best is trial 9 with value: 0.6395812124558029.\n",
      "[I 2025-10-13 03:59:58,925] Trial 10 finished with value: 0.6161392858122469 and parameters: {'x_0': 35, 'x_1': 15, 'x_2': 10953, 'x_3': 449, 'x_4': 2912409, 'x_5': 15500, 'x_6': 0, 'x_7': 0, 'x_8': 2800, 'x_9': 1000, 'x_10': 10000, 'x_11': 5000, 'x_12': 100, 'x_13': 200, 'x_14': 180, 'x_15': 150, 'x_16': 50, 'x_17': 700, 'x_18': 0, 'x_19': 0, 'x_20': 0, 'x_21': 0, 'x_22': 0, 'x_23': 0}. Best is trial 9 with value: 0.6395812124558029.\n",
      "[I 2025-10-13 03:59:59,541] Trial 11 finished with value: 0.6395486096470694 and parameters: {'x_0': 439703, 'x_1': 1311964, 'x_2': 119327, 'x_3': 21368, 'x_4': 675188, 'x_5': 63176, 'x_6': 448632, 'x_7': 3212, 'x_8': 15902, 'x_9': 7546, 'x_10': 15830, 'x_11': 10948, 'x_12': 39625, 'x_13': 125596, 'x_14': 28137, 'x_15': 79470, 'x_16': 2030, 'x_17': 24971, 'x_18': 366821, 'x_19': 344, 'x_20': 31, 'x_21': 27, 'x_22': 14, 'x_23': 9}. Best is trial 9 with value: 0.6395812124558029.\n",
      "[I 2025-10-13 04:00:00,005] Trial 12 finished with value: 0.616247203751741 and parameters: {'x_0': 3488, 'x_1': 18076, 'x_2': 28472, 'x_3': 455, 'x_4': 1114783, 'x_5': 15500, 'x_6': 0, 'x_7': 0, 'x_8': 2800, 'x_9': 1000, 'x_10': 10000, 'x_11': 5000, 'x_12': 100, 'x_13': 200, 'x_14': 180, 'x_15': 150, 'x_16': 50, 'x_17': 700, 'x_18': 0, 'x_19': 0, 'x_20': 0, 'x_21': 0, 'x_22': 0, 'x_23': 0}. Best is trial 9 with value: 0.6395812124558029.\n",
      "[I 2025-10-13 04:00:00,555] Trial 13 finished with value: 0.6395812124558029 and parameters: {'x_0': 309921, 'x_1': 2159328, 'x_2': 116822, 'x_3': 22260, 'x_4': 412676, 'x_5': 66543, 'x_6': 433319, 'x_7': 3284, 'x_8': 15892, 'x_9': 7528, 'x_10': 15811, 'x_11': 10951, 'x_12': 39672, 'x_13': 125157, 'x_14': 27917, 'x_15': 32056, 'x_16': 53, 'x_17': 700, 'x_18': 0, 'x_19': 0, 'x_20': 0, 'x_21': 0, 'x_22': 0, 'x_23': 0}. Best is trial 9 with value: 0.6395812124558029.\n",
      "[I 2025-10-13 04:00:01,044] Trial 14 finished with value: 0.6162472349349832 and parameters: {'x_0': 3467, 'x_1': 18500, 'x_2': 28443, 'x_3': 458, 'x_4': 1271070, 'x_5': 15500, 'x_6': 0, 'x_7': 0, 'x_8': 2800, 'x_9': 1000, 'x_10': 10000, 'x_11': 5000, 'x_12': 100, 'x_13': 200, 'x_14': 180, 'x_15': 150, 'x_16': 50, 'x_17': 700, 'x_18': 0, 'x_19': 0, 'x_20': 0, 'x_21': 0, 'x_22': 0, 'x_23': 0}. Best is trial 9 with value: 0.6395812124558029.\n",
      "[I 2025-10-13 04:00:01,382] Trial 15 finished with value: 0.6162472349349832 and parameters: {'x_0': 260973, 'x_1': 3422668, 'x_2': 80527, 'x_3': 12, 'x_4': 29, 'x_5': 15501, 'x_6': 0, 'x_7': 0, 'x_8': 2800, 'x_9': 1000, 'x_10': 10000, 'x_11': 5000, 'x_12': 100, 'x_13': 200, 'x_14': 180, 'x_15': 150, 'x_16': 50, 'x_17': 700, 'x_18': 0, 'x_19': 0, 'x_20': 0, 'x_21': 0, 'x_22': 0, 'x_23': 0}. Best is trial 9 with value: 0.6395812124558029.\n",
      "[I 2025-10-13 04:00:01,869] Trial 16 finished with value: 0.616247203751741 and parameters: {'x_0': 3479, 'x_1': 3813, 'x_2': 28469, 'x_3': 460, 'x_4': 2487970, 'x_5': 15500, 'x_6': 0, 'x_7': 0, 'x_8': 2800, 'x_9': 1000, 'x_10': 10000, 'x_11': 5000, 'x_12': 100, 'x_13': 200, 'x_14': 180, 'x_15': 150, 'x_16': 50, 'x_17': 700, 'x_18': 0, 'x_19': 0, 'x_20': 0, 'x_21': 0, 'x_22': 0, 'x_23': 0}. Best is trial 9 with value: 0.6395812124558029.\n",
      "[I 2025-10-13 04:00:02,463] Trial 17 finished with value: 0.6290611115730791 and parameters: {'x_0': 733595, 'x_1': 1933779, 'x_2': 175028, 'x_3': 30300, 'x_4': 199195, 'x_5': 90301, 'x_6': 334375, 'x_7': 4564, 'x_8': 13636, 'x_9': 6374, 'x_10': 14795, 'x_11': 9896, 'x_12': 32549, 'x_13': 102961, 'x_14': 23192, 'x_15': 55699, 'x_16': 1465, 'x_17': 17791, 'x_18': 16862, 'x_19': 909, 'x_20': 2183, 'x_21': 103, 'x_22': 78, 'x_23': 61}. Best is trial 9 with value: 0.6395812124558029.\n",
      "[I 2025-10-13 04:00:02,988] Trial 18 finished with value: 0.6057270931540131 and parameters: {'x_0': 8, 'x_1': 18321, 'x_2': 28459, 'x_3': 461, 'x_4': 0, 'x_5': 15500, 'x_6': 0, 'x_7': 0, 'x_8': 2800, 'x_9': 1000, 'x_10': 10000, 'x_11': 5000, 'x_12': 100, 'x_13': 200, 'x_14': 180, 'x_15': 150, 'x_16': 50, 'x_17': 700, 'x_18': 0, 'x_19': 0, 'x_20': 95, 'x_21': 0, 'x_22': 0, 'x_23': 0}. Best is trial 9 with value: 0.6395812124558029.\n",
      "[I 2025-10-13 04:00:03,459] Trial 19 finished with value: 0.605727093154013 and parameters: {'x_0': 705866, 'x_1': 801487, 'x_2': 158210, 'x_3': 12868, 'x_4': 401715, 'x_5': 39498, 'x_6': 1633187, 'x_7': 1911, 'x_8': 12705, 'x_9': 5473, 'x_10': 13992, 'x_11': 9045, 'x_12': 2642, 'x_13': 209, 'x_14': 182, 'x_15': 150, 'x_16': 50, 'x_17': 700, 'x_18': 0, 'x_19': 0, 'x_20': 0, 'x_21': 0, 'x_22': 0, 'x_23': 0}. Best is trial 9 with value: 0.6395812124558029.\n",
      "[I 2025-10-13 04:00:03,948] Trial 20 finished with value: 0.605727093154013 and parameters: {'x_0': 0, 'x_1': 0, 'x_2': 28480, 'x_3': 349, 'x_4': 1242901, 'x_5': 17547, 'x_6': 1264282, 'x_7': 0, 'x_8': 2800, 'x_9': 1000, 'x_10': 10000, 'x_11': 5000, 'x_12': 100, 'x_13': 200, 'x_14': 180, 'x_15': 150, 'x_16': 50, 'x_17': 700, 'x_18': 0, 'x_19': 0, 'x_20': 0, 'x_21': 0, 'x_22': 0, 'x_23': 0}. Best is trial 9 with value: 0.6395812124558029.\n",
      "[I 2025-10-13 04:00:04,414] Trial 21 finished with value: 0.605727093154013 and parameters: {'x_0': 319877, 'x_1': 2128271, 'x_2': 99746, 'x_3': 25712, 'x_4': 494387, 'x_5': 72430, 'x_6': 437561, 'x_7': 3829, 'x_8': 15903, 'x_9': 7544, 'x_10': 15792, 'x_11': 10942, 'x_12': 39766, 'x_13': 125336, 'x_14': 1894, 'x_15': 150, 'x_16': 50, 'x_17': 700, 'x_18': 0, 'x_19': 0, 'x_20': 0, 'x_21': 0, 'x_22': 0, 'x_23': 0}. Best is trial 9 with value: 0.6395812124558029.\n",
      "[I 2025-10-13 04:00:04,929] Trial 22 finished with value: 0.605727093154013 and parameters: {'x_0': 3478, 'x_1': 18295, 'x_2': 28478, 'x_3': 463, 'x_4': 936568, 'x_5': 15500, 'x_6': 0, 'x_7': 0, 'x_8': 2800, 'x_9': 1000, 'x_10': 10000, 'x_11': 5000, 'x_12': 100, 'x_13': 200, 'x_14': 180, 'x_15': 150, 'x_16': 50, 'x_17': 700, 'x_18': 0, 'x_19': 0, 'x_20': 0, 'x_21': 0, 'x_22': 0, 'x_23': 0}. Best is trial 9 with value: 0.6395812124558029.\n",
      "[I 2025-10-13 04:00:05,560] Trial 23 finished with value: 0.6395812027407988 and parameters: {'x_0': 205390, 'x_1': 735223, 'x_2': 67198, 'x_3': 16425, 'x_4': 879639, 'x_5': 54278, 'x_6': 726883, 'x_7': 2453, 'x_8': 14272, 'x_9': 6701, 'x_10': 15094, 'x_11': 10171, 'x_12': 34009, 'x_13': 106590, 'x_14': 28023, 'x_15': 79525, 'x_16': 2027, 'x_17': 24948, 'x_18': 325569, 'x_19': 1969, 'x_20': 3757, 'x_21': 83479, 'x_22': 82527, 'x_23': 35039}. Best is trial 9 with value: 0.6395812124558029.\n",
      "[I 2025-10-13 04:00:06,087] Trial 24 finished with value: 0.49501234283649814 and parameters: {'x_0': 3472, 'x_1': 18270, 'x_2': 20000, 'x_3': 0, 'x_4': 0, 'x_5': 15500, 'x_6': 0, 'x_7': 0, 'x_8': 2800, 'x_9': 1000, 'x_10': 10000, 'x_11': 5000, 'x_12': 100, 'x_13': 200, 'x_14': 180, 'x_15': 150, 'x_16': 0, 'x_17': 0, 'x_18': 0, 'x_19': 0, 'x_20': 451, 'x_21': 0, 'x_22': 4279, 'x_23': 1668}. Best is trial 9 with value: 0.6395812124558029.\n",
      "[I 2025-10-13 04:00:06,721] Trial 25 finished with value: 0.6326414291309144 and parameters: {'x_0': 174283, 'x_1': 645211, 'x_2': 64950, 'x_3': 13483, 'x_4': 916212, 'x_5': 92156, 'x_6': 764100, 'x_7': 2025, 'x_8': 14212, 'x_9': 6679, 'x_10': 15026, 'x_11': 10166, 'x_12': 33502, 'x_13': 106131, 'x_14': 24064, 'x_15': 68740, 'x_16': 1761, 'x_17': 21678, 'x_18': 185540, 'x_19': 8670, 'x_20': 4251, 'x_21': 107246, 'x_22': 78703, 'x_23': 37285}. Best is trial 9 with value: 0.6395812124558029.\n",
      "[I 2025-10-13 04:00:07,296] Trial 26 finished with value: 0.4949967995986862 and parameters: {'x_0': 545, 'x_1': 18500, 'x_2': 20000, 'x_3': 0, 'x_4': 0, 'x_5': 15500, 'x_6': 0, 'x_7': 0, 'x_8': 2800, 'x_9': 1000, 'x_10': 10000, 'x_11': 5000, 'x_12': 100, 'x_13': 200, 'x_14': 0, 'x_15': 0, 'x_16': 18, 'x_17': 732, 'x_18': 0, 'x_19': 766, 'x_20': 0, 'x_21': 0, 'x_22': 24000, 'x_23': 1761}. Best is trial 9 with value: 0.6395812124558029.\n",
      "[I 2025-10-13 04:00:07,944] Trial 27 finished with value: 0.5472761412712254 and parameters: {'x_0': 159861, 'x_1': 835522, 'x_2': 143589, 'x_3': 34711, 'x_4': 1536171, 'x_5': 46141, 'x_6': 636715, 'x_7': 5204, 'x_8': 11529, 'x_9': 4147, 'x_10': 12703, 'x_11': 7617, 'x_12': 34266, 'x_13': 108265, 'x_14': 19520, 'x_15': 27876, 'x_16': 448, 'x_17': 6131, 'x_18': 144280, 'x_19': 374, 'x_20': 186, 'x_21': 194, 'x_22': 24440, 'x_23': 0}. Best is trial 9 with value: 0.6395812124558029.\n",
      "[I 2025-10-13 04:00:08,503] Trial 28 finished with value: 0.49502909451144506 and parameters: {'x_0': 1155, 'x_1': 5259, 'x_2': 20000, 'x_3': 0, 'x_4': 0, 'x_5': 15500, 'x_6': 0, 'x_7': 0, 'x_8': 2800, 'x_9': 1000, 'x_10': 10000, 'x_11': 5000, 'x_12': 100, 'x_13': 200, 'x_14': 343, 'x_15': 200, 'x_16': 25, 'x_17': 700, 'x_18': 0, 'x_19': 0, 'x_20': 0, 'x_21': 0, 'x_22': 0, 'x_23': 0}. Best is trial 9 with value: 0.6395812124558029.\n",
      "[I 2025-10-13 04:00:09,190] Trial 29 finished with value: 0.5933008081335395 and parameters: {'x_0': 645976, 'x_1': 1757948, 'x_2': 56488, 'x_3': 14040, 'x_4': 517772, 'x_5': 90417, 'x_6': 257923, 'x_7': 2047, 'x_8': 7531, 'x_9': 6783, 'x_10': 15156, 'x_11': 10262, 'x_12': 26576, 'x_13': 85179, 'x_14': 25203, 'x_15': 37196, 'x_16': 1053, 'x_17': 12506, 'x_18': 225762, 'x_19': 1536, 'x_20': 786, 'x_21': 358, 'x_22': 214, 'x_23': 181}. Best is trial 9 with value: 0.6395812124558029.\n",
      "[I 2025-10-13 04:00:09,882] Trial 30 finished with value: 0.49502910957795415 and parameters: {'x_0': 3477, 'x_1': 13467, 'x_2': 28480, 'x_3': 0, 'x_4': 0, 'x_5': 15500, 'x_6': 0, 'x_7': 0, 'x_8': 2800, 'x_9': 1000, 'x_10': 10000, 'x_11': 5000, 'x_12': 100, 'x_13': 200, 'x_14': 180, 'x_15': 150, 'x_16': 0, 'x_17': 700, 'x_18': 0, 'x_19': 0, 'x_20': 80, 'x_21': 0, 'x_22': 0, 'x_23': 0}. Best is trial 9 with value: 0.6395812124558029.\n",
      "[I 2025-10-13 04:00:10,709] Trial 31 finished with value: 0.6326431182820159 and parameters: {'x_0': 387295, 'x_1': 1208624, 'x_2': 113985, 'x_3': 18897, 'x_4': 770211, 'x_5': 56904, 'x_6': 572953, 'x_7': 2847, 'x_8': 14795, 'x_9': 7065, 'x_10': 15402, 'x_11': 10498, 'x_12': 36547, 'x_13': 115762, 'x_14': 28129, 'x_15': 79174, 'x_16': 2032, 'x_17': 24954, 'x_18': 333428, 'x_19': 59, 'x_20': 46, 'x_21': 46, 'x_22': 36, 'x_23': 28}. Best is trial 9 with value: 0.6395812124558029.\n",
      "[I 2025-10-13 04:00:11,612] Trial 32 finished with value: 0.49502910957795415 and parameters: {'x_0': 3488, 'x_1': 18355, 'x_2': 28478, 'x_3': 93, 'x_4': 0, 'x_5': 15500, 'x_6': 0, 'x_7': 0, 'x_8': 2800, 'x_9': 1000, 'x_10': 10000, 'x_11': 5000, 'x_12': 100, 'x_13': 200, 'x_14': 180, 'x_15': 150, 'x_16': 8, 'x_17': 700, 'x_18': 0, 'x_19': 0, 'x_20': 0, 'x_21': 0, 'x_22': 0, 'x_23': 0}. Best is trial 9 with value: 0.6395812124558029.\n",
      "[I 2025-10-13 04:00:12,341] Trial 33 finished with value: 0.6326431182820159 and parameters: {'x_0': 559724, 'x_1': 411525, 'x_2': 96283, 'x_3': 8150, 'x_4': 298115, 'x_5': 79485, 'x_6': 1027297, 'x_7': 1029, 'x_8': 14983, 'x_9': 5936, 'x_10': 14436, 'x_11': 9516, 'x_12': 29172, 'x_13': 91425, 'x_14': 26051, 'x_15': 70860, 'x_16': 1828, 'x_17': 22491, 'x_18': 353353, 'x_19': 2644, 'x_20': 3242, 'x_21': 90920, 'x_22': 70862, 'x_23': 5951}. Best is trial 9 with value: 0.6395812124558029.\n",
      "[I 2025-10-13 04:00:12,933] Trial 34 finished with value: 0.49501082982345285 and parameters: {'x_0': 3490, 'x_1': 18418, 'x_2': 20000, 'x_3': 0, 'x_4': 0, 'x_5': 15500, 'x_6': 0, 'x_7': 0, 'x_8': 2800, 'x_9': 1000, 'x_10': 10000, 'x_11': 5000, 'x_12': 100, 'x_13': 200, 'x_14': 180, 'x_15': 150, 'x_16': 31, 'x_17': 0, 'x_18': 0, 'x_19': 0, 'x_20': 134, 'x_21': 0, 'x_22': 3147, 'x_23': 0}. Best is trial 9 with value: 0.6395812124558029.\n",
      "[I 2025-10-13 04:00:13,743] Trial 35 finished with value: 0.5323458632412362 and parameters: {'x_0': 132839, 'x_1': 1572144, 'x_2': 137614, 'x_3': 26679, 'x_4': 803784, 'x_5': 52540, 'x_6': 140198, 'x_7': 4096, 'x_8': 7478, 'x_9': 4987, 'x_10': 13600, 'x_11': 8584, 'x_12': 16717, 'x_13': 37659, 'x_14': 21000, 'x_15': 11630, 'x_16': 323, 'x_17': 3926, 'x_18': 418198, 'x_19': 4456, 'x_20': 6127, 'x_21': 46457, 'x_22': 54453, 'x_23': 16401}. Best is trial 9 with value: 0.6395812124558029.\n",
      "[I 2025-10-13 04:00:14,439] Trial 36 finished with value: 0.495054074867816 and parameters: {'x_0': 1806, 'x_1': 18500, 'x_2': 20000, 'x_3': 0, 'x_4': 0, 'x_5': 15500, 'x_6': 0, 'x_7': 0, 'x_8': 2800, 'x_9': 1000, 'x_10': 10000, 'x_11': 5000, 'x_12': 100, 'x_13': 0, 'x_14': 0, 'x_15': 0, 'x_16': 34, 'x_17': 733, 'x_18': 0, 'x_19': 2145, 'x_20': 269, 'x_21': 0, 'x_22': 24000, 'x_23': 9100}. Best is trial 9 with value: 0.6395812124558029.\n",
      "[I 2025-10-13 04:00:15,213] Trial 37 finished with value: 0.6296906548548609 and parameters: {'x_0': 260533, 'x_1': 1101208, 'x_2': 185153, 'x_3': 18297, 'x_4': 207539, 'x_5': 33080, 'x_6': 972712, 'x_7': 2693, 'x_8': 13054, 'x_9': 3288, 'x_10': 11972, 'x_11': 6958, 'x_12': 36819, 'x_13': 116307, 'x_14': 15406, 'x_15': 59544, 'x_16': 1552, 'x_17': 19453, 'x_18': 298166, 'x_19': 3805, 'x_20': 11195, 'x_21': 43627, 'x_22': 119077, 'x_23': 33050}. Best is trial 9 with value: 0.6395812124558029.\n",
      "[I 2025-10-13 04:00:15,808] Trial 38 finished with value: 0.51055883041322 and parameters: {'x_0': 3520, 'x_1': 18500, 'x_2': 20000, 'x_3': 0, 'x_4': 0, 'x_5': 15500, 'x_6': 0, 'x_7': 0, 'x_8': 2800, 'x_9': 1000, 'x_10': 10000, 'x_11': 5000, 'x_12': 100, 'x_13': 256, 'x_14': 343, 'x_15': 38, 'x_16': 14, 'x_17': 0, 'x_18': 0, 'x_19': 3000, 'x_20': 49, 'x_21': 0, 'x_22': 0, 'x_23': 0}. Best is trial 9 with value: 0.6395812124558029.\n",
      "[I 2025-10-13 04:00:16,726] Trial 39 finished with value: 0.5989566398804411 and parameters: {'x_0': 886741, 'x_1': 2301566, 'x_2': 101135, 'x_3': 36405, 'x_4': 78807, 'x_5': 69366, 'x_6': 39546, 'x_7': 5515, 'x_8': 4376, 'x_9': 7162, 'x_10': 15479, 'x_11': 10604, 'x_12': 30005, 'x_13': 58856, 'x_14': 6818, 'x_15': 73127, 'x_16': 910, 'x_17': 14535, 'x_18': 10490, 'x_19': 3933, 'x_20': 1608, 'x_21': 8373, 'x_22': 8469, 'x_23': 4898}. Best is trial 9 with value: 0.6395812124558029.\n",
      "[I 2025-10-13 04:00:17,455] Trial 40 finished with value: 0.5599751599295261 and parameters: {'x_0': 2576, 'x_1': 18500, 'x_2': 20000, 'x_3': 0, 'x_4': 0, 'x_5': 15500, 'x_6': 0, 'x_7': 0, 'x_8': 2800, 'x_9': 1000, 'x_10': 10000, 'x_11': 5000, 'x_12': 100, 'x_13': 200, 'x_14': 180, 'x_15': 200, 'x_16': 50, 'x_17': 733, 'x_18': 0, 'x_19': 0, 'x_20': 89, 'x_21': 0, 'x_22': 0, 'x_23': 0}. Best is trial 9 with value: 0.6395812124558029.\n",
      "[I 2025-10-13 04:00:18,336] Trial 41 finished with value: 0.6326573504517699 and parameters: {'x_0': 437896, 'x_1': 1322051, 'x_2': 119990, 'x_3': 21581, 'x_4': 646258, 'x_5': 63935, 'x_6': 471132, 'x_7': 3177, 'x_8': 15893, 'x_9': 7553, 'x_10': 15827, 'x_11': 10947, 'x_12': 39787, 'x_13': 124940, 'x_14': 28126, 'x_15': 79199, 'x_16': 2031, 'x_17': 24972, 'x_18': 364370, 'x_19': 26, 'x_20': 20, 'x_21': 19, 'x_22': 17, 'x_23': 15}. Best is trial 9 with value: 0.6395812124558029.\n",
      "[I 2025-10-13 04:00:19,060] Trial 42 finished with value: 0.609323348330128 and parameters: {'x_0': 3498, 'x_1': 8178, 'x_2': 28480, 'x_3': 276, 'x_4': 2157673, 'x_5': 15500, 'x_6': 0, 'x_7': 0, 'x_8': 2800, 'x_9': 1000, 'x_10': 10000, 'x_11': 5000, 'x_12': 100, 'x_13': 200, 'x_14': 180, 'x_15': 150, 'x_16': 50, 'x_17': 700, 'x_18': 0, 'x_19': 0, 'x_20': 0, 'x_21': 0, 'x_22': 0, 'x_23': 0}. Best is trial 9 with value: 0.6395812124558029.\n",
      "[I 2025-10-13 04:00:19,878] Trial 43 finished with value: 0.63265735703419 and parameters: {'x_0': 467287, 'x_1': 1033008, 'x_2': 130596, 'x_3': 22505, 'x_4': 650465, 'x_5': 80763, 'x_6': 485364, 'x_7': 3349, 'x_8': 15150, 'x_9': 7194, 'x_10': 15505, 'x_11': 10641, 'x_12': 37398, 'x_13': 117556, 'x_14': 26612, 'x_15': 64459, 'x_16': 1886, 'x_17': 23309, 'x_18': 429240, 'x_19': 1546, 'x_20': 1502, 'x_21': 17600, 'x_22': 14653, 'x_23': 12725}. Best is trial 9 with value: 0.6395812124558029.\n",
      "[I 2025-10-13 04:00:20,564] Trial 44 finished with value: 0.6093050685756268 and parameters: {'x_0': 2941, 'x_1': 1585, 'x_2': 28479, 'x_3': 0, 'x_4': 0, 'x_5': 15500, 'x_6': 0, 'x_7': 0, 'x_8': 2800, 'x_9': 1000, 'x_10': 10000, 'x_11': 5000, 'x_12': 100, 'x_13': 200, 'x_14': 180, 'x_15': 150, 'x_16': 50, 'x_17': 0, 'x_18': 0, 'x_19': 0, 'x_20': 42, 'x_21': 0, 'x_22': 0, 'x_23': 923}. Best is trial 9 with value: 0.6395812124558029.\n",
      "[I 2025-10-13 04:00:21,328] Trial 45 finished with value: 0.6326541548700431 and parameters: {'x_0': 363181, 'x_1': 1529355, 'x_2': 84325, 'x_3': 29042, 'x_4': 1009226, 'x_5': 61993, 'x_6': 381560, 'x_7': 2459, 'x_8': 14268, 'x_9': 6285, 'x_10': 14644, 'x_11': 9783, 'x_12': 38115, 'x_13': 97627, 'x_14': 22355, 'x_15': 75133, 'x_16': 1663, 'x_17': 20553, 'x_18': 38323, 'x_19': 0, 'x_20': 0, 'x_21': 0, 'x_22': 0, 'x_23': 0}. Best is trial 9 with value: 0.6395812124558029.\n",
      "[I 2025-10-13 04:00:21,971] Trial 46 finished with value: 0.6093233426319888 and parameters: {'x_0': 3499, 'x_1': 18500, 'x_2': 28477, 'x_3': 154, 'x_4': 0, 'x_5': 15500, 'x_6': 0, 'x_7': 0, 'x_8': 2800, 'x_9': 1000, 'x_10': 10000, 'x_11': 5000, 'x_12': 100, 'x_13': 200, 'x_14': 180, 'x_15': 150, 'x_16': 50, 'x_17': 733, 'x_18': 0, 'x_19': 0, 'x_20': 0, 'x_21': 0, 'x_22': 0, 'x_23': 0}. Best is trial 9 with value: 0.6395812124558029.\n",
      "[I 2025-10-13 04:00:22,761] Trial 47 finished with value: 0.6326573513360506 and parameters: {'x_0': 554575, 'x_1': 312114, 'x_2': 112689, 'x_3': 17124, 'x_4': 1493371, 'x_5': 113092, 'x_6': 571198, 'x_7': 4390, 'x_8': 15403, 'x_9': 1771, 'x_10': 10600, 'x_11': 5702, 'x_12': 35167, 'x_13': 120479, 'x_14': 26814, 'x_15': 49483, 'x_16': 1924, 'x_17': 23722, 'x_18': 287131, 'x_19': 6673, 'x_20': 2901, 'x_21': 3297, 'x_22': 2741, 'x_23': 3443}. Best is trial 9 with value: 0.6395812124558029.\n",
      "[I 2025-10-13 04:00:23,435] Trial 48 finished with value: 0.6092161056335353 and parameters: {'x_0': 2041, 'x_1': 18500, 'x_2': 2779, 'x_3': 0, 'x_4': 0, 'x_5': 15500, 'x_6': 0, 'x_7': 0, 'x_8': 2800, 'x_9': 1000, 'x_10': 10000, 'x_11': 5000, 'x_12': 100, 'x_13': 200, 'x_14': 180, 'x_15': 150, 'x_16': 50, 'x_17': 0, 'x_18': 0, 'x_19': 307, 'x_20': 67, 'x_21': 0, 'x_22': 0, 'x_23': 0}. Best is trial 9 with value: 0.6395812124558029.\n",
      "[I 2025-10-13 04:00:24,018] Trial 49 finished with value: 0.6092161056335353 and parameters: {'x_0': 258772, 'x_1': 3151077, 'x_2': 234242, 'x_3': 6950, 'x_4': 46405, 'x_5': 58574, 'x_6': 3393, 'x_7': 1260, 'x_8': 14311, 'x_9': 6830, 'x_10': 12311, 'x_11': 5049, 'x_12': 127, 'x_13': 204, 'x_14': 184, 'x_15': 151, 'x_16': 50, 'x_17': 0, 'x_18': 0, 'x_19': 0, 'x_20': 0, 'x_21': 0, 'x_22': 0, 'x_23': 0}. Best is trial 9 with value: 0.6395812124558029.\n",
      "[I 2025-10-13 04:00:24,672] Trial 50 finished with value: 0.6092153704404016 and parameters: {'x_0': 1105, 'x_1': 9923, 'x_2': 15711, 'x_3': 310, 'x_4': 3767308, 'x_5': 15500, 'x_6': 0, 'x_7': 0, 'x_8': 2800, 'x_9': 1000, 'x_10': 10000, 'x_11': 5000, 'x_12': 100, 'x_13': 200, 'x_14': 180, 'x_15': 150, 'x_16': 50, 'x_17': 0, 'x_18': 0, 'x_19': 0, 'x_20': 0, 'x_21': 0, 'x_22': 0, 'x_23': 0}. Best is trial 9 with value: 0.6395812124558029.\n",
      "[I 2025-10-13 04:00:25,505] Trial 51 finished with value: 0.6326246942752242 and parameters: {'x_0': 481005, 'x_1': 1017825, 'x_2': 129750, 'x_3': 22414, 'x_4': 654938, 'x_5': 80978, 'x_6': 265653, 'x_7': 3358, 'x_8': 15260, 'x_9': 7254, 'x_10': 15538, 'x_11': 10670, 'x_12': 37914, 'x_13': 112675, 'x_14': 26820, 'x_15': 65510, 'x_16': 1919, 'x_17': 23508, 'x_18': 426213, 'x_19': 1491, 'x_20': 1278, 'x_21': 34139, 'x_22': 44845, 'x_23': 12074}. Best is trial 9 with value: 0.6395812124558029.\n",
      "[I 2025-10-13 04:00:26,193] Trial 52 finished with value: 0.4950091445578511 and parameters: {'x_0': 3501, 'x_1': 18489, 'x_2': 20000, 'x_3': 0, 'x_4': 0, 'x_5': 15500, 'x_6': 0, 'x_7': 0, 'x_8': 2800, 'x_9': 1000, 'x_10': 10000, 'x_11': 5000, 'x_12': 100, 'x_13': 200, 'x_14': 180, 'x_15': 0, 'x_16': 0, 'x_17': 733, 'x_18': 0, 'x_19': 0, 'x_20': 116, 'x_21': 0, 'x_22': 24000, 'x_23': 792}. Best is trial 9 with value: 0.6395812124558029.\n",
      "[I 2025-10-13 04:00:27,030] Trial 53 finished with value: 0.6327099003718042 and parameters: {'x_0': 445968, 'x_1': 1407818, 'x_2': 214347, 'x_3': 22008, 'x_4': 719081, 'x_5': 67747, 'x_6': 482577, 'x_7': 3524, 'x_8': 13558, 'x_9': 7325, 'x_10': 15202, 'x_11': 10327, 'x_12': 31710, 'x_13': 119995, 'x_14': 24974, 'x_15': 64632, 'x_16': 1924, 'x_17': 23673, 'x_18': 90275, 'x_19': 1354, 'x_20': 803, 'x_21': 679, 'x_22': 24007, 'x_23': 506}. Best is trial 9 with value: 0.6395812124558029.\n",
      "[I 2025-10-13 04:00:27,897] Trial 54 finished with value: 0.6093254066981562 and parameters: {'x_0': 3520, 'x_1': 18500, 'x_2': 20000, 'x_3': 0, 'x_4': 0, 'x_5': 15500, 'x_6': 0, 'x_7': 0, 'x_8': 2800, 'x_9': 1000, 'x_10': 10000, 'x_11': 5000, 'x_12': 100, 'x_13': 200, 'x_14': 180, 'x_15': 200, 'x_16': 50, 'x_17': 700, 'x_18': 0, 'x_19': 0, 'x_20': 29, 'x_21': 0, 'x_22': 0, 'x_23': 0}. Best is trial 9 with value: 0.6395812124558029.\n",
      "[I 2025-10-13 04:00:28,712] Trial 55 finished with value: 0.6093254066981562 and parameters: {'x_0': 406901, 'x_1': 1798936, 'x_2': 218532, 'x_3': 20400, 'x_4': 733741, 'x_5': 67516, 'x_6': 390413, 'x_7': 3728, 'x_8': 13523, 'x_9': 6449, 'x_10': 15190, 'x_11': 10295, 'x_12': 31630, 'x_13': 77739, 'x_14': 3992, 'x_15': 153, 'x_16': 51, 'x_17': 701, 'x_18': 0, 'x_19': 0, 'x_20': 0, 'x_21': 0, 'x_22': 0, 'x_23': 0}. Best is trial 9 with value: 0.6395812124558029.\n",
      "[I 2025-10-13 04:00:29,368] Trial 56 finished with value: 0.6093254066981562 and parameters: {'x_0': 3520, 'x_1': 18500, 'x_2': 22037, 'x_3': 466, 'x_4': 3198832, 'x_5': 15500, 'x_6': 0, 'x_7': 0, 'x_8': 2800, 'x_9': 1000, 'x_10': 10000, 'x_11': 5000, 'x_12': 100, 'x_13': 200, 'x_14': 180, 'x_15': 150, 'x_16': 50, 'x_17': 700, 'x_18': 0, 'x_19': 0, 'x_20': 0, 'x_21': 0, 'x_22': 0, 'x_23': 0}. Best is trial 9 with value: 0.6395812124558029.\n",
      "[I 2025-10-13 04:00:30,400] Trial 57 finished with value: 0.632659415402218 and parameters: {'x_0': 321515, 'x_1': 1446807, 'x_2': 153624, 'x_3': 24414, 'x_4': 846636, 'x_5': 49728, 'x_6': 519516, 'x_7': 7253, 'x_8': 12118, 'x_9': 7380, 'x_10': 14883, 'x_11': 9972, 'x_12': 23427, 'x_13': 110605, 'x_14': 24777, 'x_15': 75915, 'x_16': 1724, 'x_17': 9485, 'x_18': 65876, 'x_19': 998, 'x_20': 2281, 'x_21': 9452, 'x_22': 8564, 'x_23': 25582}. Best is trial 9 with value: 0.6395812124558029.\n",
      "[I 2025-10-13 04:00:31,194] Trial 58 finished with value: 0.6092166469152512 and parameters: {'x_0': 3520, 'x_1': 13956, 'x_2': 9150, 'x_3': 0, 'x_4': 0, 'x_5': 15500, 'x_6': 0, 'x_7': 0, 'x_8': 2800, 'x_9': 1000, 'x_10': 10000, 'x_11': 5000, 'x_12': 100, 'x_13': 200, 'x_14': 180, 'x_15': 150, 'x_16': 50, 'x_17': 0, 'x_18': 0, 'x_19': 0, 'x_20': 256, 'x_21': 0, 'x_22': 0, 'x_23': 690}. Best is trial 9 with value: 0.6395812124558029.\n",
      "[I 2025-10-13 04:00:32,159] Trial 59 finished with value: 0.6075822427903761 and parameters: {'x_0': 603239, 'x_1': 1694975, 'x_2': 45944, 'x_3': 15700, 'x_4': 557551, 'x_5': 76006, 'x_6': 345877, 'x_7': 3031, 'x_8': 14607, 'x_9': 6951, 'x_10': 15675, 'x_11': 9501, 'x_12': 35432, 'x_13': 121711, 'x_14': 23402, 'x_15': 19905, 'x_16': 1288, 'x_17': 21406, 'x_18': 100436, 'x_19': 2078, 'x_20': 984, 'x_21': 13312, 'x_22': 8142, 'x_23': 3096}. Best is trial 9 with value: 0.6395812124558029.\n",
      "[I 2025-10-13 04:00:32,934] Trial 60 finished with value: 0.5748675717995212 and parameters: {'x_0': 3520, 'x_1': 0, 'x_2': 0, 'x_3': 466, 'x_4': 1137816, 'x_5': 284, 'x_6': 1868545, 'x_7': 0, 'x_8': 2800, 'x_9': 1000, 'x_10': 10000, 'x_11': 5000, 'x_12': 100, 'x_13': 200, 'x_14': 180, 'x_15': 150, 'x_16': 50, 'x_17': 0, 'x_18': 0, 'x_19': 0, 'x_20': 0, 'x_21': 0, 'x_22': 0, 'x_23': 0}. Best is trial 9 with value: 0.6395812124558029.\n",
      "[I 2025-10-13 04:00:33,928] Trial 61 finished with value: 0.6233657254348947 and parameters: {'x_0': 319622, 'x_1': 1388619, 'x_2': 156783, 'x_3': 24562, 'x_4': 851756, 'x_5': 49465, 'x_6': 539098, 'x_7': 7304, 'x_8': 12076, 'x_9': 7380, 'x_10': 14883, 'x_11': 10011, 'x_12': 22582, 'x_13': 110765, 'x_14': 24991, 'x_15': 76193, 'x_16': 1750, 'x_17': 8999, 'x_18': 53694, 'x_19': 954, 'x_20': 2149, 'x_21': 9251, 'x_22': 15784, 'x_23': 26324}. Best is trial 9 with value: 0.6395812124558029.\n",
      "[I 2025-10-13 04:00:34,833] Trial 62 finished with value: 0.4908231227411398 and parameters: {'x_0': 3520, 'x_1': 18500, 'x_2': 20000, 'x_3': 0, 'x_4': 0, 'x_5': 7918, 'x_6': 0, 'x_7': 0, 'x_8': 2800, 'x_9': 1000, 'x_10': 10000, 'x_11': 5000, 'x_12': 100, 'x_13': 200, 'x_14': 180, 'x_15': 150, 'x_16': 0, 'x_17': 733, 'x_18': 0, 'x_19': 0, 'x_20': 26, 'x_21': 0, 'x_22': 0, 'x_23': 1269}. Best is trial 9 with value: 0.6395812124558029.\n",
      "[I 2025-10-13 04:00:35,515] Trial 63 finished with value: 0.4908231227411398 and parameters: {'x_0': 321568, 'x_1': 2005728, 'x_2': 202344, 'x_3': 48313, 'x_4': 712502, 'x_5': 41423, 'x_6': 406774, 'x_7': 2368, 'x_8': 13719, 'x_9': 6574, 'x_10': 15271, 'x_11': 10790, 'x_12': 9926, 'x_13': 1560, 'x_14': 180, 'x_15': 150, 'x_16': 0, 'x_17': 700, 'x_18': 0, 'x_19': 0, 'x_20': 0, 'x_21': 0, 'x_22': 0, 'x_23': 0}. Best is trial 9 with value: 0.6395812124558029.\n",
      "[I 2025-10-13 04:00:36,222] Trial 64 finished with value: 0.4908638859515975 and parameters: {'x_0': 3520, 'x_1': 17470, 'x_2': 22157, 'x_3': 440, 'x_4': 387771, 'x_5': 15500, 'x_6': 0, 'x_7': 0, 'x_8': 2800, 'x_9': 1000, 'x_10': 10000, 'x_11': 5000, 'x_12': 100, 'x_13': 200, 'x_14': 180, 'x_15': 150, 'x_16': 0, 'x_17': 700, 'x_18': 0, 'x_19': 0, 'x_20': 0, 'x_21': 0, 'x_22': 0, 'x_23': 0}. Best is trial 9 with value: 0.6395812124558029.\n",
      "[I 2025-10-13 04:00:37,142] Trial 65 finished with value: 0.6284778946556592 and parameters: {'x_0': 210176, 'x_1': 1239319, 'x_2': 150409, 'x_3': 27422, 'x_4': 888012, 'x_5': 55484, 'x_6': 660697, 'x_7': 4004, 'x_8': 15607, 'x_9': 7384, 'x_10': 14329, 'x_11': 10407, 'x_12': 38708, 'x_13': 102467, 'x_14': 25421, 'x_15': 76408, 'x_16': 1975, 'x_17': 24195, 'x_18': 87528, 'x_19': 1141, 'x_20': 2063, 'x_21': 22114, 'x_22': 31763, 'x_23': 24552}. Best is trial 9 with value: 0.6395812124558029.\n",
      "[I 2025-10-13 04:00:37,828] Trial 66 finished with value: 0.4906566540924516 and parameters: {'x_0': 3520, 'x_1': 18500, 'x_2': 20000, 'x_3': 0, 'x_4': 0, 'x_5': 15500, 'x_6': 0, 'x_7': 0, 'x_8': 2800, 'x_9': 1000, 'x_10': 10000, 'x_11': 5000, 'x_12': 100, 'x_13': 200, 'x_14': 180, 'x_15': 0, 'x_16': 35, 'x_17': 0, 'x_18': 0, 'x_19': 0, 'x_20': 175, 'x_21': 0, 'x_22': 1519, 'x_23': 518}. Best is trial 9 with value: 0.6395812124558029.\n",
      "[I 2025-10-13 04:00:38,772] Trial 67 finished with value: 0.6284778920034766 and parameters: {'x_0': 79100, 'x_1': 1511349, 'x_2': 172587, 'x_3': 32649, 'x_4': 1005572, 'x_5': 62160, 'x_6': 503724, 'x_7': 3503, 'x_8': 10407, 'x_9': 6140, 'x_10': 15002, 'x_11': 10083, 'x_12': 25669, 'x_13': 121223, 'x_14': 27471, 'x_15': 69452, 'x_16': 1824, 'x_17': 2429, 'x_18': 27203, 'x_19': 634, 'x_20': 2929, 'x_21': 70867, 'x_22': 5832, 'x_23': 2695}. Best is trial 9 with value: 0.6395812124558029.\n",
      "[I 2025-10-13 04:00:39,430] Trial 68 finished with value: 0.4908638832994149 and parameters: {'x_0': 3520, 'x_1': 18500, 'x_2': 20000, 'x_3': 0, 'x_4': 0, 'x_5': 15500, 'x_6': 0, 'x_7': 0, 'x_8': 2800, 'x_9': 1000, 'x_10': 10000, 'x_11': 5000, 'x_12': 100, 'x_13': 200, 'x_14': 180, 'x_15': 200, 'x_16': 24, 'x_17': 733, 'x_18': 0, 'x_19': 0, 'x_20': 63, 'x_21': 0, 'x_22': 0, 'x_23': 0}. Best is trial 9 with value: 0.6395812124558029.\n",
      "[I 2025-10-13 04:00:40,399] Trial 69 finished with value: 0.6284778920034766 and parameters: {'x_0': 514686, 'x_1': 854826, 'x_2': 89833, 'x_3': 10647, 'x_4': 439268, 'x_5': 86313, 'x_6': 763952, 'x_7': 5010, 'x_8': 13881, 'x_9': 6972, 'x_10': 15665, 'x_11': 9729, 'x_12': 16988, 'x_13': 125477, 'x_14': 24343, 'x_15': 72739, 'x_16': 1678, 'x_17': 22622, 'x_18': 395938, 'x_19': 2038, 'x_20': 4498, 'x_21': 154886, 'x_22': 109646, 'x_23': 7073}. Best is trial 9 with value: 0.6395812124558029.\n",
      "[I 2025-10-13 04:00:41,176] Trial 70 finished with value: 0.49084563172262885 and parameters: {'x_0': 3520, 'x_1': 6027, 'x_2': 20000, 'x_3': 0, 'x_4': 0, 'x_5': 15500, 'x_6': 0, 'x_7': 0, 'x_8': 2800, 'x_9': 1000, 'x_10': 10000, 'x_11': 5000, 'x_12': 100, 'x_13': 200, 'x_14': 180, 'x_15': 150, 'x_16': 4, 'x_17': 0, 'x_18': 0, 'x_19': 0, 'x_20': 311, 'x_21': 0, 'x_22': 1449, 'x_23': 0}. Best is trial 9 with value: 0.6395812124558029.\n",
      "[I 2025-10-13 04:00:42,142] Trial 71 finished with value: 0.628474718017045 and parameters: {'x_0': 460649, 'x_1': 1015326, 'x_2': 128184, 'x_3': 23201, 'x_4': 590449, 'x_5': 102211, 'x_6': 855702, 'x_7': 6241, 'x_8': 15026, 'x_9': 7309, 'x_10': 15343, 'x_11': 10768, 'x_12': 36760, 'x_13': 116523, 'x_14': 26293, 'x_15': 65414, 'x_16': 1881, 'x_17': 8194, 'x_18': 278232, 'x_19': 1390, 'x_20': 1529, 'x_21': 2114, 'x_22': 13233, 'x_23': 2134}. Best is trial 9 with value: 0.6395812124558029.\n",
      "[I 2025-10-13 04:00:42,940] Trial 72 finished with value: 0.6051430865143453 and parameters: {'x_0': 275, 'x_1': 17612, 'x_2': 20000, 'x_3': 0, 'x_4': 0, 'x_5': 15500, 'x_6': 0, 'x_7': 0, 'x_8': 2800, 'x_9': 1000, 'x_10': 10000, 'x_11': 5000, 'x_12': 100, 'x_13': 200, 'x_14': 180, 'x_15': 150, 'x_16': 50, 'x_17': 733, 'x_18': 0, 'x_19': 0, 'x_20': 327, 'x_21': 0, 'x_22': 0, 'x_23': 0}. Best is trial 9 with value: 0.6395812124558029.\n",
      "[I 2025-10-13 04:00:43,951] Trial 73 finished with value: 0.6284770952184073 and parameters: {'x_0': 352553, 'x_1': 1161236, 'x_2': 108855, 'x_3': 20295, 'x_4': 812891, 'x_5': 66897, 'x_6': 459740, 'x_7': 3489, 'x_8': 13142, 'x_9': 7114, 'x_10': 15599, 'x_11': 10480, 'x_12': 33050, 'x_13': 118385, 'x_14': 27356, 'x_15': 49812, 'x_16': 1975, 'x_17': 22807, 'x_18': 481349, 'x_19': 1792, 'x_20': 929, 'x_21': 1784, 'x_22': 1597, 'x_23': 17504}. Best is trial 9 with value: 0.6395812124558029.\n",
      "[I 2025-10-13 04:00:44,755] Trial 74 finished with value: 0.6051248067598441 and parameters: {'x_0': 3512, 'x_1': 17722, 'x_2': 24632, 'x_3': 0, 'x_4': 0, 'x_5': 15500, 'x_6': 0, 'x_7': 0, 'x_8': 2800, 'x_9': 1000, 'x_10': 10000, 'x_11': 5000, 'x_12': 100, 'x_13': 200, 'x_14': 180, 'x_15': 150, 'x_16': 50, 'x_17': 0, 'x_18': 0, 'x_19': 0, 'x_20': 20, 'x_21': 0, 'x_22': 0, 'x_23': 483}. Best is trial 9 with value: 0.6395812124558029.\n",
      "[I 2025-10-13 04:00:45,769] Trial 75 finished with value: 0.5602513237847391 and parameters: {'x_0': 422521, 'x_1': 1430084, 'x_2': 135750, 'x_3': 24690, 'x_4': 680614, 'x_5': 72452, 'x_6': 633084, 'x_7': 3117, 'x_8': 14611, 'x_9': 7554, 'x_10': 15820, 'x_11': 10817, 'x_12': 38876, 'x_13': 112726, 'x_14': 25863, 'x_15': 66125, 'x_16': 698, 'x_17': 16462, 'x_18': 60830, 'x_19': 2536, 'x_20': 9327, 'x_21': 892, 'x_22': 826, 'x_23': 1283}. Best is trial 9 with value: 0.6395812124558029.\n",
      "[I 2025-10-13 04:00:46,570] Trial 76 finished with value: 0.536794206868614 and parameters: {'x_0': 0, 'x_1': 0, 'x_2': 16950, 'x_3': 466, 'x_4': 1365715, 'x_5': 14311, 'x_6': 252330, 'x_7': 0, 'x_8': 2800, 'x_9': 1000, 'x_10': 10000, 'x_11': 5000, 'x_12': 100, 'x_13': 200, 'x_14': 180, 'x_15': 150, 'x_16': 50, 'x_17': 0, 'x_18': 0, 'x_19': 0, 'x_20': 0, 'x_21': 0, 'x_22': 0, 'x_23': 0}. Best is trial 9 with value: 0.6395812124558029.\n",
      "[I 2025-10-13 04:00:47,592] Trial 77 finished with value: 0.6284411411791783 and parameters: {'x_0': 485319, 'x_1': 683802, 'x_2': 72413, 'x_3': 40580, 'x_4': 977438, 'x_5': 29701, 'x_6': 698870, 'x_7': 2800, 'x_8': 15900, 'x_9': 6776, 'x_10': 14668, 'x_11': 10962, 'x_12': 35497, 'x_13': 105472, 'x_14': 21983, 'x_15': 61257, 'x_16': 1837, 'x_17': 24336, 'x_18': 322395, 'x_19': 572, 'x_20': 14160, 'x_21': 18784, 'x_22': 17485, 'x_23': 4326}. Best is trial 9 with value: 0.6395812124558029.\n",
      "[I 2025-10-13 04:00:48,536] Trial 78 finished with value: 0.6076532121078132 and parameters: {'x_0': 3515, 'x_1': 18500, 'x_2': 20000, 'x_3': 0, 'x_4': 0, 'x_5': 10719, 'x_6': 0, 'x_7': 0, 'x_8': 2800, 'x_9': 1000, 'x_10': 10000, 'x_11': 5000, 'x_12': 100, 'x_13': 200, 'x_14': 180, 'x_15': 150, 'x_16': 50, 'x_17': 733, 'x_18': 0, 'x_19': 0, 'x_20': 175, 'x_21': 0, 'x_22': 0, 'x_23': 0}. Best is trial 9 with value: 0.6395812124558029.\n",
      "[I 2025-10-13 04:00:49,680] Trial 79 finished with value: 0.5267973613745218 and parameters: {'x_0': 292278, 'x_1': 1644411, 'x_2': 121309, 'x_3': 19153, 'x_4': 607286, 'x_5': 128500, 'x_6': 504973, 'x_7': 3949, 'x_8': 15465, 'x_9': 5687, 'x_10': 15074, 'x_11': 10603, 'x_12': 31615, 'x_13': 99324, 'x_14': 18106, 'x_15': 79548, 'x_16': 169, 'x_17': 11860, 'x_18': 100069, 'x_19': 10706, 'x_20': 3768, 'x_21': 5966, 'x_22': 11151, 'x_23': 29092}. Best is trial 9 with value: 0.6395812124558029.\n",
      "[I 2025-10-13 04:00:50,792] Trial 80 finished with value: 0.49581541459560663 and parameters: {'x_0': 0, 'x_1': 18500, 'x_2': 24835, 'x_3': 466, 'x_4': 298840, 'x_5': 0, 'x_6': 1205818, 'x_7': 0, 'x_8': 2800, 'x_9': 1000, 'x_10': 10000, 'x_11': 5000, 'x_12': 100, 'x_13': 200, 'x_14': 180, 'x_15': 150, 'x_16': 50, 'x_17': 700, 'x_18': 0, 'x_19': 0, 'x_20': 0, 'x_21': 0, 'x_22': 0, 'x_23': 0}. Best is trial 9 with value: 0.6395812124558029.\n",
      "[I 2025-10-13 04:00:51,901] Trial 81 finished with value: 0.6233995712415795 and parameters: {'x_0': 553688, 'x_1': 203221, 'x_2': 108179, 'x_3': 17018, 'x_4': 1650789, 'x_5': 105200, 'x_6': 580196, 'x_7': 4290, 'x_8': 15259, 'x_9': 1478, 'x_10': 10457, 'x_11': 6197, 'x_12': 34626, 'x_13': 120922, 'x_14': 26850, 'x_15': 49124, 'x_16': 1954, 'x_17': 23552, 'x_18': 247992, 'x_19': 6422, 'x_20': 2675, 'x_21': 3461, 'x_22': 2802, 'x_23': 11563}. Best is trial 9 with value: 0.6395812124558029.\n",
      "[I 2025-10-13 04:00:52,748] Trial 82 finished with value: 0.4857832750680458 and parameters: {'x_0': 3519, 'x_1': 18500, 'x_2': 20000, 'x_3': 0, 'x_4': 0, 'x_5': 14590, 'x_6': 0, 'x_7': 0, 'x_8': 2800, 'x_9': 1000, 'x_10': 10000, 'x_11': 5000, 'x_12': 100, 'x_13': 200, 'x_14': 180, 'x_15': 150, 'x_16': 0, 'x_17': 0, 'x_18': 0, 'x_19': 163, 'x_20': 348, 'x_21': 0, 'x_22': 0, 'x_23': 428}. Best is trial 9 with value: 0.6395812124558029.\n",
      "[I 2025-10-13 04:00:53,856] Trial 83 finished with value: 0.6234123613624619 and parameters: {'x_0': 1014913, 'x_1': 431797, 'x_2': 119823, 'x_3': 17044, 'x_4': 1075309, 'x_5': 123164, 'x_6': 539178, 'x_7': 4335, 'x_8': 15549, 'x_9': 2616, 'x_10': 11109, 'x_11': 8149, 'x_12': 37504, 'x_13': 119027, 'x_14': 28126, 'x_15': 38193, 'x_16': 2035, 'x_17': 21750, 'x_18': 117238, 'x_19': 6244, 'x_20': 1764, 'x_21': 5662, 'x_22': 5462, 'x_23': 21234}. Best is trial 9 with value: 0.6395812124558029.\n"
     ]
    }
   ],
   "source": [
    "services_weights = service_types_df.set_index('blocksnet')['infrastructure_weight'].to_dict()\n",
    "\n",
    "objective = WeightedObjective(num_params=facade.num_params, facade=facade, weights=services_weights, max_evals=MAX_EVALS)\n",
    "\n",
    "constraints = WeightedConstraints(num_params=facade.num_params, facade=facade)\n",
    "\n",
    "tpe_optimizer = TPEOptimizer(\n",
    "    objective=objective, constraints=constraints, vars_chooser=GradientChooser(facade, facade.num_params, num_top=5)\n",
    ")\n",
    "\n",
    "best_x, best_val, perc, func_evals = tpe_optimizer.run(max_runs=MAX_RUNS, timeout=TIMEOUT, initial_runs_num=1)"
   ]
  },
  {
   "cell_type": "markdown",
   "id": "3bc80a2f",
   "metadata": {},
   "source": [
    "### Результат\n",
    "\n",
    "- Если для данного данного сервиса нет в списке доступных для данного `land_use`, он не оптимизируется и не учитывается.\n",
    "- То что не оптимизировали, надо пересчитать, особенно если прибавилось население. Добавляем это население по возможности"
   ]
  },
  {
   "cell_type": "code",
   "execution_count": 92,
   "id": "b58f5571",
   "metadata": {},
   "outputs": [],
   "source": [
    "solution_population_df = facade.get_solution_area_df(best_x)\n",
    "solution_population_df\n",
    "\n",
    "prov_gdfs = {}\n",
    "for st_id in service_types_df.index:\n",
    "    st_name = service_types_df.loc[st_id, 'blocksnet']\n",
    "    if st_name in facade._chosen_service_types:\n",
    "        prov_df = facade._provision_adapter.get_last_provision_df(st_name)\n",
    "        prov_gdf = blocks_gdf[['geometry']].join(prov_df, how='right')\n",
    "        prov_gdfs[st_name] = prov_gdf\n",
    "    else:\n",
    "        column = f'capacity_{st_name}'\n",
    "        _,demand,accessibility = service_types_config[st_name].values()\n",
    "        df = blocks_gdf.rename(columns={f'capacity_{st_id}': f'capacity_{st_name}'})\n",
    "        df.loc[blocks_gdf.is_project, f'capacity_{st_name}'] = 0\n",
    "        df.loc[blocks_gdf.is_project, 'population'] = solution_population_df.loc[blocks_gdf.is_project, 'population']\n",
    "        prov_gdf = _assess_provision(df, acc_mx, st_name)\n",
    "        prov_gdfs[st_name] = prov_gdf"
   ]
  },
  {
   "cell_type": "code",
   "execution_count": 93,
   "id": "02557302",
   "metadata": {},
   "outputs": [
    {
     "data": {
      "image/png": "[encoded data removed]",
      "text/plain": [
       "<Figure size 640x480 with 2 Axes>"
      ]
     },
     "metadata": {},
     "output_type": "display_data"
    }
   ],
   "source": [
    "ax = prov_gdfs['hospital'].plot(color='#ddd')\n",
    "prov_gdfs['hospital'].plot('provision_strong', ax=ax, vmin=0, vmax=1, cmap='RdYlGn', legend=True).set_axis_off()"
   ]
  },
  {
   "cell_type": "markdown",
   "id": "d580c1ce",
   "metadata": {},
   "source": [
    "Чиселки обеспеченности для графика"
   ]
  },
  {
   "cell_type": "code",
   "execution_count": 94,
   "id": "894e4b17",
   "metadata": {},
   "outputs": [],
   "source": [
    "prov_totals_after = {}\n",
    "for st_name, prov_gdf in prov_gdfs.items():\n",
    "    if prov_gdf.demand.sum() == 0:\n",
    "        if prov_gdf.capacity.sum() > 0:\n",
    "            total = 1.0\n",
    "        else:\n",
    "            total = 0.0\n",
    "    else:\n",
    "        total = float(provision_strong_total(prov_gdf))\n",
    "    prov_totals_after[st_name] = total"
   ]
  },
  {
   "cell_type": "markdown",
   "id": "0d7a8885",
   "metadata": {},
   "source": [
    "Если какой-то сервис тут отсутствует, можно брать с `base_scenario` (?? я подумаю еще правильно ли это)"
   ]
  },
  {
   "cell_type": "code",
   "execution_count": 95,
   "id": "2d1c01b6",
   "metadata": {},
   "outputs": [
    {
     "data": {
      "text/plain": [
       "{'park': 0.07463480298472737,\n",
       " 'beach': 0.0,\n",
       " 'kindergarten': 0.0033031917089888104,\n",
       " 'school': 0.005240650679188328,\n",
       " 'university': 0.09342301943198804,\n",
       " 'polyclinic': 0.009727626459143969,\n",
       " 'pharmacy': 0.006744225257123588,\n",
       " 'hospital': 0.08859060402684564,\n",
       " 'library': 0.998780487804878,\n",
       " 'museum': 0.15873015873015872,\n",
       " 'theatre': 1.0,\n",
       " 'cinema': 0.18094089264173704,\n",
       " 'mall': 1.0,\n",
       " 'stadium': 1.0,\n",
       " 'cafe': 0.0025290844714213456,\n",
       " 'restaurant': 0.011894288630045395,\n",
       " 'bar': 0.010042681395932713,\n",
       " 'pitch': 1.0,\n",
       " 'playground': 1.0,\n",
       " 'police': 0.030349013657056147,\n",
       " 'train_station': 0.48756704046806437,\n",
       " 'supermarket': 0.0010115570391725462,\n",
       " 'market': 0.6060606060606061,\n",
       " 'bank': 0.9998756064187088,\n",
       " 'veterinary': 0.05332239540607055,\n",
       " 'hotel': 1.0,\n",
       " 'religion': 0.3240279162512463,\n",
       " 'sanatorium': 0.0}"
      ]
     },
     "execution_count": 95,
     "metadata": {},
     "output_type": "execute_result"
    }
   ],
   "source": [
    "prov_totals_after"
   ]
  },
  {
   "cell_type": "code",
   "execution_count": 96,
   "id": "8d1380ac",
   "metadata": {},
   "outputs": [
    {
     "data": {
      "text/plain": [
       "<Axes: >"
      ]
     },
     "execution_count": 96,
     "metadata": {},
     "output_type": "execute_result"
    },
    {
     "data": {
      "image/png": "[encoded data removed]",
      "text/plain": [
       "<Figure size 640x480 with 1 Axes>"
      ]
     },
     "metadata": {},
     "output_type": "display_data"
    }
   ],
   "source": [
    "provisions_df = pd.DataFrame.from_dict({'before': prov_totals_before, 'after': prov_totals_after})\n",
    "provisions_df.plot.bar()"
   ]
  },
  {
   "cell_type": "markdown",
   "id": "9012163d",
   "metadata": {},
   "source": [
    "## Выход в другие модули\n",
    "\n",
    "Чтоб могли посчитать и сопоставить"
   ]
  },
  {
   "cell_type": "code",
   "execution_count": 98,
   "id": "46bf1411",
   "metadata": {},
   "outputs": [
    {
     "data": {
      "application/vnd.microsoft.datawrangler.viewer.v0+json": {
       "columns": [
        {
         "name": "index",
         "rawType": "int64",
         "type": "integer"
        },
        {
         "name": "block_id",
         "rawType": "int64",
         "type": "integer"
        },
        {
         "name": "service_type",
         "rawType": "object",
         "type": "string"
        },
        {
         "name": "site_area",
         "rawType": "float64",
         "type": "float"
        },
        {
         "name": "build_floor_area",
         "rawType": "float64",
         "type": "float"
        },
        {
         "name": "capacity",
         "rawType": "int64",
         "type": "integer"
        },
        {
         "name": "count",
         "rawType": "int64",
         "type": "integer"
        }
       ],
       "ref": "68591ad3-0cb7-41d1-aa3f-2b157a4bb00a",
       "rows": [
        [
         "0",
         "0",
         "kindergarten",
         "3520.0",
         "240.0",
         "80",
         "1"
        ],
        [
         "6",
         "0",
         "school",
         "18500.0",
         "2500.0",
         "250",
         "1"
        ],
        [
         "13",
         "0",
         "university",
         "20000.0",
         "5000.0",
         "500",
         "1"
        ],
        [
         "20",
         "0",
         "polyclinic",
         "0.0",
         "400.0",
         "50",
         "1"
        ],
        [
         "22",
         "0",
         "pharmacy",
         "0.0",
         "25.0",
         "40",
         "1"
        ],
        [
         "25",
         "0",
         "hospital",
         "3500.0",
         "660.0",
         "110",
         "1"
        ],
        [
         "26",
         "0",
         "hospital",
         "12000.0",
         "2400.0",
         "400",
         "1"
        ],
        [
         "31",
         "0",
         "library",
         "0.0",
         "207.0",
         "230",
         "1"
        ],
        [
         "35",
         "0",
         "museum",
         "0.0",
         "400.0",
         "200",
         "1"
        ],
        [
         "38",
         "0",
         "theatre",
         "2800.0",
         "2000.0",
         "800",
         "1"
        ],
        [
         "41",
         "0",
         "cinema",
         "1000.0",
         "700.0",
         "450",
         "1"
        ],
        [
         "45",
         "0",
         "mall",
         "10000.0",
         "4200.0",
         "7000",
         "1"
        ],
        [
         "48",
         "0",
         "stadium",
         "5000.0",
         "1000.0",
         "2000",
         "1"
        ],
        [
         "51",
         "0",
         "cafe",
         "100.0",
         "75.0",
         "25",
         "1"
        ],
        [
         "59",
         "0",
         "restaurant",
         "200.0",
         "135.0",
         "45",
         "1"
        ],
        [
         "67",
         "0",
         "bar",
         "60.0",
         "45.0",
         "30",
         "3"
        ],
        [
         "73",
         "0",
         "pitch",
         "150.0",
         "0.0",
         "10",
         "1"
        ],
        [
         "77",
         "0",
         "playground",
         "50.0",
         "0.0",
         "20",
         "1"
        ],
        [
         "80",
         "0",
         "police",
         "700.0",
         "240.0",
         "60",
         "1"
        ],
        [
         "87",
         "0",
         "supermarket",
         "0.0",
         "200.0",
         "200",
         "1"
        ],
        [
         "96",
         "0",
         "bank",
         "0.0",
         "400.0",
         "250",
         "1"
        ],
        [
         "98",
         "0",
         "veterinary",
         "0.0",
         "400.0",
         "30",
         "1"
        ],
        [
         "100",
         "0",
         "veterinary",
         "0.0",
         "450.0",
         "35",
         "1"
        ]
       ],
       "shape": {
        "columns": 6,
        "rows": 23
       }
      },
      "text/html": [
       "<div>\n",
       "<style scoped>\n",
       "    .dataframe tbody tr th:only-of-type {\n",
       "        vertical-align: middle;\n",
       "    }\n",
       "\n",
       "    .dataframe tbody tr th {\n",
       "        vertical-align: top;\n",
       "    }\n",
       "\n",
       "    .dataframe thead th {\n",
       "        text-align: right;\n",
       "    }\n",
       "</style>\n",
       "<table border=\"1\" class=\"dataframe\">\n",
       "  <thead>\n",
       "    <tr style=\"text-align: right;\">\n",
       "      <th></th>\n",
       "      <th>block_id</th>\n",
       "      <th>service_type</th>\n",
       "      <th>site_area</th>\n",
       "      <th>build_floor_area</th>\n",
       "      <th>capacity</th>\n",
       "      <th>count</th>\n",
       "    </tr>\n",
       "  </thead>\n",
       "  <tbody>\n",
       "    <tr>\n",
       "      <th>0</th>\n",
       "      <td>0</td>\n",
       "      <td>kindergarten</td>\n",
       "      <td>3520.0</td>\n",
       "      <td>240.0</td>\n",
       "      <td>80</td>\n",
       "      <td>1</td>\n",
       "    </tr>\n",
       "    <tr>\n",
       "      <th>6</th>\n",
       "      <td>0</td>\n",
       "      <td>school</td>\n",
       "      <td>18500.0</td>\n",
       "      <td>2500.0</td>\n",
       "      <td>250</td>\n",
       "      <td>1</td>\n",
       "    </tr>\n",
       "    <tr>\n",
       "      <th>13</th>\n",
       "      <td>0</td>\n",
       "      <td>university</td>\n",
       "      <td>20000.0</td>\n",
       "      <td>5000.0</td>\n",
       "      <td>500</td>\n",
       "      <td>1</td>\n",
       "    </tr>\n",
       "    <tr>\n",
       "      <th>20</th>\n",
       "      <td>0</td>\n",
       "      <td>polyclinic</td>\n",
       "      <td>0.0</td>\n",
       "      <td>400.0</td>\n",
       "      <td>50</td>\n",
       "      <td>1</td>\n",
       "    </tr>\n",
       "    <tr>\n",
       "      <th>22</th>\n",
       "      <td>0</td>\n",
       "      <td>pharmacy</td>\n",
       "      <td>0.0</td>\n",
       "      <td>25.0</td>\n",
       "      <td>40</td>\n",
       "      <td>1</td>\n",
       "    </tr>\n",
       "    <tr>\n",
       "      <th>25</th>\n",
       "      <td>0</td>\n",
       "      <td>hospital</td>\n",
       "      <td>3500.0</td>\n",
       "      <td>660.0</td>\n",
       "      <td>110</td>\n",
       "      <td>1</td>\n",
       "    </tr>\n",
       "    <tr>\n",
       "      <th>26</th>\n",
       "      <td>0</td>\n",
       "      <td>hospital</td>\n",
       "      <td>12000.0</td>\n",
       "      <td>2400.0</td>\n",
       "      <td>400</td>\n",
       "      <td>1</td>\n",
       "    </tr>\n",
       "    <tr>\n",
       "      <th>31</th>\n",
       "      <td>0</td>\n",
       "      <td>library</td>\n",
       "      <td>0.0</td>\n",
       "      <td>207.0</td>\n",
       "      <td>230</td>\n",
       "      <td>1</td>\n",
       "    </tr>\n",
       "    <tr>\n",
       "      <th>35</th>\n",
       "      <td>0</td>\n",
       "      <td>museum</td>\n",
       "      <td>0.0</td>\n",
       "      <td>400.0</td>\n",
       "      <td>200</td>\n",
       "      <td>1</td>\n",
       "    </tr>\n",
       "    <tr>\n",
       "      <th>38</th>\n",
       "      <td>0</td>\n",
       "      <td>theatre</td>\n",
       "      <td>2800.0</td>\n",
       "      <td>2000.0</td>\n",
       "      <td>800</td>\n",
       "      <td>1</td>\n",
       "    </tr>\n",
       "    <tr>\n",
       "      <th>41</th>\n",
       "      <td>0</td>\n",
       "      <td>cinema</td>\n",
       "      <td>1000.0</td>\n",
       "      <td>700.0</td>\n",
       "      <td>450</td>\n",
       "      <td>1</td>\n",
       "    </tr>\n",
       "    <tr>\n",
       "      <th>45</th>\n",
       "      <td>0</td>\n",
       "      <td>mall</td>\n",
       "      <td>10000.0</td>\n",
       "      <td>4200.0</td>\n",
       "      <td>7000</td>\n",
       "      <td>1</td>\n",
       "    </tr>\n",
       "    <tr>\n",
       "      <th>48</th>\n",
       "      <td>0</td>\n",
       "      <td>stadium</td>\n",
       "      <td>5000.0</td>\n",
       "      <td>1000.0</td>\n",
       "      <td>2000</td>\n",
       "      <td>1</td>\n",
       "    </tr>\n",
       "    <tr>\n",
       "      <th>51</th>\n",
       "      <td>0</td>\n",
       "      <td>cafe</td>\n",
       "      <td>100.0</td>\n",
       "      <td>75.0</td>\n",
       "      <td>25</td>\n",
       "      <td>1</td>\n",
       "    </tr>\n",
       "    <tr>\n",
       "      <th>59</th>\n",
       "      <td>0</td>\n",
       "      <td>restaurant</td>\n",
       "      <td>200.0</td>\n",
       "      <td>135.0</td>\n",
       "      <td>45</td>\n",
       "      <td>1</td>\n",
       "    </tr>\n",
       "    <tr>\n",
       "      <th>67</th>\n",
       "      <td>0</td>\n",
       "      <td>bar</td>\n",
       "      <td>60.0</td>\n",
       "      <td>45.0</td>\n",
       "      <td>30</td>\n",
       "      <td>3</td>\n",
       "    </tr>\n",
       "    <tr>\n",
       "      <th>73</th>\n",
       "      <td>0</td>\n",
       "      <td>pitch</td>\n",
       "      <td>150.0</td>\n",
       "      <td>0.0</td>\n",
       "      <td>10</td>\n",
       "      <td>1</td>\n",
       "    </tr>\n",
       "    <tr>\n",
       "      <th>77</th>\n",
       "      <td>0</td>\n",
       "      <td>playground</td>\n",
       "      <td>50.0</td>\n",
       "      <td>0.0</td>\n",
       "      <td>20</td>\n",
       "      <td>1</td>\n",
       "    </tr>\n",
       "    <tr>\n",
       "      <th>80</th>\n",
       "      <td>0</td>\n",
       "      <td>police</td>\n",
       "      <td>700.0</td>\n",
       "      <td>240.0</td>\n",
       "      <td>60</td>\n",
       "      <td>1</td>\n",
       "    </tr>\n",
       "    <tr>\n",
       "      <th>87</th>\n",
       "      <td>0</td>\n",
       "      <td>supermarket</td>\n",
       "      <td>0.0</td>\n",
       "      <td>200.0</td>\n",
       "      <td>200</td>\n",
       "      <td>1</td>\n",
       "    </tr>\n",
       "    <tr>\n",
       "      <th>96</th>\n",
       "      <td>0</td>\n",
       "      <td>bank</td>\n",
       "      <td>0.0</td>\n",
       "      <td>400.0</td>\n",
       "      <td>250</td>\n",
       "      <td>1</td>\n",
       "    </tr>\n",
       "    <tr>\n",
       "      <th>98</th>\n",
       "      <td>0</td>\n",
       "      <td>veterinary</td>\n",
       "      <td>0.0</td>\n",
       "      <td>400.0</td>\n",
       "      <td>30</td>\n",
       "      <td>1</td>\n",
       "    </tr>\n",
       "    <tr>\n",
       "      <th>100</th>\n",
       "      <td>0</td>\n",
       "      <td>veterinary</td>\n",
       "      <td>0.0</td>\n",
       "      <td>450.0</td>\n",
       "      <td>35</td>\n",
       "      <td>1</td>\n",
       "    </tr>\n",
       "  </tbody>\n",
       "</table>\n",
       "</div>"
      ],
      "text/plain": [
       "     block_id  service_type  site_area  build_floor_area  capacity  count\n",
       "0           0  kindergarten     3520.0             240.0        80      1\n",
       "6           0        school    18500.0            2500.0       250      1\n",
       "13          0    university    20000.0            5000.0       500      1\n",
       "20          0    polyclinic        0.0             400.0        50      1\n",
       "22          0      pharmacy        0.0              25.0        40      1\n",
       "25          0      hospital     3500.0             660.0       110      1\n",
       "26          0      hospital    12000.0            2400.0       400      1\n",
       "31          0       library        0.0             207.0       230      1\n",
       "35          0        museum        0.0             400.0       200      1\n",
       "38          0       theatre     2800.0            2000.0       800      1\n",
       "41          0        cinema     1000.0             700.0       450      1\n",
       "45          0          mall    10000.0            4200.0      7000      1\n",
       "48          0       stadium     5000.0            1000.0      2000      1\n",
       "51          0          cafe      100.0              75.0        25      1\n",
       "59          0    restaurant      200.0             135.0        45      1\n",
       "67          0           bar       60.0              45.0        30      3\n",
       "73          0         pitch      150.0               0.0        10      1\n",
       "77          0    playground       50.0               0.0        20      1\n",
       "80          0        police      700.0             240.0        60      1\n",
       "87          0   supermarket        0.0             200.0       200      1\n",
       "96          0          bank        0.0             400.0       250      1\n",
       "98          0    veterinary        0.0             400.0        30      1\n",
       "100         0    veterinary        0.0             450.0        35      1"
      ]
     },
     "execution_count": 98,
     "metadata": {},
     "output_type": "execute_result"
    }
   ],
   "source": [
    "solution_df = facade.solution_to_services_df(best_x)\n",
    "solution_df"
   ]
  },
  {
   "cell_type": "code",
   "execution_count": 103,
   "id": "ec55b4f2",
   "metadata": {},
   "outputs": [
    {
     "data": {
      "application/vnd.microsoft.datawrangler.viewer.v0+json": {
       "columns": [
        {
         "name": "block_id",
         "rawType": "int64",
         "type": "integer"
        },
        {
         "name": "capacity_100",
         "rawType": "int64",
         "type": "integer"
        },
        {
         "name": "capacity_63",
         "rawType": "int64",
         "type": "integer"
        },
        {
         "name": "capacity_61",
         "rawType": "int64",
         "type": "integer"
        },
        {
         "name": "capacity_56",
         "rawType": "int64",
         "type": "integer"
        },
        {
         "name": "capacity_35",
         "rawType": "int64",
         "type": "integer"
        },
        {
         "name": "capacity_21",
         "rawType": "int64",
         "type": "integer"
        },
        {
         "name": "capacity_48",
         "rawType": "int64",
         "type": "integer"
        },
        {
         "name": "capacity_57",
         "rawType": "int64",
         "type": "integer"
        },
        {
         "name": "capacity_50",
         "rawType": "int64",
         "type": "integer"
        },
        {
         "name": "capacity_34",
         "rawType": "int64",
         "type": "integer"
        },
        {
         "name": "capacity_66",
         "rawType": "int64",
         "type": "integer"
        },
        {
         "name": "capacity_74",
         "rawType": "int64",
         "type": "integer"
        },
        {
         "name": "capacity_78",
         "rawType": "int64",
         "type": "integer"
        },
        {
         "name": "capacity_28",
         "rawType": "int64",
         "type": "integer"
        },
        {
         "name": "capacity_62",
         "rawType": "int64",
         "type": "integer"
        },
        {
         "name": "capacity_22",
         "rawType": "int64",
         "type": "integer"
        },
        {
         "name": "capacity_59",
         "rawType": "int64",
         "type": "integer"
        },
        {
         "name": "capacity_89",
         "rawType": "int64",
         "type": "integer"
        },
        {
         "name": "capacity_51",
         "rawType": "int64",
         "type": "integer"
        },
        {
         "name": "capacity_27",
         "rawType": "int64",
         "type": "integer"
        },
        {
         "name": "capacity_107",
         "rawType": "int64",
         "type": "integer"
        },
        {
         "name": "count_100",
         "rawType": "int64",
         "type": "integer"
        },
        {
         "name": "count_63",
         "rawType": "int64",
         "type": "integer"
        },
        {
         "name": "count_61",
         "rawType": "int64",
         "type": "integer"
        },
        {
         "name": "count_56",
         "rawType": "int64",
         "type": "integer"
        },
        {
         "name": "count_35",
         "rawType": "int64",
         "type": "integer"
        },
        {
         "name": "count_21",
         "rawType": "int64",
         "type": "integer"
        },
        {
         "name": "count_48",
         "rawType": "int64",
         "type": "integer"
        },
        {
         "name": "count_57",
         "rawType": "int64",
         "type": "integer"
        },
        {
         "name": "count_50",
         "rawType": "int64",
         "type": "integer"
        },
        {
         "name": "count_34",
         "rawType": "int64",
         "type": "integer"
        },
        {
         "name": "count_66",
         "rawType": "int64",
         "type": "integer"
        },
        {
         "name": "count_74",
         "rawType": "int64",
         "type": "integer"
        },
        {
         "name": "count_78",
         "rawType": "int64",
         "type": "integer"
        },
        {
         "name": "count_28",
         "rawType": "int64",
         "type": "integer"
        },
        {
         "name": "count_62",
         "rawType": "int64",
         "type": "integer"
        },
        {
         "name": "count_22",
         "rawType": "int64",
         "type": "integer"
        },
        {
         "name": "count_59",
         "rawType": "int64",
         "type": "integer"
        },
        {
         "name": "count_89",
         "rawType": "int64",
         "type": "integer"
        },
        {
         "name": "count_51",
         "rawType": "int64",
         "type": "integer"
        },
        {
         "name": "count_27",
         "rawType": "int64",
         "type": "integer"
        },
        {
         "name": "count_107",
         "rawType": "int64",
         "type": "integer"
        }
       ],
       "ref": "38e3b7a7-06a8-4429-ac26-99988c782ecd",
       "rows": [
        [
         "0",
         "250",
         "30",
         "25",
         "450",
         "510",
         "80",
         "230",
         "7000",
         "200",
         "40",
         "10",
         "20",
         "60",
         "50",
         "45",
         "250",
         "2000",
         "200",
         "800",
         "500",
         "65",
         "1",
         "3",
         "1",
         "1",
         "2",
         "1",
         "1",
         "1",
         "1",
         "1",
         "1",
         "1",
         "1",
         "1",
         "1",
         "1",
         "1",
         "1",
         "1",
         "1",
         "2"
        ]
       ],
       "shape": {
        "columns": 42,
        "rows": 1
       }
      },
      "text/html": [
       "<div>\n",
       "<style scoped>\n",
       "    .dataframe tbody tr th:only-of-type {\n",
       "        vertical-align: middle;\n",
       "    }\n",
       "\n",
       "    .dataframe tbody tr th {\n",
       "        vertical-align: top;\n",
       "    }\n",
       "\n",
       "    .dataframe thead th {\n",
       "        text-align: right;\n",
       "    }\n",
       "</style>\n",
       "<table border=\"1\" class=\"dataframe\">\n",
       "  <thead>\n",
       "    <tr style=\"text-align: right;\">\n",
       "      <th></th>\n",
       "      <th>capacity_100</th>\n",
       "      <th>capacity_63</th>\n",
       "      <th>capacity_61</th>\n",
       "      <th>capacity_56</th>\n",
       "      <th>capacity_35</th>\n",
       "      <th>capacity_21</th>\n",
       "      <th>capacity_48</th>\n",
       "      <th>capacity_57</th>\n",
       "      <th>capacity_50</th>\n",
       "      <th>capacity_34</th>\n",
       "      <th>...</th>\n",
       "      <th>count_74</th>\n",
       "      <th>count_78</th>\n",
       "      <th>count_28</th>\n",
       "      <th>count_62</th>\n",
       "      <th>count_22</th>\n",
       "      <th>count_59</th>\n",
       "      <th>count_89</th>\n",
       "      <th>count_51</th>\n",
       "      <th>count_27</th>\n",
       "      <th>count_107</th>\n",
       "    </tr>\n",
       "    <tr>\n",
       "      <th>block_id</th>\n",
       "      <th></th>\n",
       "      <th></th>\n",
       "      <th></th>\n",
       "      <th></th>\n",
       "      <th></th>\n",
       "      <th></th>\n",
       "      <th></th>\n",
       "      <th></th>\n",
       "      <th></th>\n",
       "      <th></th>\n",
       "      <th></th>\n",
       "      <th></th>\n",
       "      <th></th>\n",
       "      <th></th>\n",
       "      <th></th>\n",
       "      <th></th>\n",
       "      <th></th>\n",
       "      <th></th>\n",
       "      <th></th>\n",
       "      <th></th>\n",
       "      <th></th>\n",
       "    </tr>\n",
       "  </thead>\n",
       "  <tbody>\n",
       "    <tr>\n",
       "      <th>0</th>\n",
       "      <td>250</td>\n",
       "      <td>30</td>\n",
       "      <td>25</td>\n",
       "      <td>450</td>\n",
       "      <td>510</td>\n",
       "      <td>80</td>\n",
       "      <td>230</td>\n",
       "      <td>7000</td>\n",
       "      <td>200</td>\n",
       "      <td>40</td>\n",
       "      <td>...</td>\n",
       "      <td>1</td>\n",
       "      <td>1</td>\n",
       "      <td>1</td>\n",
       "      <td>1</td>\n",
       "      <td>1</td>\n",
       "      <td>1</td>\n",
       "      <td>1</td>\n",
       "      <td>1</td>\n",
       "      <td>1</td>\n",
       "      <td>2</td>\n",
       "    </tr>\n",
       "  </tbody>\n",
       "</table>\n",
       "<p>1 rows × 42 columns</p>\n",
       "</div>"
      ],
      "text/plain": [
       "          capacity_100  capacity_63  capacity_61  capacity_56  capacity_35  \\\n",
       "block_id                                                                     \n",
       "0                  250           30           25          450          510   \n",
       "\n",
       "          capacity_21  capacity_48  capacity_57  capacity_50  capacity_34  \\\n",
       "block_id                                                                    \n",
       "0                  80          230         7000          200           40   \n",
       "\n",
       "          ...  count_74  count_78  count_28  count_62  count_22  count_59  \\\n",
       "block_id  ...                                                               \n",
       "0         ...         1         1         1         1         1         1   \n",
       "\n",
       "          count_89  count_51  count_27  count_107  \n",
       "block_id                                           \n",
       "0                1         1         1          2  \n",
       "\n",
       "[1 rows x 42 columns]"
      ]
     },
     "execution_count": 103,
     "metadata": {},
     "output_type": "execute_result"
    }
   ],
   "source": [
    "capacities_df = (\n",
    "    solution_df\n",
    "    .groupby(['block_id', 'service_type'])\n",
    "    .agg({'capacity': 'sum', 'count': 'sum'})\n",
    "    .unstack('service_type')  # превращаем service_type в столбцы\n",
    ")\n",
    "columns = []\n",
    "\n",
    "for col in capacities_df.columns:\n",
    "    name = col[0]\n",
    "    st_name = col[1]\n",
    "    st_id = list(service_types_df[service_types_df.blocksnet == st_name].index)[0]\n",
    "    column = f'{name}_{st_id}'\n",
    "    columns.append(column)\n",
    "capacities_df.columns = columns\n",
    "capacities_df"
   ]
  },
  {
   "cell_type": "code",
   "execution_count": 104,
   "id": "37728ea0",
   "metadata": {},
   "outputs": [
    {
     "data": {
      "application/vnd.microsoft.datawrangler.viewer.v0+json": {
       "columns": [
        {
         "name": "index",
         "rawType": "int64",
         "type": "integer"
        },
        {
         "name": "population",
         "rawType": "float64",
         "type": "float"
        },
        {
         "name": "build_floor_area",
         "rawType": "float64",
         "type": "float"
        },
        {
         "name": "living_area",
         "rawType": "float64",
         "type": "float"
        },
        {
         "name": "footprint_area",
         "rawType": "float64",
         "type": "float"
        }
       ],
       "ref": "12daa7e7-1e31-4890-9530-431fb55059ce",
       "rows": [
        [
         "0",
         "396956.0",
         "4274876.283167821",
         "4253109.283167821",
         "759978.0058965017"
        ],
        [
         "1",
         "0.0",
         "64050446.43328446",
         "0.0",
         "0.0"
        ],
        [
         "2",
         "0.0",
         "219455131.95543593",
         "0.0",
         "0.0"
        ],
        [
         "3",
         "0.0",
         "332048237.58749604",
         "0.0",
         "0.0"
        ],
        [
         "4",
         "0.0",
         "646857.9034788721",
         "0.0",
         "0.0"
        ],
        [
         "5",
         "0.0",
         "109747118.76909621",
         "0.0",
         "0.0"
        ],
        [
         "6",
         "0.0",
         "254860.49513239038",
         "0.0",
         "0.0"
        ],
        [
         "7",
         "0.0",
         "1706034.3237213732",
         "0.0",
         "0.0"
        ],
        [
         "8",
         "0.0",
         "86460.84095548661",
         "0.0",
         "0.0"
        ],
        [
         "9",
         "0.0",
         "1509068.6058499422",
         "0.0",
         "0.0"
        ],
        [
         "10",
         "0.0",
         "714236.6096692993",
         "0.0",
         "0.0"
        ],
        [
         "11",
         "0.0",
         "460639.02057329076",
         "0.0",
         "0.0"
        ],
        [
         "12",
         "0.0",
         "135931.1814211931",
         "0.0",
         "0.0"
        ],
        [
         "13",
         "0.0",
         "3726513.9797575423",
         "0.0",
         "0.0"
        ],
        [
         "14",
         "0.0",
         "692385.1295858817",
         "0.0",
         "0.0"
        ],
        [
         "15",
         "0.0",
         "4404.803300382253",
         "0.0",
         "0.0"
        ],
        [
         "16",
         "0.0",
         "3132.537571566732",
         "0.0",
         "0.0"
        ],
        [
         "17",
         "0.0",
         "38485.51055089498",
         "0.0",
         "0.0"
        ],
        [
         "18",
         "0.0",
         "35792.60288792953",
         "0.0",
         "0.0"
        ],
        [
         "19",
         "0.0",
         "2181184.511509707",
         "0.0",
         "0.0"
        ],
        [
         "20",
         "0.0",
         "336934.3663313018",
         "0.0",
         "0.0"
        ],
        [
         "21",
         "0.0",
         "388823.1253823811",
         "0.0",
         "0.0"
        ],
        [
         "22",
         "0.0",
         "3828.2354081255735",
         "0.0",
         "0.0"
        ],
        [
         "23",
         "0.0",
         "13066948.921397759",
         "0.0",
         "0.0"
        ],
        [
         "24",
         "0.0",
         "87954.57631972407",
         "0.0",
         "0.0"
        ],
        [
         "25",
         "0.0",
         "660120.4991625671",
         "0.0",
         "0.0"
        ],
        [
         "26",
         "0.0",
         "181796.25710216735",
         "0.0",
         "0.0"
        ],
        [
         "27",
         "0.0",
         "632.0848457765383",
         "0.0",
         "0.0"
        ],
        [
         "28",
         "0.0",
         "60524705.56298325",
         "0.0",
         "0.0"
        ],
        [
         "29",
         "0.0",
         "3385.9241985398976",
         "0.0",
         "0.0"
        ],
        [
         "30",
         "0.0",
         "6742.670855213316",
         "0.0",
         "0.0"
        ],
        [
         "31",
         "0.0",
         "2810.8309636477657",
         "0.0",
         "0.0"
        ],
        [
         "32",
         "0.0",
         "6932.976741890282",
         "0.0",
         "0.0"
        ],
        [
         "33",
         "0.0",
         "185605.20704319509",
         "0.0",
         "0.0"
        ],
        [
         "34",
         "0.0",
         "15719447.443479296",
         "0.0",
         "0.0"
        ],
        [
         "35",
         "0.0",
         "61338318.252803385",
         "0.0",
         "0.0"
        ],
        [
         "36",
         "0.0",
         "282.8162635746002",
         "0.0",
         "0.0"
        ],
        [
         "37",
         "0.0",
         "541.3986670988893",
         "0.0",
         "0.0"
        ],
        [
         "38",
         "0.0",
         "12903687.725663256",
         "0.0",
         "0.0"
        ],
        [
         "39",
         "0.0",
         "162374.05276535093",
         "0.0",
         "0.0"
        ],
        [
         "40",
         "0.0",
         "8117.736932170425",
         "0.0",
         "0.0"
        ],
        [
         "41",
         "0.0",
         "43586.87392074373",
         "0.0",
         "0.0"
        ],
        [
         "42",
         "0.0",
         "236481.7964823485",
         "0.0",
         "0.0"
        ],
        [
         "43",
         "0.0",
         "818848.7838219695",
         "0.0",
         "0.0"
        ],
        [
         "44",
         "0.0",
         "1066.3292660322916",
         "0.0",
         "0.0"
        ],
        [
         "45",
         "0.0",
         "388092.2445266413",
         "0.0",
         "0.0"
        ],
        [
         "46",
         "0.0",
         "979.4314139657298",
         "0.0",
         "0.0"
        ],
        [
         "47",
         "0.0",
         "1078.8520318916742",
         "0.0",
         "0.0"
        ],
        [
         "48",
         "0.0",
         "898.4626649019392",
         "0.0",
         "0.0"
        ],
        [
         "49",
         "0.0",
         "1688827.0539399267",
         "0.0",
         "0.0"
        ]
       ],
       "shape": {
        "columns": 4,
        "rows": 461
       }
      },
      "text/html": [
       "<div>\n",
       "<style scoped>\n",
       "    .dataframe tbody tr th:only-of-type {\n",
       "        vertical-align: middle;\n",
       "    }\n",
       "\n",
       "    .dataframe tbody tr th {\n",
       "        vertical-align: top;\n",
       "    }\n",
       "\n",
       "    .dataframe thead th {\n",
       "        text-align: right;\n",
       "    }\n",
       "</style>\n",
       "<table border=\"1\" class=\"dataframe\">\n",
       "  <thead>\n",
       "    <tr style=\"text-align: right;\">\n",
       "      <th></th>\n",
       "      <th>population</th>\n",
       "      <th>build_floor_area</th>\n",
       "      <th>living_area</th>\n",
       "      <th>footprint_area</th>\n",
       "    </tr>\n",
       "  </thead>\n",
       "  <tbody>\n",
       "    <tr>\n",
       "      <th>0</th>\n",
       "      <td>396956.0</td>\n",
       "      <td>4.274876e+06</td>\n",
       "      <td>4.253109e+06</td>\n",
       "      <td>759978.005897</td>\n",
       "    </tr>\n",
       "    <tr>\n",
       "      <th>1</th>\n",
       "      <td>0.0</td>\n",
       "      <td>6.405045e+07</td>\n",
       "      <td>0.000000e+00</td>\n",
       "      <td>0.000000</td>\n",
       "    </tr>\n",
       "    <tr>\n",
       "      <th>2</th>\n",
       "      <td>0.0</td>\n",
       "      <td>2.194551e+08</td>\n",
       "      <td>0.000000e+00</td>\n",
       "      <td>0.000000</td>\n",
       "    </tr>\n",
       "    <tr>\n",
       "      <th>3</th>\n",
       "      <td>0.0</td>\n",
       "      <td>3.320482e+08</td>\n",
       "      <td>0.000000e+00</td>\n",
       "      <td>0.000000</td>\n",
       "    </tr>\n",
       "    <tr>\n",
       "      <th>4</th>\n",
       "      <td>0.0</td>\n",
       "      <td>6.468579e+05</td>\n",
       "      <td>0.000000e+00</td>\n",
       "      <td>0.000000</td>\n",
       "    </tr>\n",
       "    <tr>\n",
       "      <th>...</th>\n",
       "      <td>...</td>\n",
       "      <td>...</td>\n",
       "      <td>...</td>\n",
       "      <td>...</td>\n",
       "    </tr>\n",
       "    <tr>\n",
       "      <th>456</th>\n",
       "      <td>0.0</td>\n",
       "      <td>1.288098e+04</td>\n",
       "      <td>0.000000e+00</td>\n",
       "      <td>0.000000</td>\n",
       "    </tr>\n",
       "    <tr>\n",
       "      <th>457</th>\n",
       "      <td>0.0</td>\n",
       "      <td>8.803568e+02</td>\n",
       "      <td>0.000000e+00</td>\n",
       "      <td>0.000000</td>\n",
       "    </tr>\n",
       "    <tr>\n",
       "      <th>458</th>\n",
       "      <td>0.0</td>\n",
       "      <td>5.518729e+02</td>\n",
       "      <td>0.000000e+00</td>\n",
       "      <td>0.000000</td>\n",
       "    </tr>\n",
       "    <tr>\n",
       "      <th>459</th>\n",
       "      <td>0.0</td>\n",
       "      <td>7.127272e+02</td>\n",
       "      <td>0.000000e+00</td>\n",
       "      <td>0.000000</td>\n",
       "    </tr>\n",
       "    <tr>\n",
       "      <th>460</th>\n",
       "      <td>0.0</td>\n",
       "      <td>8.373475e+02</td>\n",
       "      <td>0.000000e+00</td>\n",
       "      <td>0.000000</td>\n",
       "    </tr>\n",
       "  </tbody>\n",
       "</table>\n",
       "<p>461 rows × 4 columns</p>\n",
       "</div>"
      ],
      "text/plain": [
       "     population  build_floor_area   living_area  footprint_area\n",
       "0      396956.0      4.274876e+06  4.253109e+06   759978.005897\n",
       "1           0.0      6.405045e+07  0.000000e+00        0.000000\n",
       "2           0.0      2.194551e+08  0.000000e+00        0.000000\n",
       "3           0.0      3.320482e+08  0.000000e+00        0.000000\n",
       "4           0.0      6.468579e+05  0.000000e+00        0.000000\n",
       "..          ...               ...           ...             ...\n",
       "456         0.0      1.288098e+04  0.000000e+00        0.000000\n",
       "457         0.0      8.803568e+02  0.000000e+00        0.000000\n",
       "458         0.0      5.518729e+02  0.000000e+00        0.000000\n",
       "459         0.0      7.127272e+02  0.000000e+00        0.000000\n",
       "460         0.0      8.373475e+02  0.000000e+00        0.000000\n",
       "\n",
       "[461 rows x 4 columns]"
      ]
     },
     "execution_count": 104,
     "metadata": {},
     "output_type": "execute_result"
    }
   ],
   "source": [
    "solution_area_df = facade.get_solution_area_df(best_x)\n",
    "solution_area_df"
   ]
  },
  {
   "cell_type": "code",
   "execution_count": 105,
   "id": "35bf4a38",
   "metadata": {},
   "outputs": [],
   "source": [
    "blocks_gdf.loc[capacities_df.index, capacities_df.columns] = capacities_df\n",
    "blocks_gdf.loc[blocks_gdf.is_project, 'population'] = solution_area_df.loc[blocks_gdf.is_project, 'population']"
   ]
  },
  {
   "cell_type": "code",
   "execution_count": 106,
   "id": "acb907af",
   "metadata": {},
   "outputs": [],
   "source": [
    "blocks_gdf.to_pickle('./data/blocks_f35.pickle')"
   ]
  },
  {
   "cell_type": "markdown",
   "id": "8810de6e",
   "metadata": {},
   "source": [
    "# **Ф26**: Модуль ценностно-ориентированного моделирования программ развития населенного пункта.\n",
    "\n",
    "Берем результат из пункта `2.b` и разворачиваем его на кварталы: куда что ставить:\n",
    "\n",
    "- `block_id` -- номер квартала, куда ставим.\n",
    "- `service_type` -- тип сервиса.\n",
    "- `site_area` -- занимаемая площадь квартала.\n",
    "- `build_floor_area` -- занимаемая площадь зданий.\n",
    "- `capacity` -- суммарная емкость типа застройки\n",
    "- `count` -- количество расставляемых объектов данного типа в данном квартале"
   ]
  },
  {
   "cell_type": "code",
   "execution_count": 56,
   "id": "f4bc3cc9",
   "metadata": {},
   "outputs": [
    {
     "data": {
      "application/vnd.microsoft.datawrangler.viewer.v0+json": {
       "columns": [
        {
         "name": "index",
         "rawType": "int64",
         "type": "integer"
        },
        {
         "name": "block_id",
         "rawType": "int64",
         "type": "integer"
        },
        {
         "name": "service_type",
         "rawType": "object",
         "type": "string"
        },
        {
         "name": "site_area",
         "rawType": "float64",
         "type": "float"
        },
        {
         "name": "build_floor_area",
         "rawType": "float64",
         "type": "float"
        },
        {
         "name": "capacity",
         "rawType": "int64",
         "type": "integer"
        },
        {
         "name": "count",
         "rawType": "int64",
         "type": "integer"
        }
       ],
       "ref": "5cdd42df-bc41-4ff4-bd5c-2d3aebb432b4",
       "rows": [
        [
         "0",
         "0",
         "kindergarten",
         "3520.0",
         "240.0",
         "80",
         "1"
        ],
        [
         "6",
         "0",
         "school",
         "18500.0",
         "2500.0",
         "250",
         "1"
        ],
        [
         "13",
         "0",
         "university",
         "20000.0",
         "5000.0",
         "500",
         "1"
        ],
        [
         "20",
         "0",
         "polyclinic",
         "0.0",
         "400.0",
         "50",
         "1"
        ],
        [
         "22",
         "0",
         "pharmacy",
         "0.0",
         "25.0",
         "40",
         "1"
        ],
        [
         "25",
         "0",
         "hospital",
         "3500.0",
         "660.0",
         "110",
         "1"
        ],
        [
         "26",
         "0",
         "hospital",
         "12000.0",
         "2400.0",
         "400",
         "1"
        ],
        [
         "31",
         "0",
         "library",
         "0.0",
         "207.0",
         "230",
         "1"
        ],
        [
         "35",
         "0",
         "museum",
         "0.0",
         "400.0",
         "200",
         "1"
        ],
        [
         "38",
         "0",
         "theatre",
         "2800.0",
         "2000.0",
         "800",
         "1"
        ],
        [
         "41",
         "0",
         "cinema",
         "1000.0",
         "700.0",
         "450",
         "1"
        ],
        [
         "45",
         "0",
         "mall",
         "10000.0",
         "4200.0",
         "7000",
         "1"
        ],
        [
         "48",
         "0",
         "stadium",
         "5000.0",
         "1000.0",
         "2000",
         "1"
        ],
        [
         "51",
         "0",
         "cafe",
         "100.0",
         "75.0",
         "25",
         "1"
        ],
        [
         "59",
         "0",
         "restaurant",
         "200.0",
         "135.0",
         "45",
         "1"
        ],
        [
         "67",
         "0",
         "bar",
         "60.0",
         "45.0",
         "30",
         "3"
        ],
        [
         "73",
         "0",
         "pitch",
         "150.0",
         "0.0",
         "10",
         "1"
        ],
        [
         "77",
         "0",
         "playground",
         "50.0",
         "0.0",
         "20",
         "1"
        ],
        [
         "80",
         "0",
         "police",
         "700.0",
         "240.0",
         "60",
         "1"
        ],
        [
         "87",
         "0",
         "supermarket",
         "0.0",
         "200.0",
         "200",
         "1"
        ],
        [
         "90",
         "0",
         "market",
         "3000.0",
         "6000.0",
         "3000",
         "1"
        ],
        [
         "94",
         "0",
         "bank",
         "450.0",
         "400.0",
         "250",
         "1"
        ],
        [
         "98",
         "0",
         "veterinary",
         "0.0",
         "400.0",
         "30",
         "1"
        ],
        [
         "100",
         "0",
         "veterinary",
         "0.0",
         "450.0",
         "35",
         "1"
        ],
        [
         "106",
         "0",
         "religion",
         "9100.0",
         "2000.0",
         "1300",
         "1"
        ]
       ],
       "shape": {
        "columns": 6,
        "rows": 25
       }
      },
      "text/html": [
       "<div>\n",
       "<style scoped>\n",
       "    .dataframe tbody tr th:only-of-type {\n",
       "        vertical-align: middle;\n",
       "    }\n",
       "\n",
       "    .dataframe tbody tr th {\n",
       "        vertical-align: top;\n",
       "    }\n",
       "\n",
       "    .dataframe thead th {\n",
       "        text-align: right;\n",
       "    }\n",
       "</style>\n",
       "<table border=\"1\" class=\"dataframe\">\n",
       "  <thead>\n",
       "    <tr style=\"text-align: right;\">\n",
       "      <th></th>\n",
       "      <th>block_id</th>\n",
       "      <th>service_type</th>\n",
       "      <th>site_area</th>\n",
       "      <th>build_floor_area</th>\n",
       "      <th>capacity</th>\n",
       "      <th>count</th>\n",
       "    </tr>\n",
       "  </thead>\n",
       "  <tbody>\n",
       "    <tr>\n",
       "      <th>0</th>\n",
       "      <td>0</td>\n",
       "      <td>kindergarten</td>\n",
       "      <td>3520.0</td>\n",
       "      <td>240.0</td>\n",
       "      <td>80</td>\n",
       "      <td>1</td>\n",
       "    </tr>\n",
       "    <tr>\n",
       "      <th>6</th>\n",
       "      <td>0</td>\n",
       "      <td>school</td>\n",
       "      <td>18500.0</td>\n",
       "      <td>2500.0</td>\n",
       "      <td>250</td>\n",
       "      <td>1</td>\n",
       "    </tr>\n",
       "    <tr>\n",
       "      <th>13</th>\n",
       "      <td>0</td>\n",
       "      <td>university</td>\n",
       "      <td>20000.0</td>\n",
       "      <td>5000.0</td>\n",
       "      <td>500</td>\n",
       "      <td>1</td>\n",
       "    </tr>\n",
       "    <tr>\n",
       "      <th>20</th>\n",
       "      <td>0</td>\n",
       "      <td>polyclinic</td>\n",
       "      <td>0.0</td>\n",
       "      <td>400.0</td>\n",
       "      <td>50</td>\n",
       "      <td>1</td>\n",
       "    </tr>\n",
       "    <tr>\n",
       "      <th>22</th>\n",
       "      <td>0</td>\n",
       "      <td>pharmacy</td>\n",
       "      <td>0.0</td>\n",
       "      <td>25.0</td>\n",
       "      <td>40</td>\n",
       "      <td>1</td>\n",
       "    </tr>\n",
       "    <tr>\n",
       "      <th>25</th>\n",
       "      <td>0</td>\n",
       "      <td>hospital</td>\n",
       "      <td>3500.0</td>\n",
       "      <td>660.0</td>\n",
       "      <td>110</td>\n",
       "      <td>1</td>\n",
       "    </tr>\n",
       "    <tr>\n",
       "      <th>26</th>\n",
       "      <td>0</td>\n",
       "      <td>hospital</td>\n",
       "      <td>12000.0</td>\n",
       "      <td>2400.0</td>\n",
       "      <td>400</td>\n",
       "      <td>1</td>\n",
       "    </tr>\n",
       "    <tr>\n",
       "      <th>31</th>\n",
       "      <td>0</td>\n",
       "      <td>library</td>\n",
       "      <td>0.0</td>\n",
       "      <td>207.0</td>\n",
       "      <td>230</td>\n",
       "      <td>1</td>\n",
       "    </tr>\n",
       "    <tr>\n",
       "      <th>35</th>\n",
       "      <td>0</td>\n",
       "      <td>museum</td>\n",
       "      <td>0.0</td>\n",
       "      <td>400.0</td>\n",
       "      <td>200</td>\n",
       "      <td>1</td>\n",
       "    </tr>\n",
       "    <tr>\n",
       "      <th>38</th>\n",
       "      <td>0</td>\n",
       "      <td>theatre</td>\n",
       "      <td>2800.0</td>\n",
       "      <td>2000.0</td>\n",
       "      <td>800</td>\n",
       "      <td>1</td>\n",
       "    </tr>\n",
       "    <tr>\n",
       "      <th>41</th>\n",
       "      <td>0</td>\n",
       "      <td>cinema</td>\n",
       "      <td>1000.0</td>\n",
       "      <td>700.0</td>\n",
       "      <td>450</td>\n",
       "      <td>1</td>\n",
       "    </tr>\n",
       "    <tr>\n",
       "      <th>45</th>\n",
       "      <td>0</td>\n",
       "      <td>mall</td>\n",
       "      <td>10000.0</td>\n",
       "      <td>4200.0</td>\n",
       "      <td>7000</td>\n",
       "      <td>1</td>\n",
       "    </tr>\n",
       "    <tr>\n",
       "      <th>48</th>\n",
       "      <td>0</td>\n",
       "      <td>stadium</td>\n",
       "      <td>5000.0</td>\n",
       "      <td>1000.0</td>\n",
       "      <td>2000</td>\n",
       "      <td>1</td>\n",
       "    </tr>\n",
       "    <tr>\n",
       "      <th>51</th>\n",
       "      <td>0</td>\n",
       "      <td>cafe</td>\n",
       "      <td>100.0</td>\n",
       "      <td>75.0</td>\n",
       "      <td>25</td>\n",
       "      <td>1</td>\n",
       "    </tr>\n",
       "    <tr>\n",
       "      <th>59</th>\n",
       "      <td>0</td>\n",
       "      <td>restaurant</td>\n",
       "      <td>200.0</td>\n",
       "      <td>135.0</td>\n",
       "      <td>45</td>\n",
       "      <td>1</td>\n",
       "    </tr>\n",
       "    <tr>\n",
       "      <th>67</th>\n",
       "      <td>0</td>\n",
       "      <td>bar</td>\n",
       "      <td>60.0</td>\n",
       "      <td>45.0</td>\n",
       "      <td>30</td>\n",
       "      <td>3</td>\n",
       "    </tr>\n",
       "    <tr>\n",
       "      <th>73</th>\n",
       "      <td>0</td>\n",
       "      <td>pitch</td>\n",
       "      <td>150.0</td>\n",
       "      <td>0.0</td>\n",
       "      <td>10</td>\n",
       "      <td>1</td>\n",
       "    </tr>\n",
       "    <tr>\n",
       "      <th>77</th>\n",
       "      <td>0</td>\n",
       "      <td>playground</td>\n",
       "      <td>50.0</td>\n",
       "      <td>0.0</td>\n",
       "      <td>20</td>\n",
       "      <td>1</td>\n",
       "    </tr>\n",
       "    <tr>\n",
       "      <th>80</th>\n",
       "      <td>0</td>\n",
       "      <td>police</td>\n",
       "      <td>700.0</td>\n",
       "      <td>240.0</td>\n",
       "      <td>60</td>\n",
       "      <td>1</td>\n",
       "    </tr>\n",
       "    <tr>\n",
       "      <th>87</th>\n",
       "      <td>0</td>\n",
       "      <td>supermarket</td>\n",
       "      <td>0.0</td>\n",
       "      <td>200.0</td>\n",
       "      <td>200</td>\n",
       "      <td>1</td>\n",
       "    </tr>\n",
       "    <tr>\n",
       "      <th>90</th>\n",
       "      <td>0</td>\n",
       "      <td>market</td>\n",
       "      <td>3000.0</td>\n",
       "      <td>6000.0</td>\n",
       "      <td>3000</td>\n",
       "      <td>1</td>\n",
       "    </tr>\n",
       "    <tr>\n",
       "      <th>94</th>\n",
       "      <td>0</td>\n",
       "      <td>bank</td>\n",
       "      <td>450.0</td>\n",
       "      <td>400.0</td>\n",
       "      <td>250</td>\n",
       "      <td>1</td>\n",
       "    </tr>\n",
       "    <tr>\n",
       "      <th>98</th>\n",
       "      <td>0</td>\n",
       "      <td>veterinary</td>\n",
       "      <td>0.0</td>\n",
       "      <td>400.0</td>\n",
       "      <td>30</td>\n",
       "      <td>1</td>\n",
       "    </tr>\n",
       "    <tr>\n",
       "      <th>100</th>\n",
       "      <td>0</td>\n",
       "      <td>veterinary</td>\n",
       "      <td>0.0</td>\n",
       "      <td>450.0</td>\n",
       "      <td>35</td>\n",
       "      <td>1</td>\n",
       "    </tr>\n",
       "    <tr>\n",
       "      <th>106</th>\n",
       "      <td>0</td>\n",
       "      <td>religion</td>\n",
       "      <td>9100.0</td>\n",
       "      <td>2000.0</td>\n",
       "      <td>1300</td>\n",
       "      <td>1</td>\n",
       "    </tr>\n",
       "  </tbody>\n",
       "</table>\n",
       "</div>"
      ],
      "text/plain": [
       "     block_id  service_type  site_area  build_floor_area  capacity  count\n",
       "0           0  kindergarten     3520.0             240.0        80      1\n",
       "6           0        school    18500.0            2500.0       250      1\n",
       "13          0    university    20000.0            5000.0       500      1\n",
       "20          0    polyclinic        0.0             400.0        50      1\n",
       "22          0      pharmacy        0.0              25.0        40      1\n",
       "25          0      hospital     3500.0             660.0       110      1\n",
       "26          0      hospital    12000.0            2400.0       400      1\n",
       "31          0       library        0.0             207.0       230      1\n",
       "35          0        museum        0.0             400.0       200      1\n",
       "38          0       theatre     2800.0            2000.0       800      1\n",
       "41          0        cinema     1000.0             700.0       450      1\n",
       "45          0          mall    10000.0            4200.0      7000      1\n",
       "48          0       stadium     5000.0            1000.0      2000      1\n",
       "51          0          cafe      100.0              75.0        25      1\n",
       "59          0    restaurant      200.0             135.0        45      1\n",
       "67          0           bar       60.0              45.0        30      3\n",
       "73          0         pitch      150.0               0.0        10      1\n",
       "77          0    playground       50.0               0.0        20      1\n",
       "80          0        police      700.0             240.0        60      1\n",
       "87          0   supermarket        0.0             200.0       200      1\n",
       "90          0        market     3000.0            6000.0      3000      1\n",
       "94          0          bank      450.0             400.0       250      1\n",
       "98          0    veterinary        0.0             400.0        30      1\n",
       "100         0    veterinary        0.0             450.0        35      1\n",
       "106         0      religion     9100.0            2000.0      1300      1"
      ]
     },
     "execution_count": 56,
     "metadata": {},
     "output_type": "execute_result"
    }
   ],
   "source": [
    "solution_df = facade.solution_to_services_df(best_x)\n",
    "solution_df"
   ]
  },
  {
   "cell_type": "markdown",
   "id": "31b33c61",
   "metadata": {},
   "source": [
    "Отсюда нужно взять `population` для каждого квартала (`index` здесь это тот же индекс из `blocks : pd.DataFrame`)"
   ]
  },
  {
   "cell_type": "code",
   "execution_count": 57,
   "id": "43c52558",
   "metadata": {},
   "outputs": [
    {
     "data": {
      "application/vnd.microsoft.datawrangler.viewer.v0+json": {
       "columns": [
        {
         "name": "index",
         "rawType": "int64",
         "type": "integer"
        },
        {
         "name": "population",
         "rawType": "float64",
         "type": "float"
        },
        {
         "name": "build_floor_area",
         "rawType": "float64",
         "type": "float"
        },
        {
         "name": "living_area",
         "rawType": "float64",
         "type": "float"
        },
        {
         "name": "footprint_area",
         "rawType": "float64",
         "type": "float"
        }
       ],
       "ref": "62e07e6d-91a4-4bab-bbab-f2f1e03513e4",
       "rows": [
        [
         "0",
         "396210.0",
         "4274876.283167821",
         "4245109.283167821",
         "759978.0058965017"
        ],
        [
         "1",
         "0.0",
         "64050446.43328446",
         "0.0",
         "0.0"
        ],
        [
         "2",
         "0.0",
         "219455131.95543593",
         "0.0",
         "0.0"
        ],
        [
         "3",
         "0.0",
         "332048237.58749604",
         "0.0",
         "0.0"
        ],
        [
         "4",
         "0.0",
         "646857.9034788721",
         "0.0",
         "0.0"
        ],
        [
         "5",
         "0.0",
         "109747118.76909621",
         "0.0",
         "0.0"
        ],
        [
         "6",
         "0.0",
         "254860.49513239038",
         "0.0",
         "0.0"
        ],
        [
         "7",
         "0.0",
         "1706034.3237213732",
         "0.0",
         "0.0"
        ],
        [
         "8",
         "0.0",
         "86460.84095548661",
         "0.0",
         "0.0"
        ],
        [
         "9",
         "0.0",
         "1509068.6058499422",
         "0.0",
         "0.0"
        ],
        [
         "10",
         "0.0",
         "714236.6096692993",
         "0.0",
         "0.0"
        ],
        [
         "11",
         "0.0",
         "460639.02057329076",
         "0.0",
         "0.0"
        ],
        [
         "12",
         "0.0",
         "135931.1814211931",
         "0.0",
         "0.0"
        ],
        [
         "13",
         "0.0",
         "3726513.9797575423",
         "0.0",
         "0.0"
        ],
        [
         "14",
         "0.0",
         "692385.1295858817",
         "0.0",
         "0.0"
        ],
        [
         "15",
         "0.0",
         "4404.803300382253",
         "0.0",
         "0.0"
        ],
        [
         "16",
         "0.0",
         "3132.537571566732",
         "0.0",
         "0.0"
        ],
        [
         "17",
         "0.0",
         "38485.51055089498",
         "0.0",
         "0.0"
        ],
        [
         "18",
         "0.0",
         "35792.60288792953",
         "0.0",
         "0.0"
        ],
        [
         "19",
         "0.0",
         "2181184.511509707",
         "0.0",
         "0.0"
        ],
        [
         "20",
         "0.0",
         "336934.3663313018",
         "0.0",
         "0.0"
        ],
        [
         "21",
         "0.0",
         "388823.1253823811",
         "0.0",
         "0.0"
        ],
        [
         "22",
         "0.0",
         "3828.2354081255735",
         "0.0",
         "0.0"
        ],
        [
         "23",
         "0.0",
         "13066948.921397759",
         "0.0",
         "0.0"
        ],
        [
         "24",
         "0.0",
         "87954.57631972407",
         "0.0",
         "0.0"
        ],
        [
         "25",
         "0.0",
         "660120.4991625671",
         "0.0",
         "0.0"
        ],
        [
         "26",
         "0.0",
         "181796.25710216735",
         "0.0",
         "0.0"
        ],
        [
         "27",
         "0.0",
         "632.0848457765383",
         "0.0",
         "0.0"
        ],
        [
         "28",
         "0.0",
         "60524705.56298325",
         "0.0",
         "0.0"
        ],
        [
         "29",
         "0.0",
         "3385.9241985398976",
         "0.0",
         "0.0"
        ],
        [
         "30",
         "0.0",
         "6742.670855213316",
         "0.0",
         "0.0"
        ],
        [
         "31",
         "0.0",
         "2810.8309636477657",
         "0.0",
         "0.0"
        ],
        [
         "32",
         "0.0",
         "6932.976741890282",
         "0.0",
         "0.0"
        ],
        [
         "33",
         "0.0",
         "185605.20704319509",
         "0.0",
         "0.0"
        ],
        [
         "34",
         "0.0",
         "15719447.443479296",
         "0.0",
         "0.0"
        ],
        [
         "35",
         "0.0",
         "61338318.252803385",
         "0.0",
         "0.0"
        ],
        [
         "36",
         "0.0",
         "282.8162635746002",
         "0.0",
         "0.0"
        ],
        [
         "37",
         "0.0",
         "541.3986670988893",
         "0.0",
         "0.0"
        ],
        [
         "38",
         "0.0",
         "12903687.725663256",
         "0.0",
         "0.0"
        ],
        [
         "39",
         "0.0",
         "162374.05276535093",
         "0.0",
         "0.0"
        ],
        [
         "40",
         "0.0",
         "8117.736932170425",
         "0.0",
         "0.0"
        ],
        [
         "41",
         "0.0",
         "43586.87392074373",
         "0.0",
         "0.0"
        ],
        [
         "42",
         "0.0",
         "236481.7964823485",
         "0.0",
         "0.0"
        ],
        [
         "43",
         "0.0",
         "818848.7838219695",
         "0.0",
         "0.0"
        ],
        [
         "44",
         "0.0",
         "1066.3292660322916",
         "0.0",
         "0.0"
        ],
        [
         "45",
         "0.0",
         "388092.2445266413",
         "0.0",
         "0.0"
        ],
        [
         "46",
         "0.0",
         "979.4314139657298",
         "0.0",
         "0.0"
        ],
        [
         "47",
         "0.0",
         "1078.8520318916742",
         "0.0",
         "0.0"
        ],
        [
         "48",
         "0.0",
         "898.4626649019392",
         "0.0",
         "0.0"
        ],
        [
         "49",
         "0.0",
         "1688827.0539399267",
         "0.0",
         "0.0"
        ]
       ],
       "shape": {
        "columns": 4,
        "rows": 461
       }
      },
      "text/html": [
       "<div>\n",
       "<style scoped>\n",
       "    .dataframe tbody tr th:only-of-type {\n",
       "        vertical-align: middle;\n",
       "    }\n",
       "\n",
       "    .dataframe tbody tr th {\n",
       "        vertical-align: top;\n",
       "    }\n",
       "\n",
       "    .dataframe thead th {\n",
       "        text-align: right;\n",
       "    }\n",
       "</style>\n",
       "<table border=\"1\" class=\"dataframe\">\n",
       "  <thead>\n",
       "    <tr style=\"text-align: right;\">\n",
       "      <th></th>\n",
       "      <th>population</th>\n",
       "      <th>build_floor_area</th>\n",
       "      <th>living_area</th>\n",
       "      <th>footprint_area</th>\n",
       "    </tr>\n",
       "  </thead>\n",
       "  <tbody>\n",
       "    <tr>\n",
       "      <th>0</th>\n",
       "      <td>396210.0</td>\n",
       "      <td>4.274876e+06</td>\n",
       "      <td>4.245109e+06</td>\n",
       "      <td>759978.005897</td>\n",
       "    </tr>\n",
       "    <tr>\n",
       "      <th>1</th>\n",
       "      <td>0.0</td>\n",
       "      <td>6.405045e+07</td>\n",
       "      <td>0.000000e+00</td>\n",
       "      <td>0.000000</td>\n",
       "    </tr>\n",
       "    <tr>\n",
       "      <th>2</th>\n",
       "      <td>0.0</td>\n",
       "      <td>2.194551e+08</td>\n",
       "      <td>0.000000e+00</td>\n",
       "      <td>0.000000</td>\n",
       "    </tr>\n",
       "    <tr>\n",
       "      <th>3</th>\n",
       "      <td>0.0</td>\n",
       "      <td>3.320482e+08</td>\n",
       "      <td>0.000000e+00</td>\n",
       "      <td>0.000000</td>\n",
       "    </tr>\n",
       "    <tr>\n",
       "      <th>4</th>\n",
       "      <td>0.0</td>\n",
       "      <td>6.468579e+05</td>\n",
       "      <td>0.000000e+00</td>\n",
       "      <td>0.000000</td>\n",
       "    </tr>\n",
       "    <tr>\n",
       "      <th>...</th>\n",
       "      <td>...</td>\n",
       "      <td>...</td>\n",
       "      <td>...</td>\n",
       "      <td>...</td>\n",
       "    </tr>\n",
       "    <tr>\n",
       "      <th>456</th>\n",
       "      <td>0.0</td>\n",
       "      <td>1.288098e+04</td>\n",
       "      <td>0.000000e+00</td>\n",
       "      <td>0.000000</td>\n",
       "    </tr>\n",
       "    <tr>\n",
       "      <th>457</th>\n",
       "      <td>0.0</td>\n",
       "      <td>8.803568e+02</td>\n",
       "      <td>0.000000e+00</td>\n",
       "      <td>0.000000</td>\n",
       "    </tr>\n",
       "    <tr>\n",
       "      <th>458</th>\n",
       "      <td>0.0</td>\n",
       "      <td>5.518729e+02</td>\n",
       "      <td>0.000000e+00</td>\n",
       "      <td>0.000000</td>\n",
       "    </tr>\n",
       "    <tr>\n",
       "      <th>459</th>\n",
       "      <td>0.0</td>\n",
       "      <td>7.127272e+02</td>\n",
       "      <td>0.000000e+00</td>\n",
       "      <td>0.000000</td>\n",
       "    </tr>\n",
       "    <tr>\n",
       "      <th>460</th>\n",
       "      <td>0.0</td>\n",
       "      <td>8.373475e+02</td>\n",
       "      <td>0.000000e+00</td>\n",
       "      <td>0.000000</td>\n",
       "    </tr>\n",
       "  </tbody>\n",
       "</table>\n",
       "<p>461 rows × 4 columns</p>\n",
       "</div>"
      ],
      "text/plain": [
       "     population  build_floor_area   living_area  footprint_area\n",
       "0      396210.0      4.274876e+06  4.245109e+06   759978.005897\n",
       "1           0.0      6.405045e+07  0.000000e+00        0.000000\n",
       "2           0.0      2.194551e+08  0.000000e+00        0.000000\n",
       "3           0.0      3.320482e+08  0.000000e+00        0.000000\n",
       "4           0.0      6.468579e+05  0.000000e+00        0.000000\n",
       "..          ...               ...           ...             ...\n",
       "456         0.0      1.288098e+04  0.000000e+00        0.000000\n",
       "457         0.0      8.803568e+02  0.000000e+00        0.000000\n",
       "458         0.0      5.518729e+02  0.000000e+00        0.000000\n",
       "459         0.0      7.127272e+02  0.000000e+00        0.000000\n",
       "460         0.0      8.373475e+02  0.000000e+00        0.000000\n",
       "\n",
       "[461 rows x 4 columns]"
      ]
     },
     "execution_count": 57,
     "metadata": {},
     "output_type": "execute_result"
    }
   ],
   "source": [
    "solution_population_df = facade.get_solution_area_df(best_x)\n",
    "solution_population_df"
   ]
  }
 ],
 "metadata": {
  "kernelspec": {
   "display_name": ".venv",
   "language": "python",
   "name": "python3"
  },
  "language_info": {
   "codemirror_mode": {
    "name": "ipython",
    "version": 3
   },
   "file_extension": ".py",
   "mimetype": "text/x-python",
   "name": "python",
   "nbconvert_exporter": "python",
   "pygments_lexer": "ipython3",
   "version": "3.10.12"
  }
 },
 "nbformat": 4,
 "nbformat_minor": 5
}
