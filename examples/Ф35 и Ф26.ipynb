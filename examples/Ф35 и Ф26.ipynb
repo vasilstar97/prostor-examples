{
 "cells": [
  {
   "cell_type": "markdown",
   "id": "da933d70",
   "metadata": {},
   "source": [
    "# **Ф35**: Модуль прогнозирования эффектов трансформации территории в масштабах населенного пункта и региона"
   ]
  },
  {
   "cell_type": "markdown",
   "id": "917271ae",
   "metadata": {},
   "source": [
    "## 1. Подготовка исходных данных\n",
    "\n",
    "- `service_types` -- таблица типов сервисов.\n",
    "- `blocks` -- слой городских кварталов с разной информацией.\n",
    "- `acc_mx` -- матрица доступности городских кварталов."
   ]
  },
  {
   "cell_type": "code",
   "execution_count": 1,
   "id": "d9871314",
   "metadata": {},
   "outputs": [],
   "source": [
    "import pandas as pd\n",
    "import geopandas as gpd\n",
    "from blocksnet.config import log_config\n",
    "\n",
    "log_config.set_disable_tqdm(True)\n",
    "log_config.set_logger_level('ERROR')\n",
    "\n",
    "service_types = pd.read_pickle('./data/service_types.pickle')\n",
    "blocks = pd.read_pickle('./data/blocks.pickle')\n",
    "acc_mx = pd.read_pickle('./data/acc_mx.pickle')"
   ]
  },
  {
   "cell_type": "code",
   "execution_count": 2,
   "id": "93b8bb15",
   "metadata": {},
   "outputs": [],
   "source": [
    "blocks['population'] = blocks['population'].fillna(0)"
   ]
  },
  {
   "cell_type": "markdown",
   "id": "09a65280",
   "metadata": {},
   "source": [
    "### 1.1. Подготовка списка сервисов\n",
    "\n",
    "Нужны только те списки сервисов, у которых есть `infrastructure_type`"
   ]
  },
  {
   "cell_type": "code",
   "execution_count": 3,
   "id": "3b0ab616",
   "metadata": {},
   "outputs": [
    {
     "data": {
      "application/vnd.microsoft.datawrangler.viewer.v0+json": {
       "columns": [
        {
         "name": "service_type_id",
         "rawType": "int64",
         "type": "integer"
        },
        {
         "name": "name",
         "rawType": "object",
         "type": "string"
        },
        {
         "name": "infrastructure_type",
         "rawType": "object",
         "type": "string"
        },
        {
         "name": "infrastructure_weight",
         "rawType": "float64",
         "type": "float"
        },
        {
         "name": "social_values",
         "rawType": "object",
         "type": "unknown"
        }
       ],
       "ref": "60ce2324-a085-4a2c-bbe1-2cebc3d44db0",
       "rows": [
        [
         "1",
         "park",
         "basic",
         "0.2",
         "[8]"
        ],
        [
         "5",
         "beach",
         "comfort",
         "0.5",
         null
        ],
        [
         "21",
         "kindergarten",
         "basic",
         "0.2",
         "[2]"
        ],
        [
         "22",
         "school",
         "basic",
         "0.2",
         "[2, 4]"
        ],
        [
         "27",
         "university",
         "comfort",
         "0.2",
         "[4, 10, 17]"
        ]
       ],
       "shape": {
        "columns": 4,
        "rows": 5
       }
      },
      "text/html": [
       "<div>\n",
       "<style scoped>\n",
       "    .dataframe tbody tr th:only-of-type {\n",
       "        vertical-align: middle;\n",
       "    }\n",
       "\n",
       "    .dataframe tbody tr th {\n",
       "        vertical-align: top;\n",
       "    }\n",
       "\n",
       "    .dataframe thead th {\n",
       "        text-align: right;\n",
       "    }\n",
       "</style>\n",
       "<table border=\"1\" class=\"dataframe\">\n",
       "  <thead>\n",
       "    <tr style=\"text-align: right;\">\n",
       "      <th></th>\n",
       "      <th>name</th>\n",
       "      <th>infrastructure_type</th>\n",
       "      <th>infrastructure_weight</th>\n",
       "      <th>social_values</th>\n",
       "    </tr>\n",
       "    <tr>\n",
       "      <th>service_type_id</th>\n",
       "      <th></th>\n",
       "      <th></th>\n",
       "      <th></th>\n",
       "      <th></th>\n",
       "    </tr>\n",
       "  </thead>\n",
       "  <tbody>\n",
       "    <tr>\n",
       "      <th>1</th>\n",
       "      <td>park</td>\n",
       "      <td>basic</td>\n",
       "      <td>0.2</td>\n",
       "      <td>[8]</td>\n",
       "    </tr>\n",
       "    <tr>\n",
       "      <th>5</th>\n",
       "      <td>beach</td>\n",
       "      <td>comfort</td>\n",
       "      <td>0.5</td>\n",
       "      <td>None</td>\n",
       "    </tr>\n",
       "    <tr>\n",
       "      <th>21</th>\n",
       "      <td>kindergarten</td>\n",
       "      <td>basic</td>\n",
       "      <td>0.2</td>\n",
       "      <td>[2]</td>\n",
       "    </tr>\n",
       "    <tr>\n",
       "      <th>22</th>\n",
       "      <td>school</td>\n",
       "      <td>basic</td>\n",
       "      <td>0.2</td>\n",
       "      <td>[2, 4]</td>\n",
       "    </tr>\n",
       "    <tr>\n",
       "      <th>27</th>\n",
       "      <td>university</td>\n",
       "      <td>comfort</td>\n",
       "      <td>0.2</td>\n",
       "      <td>[4, 10, 17]</td>\n",
       "    </tr>\n",
       "  </tbody>\n",
       "</table>\n",
       "</div>"
      ],
      "text/plain": [
       "                         name infrastructure_type  infrastructure_weight  \\\n",
       "service_type_id                                                            \n",
       "1                        park               basic                    0.2   \n",
       "5                       beach             comfort                    0.5   \n",
       "21               kindergarten               basic                    0.2   \n",
       "22                     school               basic                    0.2   \n",
       "27                 university             comfort                    0.2   \n",
       "\n",
       "                social_values  \n",
       "service_type_id                \n",
       "1                         [8]  \n",
       "5                        None  \n",
       "21                        [2]  \n",
       "22                     [2, 4]  \n",
       "27                [4, 10, 17]  "
      ]
     },
     "execution_count": 3,
     "metadata": {},
     "output_type": "execute_result"
    }
   ],
   "source": [
    "service_types = service_types[~service_types['infrastructure_type'].isna()].copy()\n",
    "service_types.head()"
   ]
  },
  {
   "cell_type": "markdown",
   "id": "d6f2eb94",
   "metadata": {},
   "source": [
    "## 2A. Эффекты ДО\n",
    "\n",
    "Если `scenario_id` является `base_scenario`, то мы не обязаны ничего оптимизировать и просто должны посчитать обеспеченность as is."
   ]
  },
  {
   "cell_type": "code",
   "execution_count": 4,
   "id": "4ab967cd",
   "metadata": {},
   "outputs": [],
   "source": [
    "from blocksnet.relations.accessibility import get_accessibility_context\n",
    "\n",
    "def _get_accessibility_context(blocks : pd.DataFrame, acc_mx : pd.DataFrame, accessibility : float) -> list[int]:\n",
    "  project_blocks = blocks[blocks['is_project']].copy()\n",
    "  context_blocks = get_accessibility_context(acc_mx, project_blocks, accessibility, out=False, keep=True)\n",
    "  return list(context_blocks.index)"
   ]
  },
  {
   "cell_type": "code",
   "execution_count": 5,
   "id": "26245b84",
   "metadata": {},
   "outputs": [],
   "source": [
    "from blocksnet.analysis.provision import competitive_provision\n",
    "from blocksnet.config import service_types_config\n",
    "\n",
    "def _assess_provision(blocks : pd.DataFrame, acc_mx : pd.DataFrame, service_type : str) -> gpd.GeoDataFrame:\n",
    "  _, demand, accessibility = service_types_config[service_type].values()\n",
    "  context_ids = _get_accessibility_context(blocks, acc_mx, accessibility)\n",
    "  capacity_column = f'capacity_{service_type}'\n",
    "  if capacity_column not in blocks.columns:\n",
    "    blocks_df = blocks[['geometry','population']].fillna(0)\n",
    "    blocks_df['capacity'] = 0\n",
    "  else:\n",
    "    blocks_df = blocks.rename(columns={capacity_column:'capacity'})[['geometry', 'population', 'capacity']].fillna(0)\n",
    "  prov_df, _ = competitive_provision(blocks_df, acc_mx, accessibility, demand)\n",
    "  prov_df = prov_df.loc[context_ids].copy()\n",
    "  return blocks[['geometry']].join(prov_df, how='right')"
   ]
  },
  {
   "cell_type": "markdown",
   "id": "70aab4b6",
   "metadata": {},
   "source": [
    "### Получаем слои с оценкой обеспеченности"
   ]
  },
  {
   "cell_type": "code",
   "execution_count": 6,
   "id": "ff29d74e",
   "metadata": {},
   "outputs": [],
   "source": [
    "from blocksnet.config import service_types_config\n",
    "\n",
    "prov_gdfs = {}\n",
    "for st_id in service_types.index:\n",
    "    st_name = service_types.loc[st_id,'name']\n",
    "    column = f'capacity_{st_name}'\n",
    "    _,demand,accessibility = service_types_config[st_name].values()\n",
    "    prov_gdf = _assess_provision(blocks, acc_mx, st_name)\n",
    "    prov_gdfs[st_name] = prov_gdf"
   ]
  },
  {
   "cell_type": "markdown",
   "id": "fe1ce07d",
   "metadata": {},
   "source": [
    "Например:"
   ]
  },
  {
   "cell_type": "code",
   "execution_count": 7,
   "id": "63c3ccf0",
   "metadata": {},
   "outputs": [
    {
     "data": {
      "image/png": "[encoded data removed]",
      "text/plain": [
       "<Figure size 640x480 with 2 Axes>"
      ]
     },
     "metadata": {},
     "output_type": "display_data"
    }
   ],
   "source": [
    "ax = prov_gdfs['school'].plot(color='#ddd')\n",
    "prov_gdfs['school'].plot('provision_strong', ax=ax, vmin=0, vmax=1, cmap='RdYlGn', legend=True).set_axis_off()"
   ]
  },
  {
   "cell_type": "markdown",
   "id": "980df468",
   "metadata": {},
   "source": [
    "### Получаем общие оценки обеспеченности"
   ]
  },
  {
   "cell_type": "code",
   "execution_count": 19,
   "id": "458f1b18",
   "metadata": {},
   "outputs": [],
   "source": [
    "from blocksnet.analysis.provision import provision_strong_total\n",
    "\n",
    "prov_totals_before = {}\n",
    "for st_name, prov_gdf in prov_gdfs.items():\n",
    "    if prov_gdf.demand.sum() == 0:\n",
    "        total = None\n",
    "    else:\n",
    "        total = float(provision_strong_total(prov_gdf))\n",
    "    prov_totals_before[st_name] = total"
   ]
  },
  {
   "cell_type": "markdown",
   "id": "0f925bf2",
   "metadata": {},
   "source": [
    "В итоге:"
   ]
  },
  {
   "cell_type": "code",
   "execution_count": 20,
   "id": "ab1bc884",
   "metadata": {},
   "outputs": [
    {
     "data": {
      "text/plain": [
       "{'park': 1.0,\n",
       " 'beach': 0.0,\n",
       " 'kindergarten': 0.0,\n",
       " 'school': 0.674074074074074,\n",
       " 'university': 0.0,\n",
       " 'polyclinic': 0.0,\n",
       " 'pharmacy': 1.0,\n",
       " 'hospital': 0.5707547169811321,\n",
       " 'library': 1.0,\n",
       " 'museum': 0.9856115107913669,\n",
       " 'theatre': 0.0,\n",
       " 'cinema': 0.0,\n",
       " 'mall': 0.8875,\n",
       " 'stadium': 0.19327731092436976,\n",
       " 'cafe': 1.0,\n",
       " 'restaurant': 0.6990838618745595,\n",
       " 'bar': 0.4642857142857143,\n",
       " 'pitch': 1.0,\n",
       " 'playground': None,\n",
       " 'police': 0.4,\n",
       " 'train_station': 0.3865546218487395,\n",
       " 'supermarket': 0.9897209985315712,\n",
       " 'market': 0.6977599465061852,\n",
       " 'bank': 1.0,\n",
       " 'veterinary': 0.711864406779661,\n",
       " 'hotel': 1.0,\n",
       " 'religion': 0.6984924623115578,\n",
       " 'sanatorium': 0.0}"
      ]
     },
     "execution_count": 20,
     "metadata": {},
     "output_type": "execute_result"
    }
   ],
   "source": [
    "prov_totals_before"
   ]
  },
  {
   "cell_type": "markdown",
   "id": "8a27051e",
   "metadata": {},
   "source": [
    "### Результат\n",
    "\n",
    "В результате имеем следующие данные для ситуации ДО:\n",
    "- `prov_gdfs : dict[str, gpd.GeoDataFrame]` -- слои с оценкой обеспеченности по выбранным типам сервисов\n",
    "- `prov_totals : dict[str, float | None]` -- оценки обеспеченности"
   ]
  },
  {
   "cell_type": "markdown",
   "id": "596776b8",
   "metadata": {},
   "source": [
    "## 2B. Эффекты ПОСЛЕ\n",
    "\n",
    "Если `scenario_id` не является `base_scenario`, то для заданного пользователем функционального зонирования мы должны предсказать возможную обеспеченность (по сути, лучший случай)."
   ]
  },
  {
   "cell_type": "markdown",
   "id": "7d85e9f8",
   "metadata": {},
   "source": [
    "### Подготовка данных"
   ]
  },
  {
   "cell_type": "markdown",
   "id": "eeab0004",
   "metadata": {},
   "source": [
    "Для каждого `infrastructure_type` также добавим весовой коэффициент, чтобы отдать предпочтение базовым сервисам, а остальные добавлять по возможности."
   ]
  },
  {
   "cell_type": "code",
   "execution_count": 21,
   "id": "d0b45506",
   "metadata": {},
   "outputs": [
    {
     "data": {
      "application/vnd.microsoft.datawrangler.viewer.v0+json": {
       "columns": [
        {
         "name": "service_type_id",
         "rawType": "int64",
         "type": "integer"
        },
        {
         "name": "name",
         "rawType": "object",
         "type": "string"
        },
        {
         "name": "infrastructure_type",
         "rawType": "object",
         "type": "string"
        },
        {
         "name": "infrastructure_weight",
         "rawType": "float64",
         "type": "float"
        },
        {
         "name": "social_values",
         "rawType": "object",
         "type": "unknown"
        }
       ],
       "ref": "1ea377cf-4150-4f70-aa09-9e17e787589c",
       "rows": [
        [
         "1",
         "park",
         "basic",
         "0.065299592",
         "[8]"
        ],
        [
         "5",
         "beach",
         "comfort",
         "0.010210205",
         null
        ],
        [
         "21",
         "kindergarten",
         "basic",
         "0.065299592",
         "[2]"
        ],
        [
         "22",
         "school",
         "basic",
         "0.065299592",
         "[2, 4]"
        ],
        [
         "27",
         "university",
         "comfort",
         "0.004084082",
         "[4, 10, 17]"
        ]
       ],
       "shape": {
        "columns": 4,
        "rows": 5
       }
      },
      "text/html": [
       "<div>\n",
       "<style scoped>\n",
       "    .dataframe tbody tr th:only-of-type {\n",
       "        vertical-align: middle;\n",
       "    }\n",
       "\n",
       "    .dataframe tbody tr th {\n",
       "        vertical-align: top;\n",
       "    }\n",
       "\n",
       "    .dataframe thead th {\n",
       "        text-align: right;\n",
       "    }\n",
       "</style>\n",
       "<table border=\"1\" class=\"dataframe\">\n",
       "  <thead>\n",
       "    <tr style=\"text-align: right;\">\n",
       "      <th></th>\n",
       "      <th>name</th>\n",
       "      <th>infrastructure_type</th>\n",
       "      <th>infrastructure_weight</th>\n",
       "      <th>social_values</th>\n",
       "    </tr>\n",
       "    <tr>\n",
       "      <th>service_type_id</th>\n",
       "      <th></th>\n",
       "      <th></th>\n",
       "      <th></th>\n",
       "      <th></th>\n",
       "    </tr>\n",
       "  </thead>\n",
       "  <tbody>\n",
       "    <tr>\n",
       "      <th>1</th>\n",
       "      <td>park</td>\n",
       "      <td>basic</td>\n",
       "      <td>0.065300</td>\n",
       "      <td>[8]</td>\n",
       "    </tr>\n",
       "    <tr>\n",
       "      <th>5</th>\n",
       "      <td>beach</td>\n",
       "      <td>comfort</td>\n",
       "      <td>0.010210</td>\n",
       "      <td>None</td>\n",
       "    </tr>\n",
       "    <tr>\n",
       "      <th>21</th>\n",
       "      <td>kindergarten</td>\n",
       "      <td>basic</td>\n",
       "      <td>0.065300</td>\n",
       "      <td>[2]</td>\n",
       "    </tr>\n",
       "    <tr>\n",
       "      <th>22</th>\n",
       "      <td>school</td>\n",
       "      <td>basic</td>\n",
       "      <td>0.065300</td>\n",
       "      <td>[2, 4]</td>\n",
       "    </tr>\n",
       "    <tr>\n",
       "      <th>27</th>\n",
       "      <td>university</td>\n",
       "      <td>comfort</td>\n",
       "      <td>0.004084</td>\n",
       "      <td>[4, 10, 17]</td>\n",
       "    </tr>\n",
       "  </tbody>\n",
       "</table>\n",
       "</div>"
      ],
      "text/plain": [
       "                         name infrastructure_type  infrastructure_weight  \\\n",
       "service_type_id                                                            \n",
       "1                        park               basic               0.065300   \n",
       "5                       beach             comfort               0.010210   \n",
       "21               kindergarten               basic               0.065300   \n",
       "22                     school               basic               0.065300   \n",
       "27                 university             comfort               0.004084   \n",
       "\n",
       "                social_values  \n",
       "service_type_id                \n",
       "1                         [8]  \n",
       "5                        None  \n",
       "21                        [2]  \n",
       "22                     [2, 4]  \n",
       "27                [4, 10, 17]  "
      ]
     },
     "execution_count": 21,
     "metadata": {},
     "output_type": "execute_result"
    }
   ],
   "source": [
    "INFRASTRUCTURES_WEIGHTS = {\n",
    "    'basic': 0.5714,\n",
    "    'additional': 0.2857,\n",
    "    'comfort': 0.1429\n",
    "}\n",
    "\n",
    "service_types['infrastructure_weight'] = service_types['infrastructure_type'].map(INFRASTRUCTURES_WEIGHTS) * service_types['infrastructure_weight']\n",
    "service_types.head()"
   ]
  },
  {
   "cell_type": "markdown",
   "id": "41977203",
   "metadata": {},
   "source": [
    "Готовим словарь, какой квартал в какой ФЗ переводим.\n",
    "\n",
    "`blocks_lus : dict[int, LandUse]`"
   ]
  },
  {
   "cell_type": "code",
   "execution_count": 22,
   "id": "065af3f4",
   "metadata": {},
   "outputs": [],
   "source": [
    "blocks_lus = blocks.loc[blocks['is_project'],'land_use']\n",
    "blocks_lus = blocks_lus[~blocks_lus.isna()]\n",
    "blocks_lus = blocks_lus.to_dict()"
   ]
  },
  {
   "cell_type": "markdown",
   "id": "58a99c93",
   "metadata": {},
   "source": [
    "Инициализируем экземпляр класса оптимизатора."
   ]
  },
  {
   "cell_type": "code",
   "execution_count": 23,
   "id": "9d783585",
   "metadata": {},
   "outputs": [],
   "source": [
    "from blocksnet.optimization.services import (\n",
    "    TPEOptimizer,\n",
    "    WeightedObjective,\n",
    "    WeightedConstraints,\n",
    "    Facade,\n",
    "    BlockSolution,\n",
    "    GradientChooser,\n",
    "    AreaSolution\n",
    ")\n",
    "\n",
    "var_adapter = AreaSolution(blocks_lus)\n",
    "\n",
    "facade = Facade(\n",
    "    blocks_lu=blocks_lus,\n",
    "    blocks_df=blocks,\n",
    "    accessibility_matrix=acc_mx,\n",
    "    var_adapter=var_adapter,\n",
    ")\n"
   ]
  },
  {
   "cell_type": "markdown",
   "id": "10cf65f9",
   "metadata": {},
   "source": [
    "Добавляем информацию о существующих типах сервисов.\n",
    "\n",
    "**ВАЖНО**: если сервиса нет в слое кварталов, просто добавляем `DataFrame` с нулевыми `capacity` для него. Ведь мы же должны что-то расставлять.\n",
    "\n",
    "ЛИБО\n",
    "\n",
    "Можно попробовать на этапе сборки слоя просто добавлять пустой столбец, чтобы не терять."
   ]
  },
  {
   "cell_type": "code",
   "execution_count": 24,
   "id": "3952fee4",
   "metadata": {},
   "outputs": [
    {
     "name": "stdout",
     "output_type": "stream",
     "text": [
      "#5:beach нет на территории контекста проекта. Добавляем нулевой датафрейм\n",
      "#51:theatre нет на территории контекста проекта. Добавляем нулевой датафрейм\n",
      "#56:cinema нет на территории контекста проекта. Добавляем нулевой датафрейм\n",
      "#143:sanatorium нет на территории контекста проекта. Добавляем нулевой датафрейм\n"
     ]
    }
   ],
   "source": [
    "for st_id, row in service_types.iterrows():\n",
    "    st_name = row['name']\n",
    "    st_weight = row['infrastructure_weight']\n",
    "    st_column = f'capacity_{st_name}'\n",
    "    if st_column in blocks.columns:\n",
    "        df = blocks.rename(columns={st_column: 'capacity'})[['capacity']].fillna(0)\n",
    "    else:\n",
    "        print(f'#{st_id}:{st_name} нет на территории контекста проекта. Добавляем нулевой датафрейм')\n",
    "        df = blocks[[]].copy()\n",
    "        df['capacity'] = 0\n",
    "    facade.add_service_type(st_name, st_weight, df)"
   ]
  },
  {
   "cell_type": "markdown",
   "id": "3842f465",
   "metadata": {},
   "source": [
    "### Оптимизация"
   ]
  },
  {
   "cell_type": "markdown",
   "id": "993cb219",
   "metadata": {},
   "source": [
    "Запускаем оптимизатор..."
   ]
  },
  {
   "cell_type": "code",
   "execution_count": null,
   "id": "919a1421",
   "metadata": {},
   "outputs": [],
   "source": [
    "MAX_EVALS = 1000 # сколько раз будет считаться обеспеченность. Можно ставить и большее число, если ориентируемся только на время\n",
    "MAX_RUNS = 1000 # сколько итераций будет считаться в оптимизации. Так же ставим 1000 без проблем\n",
    "TIMEOUT = 1 * 60 # сколько по времени будет считаться оптимизация (в секундах). Если уже прошло данное время, досчитается итерация и отдаст ответ"
   ]
  },
  {
   "cell_type": "code",
   "execution_count": 28,
   "id": "e166fc14",
   "metadata": {},
   "outputs": [
    {
     "name": "stderr",
     "output_type": "stream",
     "text": [
      "[I 2025-09-26 01:54:17,133] A new study created in memory with name: no-name-7bcf0f9c-68c1-4c7b-9992-0933b7507291\n"
     ]
    },
    {
     "data": {
      "application/vnd.jupyter.widget-view+json": {
       "model_id": "5566843aa96045cf9014c3ff62ca3089",
       "version_major": 2,
       "version_minor": 0
      },
      "text/plain": [
       "  0%|          | 0/1000 [00:00<?, ?it/s]"
      ]
     },
     "metadata": {},
     "output_type": "display_data"
    },
    {
     "name": "stdout",
     "output_type": "stream",
     "text": [
      "[I 2025-09-26 01:54:22,560] Trial 0 finished with value: 0.7201585159559923 and parameters: {'x_0': 12000, 'x_1': 12000, 'x_2': 12000, 'x_3': 12000, 'x_4': 12000, 'x_5': 12000, 'x_6': 12000, 'x_7': 0, 'x_8': 12000, 'x_9': 1440, 'x_10': 1440, 'x_11': 1440, 'x_12': 1440, 'x_13': 1440, 'x_14': 1440, 'x_15': 1440, 'x_16': 1440, 'x_17': 1440, 'x_18': 3520, 'x_19': 3520, 'x_20': 0, 'x_21': 3520, 'x_22': 3520, 'x_23': 3520, 'x_24': 3520, 'x_25': 3520, 'x_26': 3520, 'x_27': 0, 'x_28': 3520, 'x_29': 3520, 'x_30': 3520, 'x_31': 0, 'x_32': 0, 'x_33': 0, 'x_34': 0, 'x_35': 18500, 'x_36': 18500, 'x_37': 0, 'x_38': 18500, 'x_39': 18500, 'x_40': 18500, 'x_41': 18500, 'x_42': 18500, 'x_43': 18500, 'x_44': 0, 'x_45': 18500, 'x_46': 18500, 'x_47': 18500, 'x_48': 0, 'x_49': 0, 'x_50': 0, 'x_51': 0, 'x_52': 20000, 'x_53': 30000, 'x_54': 0, 'x_55': 0, 'x_56': 30000, 'x_57': 30000, 'x_58': 30000, 'x_59': 30000, 'x_60': 30000, 'x_61': 20000, 'x_62': 20000, 'x_63': 30000, 'x_64': 30000, 'x_65': 20000, 'x_66': 0, 'x_67': 0, 'x_68': 30000, 'x_69': 30000, 'x_70': 0, 'x_71': 0, 'x_72': 0, 'x_73': 0, 'x_74': 0, 'x_75': 30000, 'x_76': 0, 'x_77': 0, 'x_78': 0, 'x_79': 0, 'x_80': 0, 'x_81': 0, 'x_82': 0, 'x_83': 0, 'x_84': 0, 'x_85': 0, 'x_86': 0, 'x_87': 0, 'x_88': 0, 'x_89': 0, 'x_90': 0, 'x_91': 0, 'x_92': 0, 'x_93': 0, 'x_94': 0, 'x_95': 0, 'x_96': 0, 'x_97': 0, 'x_98': 0, 'x_99': 0, 'x_100': 0, 'x_101': 0, 'x_102': 0, 'x_103': 0, 'x_104': 0, 'x_105': 0, 'x_106': 0, 'x_107': 0, 'x_108': 0, 'x_109': 0, 'x_110': 0, 'x_111': 0, 'x_112': 0, 'x_113': 0, 'x_114': 0, 'x_115': 0, 'x_116': 0, 'x_117': 0, 'x_118': 0, 'x_119': 0, 'x_120': 0, 'x_121': 0, 'x_122': 0, 'x_123': 0, 'x_124': 0, 'x_125': 0, 'x_126': 0, 'x_127': 0, 'x_128': 0, 'x_129': 0, 'x_130': 0, 'x_131': 0, 'x_132': 0, 'x_133': 12000, 'x_134': 12000, 'x_135': 0, 'x_136': 0, 'x_137': 12000, 'x_138': 12000, 'x_139': 12000, 'x_140': 12000, 'x_141': 12000, 'x_142': 3500, 'x_143': 0, 'x_144': 3500, 'x_145': 3500, 'x_146': 3500, 'x_147': 0, 'x_148': 12000, 'x_149': 12000, 'x_150': 12000, 'x_151': 12000, 'x_152': 12000, 'x_153': 12000, 'x_154': 12000, 'x_155': 0, 'x_156': 3500, 'x_157': 12000, 'x_158': 12000, 'x_159': 12000, 'x_160': 0, 'x_161': 0, 'x_162': 0, 'x_163': 0, 'x_164': 0, 'x_165': 0, 'x_166': 3500, 'x_167': 0, 'x_168': 0, 'x_169': 0, 'x_170': 0, 'x_171': 0, 'x_172': 0, 'x_173': 0, 'x_174': 0, 'x_175': 0, 'x_176': 0, 'x_177': 0, 'x_178': 0, 'x_179': 0, 'x_180': 0, 'x_181': 0, 'x_182': 0, 'x_183': 0, 'x_184': 0, 'x_185': 0, 'x_186': 0, 'x_187': 0, 'x_188': 0, 'x_189': 0, 'x_190': 0, 'x_191': 0, 'x_192': 0, 'x_193': 0, 'x_194': 0, 'x_195': 0, 'x_196': 0, 'x_197': 0, 'x_198': 0, 'x_199': 0, 'x_200': 0, 'x_201': 0, 'x_202': 0, 'x_203': 0, 'x_204': 0, 'x_205': 0, 'x_206': 0, 'x_207': 0, 'x_208': 0, 'x_209': 0, 'x_210': 0, 'x_211': 0, 'x_212': 0, 'x_213': 0, 'x_214': 0, 'x_215': 0, 'x_216': 0, 'x_217': 0, 'x_218': 0, 'x_219': 0, 'x_220': 0, 'x_221': 0, 'x_222': 2800, 'x_223': 2800, 'x_224': 0, 'x_225': 0, 'x_226': 2800, 'x_227': 2800, 'x_228': 2800, 'x_229': 2800, 'x_230': 2800, 'x_231': 2800, 'x_232': 2800, 'x_233': 2800, 'x_234': 2800, 'x_235': 2800, 'x_236': 0, 'x_237': 0, 'x_238': 2800, 'x_239': 0, 'x_240': 0, 'x_241': 2800, 'x_242': 0, 'x_243': 0, 'x_244': 0, 'x_245': 2800, 'x_246': 0, 'x_247': 0, 'x_248': 1000, 'x_249': 1000, 'x_250': 0, 'x_251': 1000, 'x_252': 1000, 'x_253': 1000, 'x_254': 1000, 'x_255': 1000, 'x_256': 1000, 'x_257': 1000, 'x_258': 1000, 'x_259': 1000, 'x_260': 1000, 'x_261': 1000, 'x_262': 0, 'x_263': 0, 'x_264': 1000, 'x_265': 0, 'x_266': 1000, 'x_267': 1000, 'x_268': 0, 'x_269': 0, 'x_270': 0, 'x_271': 1000, 'x_272': 0, 'x_273': 0, 'x_274': 10000, 'x_275': 10000, 'x_276': 0, 'x_277': 0, 'x_278': 10000, 'x_279': 10000, 'x_280': 10000, 'x_281': 10000, 'x_282': 0, 'x_283': 0, 'x_284': 0, 'x_285': 0, 'x_286': 10000, 'x_287': 0, 'x_288': 0, 'x_289': 0, 'x_290': 0, 'x_291': 5000, 'x_292': 5000, 'x_293': 0, 'x_294': 0, 'x_295': 5000, 'x_296': 5000, 'x_297': 0, 'x_298': 5000, 'x_299': 5000, 'x_300': 5000, 'x_301': 5000, 'x_302': 5000, 'x_303': 5000, 'x_304': 5000, 'x_305': 0, 'x_306': 0, 'x_307': 5000, 'x_308': 0, 'x_309': 0, 'x_310': 0, 'x_311': 0, 'x_312': 0, 'x_313': 0, 'x_314': 5000, 'x_315': 0, 'x_316': 0, 'x_317': 100, 'x_318': 100, 'x_319': 0, 'x_320': 100, 'x_321': 100, 'x_322': 100, 'x_323': 100, 'x_324': 100, 'x_325': 100, 'x_326': 100, 'x_327': 0, 'x_328': 100, 'x_329': 100, 'x_330': 100, 'x_331': 0, 'x_332': 100, 'x_333': 0, 'x_334': 200, 'x_335': 200, 'x_336': 0, 'x_337': 270, 'x_338': 200, 'x_339': 270, 'x_340': 270, 'x_341': 270, 'x_342': 270, 'x_343': 0, 'x_344': 0, 'x_345': 270, 'x_346': 270, 'x_347': 270, 'x_348': 0, 'x_349': 270, 'x_350': 0, 'x_351': 60, 'x_352': 60, 'x_353': 0, 'x_354': 60, 'x_355': 60, 'x_356': 60, 'x_357': 60, 'x_358': 60, 'x_359': 60, 'x_360': 0, 'x_361': 0, 'x_362': 60, 'x_363': 60, 'x_364': 60, 'x_365': 0, 'x_366': 60, 'x_367': 0, 'x_368': 150, 'x_369': 150, 'x_370': 0, 'x_371': 150, 'x_372': 150, 'x_373': 150, 'x_374': 150, 'x_375': 150, 'x_376': 150, 'x_377': 150, 'x_378': 150, 'x_379': 150, 'x_380': 150, 'x_381': 150, 'x_382': 150, 'x_383': 0, 'x_384': 150, 'x_385': 0, 'x_386': 150, 'x_387': 150, 'x_388': 0, 'x_389': 0, 'x_390': 150, 'x_391': 150, 'x_392': 0, 'x_393': 0, 'x_394': 50, 'x_395': 0, 'x_396': 50, 'x_397': 50, 'x_398': 50, 'x_399': 0, 'x_400': 50, 'x_401': 50, 'x_402': 700, 'x_403': 700, 'x_404': 700, 'x_405': 700, 'x_406': 0, 'x_407': 700, 'x_408': 0, 'x_409': 700, 'x_410': 700, 'x_411': 700, 'x_412': 700, 'x_413': 700, 'x_414': 700, 'x_415': 700, 'x_416': 700, 'x_417': 700, 'x_418': 700, 'x_419': 700, 'x_420': 700, 'x_421': 700, 'x_422': 700, 'x_423': 700, 'x_424': 700, 'x_425': 700, 'x_426': 700, 'x_427': 700, 'x_428': 700, 'x_429': 0, 'x_430': 700, 'x_431': 700, 'x_432': 700, 'x_433': 700, 'x_434': 700, 'x_435': 700, 'x_436': 700, 'x_437': 700, 'x_438': 700, 'x_439': 700, 'x_440': 0, 'x_441': 700, 'x_442': 0, 'x_443': 0, 'x_444': 700, 'x_445': 700, 'x_446': 0, 'x_447': 0, 'x_448': 0, 'x_449': 0, 'x_450': 0, 'x_451': 0, 'x_452': 0, 'x_453': 0, 'x_454': 0, 'x_455': 0, 'x_456': 0, 'x_457': 0, 'x_458': 0, 'x_459': 0, 'x_460': 0, 'x_461': 700, 'x_462': 700, 'x_463': 700, 'x_464': 0, 'x_465': 0, 'x_466': 700, 'x_467': 0, 'x_468': 0, 'x_469': 400, 'x_470': 1300, 'x_471': 1300, 'x_472': 1300, 'x_473': 1300, 'x_474': 1300, 'x_475': 1300, 'x_476': 1300, 'x_477': 400, 'x_478': 1300, 'x_479': 1300, 'x_480': 1300, 'x_481': 0, 'x_482': 0, 'x_483': 1300, 'x_484': 0, 'x_485': 0, 'x_486': 400, 'x_487': 1300, 'x_488': 0, 'x_489': 1300, 'x_490': 0, 'x_491': 0, 'x_492': 0, 'x_493': 0, 'x_494': 0, 'x_495': 0, 'x_496': 0, 'x_497': 0, 'x_498': 0, 'x_499': 0, 'x_500': 0, 'x_501': 0, 'x_502': 0, 'x_503': 0, 'x_504': 0, 'x_505': 0, 'x_506': 0, 'x_507': 0, 'x_508': 0, 'x_509': 3000, 'x_510': 3000, 'x_511': 3000, 'x_512': 0, 'x_513': 0, 'x_514': 3000, 'x_515': 3000, 'x_516': 3000, 'x_517': 3000, 'x_518': 0, 'x_519': 0, 'x_520': 3000, 'x_521': 0, 'x_522': 3000, 'x_523': 3000, 'x_524': 3000, 'x_525': 3000, 'x_526': 3000, 'x_527': 0, 'x_528': 0, 'x_529': 0, 'x_530': 0, 'x_531': 0, 'x_532': 0, 'x_533': 0, 'x_534': 0, 'x_535': 0, 'x_536': 0, 'x_537': 0, 'x_538': 0, 'x_539': 0, 'x_540': 0, 'x_541': 0, 'x_542': 0, 'x_543': 0, 'x_544': 450, 'x_545': 450, 'x_546': 0, 'x_547': 450, 'x_548': 450, 'x_549': 450, 'x_550': 450, 'x_551': 450, 'x_552': 0, 'x_553': 0, 'x_554': 0, 'x_555': 0, 'x_556': 0, 'x_557': 0, 'x_558': 0, 'x_559': 0, 'x_560': 0, 'x_561': 0, 'x_562': 0, 'x_563': 0, 'x_564': 0, 'x_565': 0, 'x_566': 0, 'x_567': 0, 'x_568': 0, 'x_569': 0, 'x_570': 0, 'x_571': 0, 'x_572': 0, 'x_573': 0, 'x_574': 0, 'x_575': 0, 'x_576': 0, 'x_577': 0, 'x_578': 0, 'x_579': 0, 'x_580': 0, 'x_581': 0, 'x_582': 0, 'x_583': 0, 'x_584': 0, 'x_585': 0, 'x_586': 0, 'x_587': 0, 'x_588': 0, 'x_589': 0, 'x_590': 0, 'x_591': 0, 'x_592': 0, 'x_593': 0, 'x_594': 0, 'x_595': 0, 'x_596': 24000, 'x_597': 24000, 'x_598': 0, 'x_599': 0, 'x_600': 0, 'x_601': 24000, 'x_602': 0, 'x_603': 24000, 'x_604': 24000, 'x_605': 24000, 'x_606': 24000, 'x_607': 24000, 'x_608': 24000, 'x_609': 24000, 'x_610': 0, 'x_611': 0, 'x_612': 24000, 'x_613': 0, 'x_614': 0, 'x_615': 0, 'x_616': 0, 'x_617': 0, 'x_618': 0, 'x_619': 24000, 'x_620': 0, 'x_621': 0, 'x_622': 9100, 'x_623': 9100, 'x_624': 0, 'x_625': 0, 'x_626': 9100, 'x_627': 9100, 'x_628': 9100, 'x_629': 9100, 'x_630': 9100, 'x_631': 9100, 'x_632': 0, 'x_633': 0, 'x_634': 0, 'x_635': 9100, 'x_636': 0, 'x_637': 9100, 'x_638': 9100, 'x_639': 9100, 'x_640': 9100, 'x_641': 9100, 'x_642': 0, 'x_643': 9100, 'x_644': 0, 'x_645': 0, 'x_646': 0, 'x_647': 0, 'x_648': 0, 'x_649': 0, 'x_650': 0, 'x_651': 0, 'x_652': 0, 'x_653': 0, 'x_654': 0, 'x_655': 0, 'x_656': 0, 'x_657': 0, 'x_658': 0, 'x_659': 25000, 'x_660': 0, 'x_661': 0, 'x_662': 0, 'x_663': 25000, 'x_664': 25000, 'x_665': 25000, 'x_666': 25000, 'x_667': 0, 'x_668': 0, 'x_669': 0, 'x_670': 0, 'x_671': 0, 'x_672': 0, 'x_673': 0, 'x_674': 25000, 'x_675': 0, 'x_676': 0}. Best is trial 0 with value: 0.7201585159559923.\n",
      "[I 2025-09-26 01:54:31,182] Trial 1 finished with value: 0.7201585159559923 and parameters: {'x_0': 12091, 'x_1': 12001, 'x_2': 12246, 'x_3': 12017, 'x_4': 12054, 'x_5': 12027, 'x_6': 12065, 'x_7': 1, 'x_8': 12183, 'x_9': 1510, 'x_10': 1447, 'x_11': 1459, 'x_12': 1452, 'x_13': 1462, 'x_14': 1483, 'x_15': 1468, 'x_16': 1441, 'x_17': 1445, 'x_18': 3520, 'x_19': 3544, 'x_20': 0, 'x_21': 3520, 'x_22': 3750, 'x_23': 3520, 'x_24': 3549, 'x_25': 3520, 'x_26': 3520, 'x_27': 0, 'x_28': 3520, 'x_29': 3520, 'x_30': 3520, 'x_31': 0, 'x_32': 0, 'x_33': 0, 'x_34': 0, 'x_35': 18506, 'x_36': 18505, 'x_37': 0, 'x_38': 18500, 'x_39': 18519, 'x_40': 18500, 'x_41': 18556, 'x_42': 18500, 'x_43': 18500, 'x_44': 0, 'x_45': 18500, 'x_46': 18500, 'x_47': 18503, 'x_48': 0, 'x_49': 0, 'x_50': 0, 'x_51': 0, 'x_52': 20075, 'x_53': 30002, 'x_54': 0, 'x_55': 0, 'x_56': 30010, 'x_57': 30080, 'x_58': 30002, 'x_59': 30032, 'x_60': 30053, 'x_61': 20069, 'x_62': 20011, 'x_63': 30133, 'x_64': 30105, 'x_65': 20018, 'x_66': 0, 'x_67': 0, 'x_68': 30000, 'x_69': 30000, 'x_70': 2, 'x_71': 2, 'x_72': 0, 'x_73': 0, 'x_74': 1, 'x_75': 30006, 'x_76': 0, 'x_77': 0, 'x_78': 4, 'x_79': 1, 'x_80': 0, 'x_81': 0, 'x_82': 4, 'x_83': 0, 'x_84': 10, 'x_85': 0, 'x_86': 4, 'x_87': 0, 'x_88': 0, 'x_89': 0, 'x_90': 0, 'x_91': 6, 'x_92': 2, 'x_93': 0, 'x_94': 1, 'x_95': 1, 'x_96': 3, 'x_97': 6, 'x_98': 1, 'x_99': 2, 'x_100': 3, 'x_101': 0, 'x_102': 0, 'x_103': 0, 'x_104': 0, 'x_105': 0, 'x_106': 0, 'x_107': 0, 'x_108': 2, 'x_109': 4, 'x_110': 0, 'x_111': 0, 'x_112': 1, 'x_113': 0, 'x_114': 0, 'x_115': 0, 'x_116': 10, 'x_117': 3, 'x_118': 0, 'x_119': 0, 'x_120': 51, 'x_121': 69, 'x_122': 44, 'x_123': 27, 'x_124': 0, 'x_125': 0, 'x_126': 0, 'x_127': 0, 'x_128': 0, 'x_129': 0, 'x_130': 0, 'x_131': 0, 'x_132': 0, 'x_133': 12003, 'x_134': 12025, 'x_135': 0, 'x_136': 0, 'x_137': 12057, 'x_138': 12009, 'x_139': 12006, 'x_140': 12035, 'x_141': 12007, 'x_142': 3507, 'x_143': 16, 'x_144': 3501, 'x_145': 3505, 'x_146': 3505, 'x_147': 0, 'x_148': 12015, 'x_149': 12001, 'x_150': 12012, 'x_151': 12029, 'x_152': 12041, 'x_153': 12000, 'x_154': 12001, 'x_155': 0, 'x_156': 3502, 'x_157': 12000, 'x_158': 12000, 'x_159': 12002, 'x_160': 0, 'x_161': 1, 'x_162': 8, 'x_163': 1, 'x_164': 0, 'x_165': 0, 'x_166': 3503, 'x_167': 0, 'x_168': 0, 'x_169': 1, 'x_170': 7, 'x_171': 15, 'x_172': 0, 'x_173': 0, 'x_174': 29, 'x_175': 530, 'x_176': 12, 'x_177': 0, 'x_178': 224, 'x_179': 67, 'x_180': 24, 'x_181': 14, 'x_182': 25, 'x_183': 27, 'x_184': 0, 'x_185': 0, 'x_186': 29, 'x_187': 0, 'x_188': 6, 'x_189': 0, 'x_190': 0, 'x_191': 0, 'x_192': 0, 'x_193': 10651, 'x_194': 0, 'x_195': 0, 'x_196': 1, 'x_197': 2, 'x_198': 0, 'x_199': 0, 'x_200': 2, 'x_201': 12, 'x_202': 7, 'x_203': 3, 'x_204': 2, 'x_205': 1, 'x_206': 8, 'x_207': 4, 'x_208': 4, 'x_209': 4, 'x_210': 1, 'x_211': 0, 'x_212': 1, 'x_213': 0, 'x_214': 0, 'x_215': 1, 'x_216': 0, 'x_217': 0, 'x_218': 0, 'x_219': 14, 'x_220': 0, 'x_221': 0, 'x_222': 2833, 'x_223': 2809, 'x_224': 0, 'x_225': 0, 'x_226': 2802, 'x_227': 2804, 'x_228': 2833, 'x_229': 2810, 'x_230': 2803, 'x_231': 2820, 'x_232': 2811, 'x_233': 2835, 'x_234': 2812, 'x_235': 2806, 'x_236': 0, 'x_237': 1, 'x_238': 2803, 'x_239': 0, 'x_240': 0, 'x_241': 2800, 'x_242': 0, 'x_243': 0, 'x_244': 1, 'x_245': 2823, 'x_246': 0, 'x_247': 0, 'x_248': 1002, 'x_249': 1007, 'x_250': 0, 'x_251': 1000, 'x_252': 1004, 'x_253': 1000, 'x_254': 984, 'x_255': 1006, 'x_256': 1004, 'x_257': 1000, 'x_258': 1001, 'x_259': 1005, 'x_260': 1001, 'x_261': 1005, 'x_262': 0, 'x_263': 0, 'x_264': 1002, 'x_265': 0, 'x_266': 1000, 'x_267': 1000, 'x_268': 0, 'x_269': 0, 'x_270': 0, 'x_271': 1001, 'x_272': 0, 'x_273': 0, 'x_274': 10010, 'x_275': 10000, 'x_276': 0, 'x_277': 0, 'x_278': 10008, 'x_279': 10008, 'x_280': 10007, 'x_281': 10001, 'x_282': 1, 'x_283': 0, 'x_284': 0, 'x_285': 0, 'x_286': 10001, 'x_287': 0, 'x_288': 0, 'x_289': 0, 'x_290': 0, 'x_291': 5000, 'x_292': 5001, 'x_293': 0, 'x_294': 0, 'x_295': 5000, 'x_296': 5000, 'x_297': 4, 'x_298': 5000, 'x_299': 5000, 'x_300': 5001, 'x_301': 5000, 'x_302': 5000, 'x_303': 5000, 'x_304': 5000, 'x_305': 1, 'x_306': 0, 'x_307': 5000, 'x_308': 0, 'x_309': 1, 'x_310': 2, 'x_311': 0, 'x_312': 0, 'x_313': 0, 'x_314': 5001, 'x_315': 0, 'x_316': 0, 'x_317': 100, 'x_318': 104, 'x_319': 0, 'x_320': 100, 'x_321': 102, 'x_322': 100, 'x_323': 100, 'x_324': 100, 'x_325': 100, 'x_326': 100, 'x_327': 0, 'x_328': 100, 'x_329': 100, 'x_330': 100, 'x_331': 0, 'x_332': 100, 'x_333': 0, 'x_334': 200, 'x_335': 210, 'x_336': 0, 'x_337': 270, 'x_338': 216, 'x_339': 270, 'x_340': 287, 'x_341': 270, 'x_342': 270, 'x_343': 0, 'x_344': 0, 'x_345': 272, 'x_346': 271, 'x_347': 270, 'x_348': 0, 'x_349': 270, 'x_350': 0, 'x_351': 60, 'x_352': 61, 'x_353': 0, 'x_354': 60, 'x_355': 60, 'x_356': 60, 'x_357': 67, 'x_358': 60, 'x_359': 60, 'x_360': 0, 'x_361': 0, 'x_362': 61, 'x_363': 62, 'x_364': 60, 'x_365': 0, 'x_366': 60, 'x_367': 0, 'x_368': 150, 'x_369': 154, 'x_370': 0, 'x_371': 150, 'x_372': 150, 'x_373': 157, 'x_374': 150, 'x_375': 150, 'x_376': 150, 'x_377': 150, 'x_378': 150, 'x_379': 166, 'x_380': 150, 'x_381': 150, 'x_382': 150, 'x_383': 0, 'x_384': 150, 'x_385': 0, 'x_386': 150, 'x_387': 150, 'x_388': 0, 'x_389': 0, 'x_390': 150, 'x_391': 150, 'x_392': 0, 'x_393': 0, 'x_394': 50, 'x_395': 0, 'x_396': 50, 'x_397': 50, 'x_398': 50, 'x_399': 0, 'x_400': 50, 'x_401': 50, 'x_402': 700, 'x_403': 700, 'x_404': 700, 'x_405': 700, 'x_406': 0, 'x_407': 700, 'x_408': 0, 'x_409': 700, 'x_410': 705, 'x_411': 700, 'x_412': 700, 'x_413': 700, 'x_414': 745, 'x_415': 700, 'x_416': 700, 'x_417': 700, 'x_418': 700, 'x_419': 700, 'x_420': 700, 'x_421': 700, 'x_422': 700, 'x_423': 731, 'x_424': 700, 'x_425': 728, 'x_426': 700, 'x_427': 700, 'x_428': 700, 'x_429': 0, 'x_430': 700, 'x_431': 700, 'x_432': 700, 'x_433': 700, 'x_434': 700, 'x_435': 700, 'x_436': 700, 'x_437': 700, 'x_438': 700, 'x_439': 700, 'x_440': 0, 'x_441': 700, 'x_442': 0, 'x_443': 0, 'x_444': 700, 'x_445': 733, 'x_446': 0, 'x_447': 0, 'x_448': 0, 'x_449': 0, 'x_450': 0, 'x_451': 1, 'x_452': 0, 'x_453': 0, 'x_454': 0, 'x_455': 0, 'x_456': 0, 'x_457': 0, 'x_458': 1, 'x_459': 0, 'x_460': 1, 'x_461': 700, 'x_462': 764, 'x_463': 700, 'x_464': 0, 'x_465': 0, 'x_466': 700, 'x_467': 0, 'x_468': 1, 'x_469': 400, 'x_470': 1322, 'x_471': 1372, 'x_472': 1308, 'x_473': 1305, 'x_474': 1300, 'x_475': 1317, 'x_476': 1306, 'x_477': 400, 'x_478': 1307, 'x_479': 1301, 'x_480': 1302, 'x_481': 0, 'x_482': 0, 'x_483': 1338, 'x_484': 0, 'x_485': 0, 'x_486': 400, 'x_487': 1305, 'x_488': 0, 'x_489': 1324, 'x_490': 0, 'x_491': 2, 'x_492': 42, 'x_493': 0, 'x_494': 0, 'x_495': 229, 'x_496': 0, 'x_497': 0, 'x_498': 23, 'x_499': 2, 'x_500': 0, 'x_501': 0, 'x_502': 0, 'x_503': 0, 'x_504': 0, 'x_505': 0, 'x_506': 0, 'x_507': 0, 'x_508': 0, 'x_509': 3000, 'x_510': 3000, 'x_511': 3005, 'x_512': 0, 'x_513': 0, 'x_514': 3003, 'x_515': 3005, 'x_516': 3000, 'x_517': 3001, 'x_518': 34, 'x_519': 46, 'x_520': 3000, 'x_521': 0, 'x_522': 3000, 'x_523': 3000, 'x_524': 3006, 'x_525': 3001, 'x_526': 3000, 'x_527': 0, 'x_528': 0, 'x_529': 2, 'x_530': 0, 'x_531': 0, 'x_532': 0, 'x_533': 0, 'x_534': 1, 'x_535': 3, 'x_536': 0, 'x_537': 1, 'x_538': 0, 'x_539': 0, 'x_540': 17, 'x_541': 0, 'x_542': 0, 'x_543': 0, 'x_544': 450, 'x_545': 450, 'x_546': 0, 'x_547': 450, 'x_548': 452, 'x_549': 450, 'x_550': 452, 'x_551': 450, 'x_552': 1, 'x_553': 0, 'x_554': 0, 'x_555': 1, 'x_556': 0, 'x_557': 0, 'x_558': 0, 'x_559': 0, 'x_560': 0, 'x_561': 73, 'x_562': 361, 'x_563': 55, 'x_564': 0, 'x_565': 0, 'x_566': 18, 'x_567': 977, 'x_568': 12, 'x_569': 606, 'x_570': 4, 'x_571': 42, 'x_572': 6, 'x_573': 2, 'x_574': 136, 'x_575': 65, 'x_576': 89, 'x_577': 1388, 'x_578': 12, 'x_579': 1, 'x_580': 0, 'x_581': 1, 'x_582': 0, 'x_583': 0, 'x_584': 0, 'x_585': 0, 'x_586': 0, 'x_587': 1, 'x_588': 0, 'x_589': 0, 'x_590': 2, 'x_591': 0, 'x_592': 14, 'x_593': 0, 'x_594': 0, 'x_595': 0, 'x_596': 24000, 'x_597': 24016, 'x_598': 0, 'x_599': 0, 'x_600': 8, 'x_601': 24022, 'x_602': 8, 'x_603': 24000, 'x_604': 24000, 'x_605': 24000, 'x_606': 24000, 'x_607': 24036, 'x_608': 24000, 'x_609': 24000, 'x_610': 0, 'x_611': 0, 'x_612': 24000, 'x_613': 0, 'x_614': 1, 'x_615': 0, 'x_616': 0, 'x_617': 0, 'x_618': 0, 'x_619': 24000, 'x_620': 0, 'x_621': 0, 'x_622': 9100, 'x_623': 9100, 'x_624': 0, 'x_625': 0, 'x_626': 9100, 'x_627': 9100, 'x_628': 9100, 'x_629': 9100, 'x_630': 9100, 'x_631': 9100, 'x_632': 8, 'x_633': 2, 'x_634': 4, 'x_635': 9100, 'x_636': 0, 'x_637': 9100, 'x_638': 9100, 'x_639': 9100, 'x_640': 9102, 'x_641': 9100, 'x_642': 0, 'x_643': 9100, 'x_644': 0, 'x_645': 0, 'x_646': 0, 'x_647': 1, 'x_648': 2, 'x_649': 0, 'x_650': 0, 'x_651': 2, 'x_652': 2, 'x_653': 0, 'x_654': 0, 'x_655': 1, 'x_656': 0, 'x_657': 0, 'x_658': 0, 'x_659': 25018, 'x_660': 3, 'x_661': 0, 'x_662': 86, 'x_663': 25189, 'x_664': 25044, 'x_665': 25006, 'x_666': 25064, 'x_667': 10, 'x_668': 0, 'x_669': 0, 'x_670': 98, 'x_671': 0, 'x_672': 0, 'x_673': 0, 'x_674': 25019, 'x_675': 0, 'x_676': 0}. Best is trial 0 with value: 0.7201585159559923.\n",
      "[I 2025-09-26 01:54:38,906] Trial 2 pruned. \n",
      "[I 2025-09-26 01:54:48,758] Trial 3 pruned. \n",
      "[I 2025-09-26 01:55:03,412] Trial 4 finished with value: 0.6907798583219286 and parameters: {'x_0': 26581, 'x_1': 25579, 'x_2': 38181, 'x_3': 38905, 'x_4': 38800, 'x_5': 39066, 'x_6': 38619, 'x_7': 1069, 'x_8': 38884, 'x_9': 5370, 'x_10': 5465, 'x_11': 5323, 'x_12': 5324, 'x_13': 4909, 'x_14': 5056, 'x_15': 5391, 'x_16': 698, 'x_17': 5085, 'x_18': 5, 'x_19': 1551, 'x_20': 0, 'x_21': 1875, 'x_22': 1514, 'x_23': 3497, 'x_24': 1554, 'x_25': 1773, 'x_26': 1859, 'x_27': 60, 'x_28': 1974, 'x_29': 3520, 'x_30': 3516, 'x_31': 451, 'x_32': 15, 'x_33': 308, 'x_34': 24, 'x_35': 8189, 'x_36': 8390, 'x_37': 37, 'x_38': 9155, 'x_39': 8307, 'x_40': 163, 'x_41': 8189, 'x_42': 10041, 'x_43': 18443, 'x_44': 64, 'x_45': 6821, 'x_46': 10804, 'x_47': 8013, 'x_48': 0, 'x_49': 9, 'x_50': 177, 'x_51': 25, 'x_52': 18084, 'x_53': 675, 'x_54': 1, 'x_55': 8888, 'x_56': 24757, 'x_57': 162, 'x_58': 19405, 'x_59': 31250, 'x_60': 146, 'x_61': 18831, 'x_62': 19069, 'x_63': 128, 'x_64': 257, 'x_65': 18781, 'x_66': 41, 'x_67': 0, 'x_68': 31575, 'x_69': 36094, 'x_70': 11046, 'x_71': 16829, 'x_72': 0, 'x_73': 8, 'x_74': 499, 'x_75': 248, 'x_76': 0, 'x_77': 0, 'x_78': 0, 'x_79': 0, 'x_80': 0, 'x_81': 0, 'x_82': 0, 'x_83': 0, 'x_84': 0, 'x_85': 0, 'x_86': 0, 'x_87': 0, 'x_88': 0, 'x_89': 0, 'x_90': 0, 'x_91': 0, 'x_92': 0, 'x_93': 0, 'x_94': 0, 'x_95': 0, 'x_96': 0, 'x_97': 0, 'x_98': 0, 'x_99': 0, 'x_100': 0, 'x_101': 0, 'x_102': 0, 'x_103': 0, 'x_104': 0, 'x_105': 0, 'x_106': 0, 'x_107': 0, 'x_108': 0, 'x_109': 0, 'x_110': 0, 'x_111': 0, 'x_112': 0, 'x_113': 0, 'x_114': 0, 'x_115': 0, 'x_116': 0, 'x_117': 0, 'x_118': 0, 'x_119': 0, 'x_120': 0, 'x_121': 0, 'x_122': 0, 'x_123': 0, 'x_124': 0, 'x_125': 0, 'x_126': 0, 'x_127': 0, 'x_128': 0, 'x_129': 0, 'x_130': 0, 'x_131': 0, 'x_132': 0, 'x_133': 12000, 'x_134': 12000, 'x_135': 0, 'x_136': 0, 'x_137': 12000, 'x_138': 12000, 'x_139': 12000, 'x_140': 12000, 'x_141': 12000, 'x_142': 3500, 'x_143': 0, 'x_144': 3500, 'x_145': 3500, 'x_146': 3500, 'x_147': 0, 'x_148': 12000, 'x_149': 12000, 'x_150': 12000, 'x_151': 12000, 'x_152': 12000, 'x_153': 12000, 'x_154': 12000, 'x_155': 0, 'x_156': 3500, 'x_157': 12000, 'x_158': 12000, 'x_159': 12000, 'x_160': 0, 'x_161': 0, 'x_162': 0, 'x_163': 0, 'x_164': 0, 'x_165': 0, 'x_166': 3500, 'x_167': 0, 'x_168': 0, 'x_169': 0, 'x_170': 0, 'x_171': 0, 'x_172': 0, 'x_173': 0, 'x_174': 0, 'x_175': 0, 'x_176': 0, 'x_177': 0, 'x_178': 0, 'x_179': 0, 'x_180': 0, 'x_181': 0, 'x_182': 0, 'x_183': 0, 'x_184': 0, 'x_185': 0, 'x_186': 0, 'x_187': 0, 'x_188': 0, 'x_189': 0, 'x_190': 0, 'x_191': 0, 'x_192': 0, 'x_193': 0, 'x_194': 0, 'x_195': 0, 'x_196': 0, 'x_197': 0, 'x_198': 0, 'x_199': 0, 'x_200': 0, 'x_201': 0, 'x_202': 0, 'x_203': 0, 'x_204': 0, 'x_205': 0, 'x_206': 0, 'x_207': 0, 'x_208': 0, 'x_209': 0, 'x_210': 0, 'x_211': 0, 'x_212': 0, 'x_213': 0, 'x_214': 0, 'x_215': 0, 'x_216': 0, 'x_217': 0, 'x_218': 0, 'x_219': 0, 'x_220': 0, 'x_221': 0, 'x_222': 2800, 'x_223': 2800, 'x_224': 0, 'x_225': 0, 'x_226': 2800, 'x_227': 2800, 'x_228': 2800, 'x_229': 2800, 'x_230': 2800, 'x_231': 2800, 'x_232': 2800, 'x_233': 2800, 'x_234': 2800, 'x_235': 2800, 'x_236': 0, 'x_237': 0, 'x_238': 2800, 'x_239': 0, 'x_240': 0, 'x_241': 2800, 'x_242': 0, 'x_243': 0, 'x_244': 0, 'x_245': 2800, 'x_246': 0, 'x_247': 0, 'x_248': 1000, 'x_249': 1000, 'x_250': 0, 'x_251': 1000, 'x_252': 1000, 'x_253': 1000, 'x_254': 0, 'x_255': 1000, 'x_256': 1000, 'x_257': 1000, 'x_258': 1000, 'x_259': 1000, 'x_260': 1000, 'x_261': 1000, 'x_262': 0, 'x_263': 0, 'x_264': 1000, 'x_265': 0, 'x_266': 1000, 'x_267': 1000, 'x_268': 0, 'x_269': 0, 'x_270': 0, 'x_271': 1000, 'x_272': 0, 'x_273': 0, 'x_274': 10000, 'x_275': 10000, 'x_276': 0, 'x_277': 0, 'x_278': 10000, 'x_279': 10000, 'x_280': 10000, 'x_281': 10000, 'x_282': 0, 'x_283': 0, 'x_284': 0, 'x_285': 0, 'x_286': 10000, 'x_287': 0, 'x_288': 0, 'x_289': 0, 'x_290': 0, 'x_291': 5000, 'x_292': 5000, 'x_293': 0, 'x_294': 0, 'x_295': 0, 'x_296': 5000, 'x_297': 0, 'x_298': 5000, 'x_299': 5000, 'x_300': 5000, 'x_301': 5000, 'x_302': 5000, 'x_303': 5000, 'x_304': 5000, 'x_305': 0, 'x_306': 0, 'x_307': 5000, 'x_308': 0, 'x_309': 0, 'x_310': 0, 'x_311': 0, 'x_312': 0, 'x_313': 0, 'x_314': 5000, 'x_315': 0, 'x_316': 0, 'x_317': 100, 'x_318': 100, 'x_319': 0, 'x_320': 100, 'x_321': 100, 'x_322': 100, 'x_323': 100, 'x_324': 100, 'x_325': 100, 'x_326': 0, 'x_327': 0, 'x_328': 100, 'x_329': 100, 'x_330': 100, 'x_331': 0, 'x_332': 100, 'x_333': 0, 'x_334': 200, 'x_335': 200, 'x_336': 0, 'x_337': 270, 'x_338': 200, 'x_339': 270, 'x_340': 270, 'x_341': 270, 'x_342': 270, 'x_343': 0, 'x_344': 0, 'x_345': 270, 'x_346': 270, 'x_347': 270, 'x_348': 0, 'x_349': 270, 'x_350': 0, 'x_351': 60, 'x_352': 60, 'x_353': 0, 'x_354': 60, 'x_355': 60, 'x_356': 60, 'x_357': 60, 'x_358': 60, 'x_359': 60, 'x_360': 0, 'x_361': 0, 'x_362': 60, 'x_363': 60, 'x_364': 60, 'x_365': 0, 'x_366': 60, 'x_367': 0, 'x_368': 150, 'x_369': 150, 'x_370': 0, 'x_371': 150, 'x_372': 150, 'x_373': 150, 'x_374': 150, 'x_375': 150, 'x_376': 150, 'x_377': 150, 'x_378': 150, 'x_379': 150, 'x_380': 150, 'x_381': 150, 'x_382': 150, 'x_383': 0, 'x_384': 150, 'x_385': 0, 'x_386': 150, 'x_387': 150, 'x_388': 0, 'x_389': 0, 'x_390': 150, 'x_391': 150, 'x_392': 0, 'x_393': 0, 'x_394': 50, 'x_395': 0, 'x_396': 50, 'x_397': 50, 'x_398': 50, 'x_399': 0, 'x_400': 50, 'x_401': 50, 'x_402': 700, 'x_403': 700, 'x_404': 700, 'x_405': 700, 'x_406': 0, 'x_407': 700, 'x_408': 0, 'x_409': 700, 'x_410': 700, 'x_411': 700, 'x_412': 700, 'x_413': 700, 'x_414': 0, 'x_415': 700, 'x_416': 700, 'x_417': 700, 'x_418': 700, 'x_419': 700, 'x_420': 700, 'x_421': 700, 'x_422': 700, 'x_423': 0, 'x_424': 700, 'x_425': 0, 'x_426': 700, 'x_427': 700, 'x_428': 700, 'x_429': 0, 'x_430': 700, 'x_431': 700, 'x_432': 700, 'x_433': 700, 'x_434': 700, 'x_435': 700, 'x_436': 700, 'x_437': 700, 'x_438': 700, 'x_439': 700, 'x_440': 0, 'x_441': 700, 'x_442': 0, 'x_443': 0, 'x_444': 700, 'x_445': 0, 'x_446': 0, 'x_447': 0, 'x_448': 0, 'x_449': 0, 'x_450': 0, 'x_451': 0, 'x_452': 0, 'x_453': 0, 'x_454': 0, 'x_455': 0, 'x_456': 0, 'x_457': 0, 'x_458': 0, 'x_459': 0, 'x_460': 0, 'x_461': 700, 'x_462': 0, 'x_463': 700, 'x_464': 0, 'x_465': 0, 'x_466': 700, 'x_467': 0, 'x_468': 0, 'x_469': 400, 'x_470': 1300, 'x_471': 1300, 'x_472': 1300, 'x_473': 1300, 'x_474': 1300, 'x_475': 1300, 'x_476': 1300, 'x_477': 400, 'x_478': 1300, 'x_479': 1300, 'x_480': 1300, 'x_481': 0, 'x_482': 0, 'x_483': 1300, 'x_484': 0, 'x_485': 0, 'x_486': 400, 'x_487': 1300, 'x_488': 0, 'x_489': 1300, 'x_490': 0, 'x_491': 0, 'x_492': 0, 'x_493': 0, 'x_494': 0, 'x_495': 0, 'x_496': 0, 'x_497': 0, 'x_498': 0, 'x_499': 0, 'x_500': 0, 'x_501': 0, 'x_502': 0, 'x_503': 0, 'x_504': 0, 'x_505': 0, 'x_506': 0, 'x_507': 0, 'x_508': 0, 'x_509': 3000, 'x_510': 3000, 'x_511': 3000, 'x_512': 0, 'x_513': 0, 'x_514': 3000, 'x_515': 3000, 'x_516': 3000, 'x_517': 3000, 'x_518': 0, 'x_519': 0, 'x_520': 3000, 'x_521': 0, 'x_522': 3000, 'x_523': 3000, 'x_524': 3000, 'x_525': 3000, 'x_526': 3000, 'x_527': 0, 'x_528': 0, 'x_529': 0, 'x_530': 0, 'x_531': 0, 'x_532': 0, 'x_533': 0, 'x_534': 0, 'x_535': 0, 'x_536': 0, 'x_537': 0, 'x_538': 0, 'x_539': 0, 'x_540': 0, 'x_541': 0, 'x_542': 0, 'x_543': 0, 'x_544': 0, 'x_545': 0, 'x_546': 0, 'x_547': 0, 'x_548': 0, 'x_549': 0, 'x_550': 0, 'x_551': 0, 'x_552': 0, 'x_553': 0, 'x_554': 0, 'x_555': 0, 'x_556': 0, 'x_557': 0, 'x_558': 0, 'x_559': 0, 'x_560': 0, 'x_561': 0, 'x_562': 0, 'x_563': 0, 'x_564': 0, 'x_565': 0, 'x_566': 0, 'x_567': 0, 'x_568': 0, 'x_569': 0, 'x_570': 0, 'x_571': 0, 'x_572': 0, 'x_573': 0, 'x_574': 0, 'x_575': 0, 'x_576': 0, 'x_577': 0, 'x_578': 0, 'x_579': 0, 'x_580': 0, 'x_581': 0, 'x_582': 0, 'x_583': 0, 'x_584': 0, 'x_585': 0, 'x_586': 0, 'x_587': 0, 'x_588': 0, 'x_589': 0, 'x_590': 0, 'x_591': 0, 'x_592': 0, 'x_593': 0, 'x_594': 0, 'x_595': 0, 'x_596': 0, 'x_597': 0, 'x_598': 0, 'x_599': 0, 'x_600': 0, 'x_601': 0, 'x_602': 0, 'x_603': 0, 'x_604': 0, 'x_605': 0, 'x_606': 0, 'x_607': 0, 'x_608': 0, 'x_609': 0, 'x_610': 0, 'x_611': 0, 'x_612': 0, 'x_613': 0, 'x_614': 0, 'x_615': 0, 'x_616': 0, 'x_617': 0, 'x_618': 0, 'x_619': 0, 'x_620': 0, 'x_621': 0, 'x_622': 0, 'x_623': 0, 'x_624': 0, 'x_625': 0, 'x_626': 0, 'x_627': 0, 'x_628': 0, 'x_629': 0, 'x_630': 0, 'x_631': 0, 'x_632': 0, 'x_633': 0, 'x_634': 0, 'x_635': 0, 'x_636': 0, 'x_637': 0, 'x_638': 0, 'x_639': 0, 'x_640': 0, 'x_641': 0, 'x_642': 0, 'x_643': 0, 'x_644': 0, 'x_645': 0, 'x_646': 0, 'x_647': 0, 'x_648': 0, 'x_649': 0, 'x_650': 0, 'x_651': 0, 'x_652': 0, 'x_653': 0, 'x_654': 0, 'x_655': 0, 'x_656': 0, 'x_657': 0, 'x_658': 0, 'x_659': 0, 'x_660': 0, 'x_661': 0, 'x_662': 0, 'x_663': 0, 'x_664': 0, 'x_665': 0, 'x_666': 0, 'x_667': 0, 'x_668': 0, 'x_669': 0, 'x_670': 0, 'x_671': 0, 'x_672': 0, 'x_673': 0, 'x_674': 0, 'x_675': 0, 'x_676': 0}. Best is trial 0 with value: 0.7201585159559923.\n",
      "[I 2025-09-26 01:55:10,072] Trial 5 finished with value: 0.6920427771422075 and parameters: {'x_0': 14054, 'x_1': 25547, 'x_2': 31442, 'x_3': 40071, 'x_4': 40029, 'x_5': 41022, 'x_6': 29568, 'x_7': 713, 'x_8': 40195, 'x_9': 11973, 'x_10': 7082, 'x_11': 11848, 'x_12': 7018, 'x_13': 10972, 'x_14': 11573, 'x_15': 11971, 'x_16': 570, 'x_17': 11559, 'x_18': 2078, 'x_19': 32004, 'x_20': 18, 'x_21': 7934, 'x_22': 36985, 'x_23': 1412, 'x_24': 37500, 'x_25': 2104, 'x_26': 2056, 'x_27': 52, 'x_28': 13388, 'x_29': 11224, 'x_30': 10690, 'x_31': 11, 'x_32': 13, 'x_33': 0, 'x_34': 20, 'x_35': 10648, 'x_36': 48060, 'x_37': 12, 'x_38': 7607, 'x_39': 61479, 'x_40': 11219, 'x_41': 61416, 'x_42': 11066, 'x_43': 10536, 'x_44': 27, 'x_45': 5293, 'x_46': 6, 'x_47': 16, 'x_48': 6, 'x_49': 9, 'x_50': 23, 'x_51': 11, 'x_52': 23371, 'x_53': 7639, 'x_54': 8, 'x_55': 4, 'x_56': 24743, 'x_57': 8744, 'x_58': 137, 'x_59': 36722, 'x_60': 57513, 'x_61': 21355, 'x_62': 21744, 'x_63': 8798, 'x_64': 57757, 'x_65': 22243, 'x_66': 3992, 'x_67': 21, 'x_68': 36356, 'x_69': 31269, 'x_70': 4536, 'x_71': 4680, 'x_72': 2, 'x_73': 5, 'x_74': 214, 'x_75': 57908, 'x_76': 16, 'x_77': 9, 'x_78': 462, 'x_79': 1851, 'x_80': 1, 'x_81': 687, 'x_82': 2137, 'x_83': 466, 'x_84': 460, 'x_85': 462, 'x_86': 453, 'x_87': 460, 'x_88': 462, 'x_89': 460, 'x_90': 465, 'x_91': 460, 'x_92': 465, 'x_93': 3, 'x_94': 464, 'x_95': 463, 'x_96': 462, 'x_97': 2132, 'x_98': 475, 'x_99': 464, 'x_100': 472, 'x_101': 24, 'x_102': 460, 'x_103': 1059, 'x_104': 809, 'x_105': 896, 'x_106': 72, 'x_107': 216, 'x_108': 466, 'x_109': 254, 'x_110': 2, 'x_111': 5, 'x_112': 471, 'x_113': 16, 'x_114': 9, 'x_115': 140, 'x_116': 89132, 'x_117': 4599, 'x_118': 0, 'x_119': 6271, 'x_120': 6193, 'x_121': 85899, 'x_122': 6267, 'x_123': 45714, 'x_124': 5084, 'x_125': 0, 'x_126': 1035, 'x_127': 5606, 'x_128': 6004, 'x_129': 0, 'x_130': 0, 'x_131': 0, 'x_132': 0, 'x_133': 12120, 'x_134': 12044, 'x_135': 0, 'x_136': 5, 'x_137': 12031, 'x_138': 18481, 'x_139': 18493, 'x_140': 16809, 'x_141': 16586, 'x_142': 6480, 'x_143': 2162, 'x_144': 4316, 'x_145': 4347, 'x_146': 6485, 'x_147': 0, 'x_148': 12707, 'x_149': 16735, 'x_150': 17464, 'x_151': 12114, 'x_152': 12372, 'x_153': 12049, 'x_154': 17858, 'x_155': 0, 'x_156': 3849, 'x_157': 12010, 'x_158': 12020, 'x_159': 12022, 'x_160': 0, 'x_161': 2, 'x_162': 382, 'x_163': 4, 'x_164': 0, 'x_165': 0, 'x_166': 4034, 'x_167': 0, 'x_168': 0, 'x_169': 0, 'x_170': 1, 'x_171': 0, 'x_172': 0, 'x_173': 0, 'x_174': 3, 'x_175': 21, 'x_176': 13436, 'x_177': 8387, 'x_178': 39613, 'x_179': 68787, 'x_180': 9, 'x_181': 8, 'x_182': 31546, 'x_183': 12, 'x_184': 0, 'x_185': 0, 'x_186': 7331, 'x_187': 0, 'x_188': 0, 'x_189': 1, 'x_190': 0, 'x_191': 0, 'x_192': 220, 'x_193': 474544, 'x_194': 0, 'x_195': 0, 'x_196': 1, 'x_197': 0, 'x_198': 0, 'x_199': 0, 'x_200': 1, 'x_201': 7, 'x_202': 12, 'x_203': 2, 'x_204': 397, 'x_205': 102, 'x_206': 4, 'x_207': 10, 'x_208': 757, 'x_209': 12, 'x_210': 0, 'x_211': 0, 'x_212': 60, 'x_213': 0, 'x_214': 0, 'x_215': 0, 'x_216': 0, 'x_217': 0, 'x_218': 1, 'x_219': 988, 'x_220': 0, 'x_221': 0, 'x_222': 2800, 'x_223': 2800, 'x_224': 0, 'x_225': 0, 'x_226': 2801, 'x_227': 2808, 'x_228': 2800, 'x_229': 2800, 'x_230': 2802, 'x_231': 2801, 'x_232': 2803, 'x_233': 2800, 'x_234': 2802, 'x_235': 2800, 'x_236': 0, 'x_237': 0, 'x_238': 2800, 'x_239': 0, 'x_240': 0, 'x_241': 2800, 'x_242': 0, 'x_243': 0, 'x_244': 0, 'x_245': 5196, 'x_246': 0, 'x_247': 0, 'x_248': 1000, 'x_249': 1000, 'x_250': 0, 'x_251': 1000, 'x_252': 1000, 'x_253': 1000, 'x_254': 0, 'x_255': 1000, 'x_256': 1002, 'x_257': 1000, 'x_258': 1002, 'x_259': 1000, 'x_260': 1002, 'x_261': 1000, 'x_262': 0, 'x_263': 0, 'x_264': 1000, 'x_265': 0, 'x_266': 1000, 'x_267': 1000, 'x_268': 0, 'x_269': 0, 'x_270': 0, 'x_271': 2006, 'x_272': 0, 'x_273': 0, 'x_274': 10000, 'x_275': 10000, 'x_276': 0, 'x_277': 0, 'x_278': 10000, 'x_279': 10000, 'x_280': 10000, 'x_281': 10000, 'x_282': 0, 'x_283': 0, 'x_284': 0, 'x_285': 0, 'x_286': 10000, 'x_287': 0, 'x_288': 0, 'x_289': 0, 'x_290': 0, 'x_291': 5000, 'x_292': 5000, 'x_293': 0, 'x_294': 0, 'x_295': 0, 'x_296': 5000, 'x_297': 0, 'x_298': 5000, 'x_299': 5000, 'x_300': 5000, 'x_301': 5000, 'x_302': 5000, 'x_303': 5000, 'x_304': 5000, 'x_305': 0, 'x_306': 0, 'x_307': 5000, 'x_308': 0, 'x_309': 0, 'x_310': 0, 'x_311': 0, 'x_312': 0, 'x_313': 0, 'x_314': 5085, 'x_315': 0, 'x_316': 0, 'x_317': 100, 'x_318': 100, 'x_319': 0, 'x_320': 100, 'x_321': 100, 'x_322': 100, 'x_323': 100, 'x_324': 100, 'x_325': 100, 'x_326': 0, 'x_327': 0, 'x_328': 100, 'x_329': 100, 'x_330': 100, 'x_331': 0, 'x_332': 100, 'x_333': 0, 'x_334': 200, 'x_335': 200, 'x_336': 0, 'x_337': 270, 'x_338': 200, 'x_339': 270, 'x_340': 270, 'x_341': 270, 'x_342': 270, 'x_343': 0, 'x_344': 0, 'x_345': 270, 'x_346': 270, 'x_347': 270, 'x_348': 0, 'x_349': 270, 'x_350': 0, 'x_351': 60, 'x_352': 60, 'x_353': 0, 'x_354': 60, 'x_355': 60, 'x_356': 60, 'x_357': 60, 'x_358': 60, 'x_359': 60, 'x_360': 0, 'x_361': 0, 'x_362': 60, 'x_363': 60, 'x_364': 60, 'x_365': 0, 'x_366': 60, 'x_367': 0, 'x_368': 150, 'x_369': 150, 'x_370': 0, 'x_371': 150, 'x_372': 150, 'x_373': 150, 'x_374': 150, 'x_375': 150, 'x_376': 150, 'x_377': 150, 'x_378': 150, 'x_379': 150, 'x_380': 150, 'x_381': 150, 'x_382': 150, 'x_383': 0, 'x_384': 150, 'x_385': 0, 'x_386': 150, 'x_387': 150, 'x_388': 0, 'x_389': 0, 'x_390': 150, 'x_391': 200, 'x_392': 0, 'x_393': 0, 'x_394': 50, 'x_395': 0, 'x_396': 50, 'x_397': 50, 'x_398': 50, 'x_399': 0, 'x_400': 50, 'x_401': 50, 'x_402': 733, 'x_403': 700, 'x_404': 733, 'x_405': 700, 'x_406': 0, 'x_407': 733, 'x_408': 0, 'x_409': 700, 'x_410': 700, 'x_411': 733, 'x_412': 733, 'x_413': 733, 'x_414': 0, 'x_415': 700, 'x_416': 700, 'x_417': 733, 'x_418': 733, 'x_419': 745, 'x_420': 733, 'x_421': 733, 'x_422': 726, 'x_423': 3, 'x_424': 733, 'x_425': 5, 'x_426': 733, 'x_427': 733, 'x_428': 733, 'x_429': 0, 'x_430': 733, 'x_431': 700, 'x_432': 733, 'x_433': 700, 'x_434': 733, 'x_435': 733, 'x_436': 700, 'x_437': 700, 'x_438': 745, 'x_439': 700, 'x_440': 0, 'x_441': 769, 'x_442': 0, 'x_443': 351, 'x_444': 700, 'x_445': 4, 'x_446': 0, 'x_447': 0, 'x_448': 0, 'x_449': 0, 'x_450': 0, 'x_451': 5, 'x_452': 0, 'x_453': 0, 'x_454': 114, 'x_455': 391, 'x_456': 514, 'x_457': 578, 'x_458': 563, 'x_459': 0, 'x_460': 0, 'x_461': 733, 'x_462': 6, 'x_463': 733, 'x_464': 0, 'x_465': 2, 'x_466': 733, 'x_467': 0, 'x_468': 0, 'x_469': 400, 'x_470': 7361, 'x_471': 9475, 'x_472': 1300, 'x_473': 4525, 'x_474': 1300, 'x_475': 1300, 'x_476': 1300, 'x_477': 400, 'x_478': 1300, 'x_479': 1300, 'x_480': 1300, 'x_481': 0, 'x_482': 0, 'x_483': 1300, 'x_484': 0, 'x_485': 0, 'x_486': 400, 'x_487': 3636, 'x_488': 0, 'x_489': 2690, 'x_490': 0, 'x_491': 0, 'x_492': 0, 'x_493': 0, 'x_494': 0, 'x_495': 0, 'x_496': 502, 'x_497': 0, 'x_498': 0, 'x_499': 0, 'x_500': 0, 'x_501': 0, 'x_502': 0, 'x_503': 0, 'x_504': 0, 'x_505': 0, 'x_506': 0, 'x_507': 0, 'x_508': 0, 'x_509': 3000, 'x_510': 3000, 'x_511': 3000, 'x_512': 0, 'x_513': 0, 'x_514': 3000, 'x_515': 3660, 'x_516': 3329, 'x_517': 3328, 'x_518': 2651, 'x_519': 3066, 'x_520': 3091, 'x_521': 312, 'x_522': 3016, 'x_523': 3000, 'x_524': 3000, 'x_525': 3329, 'x_526': 3000, 'x_527': 0, 'x_528': 0, 'x_529': 3, 'x_530': 0, 'x_531': 0, 'x_532': 0, 'x_533': 0, 'x_534': 0, 'x_535': 5, 'x_536': 1, 'x_537': 2, 'x_538': 3, 'x_539': 0, 'x_540': 3064, 'x_541': 0, 'x_542': 0, 'x_543': 0, 'x_544': 0, 'x_545': 0, 'x_546': 0, 'x_547': 0, 'x_548': 0, 'x_549': 0, 'x_550': 0, 'x_551': 0, 'x_552': 0, 'x_553': 0, 'x_554': 0, 'x_555': 0, 'x_556': 0, 'x_557': 0, 'x_558': 0, 'x_559': 0, 'x_560': 0, 'x_561': 157443, 'x_562': 0, 'x_563': 0, 'x_564': 0, 'x_565': 0, 'x_566': 0, 'x_567': 140483, 'x_568': 72489, 'x_569': 74403, 'x_570': 32, 'x_571': 200, 'x_572': 90803, 'x_573': 1, 'x_574': 36505, 'x_575': 0, 'x_576': 0, 'x_577': 149831, 'x_578': 0, 'x_579': 0, 'x_580': 0, 'x_581': 0, 'x_582': 0, 'x_583': 0, 'x_584': 0, 'x_585': 0, 'x_586': 0, 'x_587': 0, 'x_588': 0, 'x_589': 0, 'x_590': 0, 'x_591': 0, 'x_592': 14992, 'x_593': 0, 'x_594': 0, 'x_595': 0, 'x_596': 0, 'x_597': 0, 'x_598': 0, 'x_599': 0, 'x_600': 0, 'x_601': 0, 'x_602': 0, 'x_603': 0, 'x_604': 0, 'x_605': 0, 'x_606': 0, 'x_607': 0, 'x_608': 0, 'x_609': 0, 'x_610': 0, 'x_611': 0, 'x_612': 0, 'x_613': 0, 'x_614': 0, 'x_615': 0, 'x_616': 0, 'x_617': 0, 'x_618': 0, 'x_619': 1506, 'x_620': 0, 'x_621': 0, 'x_622': 0, 'x_623': 0, 'x_624': 0, 'x_625': 0, 'x_626': 0, 'x_627': 9229, 'x_628': 9381, 'x_629': 9126, 'x_630': 9109, 'x_631': 9069, 'x_632': 0, 'x_633': 0, 'x_634': 0, 'x_635': 9139, 'x_636': 0, 'x_637': 0, 'x_638': 9106, 'x_639': 9086, 'x_640': 0, 'x_641': 0, 'x_642': 0, 'x_643': 9212, 'x_644': 0, 'x_645': 0, 'x_646': 0, 'x_647': 0, 'x_648': 0, 'x_649': 0, 'x_650': 0, 'x_651': 1, 'x_652': 0, 'x_653': 0, 'x_654': 0, 'x_655': 0, 'x_656': 0, 'x_657': 0, 'x_658': 0, 'x_659': 0, 'x_660': 0, 'x_661': 0, 'x_662': 0, 'x_663': 0, 'x_664': 0, 'x_665': 0, 'x_666': 0, 'x_667': 0, 'x_668': 0, 'x_669': 0, 'x_670': 0, 'x_671': 0, 'x_672': 0, 'x_673': 0, 'x_674': 0, 'x_675': 0, 'x_676': 0}. Best is trial 0 with value: 0.7201585159559923.\n",
      "[I 2025-09-26 01:55:29,562] Trial 6 finished with value: 0.6736766141440885 and parameters: {'x_0': 12000, 'x_1': 12000, 'x_2': 12000, 'x_3': 12000, 'x_4': 12000, 'x_5': 12000, 'x_6': 12000, 'x_7': 0, 'x_8': 12000, 'x_9': 4380, 'x_10': 3828, 'x_11': 4368, 'x_12': 3784, 'x_13': 4018, 'x_14': 4289, 'x_15': 4444, 'x_16': 1690, 'x_17': 4262, 'x_18': 341, 'x_19': 2440, 'x_20': 34, 'x_21': 3169, 'x_22': 2461, 'x_23': 2131, 'x_24': 2500, 'x_25': 268, 'x_26': 443, 'x_27': 112, 'x_28': 37, 'x_29': 1726, 'x_30': 1244, 'x_31': 190, 'x_32': 29, 'x_33': 196, 'x_34': 46, 'x_35': 18621, 'x_36': 18392, 'x_37': 2, 'x_38': 13888, 'x_39': 17605, 'x_40': 11661, 'x_41': 17308, 'x_42': 101, 'x_43': 3396, 'x_44': 4, 'x_45': 13232, 'x_46': 12000, 'x_47': 10525, 'x_48': 114, 'x_49': 0, 'x_50': 287, 'x_51': 1, 'x_52': 20000, 'x_53': 0, 'x_54': 0, 'x_55': 0, 'x_56': 20000, 'x_57': 0, 'x_58': 0, 'x_59': 30000, 'x_60': 50000, 'x_61': 20000, 'x_62': 20000, 'x_63': 0, 'x_64': 50000, 'x_65': 20000, 'x_66': 0, 'x_67': 0, 'x_68': 30000, 'x_69': 30000, 'x_70': 0, 'x_71': 0, 'x_72': 0, 'x_73': 0, 'x_74': 0, 'x_75': 50000, 'x_76': 0, 'x_77': 0, 'x_78': 0, 'x_79': 0, 'x_80': 0, 'x_81': 0, 'x_82': 0, 'x_83': 0, 'x_84': 0, 'x_85': 0, 'x_86': 0, 'x_87': 0, 'x_88': 0, 'x_89': 0, 'x_90': 0, 'x_91': 0, 'x_92': 0, 'x_93': 0, 'x_94': 0, 'x_95': 0, 'x_96': 0, 'x_97': 0, 'x_98': 0, 'x_99': 0, 'x_100': 0, 'x_101': 0, 'x_102': 0, 'x_103': 0, 'x_104': 0, 'x_105': 0, 'x_106': 0, 'x_107': 0, 'x_108': 0, 'x_109': 0, 'x_110': 0, 'x_111': 0, 'x_112': 0, 'x_113': 0, 'x_114': 0, 'x_115': 0, 'x_116': 0, 'x_117': 0, 'x_118': 0, 'x_119': 0, 'x_120': 0, 'x_121': 0, 'x_122': 0, 'x_123': 0, 'x_124': 0, 'x_125': 0, 'x_126': 0, 'x_127': 0, 'x_128': 0, 'x_129': 0, 'x_130': 0, 'x_131': 0, 'x_132': 0, 'x_133': 1493, 'x_134': 120, 'x_135': 3, 'x_136': 7045, 'x_137': 121, 'x_138': 277, 'x_139': 362, 'x_140': 652, 'x_141': 698, 'x_142': 14, 'x_143': 3335, 'x_144': 894, 'x_145': 894, 'x_146': 38, 'x_147': 3, 'x_148': 2365, 'x_149': 488, 'x_150': 36, 'x_151': 406, 'x_152': 1727, 'x_153': 937, 'x_154': 16, 'x_155': 8, 'x_156': 913, 'x_157': 119, 'x_158': 126, 'x_159': 44, 'x_160': 72, 'x_161': 217, 'x_162': 853, 'x_163': 255, 'x_164': 147, 'x_165': 3, 'x_166': 909, 'x_167': 2, 'x_168': 2, 'x_169': 139, 'x_170': 0, 'x_171': 0, 'x_172': 0, 'x_173': 0, 'x_174': 0, 'x_175': 0, 'x_176': 0, 'x_177': 0, 'x_178': 0, 'x_179': 0, 'x_180': 0, 'x_181': 0, 'x_182': 0, 'x_183': 0, 'x_184': 0, 'x_185': 0, 'x_186': 0, 'x_187': 0, 'x_188': 0, 'x_189': 0, 'x_190': 0, 'x_191': 0, 'x_192': 0, 'x_193': 0, 'x_194': 0, 'x_195': 0, 'x_196': 0, 'x_197': 0, 'x_198': 0, 'x_199': 0, 'x_200': 0, 'x_201': 0, 'x_202': 0, 'x_203': 0, 'x_204': 0, 'x_205': 0, 'x_206': 0, 'x_207': 0, 'x_208': 0, 'x_209': 0, 'x_210': 0, 'x_211': 0, 'x_212': 0, 'x_213': 0, 'x_214': 0, 'x_215': 0, 'x_216': 0, 'x_217': 0, 'x_218': 0, 'x_219': 0, 'x_220': 0, 'x_221': 0, 'x_222': 2800, 'x_223': 2800, 'x_224': 0, 'x_225': 0, 'x_226': 2800, 'x_227': 2800, 'x_228': 2800, 'x_229': 2800, 'x_230': 2800, 'x_231': 2800, 'x_232': 2800, 'x_233': 2800, 'x_234': 2800, 'x_235': 2800, 'x_236': 0, 'x_237': 0, 'x_238': 2800, 'x_239': 0, 'x_240': 0, 'x_241': 2800, 'x_242': 0, 'x_243': 0, 'x_244': 0, 'x_245': 2800, 'x_246': 0, 'x_247': 0, 'x_248': 1000, 'x_249': 1000, 'x_250': 0, 'x_251': 1000, 'x_252': 1000, 'x_253': 1000, 'x_254': 0, 'x_255': 1000, 'x_256': 1000, 'x_257': 1000, 'x_258': 1000, 'x_259': 1000, 'x_260': 1000, 'x_261': 1000, 'x_262': 0, 'x_263': 0, 'x_264': 1000, 'x_265': 0, 'x_266': 1000, 'x_267': 1000, 'x_268': 0, 'x_269': 0, 'x_270': 0, 'x_271': 1000, 'x_272': 0, 'x_273': 0, 'x_274': 10000, 'x_275': 10000, 'x_276': 0, 'x_277': 0, 'x_278': 10000, 'x_279': 10000, 'x_280': 10000, 'x_281': 10000, 'x_282': 0, 'x_283': 0, 'x_284': 0, 'x_285': 0, 'x_286': 10000, 'x_287': 0, 'x_288': 0, 'x_289': 0, 'x_290': 0, 'x_291': 5000, 'x_292': 5000, 'x_293': 0, 'x_294': 0, 'x_295': 0, 'x_296': 5000, 'x_297': 0, 'x_298': 5000, 'x_299': 5000, 'x_300': 5000, 'x_301': 5000, 'x_302': 5000, 'x_303': 5000, 'x_304': 5000, 'x_305': 0, 'x_306': 0, 'x_307': 5000, 'x_308': 0, 'x_309': 0, 'x_310': 0, 'x_311': 0, 'x_312': 0, 'x_313': 0, 'x_314': 5000, 'x_315': 0, 'x_316': 0, 'x_317': 100, 'x_318': 100, 'x_319': 0, 'x_320': 100, 'x_321': 100, 'x_322': 100, 'x_323': 100, 'x_324': 100, 'x_325': 100, 'x_326': 0, 'x_327': 0, 'x_328': 100, 'x_329': 100, 'x_330': 100, 'x_331': 0, 'x_332': 100, 'x_333': 0, 'x_334': 200, 'x_335': 200, 'x_336': 0, 'x_337': 270, 'x_338': 200, 'x_339': 270, 'x_340': 270, 'x_341': 270, 'x_342': 270, 'x_343': 0, 'x_344': 0, 'x_345': 270, 'x_346': 270, 'x_347': 270, 'x_348': 0, 'x_349': 270, 'x_350': 0, 'x_351': 60, 'x_352': 60, 'x_353': 0, 'x_354': 60, 'x_355': 60, 'x_356': 60, 'x_357': 60, 'x_358': 60, 'x_359': 60, 'x_360': 0, 'x_361': 0, 'x_362': 60, 'x_363': 60, 'x_364': 60, 'x_365': 0, 'x_366': 60, 'x_367': 0, 'x_368': 150, 'x_369': 150, 'x_370': 0, 'x_371': 150, 'x_372': 150, 'x_373': 150, 'x_374': 150, 'x_375': 150, 'x_376': 150, 'x_377': 150, 'x_378': 150, 'x_379': 150, 'x_380': 150, 'x_381': 150, 'x_382': 150, 'x_383': 0, 'x_384': 150, 'x_385': 0, 'x_386': 150, 'x_387': 150, 'x_388': 0, 'x_389': 0, 'x_390': 150, 'x_391': 150, 'x_392': 0, 'x_393': 0, 'x_394': 50, 'x_395': 0, 'x_396': 50, 'x_397': 50, 'x_398': 50, 'x_399': 0, 'x_400': 50, 'x_401': 50, 'x_402': 700, 'x_403': 700, 'x_404': 700, 'x_405': 700, 'x_406': 0, 'x_407': 700, 'x_408': 0, 'x_409': 700, 'x_410': 700, 'x_411': 700, 'x_412': 700, 'x_413': 700, 'x_414': 0, 'x_415': 700, 'x_416': 700, 'x_417': 700, 'x_418': 700, 'x_419': 700, 'x_420': 700, 'x_421': 700, 'x_422': 700, 'x_423': 0, 'x_424': 700, 'x_425': 0, 'x_426': 700, 'x_427': 700, 'x_428': 700, 'x_429': 0, 'x_430': 700, 'x_431': 700, 'x_432': 700, 'x_433': 700, 'x_434': 700, 'x_435': 700, 'x_436': 700, 'x_437': 700, 'x_438': 700, 'x_439': 700, 'x_440': 0, 'x_441': 700, 'x_442': 0, 'x_443': 0, 'x_444': 700, 'x_445': 0, 'x_446': 0, 'x_447': 0, 'x_448': 0, 'x_449': 0, 'x_450': 0, 'x_451': 0, 'x_452': 0, 'x_453': 0, 'x_454': 0, 'x_455': 0, 'x_456': 0, 'x_457': 0, 'x_458': 0, 'x_459': 0, 'x_460': 0, 'x_461': 700, 'x_462': 0, 'x_463': 700, 'x_464': 0, 'x_465': 0, 'x_466': 700, 'x_467': 0, 'x_468': 0, 'x_469': 56, 'x_470': 4474, 'x_471': 5277, 'x_472': 5562, 'x_473': 3327, 'x_474': 6047, 'x_475': 4272, 'x_476': 4317, 'x_477': 1, 'x_478': 4306, 'x_479': 3852, 'x_480': 4309, 'x_481': 4531, 'x_482': 0, 'x_483': 8467, 'x_484': 0, 'x_485': 0, 'x_486': 2, 'x_487': 1, 'x_488': 0, 'x_489': 10, 'x_490': 0, 'x_491': 0, 'x_492': 0, 'x_493': 0, 'x_494': 0, 'x_495': 0, 'x_496': 0, 'x_497': 0, 'x_498': 0, 'x_499': 0, 'x_500': 0, 'x_501': 0, 'x_502': 0, 'x_503': 0, 'x_504': 0, 'x_505': 0, 'x_506': 0, 'x_507': 0, 'x_508': 0, 'x_509': 0, 'x_510': 0, 'x_511': 0, 'x_512': 0, 'x_513': 0, 'x_514': 0, 'x_515': 0, 'x_516': 0, 'x_517': 0, 'x_518': 0, 'x_519': 0, 'x_520': 0, 'x_521': 0, 'x_522': 0, 'x_523': 0, 'x_524': 0, 'x_525': 0, 'x_526': 0, 'x_527': 0, 'x_528': 0, 'x_529': 0, 'x_530': 0, 'x_531': 0, 'x_532': 0, 'x_533': 0, 'x_534': 0, 'x_535': 0, 'x_536': 0, 'x_537': 0, 'x_538': 0, 'x_539': 0, 'x_540': 0, 'x_541': 0, 'x_542': 0, 'x_543': 0, 'x_544': 0, 'x_545': 0, 'x_546': 0, 'x_547': 0, 'x_548': 0, 'x_549': 0, 'x_550': 0, 'x_551': 0, 'x_552': 0, 'x_553': 0, 'x_554': 0, 'x_555': 0, 'x_556': 0, 'x_557': 0, 'x_558': 0, 'x_559': 0, 'x_560': 0, 'x_561': 0, 'x_562': 0, 'x_563': 0, 'x_564': 0, 'x_565': 0, 'x_566': 0, 'x_567': 0, 'x_568': 0, 'x_569': 0, 'x_570': 0, 'x_571': 0, 'x_572': 0, 'x_573': 0, 'x_574': 0, 'x_575': 0, 'x_576': 0, 'x_577': 0, 'x_578': 0, 'x_579': 0, 'x_580': 0, 'x_581': 0, 'x_582': 0, 'x_583': 0, 'x_584': 0, 'x_585': 0, 'x_586': 0, 'x_587': 0, 'x_588': 0, 'x_589': 0, 'x_590': 0, 'x_591': 0, 'x_592': 0, 'x_593': 0, 'x_594': 0, 'x_595': 0, 'x_596': 0, 'x_597': 0, 'x_598': 0, 'x_599': 0, 'x_600': 0, 'x_601': 0, 'x_602': 0, 'x_603': 0, 'x_604': 0, 'x_605': 0, 'x_606': 0, 'x_607': 0, 'x_608': 0, 'x_609': 0, 'x_610': 0, 'x_611': 0, 'x_612': 0, 'x_613': 0, 'x_614': 0, 'x_615': 0, 'x_616': 0, 'x_617': 0, 'x_618': 0, 'x_619': 0, 'x_620': 0, 'x_621': 0, 'x_622': 0, 'x_623': 0, 'x_624': 0, 'x_625': 0, 'x_626': 0, 'x_627': 9100, 'x_628': 9100, 'x_629': 9100, 'x_630': 9100, 'x_631': 0, 'x_632': 0, 'x_633': 0, 'x_634': 0, 'x_635': 9100, 'x_636': 0, 'x_637': 0, 'x_638': 9100, 'x_639': 0, 'x_640': 0, 'x_641': 0, 'x_642': 0, 'x_643': 9100, 'x_644': 0, 'x_645': 0, 'x_646': 0, 'x_647': 0, 'x_648': 0, 'x_649': 0, 'x_650': 0, 'x_651': 0, 'x_652': 0, 'x_653': 0, 'x_654': 0, 'x_655': 0, 'x_656': 0, 'x_657': 0, 'x_658': 0, 'x_659': 0, 'x_660': 0, 'x_661': 0, 'x_662': 0, 'x_663': 0, 'x_664': 0, 'x_665': 0, 'x_666': 0, 'x_667': 0, 'x_668': 0, 'x_669': 0, 'x_670': 0, 'x_671': 0, 'x_672': 0, 'x_673': 0, 'x_674': 0, 'x_675': 0, 'x_676': 0}. Best is trial 0 with value: 0.7201585159559923.\n"
     ]
    }
   ],
   "source": [
    "services_weights = service_types.set_index('name')['infrastructure_weight'].to_dict()\n",
    "\n",
    "objective = WeightedObjective(num_params=facade.num_params, facade=facade, weights=services_weights, max_evals=MAX_EVALS)\n",
    "\n",
    "constraints = WeightedConstraints(num_params=facade.num_params, facade=facade)\n",
    "\n",
    "tpe_optimizer = TPEOptimizer(\n",
    "    objective=objective, constraints=constraints, vars_chooser=GradientChooser(facade, facade.num_params, num_top=5)\n",
    ")\n",
    "\n",
    "best_x, best_val, perc, func_evals = tpe_optimizer.run(max_runs=MAX_RUNS, timeout=TIMEOUT, initial_runs_num=1)"
   ]
  },
  {
   "cell_type": "markdown",
   "id": "3bc80a2f",
   "metadata": {},
   "source": [
    "### Результат\n",
    "\n",
    "Если для данного типа сервиса все хорошо в плане обеспеченности с самого начала, то он не оптимизируется и для него обеспеченность считается той же, что и раньше."
   ]
  },
  {
   "cell_type": "code",
   "execution_count": 29,
   "id": "b58f5571",
   "metadata": {},
   "outputs": [],
   "source": [
    "prov_gdfs = {}\n",
    "for st_id in service_types.index:\n",
    "    st_name = service_types.loc[st_id, 'name']\n",
    "    if st_name in facade._chosen_service_types:\n",
    "        prov_df = facade._provision_adapter.get_last_provision_df(st_name)\n",
    "        prov_gdf = blocks[['geometry']].join(prov_df, how='right')\n",
    "        prov_gdfs[st_name] = prov_gdf"
   ]
  },
  {
   "cell_type": "code",
   "execution_count": 30,
   "id": "02557302",
   "metadata": {},
   "outputs": [
    {
     "data": {
      "image/png": "[encoded data removed]",
      "text/plain": [
       "<Figure size 640x480 with 2 Axes>"
      ]
     },
     "metadata": {},
     "output_type": "display_data"
    }
   ],
   "source": [
    "ax = prov_gdfs['school'].plot(color='#ddd')\n",
    "prov_gdfs['school'].plot('provision_strong', ax=ax, vmin=0, vmax=1, cmap='RdYlGn', legend=True).set_axis_off()"
   ]
  },
  {
   "cell_type": "markdown",
   "id": "d580c1ce",
   "metadata": {},
   "source": [
    "Чиселки обеспеченности для графика"
   ]
  },
  {
   "cell_type": "code",
   "execution_count": 31,
   "id": "894e4b17",
   "metadata": {},
   "outputs": [],
   "source": [
    "prov_totals_after = {}\n",
    "for st_name, prov_gdf in prov_gdfs.items():\n",
    "    if prov_gdf.demand.sum() == 0:\n",
    "        total = None\n",
    "    else:\n",
    "        total = float(provision_strong_total(prov_gdf))\n",
    "    prov_totals_after[st_name] = total"
   ]
  },
  {
   "cell_type": "markdown",
   "id": "0d7a8885",
   "metadata": {},
   "source": [
    "Если какой-то сервис тут отсутствует, можно брать с `base_scenario` (?? я подумаю еще правильно ли это)"
   ]
  },
  {
   "cell_type": "code",
   "execution_count": 32,
   "id": "2d1c01b6",
   "metadata": {},
   "outputs": [
    {
     "data": {
      "text/plain": [
       "{'park': 1.0,\n",
       " 'beach': 1.0,\n",
       " 'kindergarten': 0.16489988221436985,\n",
       " 'school': 0.3439106801821654,\n",
       " 'university': 1.0,\n",
       " 'polyclinic': 0.9158415841584159,\n",
       " 'pharmacy': 0.3022432113341204,\n",
       " 'hospital': 0.5010845986984815,\n",
       " 'library': 1.0,\n",
       " 'museum': 1.0,\n",
       " 'theatre': 1.0,\n",
       " 'cinema': 1.0,\n",
       " 'mall': 1.0,\n",
       " 'stadium': 0.9721518987341772,\n",
       " 'cafe': 0.5317796610169492,\n",
       " 'restaurant': 1.0,\n",
       " 'bar': 0.30134680134680136,\n",
       " 'pitch': 1.0,\n",
       " 'playground': 1.0,\n",
       " 'police': 1.0,\n",
       " 'train_station': 0.9775910364145658,\n",
       " 'supermarket': 0.09335288367546432,\n",
       " 'market': 1.0,\n",
       " 'bank': 1.0,\n",
       " 'veterinary': 1.0,\n",
       " 'hotel': 1.0,\n",
       " 'religion': 1.0,\n",
       " 'sanatorium': 0.5630252100840336}"
      ]
     },
     "execution_count": 32,
     "metadata": {},
     "output_type": "execute_result"
    }
   ],
   "source": [
    "prov_totals_after"
   ]
  },
  {
   "cell_type": "code",
   "execution_count": 38,
   "id": "8d1380ac",
   "metadata": {},
   "outputs": [
    {
     "data": {
      "text/plain": [
       "<Axes: >"
      ]
     },
     "execution_count": 38,
     "metadata": {},
     "output_type": "execute_result"
    },
    {
     "data": {
      "image/png": "[encoded data removed]",
      "text/plain": [
       "<Figure size 640x480 with 1 Axes>"
      ]
     },
     "metadata": {},
     "output_type": "display_data"
    }
   ],
   "source": [
    "provisions_df = pd.DataFrame.from_dict({'before': prov_totals_before, 'after': prov_totals_after})\n",
    "provisions_df.plot.bar()"
   ]
  },
  {
   "cell_type": "markdown",
   "id": "8810de6e",
   "metadata": {},
   "source": [
    "# **Ф26**: Модуль ценностно-ориентированного моделирования программ развития населенного пункта.\n",
    "\n",
    "Берем результат из пункта `2.b` и разворачиваем его на кварталы: куда что ставить:\n",
    "\n",
    "- `block_id` -- номер квартала, куда ставим.\n",
    "- `service_type` -- тип сервиса.\n",
    "- `site_area` -- занимаемая площадь квартала.\n",
    "- `build_floor_area` -- занимаемая площадь зданий.\n",
    "- `capacity` -- суммарная емкость типа застройки\n",
    "- `count` -- количество расставляемых объектов данного типа в данном квартале"
   ]
  },
  {
   "cell_type": "code",
   "execution_count": 39,
   "id": "f4bc3cc9",
   "metadata": {},
   "outputs": [
    {
     "data": {
      "application/vnd.microsoft.datawrangler.viewer.v0+json": {
       "columns": [
        {
         "name": "index",
         "rawType": "int64",
         "type": "integer"
        },
        {
         "name": "block_id",
         "rawType": "int64",
         "type": "integer"
        },
        {
         "name": "service_type",
         "rawType": "object",
         "type": "string"
        },
        {
         "name": "site_area",
         "rawType": "float64",
         "type": "float"
        },
        {
         "name": "build_floor_area",
         "rawType": "float64",
         "type": "float"
        },
        {
         "name": "capacity",
         "rawType": "int64",
         "type": "integer"
        },
        {
         "name": "count",
         "rawType": "int64",
         "type": "integer"
        }
       ],
       "ref": "082b18dc-5abd-4aaa-b56f-68f32d7209bd",
       "rows": [
        [
         "0",
         "8",
         "park",
         "12000.0",
         "0.0",
         "270",
         "1"
        ],
        [
         "5",
         "13",
         "park",
         "12000.0",
         "0.0",
         "270",
         "1"
        ],
        [
         "10",
         "14",
         "park",
         "12000.0",
         "0.0",
         "270",
         "1"
        ],
        [
         "15",
         "15",
         "park",
         "12000.0",
         "0.0",
         "270",
         "1"
        ],
        [
         "20",
         "30",
         "park",
         "12000.0",
         "0.0",
         "270",
         "1"
        ],
        [
         "25",
         "36",
         "park",
         "12000.0",
         "0.0",
         "270",
         "1"
        ],
        [
         "30",
         "43",
         "park",
         "12000.0",
         "0.0",
         "270",
         "1"
        ],
        [
         "40",
         "62",
         "park",
         "12000.0",
         "0.0",
         "270",
         "1"
        ],
        [
         "45",
         "8",
         "beach",
         "1440.0",
         "0.0",
         "480",
         "1"
        ],
        [
         "48",
         "13",
         "beach",
         "1440.0",
         "0.0",
         "480",
         "1"
        ],
        [
         "51",
         "14",
         "beach",
         "1440.0",
         "0.0",
         "480",
         "1"
        ],
        [
         "54",
         "15",
         "beach",
         "1440.0",
         "0.0",
         "480",
         "1"
        ],
        [
         "57",
         "30",
         "beach",
         "1440.0",
         "0.0",
         "480",
         "1"
        ],
        [
         "60",
         "36",
         "beach",
         "1440.0",
         "0.0",
         "480",
         "1"
        ],
        [
         "63",
         "43",
         "beach",
         "1440.0",
         "0.0",
         "480",
         "1"
        ],
        [
         "66",
         "61",
         "beach",
         "1440.0",
         "0.0",
         "480",
         "1"
        ],
        [
         "69",
         "62",
         "beach",
         "1440.0",
         "0.0",
         "480",
         "1"
        ],
        [
         "75",
         "1",
         "kindergarten",
         "0.0",
         "180.0",
         "80",
         "1"
        ],
        [
         "81",
         "3",
         "kindergarten",
         "0.0",
         "180.0",
         "80",
         "1"
        ],
        [
         "93",
         "7",
         "kindergarten",
         "0.0",
         "180.0",
         "80",
         "1"
        ],
        [
         "99",
         "9",
         "kindergarten",
         "0.0",
         "180.0",
         "80",
         "1"
        ],
        [
         "105",
         "32",
         "kindergarten",
         "0.0",
         "180.0",
         "80",
         "1"
        ],
        [
         "111",
         "35",
         "kindergarten",
         "0.0",
         "180.0",
         "80",
         "1"
        ],
        [
         "117",
         "38",
         "kindergarten",
         "0.0",
         "180.0",
         "80",
         "1"
        ],
        [
         "123",
         "39",
         "kindergarten",
         "0.0",
         "180.0",
         "80",
         "1"
        ],
        [
         "129",
         "41",
         "kindergarten",
         "0.0",
         "180.0",
         "80",
         "1"
        ],
        [
         "135",
         "45",
         "kindergarten",
         "0.0",
         "180.0",
         "80",
         "1"
        ],
        [
         "141",
         "46",
         "kindergarten",
         "0.0",
         "180.0",
         "80",
         "1"
        ],
        [
         "147",
         "47",
         "kindergarten",
         "0.0",
         "180.0",
         "80",
         "1"
        ],
        [
         "153",
         "54",
         "kindergarten",
         "0.0",
         "180.0",
         "80",
         "1"
        ],
        [
         "165",
         "65",
         "kindergarten",
         "0.0",
         "180.0",
         "80",
         "1"
        ],
        [
         "171",
         "68",
         "kindergarten",
         "0.0",
         "180.0",
         "80",
         "1"
        ],
        [
         "174",
         "1",
         "school",
         "18500.0",
         "2500.0",
         "250",
         "1"
        ],
        [
         "185",
         "3",
         "school",
         "0.0",
         "2200.0",
         "250",
         "1"
        ],
        [
         "199",
         "7",
         "school",
         "0.0",
         "2200.0",
         "250",
         "1"
        ],
        [
         "206",
         "9",
         "school",
         "0.0",
         "2200.0",
         "250",
         "1"
        ],
        [
         "213",
         "32",
         "school",
         "0.0",
         "2200.0",
         "250",
         "1"
        ],
        [
         "220",
         "35",
         "school",
         "0.0",
         "2200.0",
         "250",
         "1"
        ],
        [
         "227",
         "38",
         "school",
         "0.0",
         "2200.0",
         "250",
         "1"
        ],
        [
         "234",
         "39",
         "school",
         "0.0",
         "2200.0",
         "250",
         "1"
        ],
        [
         "248",
         "45",
         "school",
         "0.0",
         "2200.0",
         "250",
         "1"
        ],
        [
         "255",
         "46",
         "school",
         "0.0",
         "2200.0",
         "250",
         "1"
        ],
        [
         "262",
         "47",
         "school",
         "0.0",
         "2200.0",
         "250",
         "1"
        ],
        [
         "293",
         "1",
         "university",
         "20000.0",
         "5000.0",
         "500",
         "1"
        ],
        [
         "305",
         "8",
         "university",
         "20000.0",
         "5000.0",
         "500",
         "1"
        ],
        [
         "311",
         "13",
         "university",
         "20000.0",
         "5000.0",
         "500",
         "1"
        ],
        [
         "315",
         "14",
         "university",
         "30000.0",
         "10000.0",
         "1000",
         "1"
        ],
        [
         "317",
         "15",
         "university",
         "20000.0",
         "5000.0",
         "500",
         "1"
        ],
        [
         "318",
         "15",
         "university",
         "30000.0",
         "10000.0",
         "1000",
         "2"
        ],
        [
         "319",
         "15",
         "university",
         "60000.0",
         "30000.0",
         "3000",
         "-1"
        ]
       ],
       "shape": {
        "columns": 6,
        "rows": 451
       }
      },
      "text/html": [
       "<div>\n",
       "<style scoped>\n",
       "    .dataframe tbody tr th:only-of-type {\n",
       "        vertical-align: middle;\n",
       "    }\n",
       "\n",
       "    .dataframe tbody tr th {\n",
       "        vertical-align: top;\n",
       "    }\n",
       "\n",
       "    .dataframe thead th {\n",
       "        text-align: right;\n",
       "    }\n",
       "</style>\n",
       "<table border=\"1\" class=\"dataframe\">\n",
       "  <thead>\n",
       "    <tr style=\"text-align: right;\">\n",
       "      <th></th>\n",
       "      <th>block_id</th>\n",
       "      <th>service_type</th>\n",
       "      <th>site_area</th>\n",
       "      <th>build_floor_area</th>\n",
       "      <th>capacity</th>\n",
       "      <th>count</th>\n",
       "    </tr>\n",
       "  </thead>\n",
       "  <tbody>\n",
       "    <tr>\n",
       "      <th>0</th>\n",
       "      <td>8</td>\n",
       "      <td>park</td>\n",
       "      <td>12000.0</td>\n",
       "      <td>0.0</td>\n",
       "      <td>270</td>\n",
       "      <td>1</td>\n",
       "    </tr>\n",
       "    <tr>\n",
       "      <th>5</th>\n",
       "      <td>13</td>\n",
       "      <td>park</td>\n",
       "      <td>12000.0</td>\n",
       "      <td>0.0</td>\n",
       "      <td>270</td>\n",
       "      <td>1</td>\n",
       "    </tr>\n",
       "    <tr>\n",
       "      <th>10</th>\n",
       "      <td>14</td>\n",
       "      <td>park</td>\n",
       "      <td>12000.0</td>\n",
       "      <td>0.0</td>\n",
       "      <td>270</td>\n",
       "      <td>1</td>\n",
       "    </tr>\n",
       "    <tr>\n",
       "      <th>15</th>\n",
       "      <td>15</td>\n",
       "      <td>park</td>\n",
       "      <td>12000.0</td>\n",
       "      <td>0.0</td>\n",
       "      <td>270</td>\n",
       "      <td>1</td>\n",
       "    </tr>\n",
       "    <tr>\n",
       "      <th>20</th>\n",
       "      <td>30</td>\n",
       "      <td>park</td>\n",
       "      <td>12000.0</td>\n",
       "      <td>0.0</td>\n",
       "      <td>270</td>\n",
       "      <td>1</td>\n",
       "    </tr>\n",
       "    <tr>\n",
       "      <th>...</th>\n",
       "      <td>...</td>\n",
       "      <td>...</td>\n",
       "      <td>...</td>\n",
       "      <td>...</td>\n",
       "      <td>...</td>\n",
       "      <td>...</td>\n",
       "    </tr>\n",
       "    <tr>\n",
       "      <th>2842</th>\n",
       "      <td>15</td>\n",
       "      <td>sanatorium</td>\n",
       "      <td>25000.0</td>\n",
       "      <td>7500.0</td>\n",
       "      <td>250</td>\n",
       "      <td>1</td>\n",
       "    </tr>\n",
       "    <tr>\n",
       "      <th>2845</th>\n",
       "      <td>30</td>\n",
       "      <td>sanatorium</td>\n",
       "      <td>25000.0</td>\n",
       "      <td>7500.0</td>\n",
       "      <td>250</td>\n",
       "      <td>1</td>\n",
       "    </tr>\n",
       "    <tr>\n",
       "      <th>2848</th>\n",
       "      <td>32</td>\n",
       "      <td>sanatorium</td>\n",
       "      <td>25000.0</td>\n",
       "      <td>7500.0</td>\n",
       "      <td>250</td>\n",
       "      <td>1</td>\n",
       "    </tr>\n",
       "    <tr>\n",
       "      <th>2851</th>\n",
       "      <td>36</td>\n",
       "      <td>sanatorium</td>\n",
       "      <td>25000.0</td>\n",
       "      <td>7500.0</td>\n",
       "      <td>250</td>\n",
       "      <td>1</td>\n",
       "    </tr>\n",
       "    <tr>\n",
       "      <th>2875</th>\n",
       "      <td>62</td>\n",
       "      <td>sanatorium</td>\n",
       "      <td>25000.0</td>\n",
       "      <td>7500.0</td>\n",
       "      <td>250</td>\n",
       "      <td>1</td>\n",
       "    </tr>\n",
       "  </tbody>\n",
       "</table>\n",
       "<p>451 rows × 6 columns</p>\n",
       "</div>"
      ],
      "text/plain": [
       "      block_id service_type  site_area  build_floor_area  capacity  count\n",
       "0            8         park    12000.0               0.0       270      1\n",
       "5           13         park    12000.0               0.0       270      1\n",
       "10          14         park    12000.0               0.0       270      1\n",
       "15          15         park    12000.0               0.0       270      1\n",
       "20          30         park    12000.0               0.0       270      1\n",
       "...        ...          ...        ...               ...       ...    ...\n",
       "2842        15   sanatorium    25000.0            7500.0       250      1\n",
       "2845        30   sanatorium    25000.0            7500.0       250      1\n",
       "2848        32   sanatorium    25000.0            7500.0       250      1\n",
       "2851        36   sanatorium    25000.0            7500.0       250      1\n",
       "2875        62   sanatorium    25000.0            7500.0       250      1\n",
       "\n",
       "[451 rows x 6 columns]"
      ]
     },
     "execution_count": 39,
     "metadata": {},
     "output_type": "execute_result"
    }
   ],
   "source": [
    "solution_df = facade.solution_to_services_df(best_x)\n",
    "solution_df"
   ]
  },
  {
   "cell_type": "markdown",
   "id": "31b33c61",
   "metadata": {},
   "source": [
    "Отсюда нужно взять `population` для каждого квартала (`index` здесь это тот же индекс из `blocks : pd.DataFrame`)"
   ]
  },
  {
   "cell_type": "code",
   "execution_count": 47,
   "id": "43c52558",
   "metadata": {},
   "outputs": [
    {
     "data": {
      "application/vnd.microsoft.datawrangler.viewer.v0+json": {
       "columns": [
        {
         "name": "index",
         "rawType": "int64",
         "type": "integer"
        },
        {
         "name": "population",
         "rawType": "float64",
         "type": "float"
        },
        {
         "name": "build_floor_area",
         "rawType": "float64",
         "type": "float"
        },
        {
         "name": "living_area",
         "rawType": "float64",
         "type": "float"
        },
        {
         "name": "footprint_area",
         "rawType": "float64",
         "type": "float"
        }
       ],
       "ref": "218a3525-5ac9-4b48-956d-65d72c4e8520",
       "rows": [
        [
         "0",
         "0.0",
         "40479.94643858046",
         "0.0",
         "0.0"
        ],
        [
         "1",
         "0.0",
         "604588.4804442821",
         "0.0",
         "0.0"
        ],
        [
         "2",
         "0.0",
         "164663.8598295596",
         "0.0",
         "0.0"
        ],
        [
         "3",
         "12405.0",
         "145414.64925969503",
         "132912.64925969503",
         "25851.49320172357"
        ],
        [
         "4",
         "0.0",
         "16.48915247066372",
         "0.0",
         "0.0"
        ],
        [
         "5",
         "1.0",
         "44.93413471456896",
         "19.934134714568962",
         "7.988290615923373"
        ],
        [
         "6",
         "0.0",
         "17208.304119940014",
         "0.0",
         "0.0"
        ],
        [
         "7",
         "1829.0",
         "27156.015333842453",
         "19599.015333842453",
         "4827.736059349771"
        ],
        [
         "8",
         "0.0",
         "14181.330641517729",
         "0.0",
         "0.0"
        ],
        [
         "9",
         "14653.0",
         "169498.66275662777",
         "156996.66275662777",
         "30133.095601178276"
        ],
        [
         "10",
         "0.0",
         "38010.732421998124",
         "0.0",
         "7602.1464843996255"
        ],
        [
         "11",
         "0.0",
         "284605.59159702796",
         "0.0",
         "30357.92977034965"
        ],
        [
         "12",
         "0.0",
         "36117.15971605937",
         "0.0",
         "7223.431943211874"
        ],
        [
         "13",
         "0.0",
         "12616.206138618176",
         "0.0",
         "0.0"
        ],
        [
         "14",
         "0.0",
         "24837.8296542256",
         "0.0",
         "0.0"
        ],
        [
         "15",
         "0.0",
         "38891.663892659555",
         "0.0",
         "0.0"
        ],
        [
         "16",
         "0.0",
         "19309.6859359177",
         "0.0",
         "0.0"
        ],
        [
         "17",
         "0.0",
         "29901.156403313144",
         "0.0",
         "5980.231280662629"
        ],
        [
         "18",
         "0.0",
         "19784.69127510104",
         "0.0",
         "0.0"
        ],
        [
         "19",
         "0.0",
         "9627.36652818024",
         "0.0",
         "1925.4733056360483"
        ],
        [
         "20",
         "0.0",
         "28976.356877515023",
         "0.0",
         "5795.271375503005"
        ],
        [
         "21",
         "0.0",
         "837.1943672737107",
         "0.0",
         "167.43887345474215"
        ],
        [
         "22",
         "0.0",
         "1196.0782696643932",
         "0.0",
         "239.21565393287867"
        ],
        [
         "23",
         "0.0",
         "854.8464471177642",
         "0.0",
         "0.0"
        ],
        [
         "24",
         "0.0",
         "1203.0771324442464",
         "0.0",
         "240.6154264888493"
        ],
        [
         "25",
         "0.0",
         "1006.3989482190806",
         "0.0",
         "0.0"
        ],
        [
         "26",
         "0.0",
         "7117.6874900113635",
         "0.0",
         "1423.5374980022727"
        ],
        [
         "27",
         "0.0",
         "23783.762346896063",
         "0.0",
         "0.0"
        ],
        [
         "28",
         "0.0",
         "0.9534719661165023",
         "0.0",
         "0.19069439322330048"
        ],
        [
         "29",
         "0.0",
         "261.6423407111615",
         "0.0",
         "0.0"
        ],
        [
         "30",
         "0.0",
         "37824.07903194052",
         "0.0",
         "0.0"
        ],
        [
         "31",
         "0.0",
         "10138.735349397624",
         "0.0",
         "0.0"
        ],
        [
         "32",
         "0.0",
         "591913.8213141726",
         "0.0",
         "0.0"
        ],
        [
         "33",
         "0.0",
         "36944.75649888215",
         "0.0",
         "7388.95129977643"
        ],
        [
         "34",
         "0.0",
         "38212.54763221383",
         "0.0",
         "7642.5095264427655"
        ],
        [
         "35",
         "14572.0",
         "170297.87340177232",
         "156130.87340177232",
         "30275.177493648414"
        ],
        [
         "36",
         "0.0",
         "38402.41050446054",
         "0.0",
         "0.0"
        ],
        [
         "37",
         "0.0",
         "38847.64295635404",
         "0.0",
         "0.0"
        ],
        [
         "38",
         "0.0",
         "443917.7023272576",
         "0.0",
         "0.0"
        ],
        [
         "39",
         "0.0",
         "130355.77269327099",
         "0.0",
         "0.0"
        ],
        [
         "40",
         "0.0",
         "74598.92414561096",
         "0.0",
         "14919.784829122193"
        ],
        [
         "41",
         "0.0",
         "465.03401563728306",
         "0.0",
         "0.0"
        ],
        [
         "42",
         "0.0",
         "88.50839303115211",
         "0.0",
         "0.0"
        ],
        [
         "43",
         "0.0",
         "24059.187834875076",
         "0.0",
         "0.0"
        ],
        [
         "44",
         "0.0",
         "1078.302847479482",
         "0.0",
         "215.6605694958964"
        ],
        [
         "45",
         "5165.0",
         "72061.26951078617",
         "55344.269510786165",
         "12810.892357473098"
        ],
        [
         "46",
         "3134.0",
         "40310.590776252415",
         "33583.590776252415",
         "7166.327249111542"
        ],
        [
         "47",
         "3911.0",
         "54831.50549039969",
         "41904.50549039969",
         "9747.823198293281"
        ],
        [
         "48",
         "0.0",
         "85.45854927958194",
         "0.0",
         "0.0"
        ],
        [
         "49",
         "0.0",
         "18.18005808537659",
         "0.0",
         "3.6360116170753183"
        ]
       ],
       "shape": {
        "columns": 4,
        "rows": 2700
       }
      },
      "text/html": [
       "<div>\n",
       "<style scoped>\n",
       "    .dataframe tbody tr th:only-of-type {\n",
       "        vertical-align: middle;\n",
       "    }\n",
       "\n",
       "    .dataframe tbody tr th {\n",
       "        vertical-align: top;\n",
       "    }\n",
       "\n",
       "    .dataframe thead th {\n",
       "        text-align: right;\n",
       "    }\n",
       "</style>\n",
       "<table border=\"1\" class=\"dataframe\">\n",
       "  <thead>\n",
       "    <tr style=\"text-align: right;\">\n",
       "      <th></th>\n",
       "      <th>population</th>\n",
       "      <th>build_floor_area</th>\n",
       "      <th>living_area</th>\n",
       "      <th>footprint_area</th>\n",
       "    </tr>\n",
       "  </thead>\n",
       "  <tbody>\n",
       "    <tr>\n",
       "      <th>0</th>\n",
       "      <td>0.0</td>\n",
       "      <td>40479.946439</td>\n",
       "      <td>0.00000</td>\n",
       "      <td>0.000000</td>\n",
       "    </tr>\n",
       "    <tr>\n",
       "      <th>1</th>\n",
       "      <td>0.0</td>\n",
       "      <td>604588.480444</td>\n",
       "      <td>0.00000</td>\n",
       "      <td>0.000000</td>\n",
       "    </tr>\n",
       "    <tr>\n",
       "      <th>2</th>\n",
       "      <td>0.0</td>\n",
       "      <td>164663.859830</td>\n",
       "      <td>0.00000</td>\n",
       "      <td>0.000000</td>\n",
       "    </tr>\n",
       "    <tr>\n",
       "      <th>3</th>\n",
       "      <td>12405.0</td>\n",
       "      <td>145414.649260</td>\n",
       "      <td>132912.64926</td>\n",
       "      <td>25851.493202</td>\n",
       "    </tr>\n",
       "    <tr>\n",
       "      <th>4</th>\n",
       "      <td>0.0</td>\n",
       "      <td>16.489152</td>\n",
       "      <td>0.00000</td>\n",
       "      <td>0.000000</td>\n",
       "    </tr>\n",
       "    <tr>\n",
       "      <th>...</th>\n",
       "      <td>...</td>\n",
       "      <td>...</td>\n",
       "      <td>...</td>\n",
       "      <td>...</td>\n",
       "    </tr>\n",
       "    <tr>\n",
       "      <th>2695</th>\n",
       "      <td>0.0</td>\n",
       "      <td>22875.011366</td>\n",
       "      <td>0.00000</td>\n",
       "      <td>0.000000</td>\n",
       "    </tr>\n",
       "    <tr>\n",
       "      <th>2696</th>\n",
       "      <td>0.0</td>\n",
       "      <td>1214.910251</td>\n",
       "      <td>0.00000</td>\n",
       "      <td>0.000000</td>\n",
       "    </tr>\n",
       "    <tr>\n",
       "      <th>2697</th>\n",
       "      <td>0.0</td>\n",
       "      <td>2449.592208</td>\n",
       "      <td>0.00000</td>\n",
       "      <td>0.000000</td>\n",
       "    </tr>\n",
       "    <tr>\n",
       "      <th>2698</th>\n",
       "      <td>0.0</td>\n",
       "      <td>5.073803</td>\n",
       "      <td>0.00000</td>\n",
       "      <td>0.000000</td>\n",
       "    </tr>\n",
       "    <tr>\n",
       "      <th>2699</th>\n",
       "      <td>0.0</td>\n",
       "      <td>0.332125</td>\n",
       "      <td>0.00000</td>\n",
       "      <td>0.000000</td>\n",
       "    </tr>\n",
       "  </tbody>\n",
       "</table>\n",
       "<p>2700 rows × 4 columns</p>\n",
       "</div>"
      ],
      "text/plain": [
       "      population  build_floor_area   living_area  footprint_area\n",
       "0            0.0      40479.946439       0.00000        0.000000\n",
       "1            0.0     604588.480444       0.00000        0.000000\n",
       "2            0.0     164663.859830       0.00000        0.000000\n",
       "3        12405.0     145414.649260  132912.64926    25851.493202\n",
       "4            0.0         16.489152       0.00000        0.000000\n",
       "...          ...               ...           ...             ...\n",
       "2695         0.0      22875.011366       0.00000        0.000000\n",
       "2696         0.0       1214.910251       0.00000        0.000000\n",
       "2697         0.0       2449.592208       0.00000        0.000000\n",
       "2698         0.0          5.073803       0.00000        0.000000\n",
       "2699         0.0          0.332125       0.00000        0.000000\n",
       "\n",
       "[2700 rows x 4 columns]"
      ]
     },
     "execution_count": 47,
     "metadata": {},
     "output_type": "execute_result"
    }
   ],
   "source": [
    "solution_population_df = facade.get_solution_area_df(best_x)\n",
    "solution_population_df"
   ]
  },
  {
   "cell_type": "code",
   "execution_count": 49,
   "id": "9a65b64d",
   "metadata": {},
   "outputs": [
    {
     "data": {
      "text/plain": [
       "{'x_0': 12000,\n",
       " 'x_1': 12000,\n",
       " 'x_2': 12000,\n",
       " 'x_3': 12000,\n",
       " 'x_4': 12000,\n",
       " 'x_5': 12000,\n",
       " 'x_6': 12000,\n",
       " 'x_7': 0,\n",
       " 'x_8': 12000,\n",
       " 'x_9': 1440,\n",
       " 'x_10': 1440,\n",
       " 'x_11': 1440,\n",
       " 'x_12': 1440,\n",
       " 'x_13': 1440,\n",
       " 'x_14': 1440,\n",
       " 'x_15': 1440,\n",
       " 'x_16': 1440,\n",
       " 'x_17': 1440,\n",
       " 'x_18': 3520,\n",
       " 'x_19': 3520,\n",
       " 'x_20': 0,\n",
       " 'x_21': 3520,\n",
       " 'x_22': 3520,\n",
       " 'x_23': 3520,\n",
       " 'x_24': 3520,\n",
       " 'x_25': 3520,\n",
       " 'x_26': 3520,\n",
       " 'x_27': 0,\n",
       " 'x_28': 3520,\n",
       " 'x_29': 3520,\n",
       " 'x_30': 3520,\n",
       " 'x_31': 0,\n",
       " 'x_32': 0,\n",
       " 'x_33': 0,\n",
       " 'x_34': 0,\n",
       " 'x_35': 18500,\n",
       " 'x_36': 18500,\n",
       " 'x_37': 0,\n",
       " 'x_38': 18500,\n",
       " 'x_39': 18500,\n",
       " 'x_40': 18500,\n",
       " 'x_41': 18500,\n",
       " 'x_42': 18500,\n",
       " 'x_43': 18500,\n",
       " 'x_44': 0,\n",
       " 'x_45': 18500,\n",
       " 'x_46': 18500,\n",
       " 'x_47': 18500,\n",
       " 'x_48': 0,\n",
       " 'x_49': 0,\n",
       " 'x_50': 0,\n",
       " 'x_51': 0,\n",
       " 'x_52': 20000,\n",
       " 'x_53': 30000,\n",
       " 'x_54': 0,\n",
       " 'x_55': 0,\n",
       " 'x_56': 30000,\n",
       " 'x_57': 30000,\n",
       " 'x_58': 30000,\n",
       " 'x_59': 30000,\n",
       " 'x_60': 30000,\n",
       " 'x_61': 20000,\n",
       " 'x_62': 20000,\n",
       " 'x_63': 30000,\n",
       " 'x_64': 30000,\n",
       " 'x_65': 20000,\n",
       " 'x_66': 0,\n",
       " 'x_67': 0,\n",
       " 'x_68': 30000,\n",
       " 'x_69': 30000,\n",
       " 'x_70': 0,\n",
       " 'x_71': 0,\n",
       " 'x_72': 0,\n",
       " 'x_73': 0,\n",
       " 'x_74': 0,\n",
       " 'x_75': 30000,\n",
       " 'x_76': 0,\n",
       " 'x_77': 0,\n",
       " 'x_78': 0,\n",
       " 'x_79': 0,\n",
       " 'x_80': 0,\n",
       " 'x_81': 0,\n",
       " 'x_82': 0,\n",
       " 'x_83': 0,\n",
       " 'x_84': 0,\n",
       " 'x_85': 0,\n",
       " 'x_86': 0,\n",
       " 'x_87': 0,\n",
       " 'x_88': 0,\n",
       " 'x_89': 0,\n",
       " 'x_90': 0,\n",
       " 'x_91': 0,\n",
       " 'x_92': 0,\n",
       " 'x_93': 0,\n",
       " 'x_94': 0,\n",
       " 'x_95': 0,\n",
       " 'x_96': 0,\n",
       " 'x_97': 0,\n",
       " 'x_98': 0,\n",
       " 'x_99': 0,\n",
       " 'x_100': 0,\n",
       " 'x_101': 0,\n",
       " 'x_102': 0,\n",
       " 'x_103': 0,\n",
       " 'x_104': 0,\n",
       " 'x_105': 0,\n",
       " 'x_106': 0,\n",
       " 'x_107': 0,\n",
       " 'x_108': 0,\n",
       " 'x_109': 0,\n",
       " 'x_110': 0,\n",
       " 'x_111': 0,\n",
       " 'x_112': 0,\n",
       " 'x_113': 0,\n",
       " 'x_114': 0,\n",
       " 'x_115': 0,\n",
       " 'x_116': 0,\n",
       " 'x_117': 0,\n",
       " 'x_118': 0,\n",
       " 'x_119': 0,\n",
       " 'x_120': 0,\n",
       " 'x_121': 0,\n",
       " 'x_122': 0,\n",
       " 'x_123': 0,\n",
       " 'x_124': 0,\n",
       " 'x_125': 0,\n",
       " 'x_126': 0,\n",
       " 'x_127': 0,\n",
       " 'x_128': 0,\n",
       " 'x_129': 0,\n",
       " 'x_130': 0,\n",
       " 'x_131': 0,\n",
       " 'x_132': 0,\n",
       " 'x_133': 12000,\n",
       " 'x_134': 12000,\n",
       " 'x_135': 0,\n",
       " 'x_136': 0,\n",
       " 'x_137': 12000,\n",
       " 'x_138': 12000,\n",
       " 'x_139': 12000,\n",
       " 'x_140': 12000,\n",
       " 'x_141': 12000,\n",
       " 'x_142': 3500,\n",
       " 'x_143': 0,\n",
       " 'x_144': 3500,\n",
       " 'x_145': 3500,\n",
       " 'x_146': 3500,\n",
       " 'x_147': 0,\n",
       " 'x_148': 12000,\n",
       " 'x_149': 12000,\n",
       " 'x_150': 12000,\n",
       " 'x_151': 12000,\n",
       " 'x_152': 12000,\n",
       " 'x_153': 12000,\n",
       " 'x_154': 12000,\n",
       " 'x_155': 0,\n",
       " 'x_156': 3500,\n",
       " 'x_157': 12000,\n",
       " 'x_158': 12000,\n",
       " 'x_159': 12000,\n",
       " 'x_160': 0,\n",
       " 'x_161': 0,\n",
       " 'x_162': 0,\n",
       " 'x_163': 0,\n",
       " 'x_164': 0,\n",
       " 'x_165': 0,\n",
       " 'x_166': 3500,\n",
       " 'x_167': 0,\n",
       " 'x_168': 0,\n",
       " 'x_169': 0,\n",
       " 'x_170': 0,\n",
       " 'x_171': 0,\n",
       " 'x_172': 0,\n",
       " 'x_173': 0,\n",
       " 'x_174': 0,\n",
       " 'x_175': 0,\n",
       " 'x_176': 0,\n",
       " 'x_177': 0,\n",
       " 'x_178': 0,\n",
       " 'x_179': 0,\n",
       " 'x_180': 0,\n",
       " 'x_181': 0,\n",
       " 'x_182': 0,\n",
       " 'x_183': 0,\n",
       " 'x_184': 0,\n",
       " 'x_185': 0,\n",
       " 'x_186': 0,\n",
       " 'x_187': 0,\n",
       " 'x_188': 0,\n",
       " 'x_189': 0,\n",
       " 'x_190': 0,\n",
       " 'x_191': 0,\n",
       " 'x_192': 0,\n",
       " 'x_193': 0,\n",
       " 'x_194': 0,\n",
       " 'x_195': 0,\n",
       " 'x_196': 0,\n",
       " 'x_197': 0,\n",
       " 'x_198': 0,\n",
       " 'x_199': 0,\n",
       " 'x_200': 0,\n",
       " 'x_201': 0,\n",
       " 'x_202': 0,\n",
       " 'x_203': 0,\n",
       " 'x_204': 0,\n",
       " 'x_205': 0,\n",
       " 'x_206': 0,\n",
       " 'x_207': 0,\n",
       " 'x_208': 0,\n",
       " 'x_209': 0,\n",
       " 'x_210': 0,\n",
       " 'x_211': 0,\n",
       " 'x_212': 0,\n",
       " 'x_213': 0,\n",
       " 'x_214': 0,\n",
       " 'x_215': 0,\n",
       " 'x_216': 0,\n",
       " 'x_217': 0,\n",
       " 'x_218': 0,\n",
       " 'x_219': 0,\n",
       " 'x_220': 0,\n",
       " 'x_221': 0,\n",
       " 'x_222': 2800,\n",
       " 'x_223': 2800,\n",
       " 'x_224': 0,\n",
       " 'x_225': 0,\n",
       " 'x_226': 2800,\n",
       " 'x_227': 2800,\n",
       " 'x_228': 2800,\n",
       " 'x_229': 2800,\n",
       " 'x_230': 2800,\n",
       " 'x_231': 2800,\n",
       " 'x_232': 2800,\n",
       " 'x_233': 2800,\n",
       " 'x_234': 2800,\n",
       " 'x_235': 2800,\n",
       " 'x_236': 0,\n",
       " 'x_237': 0,\n",
       " 'x_238': 2800,\n",
       " 'x_239': 0,\n",
       " 'x_240': 0,\n",
       " 'x_241': 2800,\n",
       " 'x_242': 0,\n",
       " 'x_243': 0,\n",
       " 'x_244': 0,\n",
       " 'x_245': 2800,\n",
       " 'x_246': 0,\n",
       " 'x_247': 0,\n",
       " 'x_248': 1000,\n",
       " 'x_249': 1000,\n",
       " 'x_250': 0,\n",
       " 'x_251': 1000,\n",
       " 'x_252': 1000,\n",
       " 'x_253': 1000,\n",
       " 'x_254': 1000,\n",
       " 'x_255': 1000,\n",
       " 'x_256': 1000,\n",
       " 'x_257': 1000,\n",
       " 'x_258': 1000,\n",
       " 'x_259': 1000,\n",
       " 'x_260': 1000,\n",
       " 'x_261': 1000,\n",
       " 'x_262': 0,\n",
       " 'x_263': 0,\n",
       " 'x_264': 1000,\n",
       " 'x_265': 0,\n",
       " 'x_266': 1000,\n",
       " 'x_267': 1000,\n",
       " 'x_268': 0,\n",
       " 'x_269': 0,\n",
       " 'x_270': 0,\n",
       " 'x_271': 1000,\n",
       " 'x_272': 0,\n",
       " 'x_273': 0,\n",
       " 'x_274': 10000,\n",
       " 'x_275': 10000,\n",
       " 'x_276': 0,\n",
       " 'x_277': 0,\n",
       " 'x_278': 10000,\n",
       " 'x_279': 10000,\n",
       " 'x_280': 10000,\n",
       " 'x_281': 10000,\n",
       " 'x_282': 0,\n",
       " 'x_283': 0,\n",
       " 'x_284': 0,\n",
       " 'x_285': 0,\n",
       " 'x_286': 10000,\n",
       " 'x_287': 0,\n",
       " 'x_288': 0,\n",
       " 'x_289': 0,\n",
       " 'x_290': 0,\n",
       " 'x_291': 5000,\n",
       " 'x_292': 5000,\n",
       " 'x_293': 0,\n",
       " 'x_294': 0,\n",
       " 'x_295': 5000,\n",
       " 'x_296': 5000,\n",
       " 'x_297': 0,\n",
       " 'x_298': 5000,\n",
       " 'x_299': 5000,\n",
       " 'x_300': 5000,\n",
       " 'x_301': 5000,\n",
       " 'x_302': 5000,\n",
       " 'x_303': 5000,\n",
       " 'x_304': 5000,\n",
       " 'x_305': 0,\n",
       " 'x_306': 0,\n",
       " 'x_307': 5000,\n",
       " 'x_308': 0,\n",
       " 'x_309': 0,\n",
       " 'x_310': 0,\n",
       " 'x_311': 0,\n",
       " 'x_312': 0,\n",
       " 'x_313': 0,\n",
       " 'x_314': 5000,\n",
       " 'x_315': 0,\n",
       " 'x_316': 0,\n",
       " 'x_317': 100,\n",
       " 'x_318': 100,\n",
       " 'x_319': 0,\n",
       " 'x_320': 100,\n",
       " 'x_321': 100,\n",
       " 'x_322': 100,\n",
       " 'x_323': 100,\n",
       " 'x_324': 100,\n",
       " 'x_325': 100,\n",
       " 'x_326': 100,\n",
       " 'x_327': 0,\n",
       " 'x_328': 100,\n",
       " 'x_329': 100,\n",
       " 'x_330': 100,\n",
       " 'x_331': 0,\n",
       " 'x_332': 100,\n",
       " 'x_333': 0,\n",
       " 'x_334': 200,\n",
       " 'x_335': 200,\n",
       " 'x_336': 0,\n",
       " 'x_337': 270,\n",
       " 'x_338': 200,\n",
       " 'x_339': 270,\n",
       " 'x_340': 270,\n",
       " 'x_341': 270,\n",
       " 'x_342': 270,\n",
       " 'x_343': 0,\n",
       " 'x_344': 0,\n",
       " 'x_345': 270,\n",
       " 'x_346': 270,\n",
       " 'x_347': 270,\n",
       " 'x_348': 0,\n",
       " 'x_349': 270,\n",
       " 'x_350': 0,\n",
       " 'x_351': 60,\n",
       " 'x_352': 60,\n",
       " 'x_353': 0,\n",
       " 'x_354': 60,\n",
       " 'x_355': 60,\n",
       " 'x_356': 60,\n",
       " 'x_357': 60,\n",
       " 'x_358': 60,\n",
       " 'x_359': 60,\n",
       " 'x_360': 0,\n",
       " 'x_361': 0,\n",
       " 'x_362': 60,\n",
       " 'x_363': 60,\n",
       " 'x_364': 60,\n",
       " 'x_365': 0,\n",
       " 'x_366': 60,\n",
       " 'x_367': 0,\n",
       " 'x_368': 150,\n",
       " 'x_369': 150,\n",
       " 'x_370': 0,\n",
       " 'x_371': 150,\n",
       " 'x_372': 150,\n",
       " 'x_373': 150,\n",
       " 'x_374': 150,\n",
       " 'x_375': 150,\n",
       " 'x_376': 150,\n",
       " 'x_377': 150,\n",
       " 'x_378': 150,\n",
       " 'x_379': 150,\n",
       " 'x_380': 150,\n",
       " 'x_381': 150,\n",
       " 'x_382': 150,\n",
       " 'x_383': 0,\n",
       " 'x_384': 150,\n",
       " 'x_385': 0,\n",
       " 'x_386': 150,\n",
       " 'x_387': 150,\n",
       " 'x_388': 0,\n",
       " 'x_389': 0,\n",
       " 'x_390': 150,\n",
       " 'x_391': 150,\n",
       " 'x_392': 0,\n",
       " 'x_393': 0,\n",
       " 'x_394': 50,\n",
       " 'x_395': 0,\n",
       " 'x_396': 50,\n",
       " 'x_397': 50,\n",
       " 'x_398': 50,\n",
       " 'x_399': 0,\n",
       " 'x_400': 50,\n",
       " 'x_401': 50,\n",
       " 'x_402': 700,\n",
       " 'x_403': 700,\n",
       " 'x_404': 700,\n",
       " 'x_405': 700,\n",
       " 'x_406': 0,\n",
       " 'x_407': 700,\n",
       " 'x_408': 0,\n",
       " 'x_409': 700,\n",
       " 'x_410': 700,\n",
       " 'x_411': 700,\n",
       " 'x_412': 700,\n",
       " 'x_413': 700,\n",
       " 'x_414': 700,\n",
       " 'x_415': 700,\n",
       " 'x_416': 700,\n",
       " 'x_417': 700,\n",
       " 'x_418': 700,\n",
       " 'x_419': 700,\n",
       " 'x_420': 700,\n",
       " 'x_421': 700,\n",
       " 'x_422': 700,\n",
       " 'x_423': 700,\n",
       " 'x_424': 700,\n",
       " 'x_425': 700,\n",
       " 'x_426': 700,\n",
       " 'x_427': 700,\n",
       " 'x_428': 700,\n",
       " 'x_429': 0,\n",
       " 'x_430': 700,\n",
       " 'x_431': 700,\n",
       " 'x_432': 700,\n",
       " 'x_433': 700,\n",
       " 'x_434': 700,\n",
       " 'x_435': 700,\n",
       " 'x_436': 700,\n",
       " 'x_437': 700,\n",
       " 'x_438': 700,\n",
       " 'x_439': 700,\n",
       " 'x_440': 0,\n",
       " 'x_441': 700,\n",
       " 'x_442': 0,\n",
       " 'x_443': 0,\n",
       " 'x_444': 700,\n",
       " 'x_445': 700,\n",
       " 'x_446': 0,\n",
       " 'x_447': 0,\n",
       " 'x_448': 0,\n",
       " 'x_449': 0,\n",
       " 'x_450': 0,\n",
       " 'x_451': 0,\n",
       " 'x_452': 0,\n",
       " 'x_453': 0,\n",
       " 'x_454': 0,\n",
       " 'x_455': 0,\n",
       " 'x_456': 0,\n",
       " 'x_457': 0,\n",
       " 'x_458': 0,\n",
       " 'x_459': 0,\n",
       " 'x_460': 0,\n",
       " 'x_461': 700,\n",
       " 'x_462': 700,\n",
       " 'x_463': 700,\n",
       " 'x_464': 0,\n",
       " 'x_465': 0,\n",
       " 'x_466': 700,\n",
       " 'x_467': 0,\n",
       " 'x_468': 0,\n",
       " 'x_469': 400,\n",
       " 'x_470': 1300,\n",
       " 'x_471': 1300,\n",
       " 'x_472': 1300,\n",
       " 'x_473': 1300,\n",
       " 'x_474': 1300,\n",
       " 'x_475': 1300,\n",
       " 'x_476': 1300,\n",
       " 'x_477': 400,\n",
       " 'x_478': 1300,\n",
       " 'x_479': 1300,\n",
       " 'x_480': 1300,\n",
       " 'x_481': 0,\n",
       " 'x_482': 0,\n",
       " 'x_483': 1300,\n",
       " 'x_484': 0,\n",
       " 'x_485': 0,\n",
       " 'x_486': 400,\n",
       " 'x_487': 1300,\n",
       " 'x_488': 0,\n",
       " 'x_489': 1300,\n",
       " 'x_490': 0,\n",
       " 'x_491': 0,\n",
       " 'x_492': 0,\n",
       " 'x_493': 0,\n",
       " 'x_494': 0,\n",
       " 'x_495': 0,\n",
       " 'x_496': 0,\n",
       " 'x_497': 0,\n",
       " 'x_498': 0,\n",
       " 'x_499': 0,\n",
       " 'x_500': 0,\n",
       " 'x_501': 0,\n",
       " 'x_502': 0,\n",
       " 'x_503': 0,\n",
       " 'x_504': 0,\n",
       " 'x_505': 0,\n",
       " 'x_506': 0,\n",
       " 'x_507': 0,\n",
       " 'x_508': 0,\n",
       " 'x_509': 3000,\n",
       " 'x_510': 3000,\n",
       " 'x_511': 3000,\n",
       " 'x_512': 0,\n",
       " 'x_513': 0,\n",
       " 'x_514': 3000,\n",
       " 'x_515': 3000,\n",
       " 'x_516': 3000,\n",
       " 'x_517': 3000,\n",
       " 'x_518': 0,\n",
       " 'x_519': 0,\n",
       " 'x_520': 3000,\n",
       " 'x_521': 0,\n",
       " 'x_522': 3000,\n",
       " 'x_523': 3000,\n",
       " 'x_524': 3000,\n",
       " 'x_525': 3000,\n",
       " 'x_526': 3000,\n",
       " 'x_527': 0,\n",
       " 'x_528': 0,\n",
       " 'x_529': 0,\n",
       " 'x_530': 0,\n",
       " 'x_531': 0,\n",
       " 'x_532': 0,\n",
       " 'x_533': 0,\n",
       " 'x_534': 0,\n",
       " 'x_535': 0,\n",
       " 'x_536': 0,\n",
       " 'x_537': 0,\n",
       " 'x_538': 0,\n",
       " 'x_539': 0,\n",
       " 'x_540': 0,\n",
       " 'x_541': 0,\n",
       " 'x_542': 0,\n",
       " 'x_543': 0,\n",
       " 'x_544': 450,\n",
       " 'x_545': 450,\n",
       " 'x_546': 0,\n",
       " 'x_547': 450,\n",
       " 'x_548': 450,\n",
       " 'x_549': 450,\n",
       " 'x_550': 450,\n",
       " 'x_551': 450,\n",
       " 'x_552': 0,\n",
       " 'x_553': 0,\n",
       " 'x_554': 0,\n",
       " 'x_555': 0,\n",
       " 'x_556': 0,\n",
       " 'x_557': 0,\n",
       " 'x_558': 0,\n",
       " 'x_559': 0,\n",
       " 'x_560': 0,\n",
       " 'x_561': 0,\n",
       " 'x_562': 0,\n",
       " 'x_563': 0,\n",
       " 'x_564': 0,\n",
       " 'x_565': 0,\n",
       " 'x_566': 0,\n",
       " 'x_567': 0,\n",
       " 'x_568': 0,\n",
       " 'x_569': 0,\n",
       " 'x_570': 0,\n",
       " 'x_571': 0,\n",
       " 'x_572': 0,\n",
       " 'x_573': 0,\n",
       " 'x_574': 0,\n",
       " 'x_575': 0,\n",
       " 'x_576': 0,\n",
       " 'x_577': 0,\n",
       " 'x_578': 0,\n",
       " 'x_579': 0,\n",
       " 'x_580': 0,\n",
       " 'x_581': 0,\n",
       " 'x_582': 0,\n",
       " 'x_583': 0,\n",
       " 'x_584': 0,\n",
       " 'x_585': 0,\n",
       " 'x_586': 0,\n",
       " 'x_587': 0,\n",
       " 'x_588': 0,\n",
       " 'x_589': 0,\n",
       " 'x_590': 0,\n",
       " 'x_591': 0,\n",
       " 'x_592': 0,\n",
       " 'x_593': 0,\n",
       " 'x_594': 0,\n",
       " 'x_595': 0,\n",
       " 'x_596': 24000,\n",
       " 'x_597': 24000,\n",
       " 'x_598': 0,\n",
       " 'x_599': 0,\n",
       " 'x_600': 0,\n",
       " 'x_601': 24000,\n",
       " 'x_602': 0,\n",
       " 'x_603': 24000,\n",
       " 'x_604': 24000,\n",
       " 'x_605': 24000,\n",
       " 'x_606': 24000,\n",
       " 'x_607': 24000,\n",
       " 'x_608': 24000,\n",
       " 'x_609': 24000,\n",
       " 'x_610': 0,\n",
       " 'x_611': 0,\n",
       " 'x_612': 24000,\n",
       " 'x_613': 0,\n",
       " 'x_614': 0,\n",
       " 'x_615': 0,\n",
       " 'x_616': 0,\n",
       " 'x_617': 0,\n",
       " 'x_618': 0,\n",
       " 'x_619': 24000,\n",
       " 'x_620': 0,\n",
       " 'x_621': 0,\n",
       " 'x_622': 9100,\n",
       " 'x_623': 9100,\n",
       " 'x_624': 0,\n",
       " 'x_625': 0,\n",
       " 'x_626': 9100,\n",
       " 'x_627': 9100,\n",
       " 'x_628': 9100,\n",
       " 'x_629': 9100,\n",
       " 'x_630': 9100,\n",
       " 'x_631': 9100,\n",
       " 'x_632': 0,\n",
       " 'x_633': 0,\n",
       " 'x_634': 0,\n",
       " 'x_635': 9100,\n",
       " 'x_636': 0,\n",
       " 'x_637': 9100,\n",
       " 'x_638': 9100,\n",
       " 'x_639': 9100,\n",
       " 'x_640': 9100,\n",
       " 'x_641': 9100,\n",
       " 'x_642': 0,\n",
       " 'x_643': 9100,\n",
       " 'x_644': 0,\n",
       " 'x_645': 0,\n",
       " 'x_646': 0,\n",
       " 'x_647': 0,\n",
       " 'x_648': 0,\n",
       " 'x_649': 0,\n",
       " 'x_650': 0,\n",
       " 'x_651': 0,\n",
       " 'x_652': 0,\n",
       " 'x_653': 0,\n",
       " 'x_654': 0,\n",
       " 'x_655': 0,\n",
       " 'x_656': 0,\n",
       " 'x_657': 0,\n",
       " 'x_658': 0,\n",
       " 'x_659': 25000,\n",
       " 'x_660': 0,\n",
       " 'x_661': 0,\n",
       " 'x_662': 0,\n",
       " 'x_663': 25000,\n",
       " 'x_664': 25000,\n",
       " 'x_665': 25000,\n",
       " 'x_666': 25000,\n",
       " 'x_667': 0,\n",
       " 'x_668': 0,\n",
       " 'x_669': 0,\n",
       " 'x_670': 0,\n",
       " 'x_671': 0,\n",
       " 'x_672': 0,\n",
       " 'x_673': 0,\n",
       " 'x_674': 25000,\n",
       " 'x_675': 0,\n",
       " 'x_676': 0}"
      ]
     },
     "execution_count": 49,
     "metadata": {},
     "output_type": "execute_result"
    }
   ],
   "source": [
    "best_x"
   ]
  },
  {
   "cell_type": "code",
   "execution_count": 48,
   "id": "2aa55875",
   "metadata": {},
   "outputs": [
    {
     "data": {
      "application/vnd.microsoft.datawrangler.viewer.v0+json": {
       "columns": [
        {
         "name": "index",
         "rawType": "object",
         "type": "string"
        },
        {
         "name": "0",
         "rawType": "float64",
         "type": "float"
        }
       ],
       "ref": "0b9ccecd-fe76-4410-b38f-53ad1398e4d8",
       "rows": [
        [
         "population",
         "0.0"
        ],
        [
         "build_floor_area",
         "40479.94643858046"
        ],
        [
         "living_area",
         "0.0"
        ],
        [
         "footprint_area",
         "0.0"
        ]
       ],
       "shape": {
        "columns": 1,
        "rows": 4
       }
      },
      "text/plain": [
       "population              0.000000\n",
       "build_floor_area    40479.946439\n",
       "living_area             0.000000\n",
       "footprint_area          0.000000\n",
       "Name: 0, dtype: float64"
      ]
     },
     "execution_count": 48,
     "metadata": {},
     "output_type": "execute_result"
    }
   ],
   "source": [
    "solution_population_df.loc[0]"
   ]
  },
  {
   "cell_type": "code",
   "execution_count": 46,
   "id": "49666a9b",
   "metadata": {},
   "outputs": [
    {
     "data": {
      "application/vnd.microsoft.datawrangler.viewer.v0+json": {
       "columns": [
        {
         "name": "index",
         "rawType": "int64",
         "type": "integer"
        },
        {
         "name": "block_id",
         "rawType": "int64",
         "type": "integer"
        },
        {
         "name": "service_type",
         "rawType": "object",
         "type": "string"
        },
        {
         "name": "site_area",
         "rawType": "float64",
         "type": "float"
        },
        {
         "name": "build_floor_area",
         "rawType": "float64",
         "type": "float"
        },
        {
         "name": "capacity",
         "rawType": "int64",
         "type": "integer"
        },
        {
         "name": "count",
         "rawType": "int64",
         "type": "integer"
        }
       ],
       "ref": "b061b6ea-bdb9-4384-b8bd-087f860fa0d1",
       "rows": [
        [
         "1845",
         "0",
         "police",
         "700.0",
         "240.0",
         "60",
         "1"
        ],
        [
         "2238",
         "0",
         "market",
         "3000.0",
         "6000.0",
         "3000",
         "1"
        ],
        [
         "2447",
         "0",
         "veterinary",
         "0.0",
         "95.0",
         "17",
         "1"
        ]
       ],
       "shape": {
        "columns": 6,
        "rows": 3
       }
      },
      "text/html": [
       "<div>\n",
       "<style scoped>\n",
       "    .dataframe tbody tr th:only-of-type {\n",
       "        vertical-align: middle;\n",
       "    }\n",
       "\n",
       "    .dataframe tbody tr th {\n",
       "        vertical-align: top;\n",
       "    }\n",
       "\n",
       "    .dataframe thead th {\n",
       "        text-align: right;\n",
       "    }\n",
       "</style>\n",
       "<table border=\"1\" class=\"dataframe\">\n",
       "  <thead>\n",
       "    <tr style=\"text-align: right;\">\n",
       "      <th></th>\n",
       "      <th>block_id</th>\n",
       "      <th>service_type</th>\n",
       "      <th>site_area</th>\n",
       "      <th>build_floor_area</th>\n",
       "      <th>capacity</th>\n",
       "      <th>count</th>\n",
       "    </tr>\n",
       "  </thead>\n",
       "  <tbody>\n",
       "    <tr>\n",
       "      <th>1845</th>\n",
       "      <td>0</td>\n",
       "      <td>police</td>\n",
       "      <td>700.0</td>\n",
       "      <td>240.0</td>\n",
       "      <td>60</td>\n",
       "      <td>1</td>\n",
       "    </tr>\n",
       "    <tr>\n",
       "      <th>2238</th>\n",
       "      <td>0</td>\n",
       "      <td>market</td>\n",
       "      <td>3000.0</td>\n",
       "      <td>6000.0</td>\n",
       "      <td>3000</td>\n",
       "      <td>1</td>\n",
       "    </tr>\n",
       "    <tr>\n",
       "      <th>2447</th>\n",
       "      <td>0</td>\n",
       "      <td>veterinary</td>\n",
       "      <td>0.0</td>\n",
       "      <td>95.0</td>\n",
       "      <td>17</td>\n",
       "      <td>1</td>\n",
       "    </tr>\n",
       "  </tbody>\n",
       "</table>\n",
       "</div>"
      ],
      "text/plain": [
       "      block_id service_type  site_area  build_floor_area  capacity  count\n",
       "1845         0       police      700.0             240.0        60      1\n",
       "2238         0       market     3000.0            6000.0      3000      1\n",
       "2447         0   veterinary        0.0              95.0        17      1"
      ]
     },
     "execution_count": 46,
     "metadata": {},
     "output_type": "execute_result"
    }
   ],
   "source": [
    "solution_df[solution_df.block_id == 0]"
   ]
  }
 ],
 "metadata": {
  "kernelspec": {
   "display_name": ".venv",
   "language": "python",
   "name": "python3"
  },
  "language_info": {
   "codemirror_mode": {
    "name": "ipython",
    "version": 3
   },
   "file_extension": ".py",
   "mimetype": "text/x-python",
   "name": "python",
   "nbconvert_exporter": "python",
   "pygments_lexer": "ipython3",
   "version": "3.10.12"
  }
 },
 "nbformat": 4,
 "nbformat_minor": 5
}
